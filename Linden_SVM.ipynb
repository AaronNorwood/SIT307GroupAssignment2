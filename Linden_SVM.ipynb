{
 "cells": [
  {
   "cell_type": "markdown",
   "metadata": {},
   "source": [
    "<h1>SIT307 Group Assignment 1 notebook</h1>"
   ]
  },
  {
   "cell_type": "markdown",
   "metadata": {},
   "source": [
    "<h3>Group 3</h3>\n",
    "<p>By:<br>\n",
    "    Aaron Norwood,218330434<br>\n",
    "    Joshua Anthony, 219466473<br>\n",
    "    Roger Middenway, 217602784<br>\n",
    "    David Adams, 216110104<br>\n",
    "    Linden Hutchinson, 218384326<br>\n",
    "    Dale Orders, 219106283"
   ]
  },
  {
   "cell_type": "markdown",
   "metadata": {},
   "source": [
    "# Imported libraries"
   ]
  },
  {
   "cell_type": "code",
   "execution_count": 1,
   "metadata": {},
   "outputs": [],
   "source": [
    "import matplotlib.pyplot as plt\n",
    "import numpy as np\n",
    "import pandas as pd\n",
    "import seaborn as sns\n",
    "import math\n",
    "from scipy import stats\n",
    "import plotly.express as px\n",
    "from sklearn.preprocessing import StandardScaler, MinMaxScaler\n",
    "%matplotlib inline"
   ]
  },
  {
   "cell_type": "markdown",
   "metadata": {},
   "source": [
    "<h3> Read in the data, store if dataframe"
   ]
  },
  {
   "cell_type": "code",
   "execution_count": 2,
   "metadata": {},
   "outputs": [],
   "source": [
    "df = pd.read_csv('./data/healthcare-dataset-stroke-data.csv')"
   ]
  },
  {
   "cell_type": "markdown",
   "metadata": {
    "tags": []
   },
   "source": [
    "<h4>Tidying"
   ]
  },
  {
   "cell_type": "code",
   "execution_count": 3,
   "metadata": {},
   "outputs": [],
   "source": [
    "## drop unnecessary id column\n",
    "df.drop(['id'], axis=1, inplace=True)\n",
    "\n",
    "##convert gender to lowercase\n",
    "df['gender'] = df['gender'].apply(lambda x: x.lower())\n",
    "\n",
    "## drop the one row that has \"other\" gender to keep things simple\n",
    "df.drop(index=df[df['gender'] == 'other'].index, inplace=True)\n",
    "\n",
    "# replace gender with binary values\n",
    "df['gender'] = df['gender'].str.lower().map({'male': 1, 'female': 0})\n",
    "\n",
    "# replace marital status with binary values\n",
    "df['ever_married'] = df['ever_married'].str.lower().map({'yes': 1, 'no': 0})\n",
    "\n",
    "##convert work_type to lowercase ensure consistent spacing \n",
    "df['work_type'] = df['work_type'].apply(lambda x: x.lower().replace('_','-'))\n",
    "\n",
    "##convert residence_type to lowercase\n",
    "df.rename(columns={'Residence_type':'residence_type'}, inplace=True)\n",
    "df['residence_type'] = df['residence_type'].apply(lambda x: x.lower())\n",
    "\n",
    "##convert smoking_status to lowercase ensure consistent spacing \n",
    "df['smoking_status'] = df['smoking_status'].apply(lambda x: x.lower().replace(' ', '-'))\n",
    "\n",
    "## round off age\n",
    "df['age'] = df['age'].apply(lambda x : round(x))\n",
    "\n",
    "# cap BMI outliers to a maximum of 60 \n",
    "df['bmi'] = df['bmi'].apply(lambda bmi_value: bmi_value if 12 < bmi_value < 60 else np.nan)\n",
    "\n"
   ]
  },
  {
   "cell_type": "markdown",
   "metadata": {},
   "source": [
    "<h4>Imputing"
   ]
  },
  {
   "cell_type": "code",
   "execution_count": 4,
   "metadata": {},
   "outputs": [],
   "source": [
    "m_df = df[df['gender'] == 1]\n",
    "f_df = df[df['gender'] == 0]\n",
    "\n",
    "m_bmi_avg = m_df.groupby('age')['bmi'].mean()\n",
    "f_bmi_avg = f_df.groupby('age')['bmi'].mean()\n",
    "##round to one to fit with other bmi values\n",
    "m_bmi_avg = round(m_bmi_avg,1)\n",
    "f_bmi_avg = round(f_bmi_avg,1)\n",
    "\n",
    "missing_vals = df[df.isnull().any(axis = 1)]\n",
    "\n",
    "for index, row in missing_vals.iterrows():\n",
    "    if row['gender'] == 1:\n",
    "        df.loc[index,['bmi']] = m_bmi_avg[row['age']]\n",
    "    else:\n",
    "        df.loc[index,['bmi']] = f_bmi_avg[row['age']]"
   ]
  },
  {
   "cell_type": "markdown",
   "metadata": {},
   "source": [
    "<h4>Binning"
   ]
  },
  {
   "cell_type": "code",
   "execution_count": 5,
   "metadata": {},
   "outputs": [],
   "source": [
    "# implement age bins\n",
    "df['age_bin'] = pd.qcut(df['age'], q = 10, precision=1)\n",
    "\n",
    "# implement glucose bins\n",
    "df['avg_glucose_level_bin'] = pd.qcut(df['avg_glucose_level'], q=10, precision=1)\n",
    "\n",
    "# implement bmi bins\n",
    "df['bmi_bin'] = pd.qcut(df['bmi'], q=10, precision=1)"
   ]
  },
  {
   "cell_type": "markdown",
   "metadata": {},
   "source": [
    "<h4>Mapping"
   ]
  },
  {
   "cell_type": "code",
   "execution_count": 6,
   "metadata": {},
   "outputs": [],
   "source": [
    "residence_type_map = {\n",
    "    'urban':0,\n",
    "    'rural':1\n",
    "}\n",
    "df['residence_type'] = df['residence_type'].map(residence_type_map)"
   ]
  },
  {
   "cell_type": "markdown",
   "metadata": {},
   "source": [
    "<h4>Create Dummy DataFrame"
   ]
  },
  {
   "cell_type": "code",
   "execution_count": 7,
   "metadata": {},
   "outputs": [
    {
     "data": {
      "text/html": [
       "<div>\n",
       "<style scoped>\n",
       "    .dataframe tbody tr th:only-of-type {\n",
       "        vertical-align: middle;\n",
       "    }\n",
       "\n",
       "    .dataframe tbody tr th {\n",
       "        vertical-align: top;\n",
       "    }\n",
       "\n",
       "    .dataframe thead th {\n",
       "        text-align: right;\n",
       "    }\n",
       "</style>\n",
       "<table border=\"1\" class=\"dataframe\">\n",
       "  <thead>\n",
       "    <tr style=\"text-align: right;\">\n",
       "      <th></th>\n",
       "      <th>wo_self-employed</th>\n",
       "      <th>wo_children</th>\n",
       "      <th>wo_govt-job</th>\n",
       "      <th>wo_never-worked</th>\n",
       "      <th>sm_unknown</th>\n",
       "      <th>sm_formerly-smoked</th>\n",
       "      <th>sm_smokes</th>\n",
       "      <th>ag_(20.0, 30.0]</th>\n",
       "      <th>ag_(-0.1, 11.0]</th>\n",
       "      <th>ag_(30.0, 38.0]</th>\n",
       "      <th>...</th>\n",
       "      <th>bm_(38.6, 59.7]</th>\n",
       "      <th>bm_(26.6, 28.2]</th>\n",
       "      <th>bm_(19.8, 22.6]</th>\n",
       "      <th>bm_(31.8, 34.2]</th>\n",
       "      <th>gender</th>\n",
       "      <th>hypertension</th>\n",
       "      <th>heart_disease</th>\n",
       "      <th>ever_married</th>\n",
       "      <th>residence_type</th>\n",
       "      <th>stroke</th>\n",
       "    </tr>\n",
       "  </thead>\n",
       "  <tbody>\n",
       "    <tr>\n",
       "      <th>0</th>\n",
       "      <td>0</td>\n",
       "      <td>0</td>\n",
       "      <td>0</td>\n",
       "      <td>0</td>\n",
       "      <td>0</td>\n",
       "      <td>1</td>\n",
       "      <td>0</td>\n",
       "      <td>0</td>\n",
       "      <td>0</td>\n",
       "      <td>0</td>\n",
       "      <td>...</td>\n",
       "      <td>0</td>\n",
       "      <td>0</td>\n",
       "      <td>0</td>\n",
       "      <td>0</td>\n",
       "      <td>1</td>\n",
       "      <td>0</td>\n",
       "      <td>1</td>\n",
       "      <td>1</td>\n",
       "      <td>0</td>\n",
       "      <td>1</td>\n",
       "    </tr>\n",
       "    <tr>\n",
       "      <th>1</th>\n",
       "      <td>1</td>\n",
       "      <td>0</td>\n",
       "      <td>0</td>\n",
       "      <td>0</td>\n",
       "      <td>0</td>\n",
       "      <td>0</td>\n",
       "      <td>0</td>\n",
       "      <td>0</td>\n",
       "      <td>0</td>\n",
       "      <td>0</td>\n",
       "      <td>...</td>\n",
       "      <td>0</td>\n",
       "      <td>0</td>\n",
       "      <td>0</td>\n",
       "      <td>0</td>\n",
       "      <td>0</td>\n",
       "      <td>0</td>\n",
       "      <td>0</td>\n",
       "      <td>1</td>\n",
       "      <td>1</td>\n",
       "      <td>1</td>\n",
       "    </tr>\n",
       "    <tr>\n",
       "      <th>2</th>\n",
       "      <td>0</td>\n",
       "      <td>0</td>\n",
       "      <td>0</td>\n",
       "      <td>0</td>\n",
       "      <td>0</td>\n",
       "      <td>0</td>\n",
       "      <td>0</td>\n",
       "      <td>0</td>\n",
       "      <td>0</td>\n",
       "      <td>0</td>\n",
       "      <td>...</td>\n",
       "      <td>0</td>\n",
       "      <td>0</td>\n",
       "      <td>0</td>\n",
       "      <td>1</td>\n",
       "      <td>1</td>\n",
       "      <td>0</td>\n",
       "      <td>1</td>\n",
       "      <td>1</td>\n",
       "      <td>1</td>\n",
       "      <td>1</td>\n",
       "    </tr>\n",
       "    <tr>\n",
       "      <th>3</th>\n",
       "      <td>0</td>\n",
       "      <td>0</td>\n",
       "      <td>0</td>\n",
       "      <td>0</td>\n",
       "      <td>0</td>\n",
       "      <td>0</td>\n",
       "      <td>1</td>\n",
       "      <td>0</td>\n",
       "      <td>0</td>\n",
       "      <td>0</td>\n",
       "      <td>...</td>\n",
       "      <td>0</td>\n",
       "      <td>0</td>\n",
       "      <td>0</td>\n",
       "      <td>0</td>\n",
       "      <td>0</td>\n",
       "      <td>0</td>\n",
       "      <td>0</td>\n",
       "      <td>1</td>\n",
       "      <td>0</td>\n",
       "      <td>1</td>\n",
       "    </tr>\n",
       "    <tr>\n",
       "      <th>4</th>\n",
       "      <td>1</td>\n",
       "      <td>0</td>\n",
       "      <td>0</td>\n",
       "      <td>0</td>\n",
       "      <td>0</td>\n",
       "      <td>0</td>\n",
       "      <td>0</td>\n",
       "      <td>0</td>\n",
       "      <td>0</td>\n",
       "      <td>0</td>\n",
       "      <td>...</td>\n",
       "      <td>0</td>\n",
       "      <td>0</td>\n",
       "      <td>0</td>\n",
       "      <td>0</td>\n",
       "      <td>0</td>\n",
       "      <td>1</td>\n",
       "      <td>0</td>\n",
       "      <td>1</td>\n",
       "      <td>1</td>\n",
       "      <td>1</td>\n",
       "    </tr>\n",
       "  </tbody>\n",
       "</table>\n",
       "<p>5 rows × 40 columns</p>\n",
       "</div>"
      ],
      "text/plain": [
       "   wo_self-employed  wo_children  wo_govt-job  wo_never-worked  sm_unknown  \\\n",
       "0                 0            0            0                0           0   \n",
       "1                 1            0            0                0           0   \n",
       "2                 0            0            0                0           0   \n",
       "3                 0            0            0                0           0   \n",
       "4                 1            0            0                0           0   \n",
       "\n",
       "   sm_formerly-smoked  sm_smokes  ag_(20.0, 30.0]  ag_(-0.1, 11.0]  \\\n",
       "0                   1          0                0                0   \n",
       "1                   0          0                0                0   \n",
       "2                   0          0                0                0   \n",
       "3                   0          1                0                0   \n",
       "4                   0          0                0                0   \n",
       "\n",
       "   ag_(30.0, 38.0]  ...  bm_(38.6, 59.7]  bm_(26.6, 28.2]  bm_(19.8, 22.6]  \\\n",
       "0                0  ...                0                0                0   \n",
       "1                0  ...                0                0                0   \n",
       "2                0  ...                0                0                0   \n",
       "3                0  ...                0                0                0   \n",
       "4                0  ...                0                0                0   \n",
       "\n",
       "   bm_(31.8, 34.2]  gender  hypertension  heart_disease  ever_married  \\\n",
       "0                0       1             0              1             1   \n",
       "1                0       0             0              0             1   \n",
       "2                1       1             0              1             1   \n",
       "3                0       0             0              0             1   \n",
       "4                0       0             1              0             1   \n",
       "\n",
       "   residence_type  stroke  \n",
       "0               0       1  \n",
       "1               1       1  \n",
       "2               1       1  \n",
       "3               0       1  \n",
       "4               1       1  \n",
       "\n",
       "[5 rows x 40 columns]"
      ]
     },
     "execution_count": 7,
     "metadata": {},
     "output_type": "execute_result"
    }
   ],
   "source": [
    "def add_dummy(target_df, origin_df, col):\n",
    "    abbrev = col[:2] + '_'\n",
    "    for cat in origin_df[col].value_counts().index.tolist()[1:]:\n",
    "        target_df[abbrev + str(cat)] = origin_df[col] == cat\n",
    "        target_df[abbrev + str(cat)] = target_df[abbrev + str(cat)].map({False: 0, True: 1})\n",
    "\n",
    "df_dummies = pd.DataFrame(index=df.index)\n",
    "add_dummy(df_dummies, df, 'work_type')\n",
    "add_dummy(df_dummies, df, 'smoking_status')\n",
    "add_dummy(df_dummies, df, 'age_bin')\n",
    "add_dummy(df_dummies, df, 'avg_glucose_level_bin')\n",
    "add_dummy(df_dummies, df, 'bmi_bin')\n",
    "to_add = ['gender', 'hypertension', 'heart_disease', 'ever_married', 'residence_type', 'stroke']\n",
    "df_dummies[to_add] = df[to_add]\n",
    "\n",
    "df_dummies.head()"
   ]
  },
  {
   "cell_type": "markdown",
   "metadata": {},
   "source": [
    "<h4>Create Mixed DataFrame"
   ]
  },
  {
   "cell_type": "code",
   "execution_count": 8,
   "metadata": {},
   "outputs": [],
   "source": [
    "selected_columns = ['age', 'hypertension', 'heart_disease', 'avg_glucose_level', 'stroke']\n",
    "df_mixed = df[selected_columns]\n",
    "df_mixed_norm = df_mixed.copy(deep=True)\n",
    "\n",
    "scaler = StandardScaler()\n",
    "df_mixed_norm[['age', 'avg_glucose_level']] = scaler.fit_transform(df_mixed[['age', 'avg_glucose_level']])"
   ]
  },
  {
   "cell_type": "markdown",
   "metadata": {},
   "source": [
    "<h4>Create MCA DataFrame"
   ]
  },
  {
   "cell_type": "code",
   "execution_count": 9,
   "metadata": {},
   "outputs": [],
   "source": [
    "import prince\n",
    "mca_cols = ['gender', 'hypertension', 'heart_disease', 'ever_married', 'work_type', 'residence_type', 'smoking_status', 'age_bin', 'avg_glucose_level_bin', 'bmi_bin']\n",
    "df_mca = df[mca_cols]\n",
    "mca = prince.MCA()\n",
    "mca.fit(df_mca)\n",
    "mca.transform(df_mca)\n",
    "df_mixed_mca = pd.merge(df_mixed_norm, mca.row_coordinates(df_mca), left_index=True, right_index=True)\n"
   ]
  },
  {
   "cell_type": "markdown",
   "metadata": {},
   "source": [
    "<h4>Create Full DataFrame"
   ]
  },
  {
   "cell_type": "code",
   "execution_count": 10,
   "metadata": {},
   "outputs": [],
   "source": [
    "df_full = pd.DataFrame()\n",
    "to_copy1 = ['heart_disease', 'hypertension', 'gender', 'ever_married', 'residence_type', 'stroke']\n",
    "df_full[to_copy1] = df[to_copy1]\n",
    "to_copy2 = ['age', 'bmi', 'avg_glucose_level']\n",
    "df_full[to_copy2] = df[to_copy2]\n",
    "to_copy3 = ['wo_self-employed', 'wo_children', 'wo_govt-job', 'wo_never-worked', 'sm_unknown', 'sm_formerly-smoked', 'sm_smokes']\n",
    "df_full[to_copy3] = df_dummies[to_copy3]\n",
    "df_full[['mca0', 'mca1']] = df_mixed_mca[[0, 1]]\n",
    "\n",
    "scaler = MinMaxScaler()\n",
    "df_full[['age', 'avg_glucose_level', 'bmi', 'mca0', 'mca1']] = scaler.fit_transform(df_full[['age', 'avg_glucose_level', 'bmi', 'mca0', 'mca1']])"
   ]
  },
  {
   "cell_type": "code",
   "execution_count": 11,
   "metadata": {},
   "outputs": [],
   "source": [
    "from sklearn.metrics import confusion_matrix, classification_report, plot_confusion_matrix, accuracy_score, roc_auc_score, precision_score, recall_score, jaccard_score, f1_score, make_scorer\n",
    "from sklearn.svm import SVC\n",
    "import numpy as np\n",
    "from sklearn.experimental import enable_halving_search_cv\n",
    "from sklearn.model_selection import train_test_split, StratifiedKFold, KFold, RepeatedStratifiedKFold, cross_val_score, GridSearchCV, RandomizedSearchCV\n",
    "from IPython.display import clear_output\n",
    "import random\n",
    "from sklearn.feature_selection import RFECV"
   ]
  },
  {
   "cell_type": "markdown",
   "metadata": {},
   "source": [
    "<h4>Create RFE Dataframe"
   ]
  },
  {
   "cell_type": "code",
   "execution_count": 12,
   "metadata": {},
   "outputs": [
    {
     "name": "stderr",
     "output_type": "stream",
     "text": [
      "C:\\Users\\linde\\AppData\\Roaming\\Python\\Python37\\site-packages\\ipykernel_launcher.py:12: SettingWithCopyWarning: \n",
      "A value is trying to be set on a copy of a slice from a DataFrame.\n",
      "Try using .loc[row_indexer,col_indexer] = value instead\n",
      "\n",
      "See the caveats in the documentation: https://pandas.pydata.org/pandas-docs/stable/user_guide/indexing.html#returning-a-view-versus-a-copy\n",
      "  if sys.path[0] == '':\n"
     ]
    },
    {
     "data": {
      "text/html": [
       "<div>\n",
       "<style scoped>\n",
       "    .dataframe tbody tr th:only-of-type {\n",
       "        vertical-align: middle;\n",
       "    }\n",
       "\n",
       "    .dataframe tbody tr th {\n",
       "        vertical-align: top;\n",
       "    }\n",
       "\n",
       "    .dataframe thead th {\n",
       "        text-align: right;\n",
       "    }\n",
       "</style>\n",
       "<table border=\"1\" class=\"dataframe\">\n",
       "  <thead>\n",
       "    <tr style=\"text-align: right;\">\n",
       "      <th></th>\n",
       "      <th>heart_disease</th>\n",
       "      <th>hypertension</th>\n",
       "      <th>ever_married</th>\n",
       "      <th>age</th>\n",
       "      <th>avg_glucose_level</th>\n",
       "      <th>wo_self-employed</th>\n",
       "      <th>wo_children</th>\n",
       "      <th>wo_govt-job</th>\n",
       "      <th>sm_unknown</th>\n",
       "      <th>sm_formerly-smoked</th>\n",
       "      <th>sm_smokes</th>\n",
       "      <th>mca0</th>\n",
       "      <th>mca1</th>\n",
       "      <th>stroke</th>\n",
       "    </tr>\n",
       "  </thead>\n",
       "  <tbody>\n",
       "    <tr>\n",
       "      <th>0</th>\n",
       "      <td>1</td>\n",
       "      <td>0</td>\n",
       "      <td>1</td>\n",
       "      <td>0.817073</td>\n",
       "      <td>0.801265</td>\n",
       "      <td>0</td>\n",
       "      <td>0</td>\n",
       "      <td>0</td>\n",
       "      <td>0</td>\n",
       "      <td>1</td>\n",
       "      <td>0</td>\n",
       "      <td>0.044480</td>\n",
       "      <td>0.114435</td>\n",
       "      <td>1</td>\n",
       "    </tr>\n",
       "    <tr>\n",
       "      <th>1</th>\n",
       "      <td>0</td>\n",
       "      <td>0</td>\n",
       "      <td>1</td>\n",
       "      <td>0.743902</td>\n",
       "      <td>0.679023</td>\n",
       "      <td>1</td>\n",
       "      <td>0</td>\n",
       "      <td>0</td>\n",
       "      <td>0</td>\n",
       "      <td>0</td>\n",
       "      <td>0</td>\n",
       "      <td>0.055231</td>\n",
       "      <td>0.183165</td>\n",
       "      <td>1</td>\n",
       "    </tr>\n",
       "    <tr>\n",
       "      <th>2</th>\n",
       "      <td>1</td>\n",
       "      <td>0</td>\n",
       "      <td>1</td>\n",
       "      <td>0.975610</td>\n",
       "      <td>0.234512</td>\n",
       "      <td>0</td>\n",
       "      <td>0</td>\n",
       "      <td>0</td>\n",
       "      <td>0</td>\n",
       "      <td>0</td>\n",
       "      <td>0</td>\n",
       "      <td>0.111161</td>\n",
       "      <td>0.241562</td>\n",
       "      <td>1</td>\n",
       "    </tr>\n",
       "    <tr>\n",
       "      <th>3</th>\n",
       "      <td>0</td>\n",
       "      <td>0</td>\n",
       "      <td>1</td>\n",
       "      <td>0.597561</td>\n",
       "      <td>0.536008</td>\n",
       "      <td>0</td>\n",
       "      <td>0</td>\n",
       "      <td>0</td>\n",
       "      <td>0</td>\n",
       "      <td>0</td>\n",
       "      <td>1</td>\n",
       "      <td>0.071066</td>\n",
       "      <td>0.346915</td>\n",
       "      <td>1</td>\n",
       "    </tr>\n",
       "    <tr>\n",
       "      <th>4</th>\n",
       "      <td>0</td>\n",
       "      <td>1</td>\n",
       "      <td>1</td>\n",
       "      <td>0.963415</td>\n",
       "      <td>0.549349</td>\n",
       "      <td>1</td>\n",
       "      <td>0</td>\n",
       "      <td>0</td>\n",
       "      <td>0</td>\n",
       "      <td>0</td>\n",
       "      <td>0</td>\n",
       "      <td>0.097026</td>\n",
       "      <td>0.254376</td>\n",
       "      <td>1</td>\n",
       "    </tr>\n",
       "  </tbody>\n",
       "</table>\n",
       "</div>"
      ],
      "text/plain": [
       "   heart_disease  hypertension  ever_married       age  avg_glucose_level  \\\n",
       "0              1             0             1  0.817073           0.801265   \n",
       "1              0             0             1  0.743902           0.679023   \n",
       "2              1             0             1  0.975610           0.234512   \n",
       "3              0             0             1  0.597561           0.536008   \n",
       "4              0             1             1  0.963415           0.549349   \n",
       "\n",
       "   wo_self-employed  wo_children  wo_govt-job  sm_unknown  sm_formerly-smoked  \\\n",
       "0                 0            0            0           0                   1   \n",
       "1                 1            0            0           0                   0   \n",
       "2                 0            0            0           0                   0   \n",
       "3                 0            0            0           0                   0   \n",
       "4                 1            0            0           0                   0   \n",
       "\n",
       "   sm_smokes      mca0      mca1  stroke  \n",
       "0          0  0.044480  0.114435       1  \n",
       "1          0  0.055231  0.183165       1  \n",
       "2          0  0.111161  0.241562       1  \n",
       "3          1  0.071066  0.346915       1  \n",
       "4          0  0.097026  0.254376       1  "
      ]
     },
     "execution_count": 12,
     "metadata": {},
     "output_type": "execute_result"
    }
   ],
   "source": [
    "\n",
    "X = df_full.drop('stroke', axis=1)\n",
    "y = df_full['stroke']\n",
    "   \n",
    "    \n",
    "weights = {0:0.05, 1:1.0}\n",
    "estimator = SVC(C=5, gamma='scale',class_weight=weights, shrinking=True, kernel='linear')\n",
    "selector = RFECV(estimator, step=1, cv=5, min_features_to_select=5, scoring='recall')\n",
    "selector = selector.fit(X, y)\n",
    "\n",
    "cols = selector.get_support(indices=True)\n",
    "df_RFE = X.iloc[:,cols]\n",
    "df_RFE['stroke'] = df_full['stroke']\n",
    "\n",
    "df_RFE.head()"
   ]
  },
  {
   "cell_type": "markdown",
   "metadata": {},
   "source": [
    "<h4>Create Age, Gender Dataframe"
   ]
  },
  {
   "cell_type": "code",
   "execution_count": 13,
   "metadata": {},
   "outputs": [
    {
     "data": {
      "text/html": [
       "<div>\n",
       "<style scoped>\n",
       "    .dataframe tbody tr th:only-of-type {\n",
       "        vertical-align: middle;\n",
       "    }\n",
       "\n",
       "    .dataframe tbody tr th {\n",
       "        vertical-align: top;\n",
       "    }\n",
       "\n",
       "    .dataframe thead th {\n",
       "        text-align: right;\n",
       "    }\n",
       "</style>\n",
       "<table border=\"1\" class=\"dataframe\">\n",
       "  <thead>\n",
       "    <tr style=\"text-align: right;\">\n",
       "      <th></th>\n",
       "      <th>age</th>\n",
       "      <th>stroke</th>\n",
       "      <th>gender</th>\n",
       "    </tr>\n",
       "  </thead>\n",
       "  <tbody>\n",
       "    <tr>\n",
       "      <th>0</th>\n",
       "      <td>1.051238</td>\n",
       "      <td>1</td>\n",
       "      <td>1</td>\n",
       "    </tr>\n",
       "    <tr>\n",
       "      <th>1</th>\n",
       "      <td>0.785886</td>\n",
       "      <td>1</td>\n",
       "      <td>0</td>\n",
       "    </tr>\n",
       "    <tr>\n",
       "      <th>2</th>\n",
       "      <td>1.626168</td>\n",
       "      <td>1</td>\n",
       "      <td>1</td>\n",
       "    </tr>\n",
       "    <tr>\n",
       "      <th>3</th>\n",
       "      <td>0.255181</td>\n",
       "      <td>1</td>\n",
       "      <td>0</td>\n",
       "    </tr>\n",
       "    <tr>\n",
       "      <th>4</th>\n",
       "      <td>1.581943</td>\n",
       "      <td>1</td>\n",
       "      <td>0</td>\n",
       "    </tr>\n",
       "  </tbody>\n",
       "</table>\n",
       "</div>"
      ],
      "text/plain": [
       "        age  stroke  gender\n",
       "0  1.051238       1       1\n",
       "1  0.785886       1       0\n",
       "2  1.626168       1       1\n",
       "3  0.255181       1       0\n",
       "4  1.581943       1       0"
      ]
     },
     "execution_count": 13,
     "metadata": {},
     "output_type": "execute_result"
    }
   ],
   "source": [
    "df_age_gender = pd.DataFrame(df_mixed_norm[['age', 'stroke']])\n",
    "df_age_gender['gender'] = df['gender']\n",
    "df_age_gender.head()"
   ]
  },
  {
   "cell_type": "code",
   "execution_count": 14,
   "metadata": {},
   "outputs": [],
   "source": [
    "def get_svc(class_weight=None, kernel=\"rbf\", gamma='scale', shrinking=True, probability=False, break_ties=False, c=1.0, degree=3, coef0=1, cache_size=200):\n",
    "    return SVC(C=c, class_weight=class_weight, kernel=kernel, gamma=gamma,shrinking=shrinking,probability=probability, degree=degree, coef0=coef0, cache_size=cache_size)\n",
    "\n",
    "def run_model(model, X, y):\n",
    "    X_train, X_test, y_train, y_test = train_test_split(X, y, test_size=0.2, random_state=82)\n",
    "    model.fit(X_train, y_train)\n",
    "    y_pred = model.predict(X_test)\n",
    "    plot_confusion_matrix(model, X_test, y_test)\n",
    "    print(classification_report(y_test, y_pred))"
   ]
  },
  {
   "cell_type": "markdown",
   "metadata": {},
   "source": [
    "## Grid Search for optimising model metrics"
   ]
  },
  {
   "cell_type": "code",
   "execution_count": 15,
   "metadata": {},
   "outputs": [],
   "source": [
    "def run_grid_search(X, y):\n",
    "    X_train, X_test, y_train, y_test = train_test_split(X, y, test_size=0.2, random_state=82)\n",
    "    weight = {0:0.05, 1:1}\n",
    "\n",
    "    param_grid = {'C': [0.1, 0.5, 1, 2, 5, 10], \n",
    "                  'gamma': ['scale','auto'],\n",
    "                  'kernel': ['rbf', 'linear','sigmoid'],\n",
    "                  'shrinking': [1,0],\n",
    "                  'cache_size':[100, 200, 300, 400]\n",
    "                 } \n",
    "    scorer = {\n",
    "        'recall':make_scorer(recall_score),\n",
    "        'f1':make_scorer(f1_score),\n",
    "        'accuracy':make_scorer(accuracy_score),\n",
    "        'roc_auc':make_scorer(roc_auc_score),\n",
    "        'precision':make_scorer(precision_score)\n",
    "    }\n",
    "    grid = GridSearchCV(SVC(class_weight=weight), param_grid, scoring=scorer, cv=5, refit = 'f1', verbose = 3, n_jobs=-1)\n",
    "\n",
    "    grid.fit(X_train, y_train)\n",
    "\n",
    "    print(\"Optimised Hyper-parameters: \", grid.best_params_)\n",
    "\n",
    "    grid_predictions = grid.predict(X_test)\n",
    "    \n",
    "    print(classification_report(y_test, grid_predictions))\n",
    "    \n",
    "    plot_confusion_matrix(grid, X_test, y_test)"
   ]
  },
  {
   "cell_type": "markdown",
   "metadata": {},
   "source": [
    "<h4>Optimised Model using DataFrame with RFE selected features"
   ]
  },
  {
   "cell_type": "code",
   "execution_count": 29,
   "metadata": {},
   "outputs": [
    {
     "data": {
      "text/html": [
       "<div>\n",
       "<style scoped>\n",
       "    .dataframe tbody tr th:only-of-type {\n",
       "        vertical-align: middle;\n",
       "    }\n",
       "\n",
       "    .dataframe tbody tr th {\n",
       "        vertical-align: top;\n",
       "    }\n",
       "\n",
       "    .dataframe thead th {\n",
       "        text-align: right;\n",
       "    }\n",
       "</style>\n",
       "<table border=\"1\" class=\"dataframe\">\n",
       "  <thead>\n",
       "    <tr style=\"text-align: right;\">\n",
       "      <th></th>\n",
       "      <th>heart_disease</th>\n",
       "      <th>hypertension</th>\n",
       "      <th>ever_married</th>\n",
       "      <th>age</th>\n",
       "      <th>avg_glucose_level</th>\n",
       "      <th>wo_self-employed</th>\n",
       "      <th>wo_children</th>\n",
       "      <th>wo_govt-job</th>\n",
       "      <th>sm_unknown</th>\n",
       "      <th>sm_formerly-smoked</th>\n",
       "      <th>sm_smokes</th>\n",
       "      <th>mca0</th>\n",
       "      <th>mca1</th>\n",
       "    </tr>\n",
       "  </thead>\n",
       "  <tbody>\n",
       "    <tr>\n",
       "      <th>0</th>\n",
       "      <td>1</td>\n",
       "      <td>0</td>\n",
       "      <td>1</td>\n",
       "      <td>0.817073</td>\n",
       "      <td>0.801265</td>\n",
       "      <td>0</td>\n",
       "      <td>0</td>\n",
       "      <td>0</td>\n",
       "      <td>0</td>\n",
       "      <td>1</td>\n",
       "      <td>0</td>\n",
       "      <td>0.044480</td>\n",
       "      <td>0.114435</td>\n",
       "    </tr>\n",
       "    <tr>\n",
       "      <th>1</th>\n",
       "      <td>0</td>\n",
       "      <td>0</td>\n",
       "      <td>1</td>\n",
       "      <td>0.743902</td>\n",
       "      <td>0.679023</td>\n",
       "      <td>1</td>\n",
       "      <td>0</td>\n",
       "      <td>0</td>\n",
       "      <td>0</td>\n",
       "      <td>0</td>\n",
       "      <td>0</td>\n",
       "      <td>0.055231</td>\n",
       "      <td>0.183165</td>\n",
       "    </tr>\n",
       "    <tr>\n",
       "      <th>2</th>\n",
       "      <td>1</td>\n",
       "      <td>0</td>\n",
       "      <td>1</td>\n",
       "      <td>0.975610</td>\n",
       "      <td>0.234512</td>\n",
       "      <td>0</td>\n",
       "      <td>0</td>\n",
       "      <td>0</td>\n",
       "      <td>0</td>\n",
       "      <td>0</td>\n",
       "      <td>0</td>\n",
       "      <td>0.111161</td>\n",
       "      <td>0.241562</td>\n",
       "    </tr>\n",
       "    <tr>\n",
       "      <th>3</th>\n",
       "      <td>0</td>\n",
       "      <td>0</td>\n",
       "      <td>1</td>\n",
       "      <td>0.597561</td>\n",
       "      <td>0.536008</td>\n",
       "      <td>0</td>\n",
       "      <td>0</td>\n",
       "      <td>0</td>\n",
       "      <td>0</td>\n",
       "      <td>0</td>\n",
       "      <td>1</td>\n",
       "      <td>0.071066</td>\n",
       "      <td>0.346915</td>\n",
       "    </tr>\n",
       "    <tr>\n",
       "      <th>4</th>\n",
       "      <td>0</td>\n",
       "      <td>1</td>\n",
       "      <td>1</td>\n",
       "      <td>0.963415</td>\n",
       "      <td>0.549349</td>\n",
       "      <td>1</td>\n",
       "      <td>0</td>\n",
       "      <td>0</td>\n",
       "      <td>0</td>\n",
       "      <td>0</td>\n",
       "      <td>0</td>\n",
       "      <td>0.097026</td>\n",
       "      <td>0.254376</td>\n",
       "    </tr>\n",
       "  </tbody>\n",
       "</table>\n",
       "</div>"
      ],
      "text/plain": [
       "   heart_disease  hypertension  ever_married       age  avg_glucose_level  \\\n",
       "0              1             0             1  0.817073           0.801265   \n",
       "1              0             0             1  0.743902           0.679023   \n",
       "2              1             0             1  0.975610           0.234512   \n",
       "3              0             0             1  0.597561           0.536008   \n",
       "4              0             1             1  0.963415           0.549349   \n",
       "\n",
       "   wo_self-employed  wo_children  wo_govt-job  sm_unknown  sm_formerly-smoked  \\\n",
       "0                 0            0            0           0                   1   \n",
       "1                 1            0            0           0                   0   \n",
       "2                 0            0            0           0                   0   \n",
       "3                 0            0            0           0                   0   \n",
       "4                 1            0            0           0                   0   \n",
       "\n",
       "   sm_smokes      mca0      mca1  \n",
       "0          0  0.044480  0.114435  \n",
       "1          0  0.055231  0.183165  \n",
       "2          0  0.111161  0.241562  \n",
       "3          1  0.071066  0.346915  \n",
       "4          0  0.097026  0.254376  "
      ]
     },
     "execution_count": 29,
     "metadata": {},
     "output_type": "execute_result"
    }
   ],
   "source": [
    "X_RFE = df_RFE.drop('stroke', axis=1)\n",
    "y_RFE = df_RFE['stroke']\n",
    "X_RFE.head()\n",
    "# run_grid_search(X_RFE, y_RFE)"
   ]
  },
  {
   "cell_type": "markdown",
   "metadata": {},
   "source": [
    "<h5>A model with default hyper-parameters run on the same data"
   ]
  },
  {
   "cell_type": "code",
   "execution_count": 17,
   "metadata": {},
   "outputs": [
    {
     "name": "stdout",
     "output_type": "stream",
     "text": [
      "              precision    recall  f1-score   support\n",
      "\n",
      "           0       0.99      0.68      0.80       966\n",
      "           1       0.14      0.88      0.24        56\n",
      "\n",
      "    accuracy                           0.69      1022\n",
      "   macro avg       0.56      0.78      0.52      1022\n",
      "weighted avg       0.94      0.69      0.77      1022\n",
      "\n"
     ]
    },
    {
     "data": {
      "image/png": "[encoded data removed]",
      "text/plain": [
       "<Figure size 432x288 with 2 Axes>"
      ]
     },
     "metadata": {
      "needs_background": "light"
     },
     "output_type": "display_data"
    }
   ],
   "source": [
    "unoptimised_model = get_svc(class_weight = {0:0.05, 1:1})\n",
    "run_model(unoptimised_model, X_RFE, y_RFE)"
   ]
  },
  {
   "cell_type": "markdown",
   "metadata": {},
   "source": [
    "<h4>Optimised Model using DataFrame with Dummy Variables"
   ]
  },
  {
   "cell_type": "code",
   "execution_count": 30,
   "metadata": {
    "tags": []
   },
   "outputs": [
    {
     "name": "stdout",
     "output_type": "stream",
     "text": [
      "Fitting 5 folds for each of 288 candidates, totalling 1440 fits\n",
      "Optimised Hyper-parameters:  {'C': 2, 'cache_size': 100, 'gamma': 'auto', 'kernel': 'sigmoid', 'shrinking': 0}\n",
      "              precision    recall  f1-score   support\n",
      "\n",
      "           0       0.98      0.78      0.87       966\n",
      "           1       0.17      0.79      0.28        56\n",
      "\n",
      "    accuracy                           0.78      1022\n",
      "   macro avg       0.58      0.78      0.58      1022\n",
      "weighted avg       0.94      0.78      0.84      1022\n",
      "\n"
     ]
    },
    {
     "data": {
      "image/png": "[encoded data removed]",
      "text/plain": [
       "<Figure size 432x288 with 2 Axes>"
      ]
     },
     "metadata": {
      "needs_background": "light"
     },
     "output_type": "display_data"
    }
   ],
   "source": [
    "X_dummy = df_dummies.drop('stroke', axis=1)\n",
    "y_dummy = df_dummies['stroke']\n",
    "\n",
    "run_grid_search(X_dummy, y_dummy)"
   ]
  },
  {
   "cell_type": "markdown",
   "metadata": {},
   "source": [
    "<h5>A model with default hyper-parameters run on the same data"
   ]
  },
  {
   "cell_type": "code",
   "execution_count": 19,
   "metadata": {},
   "outputs": [
    {
     "name": "stdout",
     "output_type": "stream",
     "text": [
      "              precision    recall  f1-score   support\n",
      "\n",
      "           0       0.98      0.77      0.87       966\n",
      "           1       0.16      0.77      0.27        56\n",
      "\n",
      "    accuracy                           0.77      1022\n",
      "   macro avg       0.57      0.77      0.57      1022\n",
      "weighted avg       0.94      0.77      0.83      1022\n",
      "\n"
     ]
    },
    {
     "data": {
      "image/png": "[encoded data removed]",
      "text/plain": [
       "<Figure size 432x288 with 2 Axes>"
      ]
     },
     "metadata": {
      "needs_background": "light"
     },
     "output_type": "display_data"
    }
   ],
   "source": [
    "unoptimised_model = get_svc(class_weight={0:0.05, 1:1})\n",
    "run_model(unoptimised_model, X_dummy, y_dummy)"
   ]
  },
  {
   "cell_type": "markdown",
   "metadata": {},
   "source": [
    "<h4>Optimised Model using DataFrame with Age and Gender"
   ]
  },
  {
   "cell_type": "code",
   "execution_count": 20,
   "metadata": {},
   "outputs": [
    {
     "name": "stdout",
     "output_type": "stream",
     "text": [
      "Fitting 5 folds for each of 288 candidates, totalling 1440 fits\n",
      "Optimised Hyper-parameters:  {'C': 10, 'cache_size': 100, 'gamma': 'scale', 'kernel': 'linear', 'shrinking': 1}\n",
      "              precision    recall  f1-score   support\n",
      "\n",
      "           0       0.98      0.73      0.84       966\n",
      "           1       0.14      0.79      0.24        56\n",
      "\n",
      "    accuracy                           0.73      1022\n",
      "   macro avg       0.56      0.76      0.54      1022\n",
      "weighted avg       0.94      0.73      0.80      1022\n",
      "\n"
     ]
    },
    {
     "data": {
      "image/png": "[encoded data removed]",
      "text/plain": [
       "<Figure size 432x288 with 2 Axes>"
      ]
     },
     "metadata": {
      "needs_background": "light"
     },
     "output_type": "display_data"
    }
   ],
   "source": [
    "X_ag = df_age_gender.drop('stroke', axis=1)\n",
    "y_ag = df_age_gender['stroke']\n",
    "run_grid_search(X_ag, y_ag)"
   ]
  },
  {
   "cell_type": "markdown",
   "metadata": {},
   "source": [
    "<h5>A model with default hyper-parameters run on the same data"
   ]
  },
  {
   "cell_type": "code",
   "execution_count": 21,
   "metadata": {},
   "outputs": [
    {
     "name": "stdout",
     "output_type": "stream",
     "text": [
      "              precision    recall  f1-score   support\n",
      "\n",
      "           0       0.99      0.68      0.81       966\n",
      "           1       0.13      0.82      0.22        56\n",
      "\n",
      "    accuracy                           0.69      1022\n",
      "   macro avg       0.56      0.75      0.52      1022\n",
      "weighted avg       0.94      0.69      0.77      1022\n",
      "\n"
     ]
    },
    {
     "data": {
      "image/png": "[encoded data removed]",
      "text/plain": [
       "<Figure size 432x288 with 2 Axes>"
      ]
     },
     "metadata": {
      "needs_background": "light"
     },
     "output_type": "display_data"
    }
   ],
   "source": [
    "unoptimised_model = get_svc(class_weight={0:0.05, 1:1})\n",
    "run_model(unoptimised_model, X_ag, y_ag)"
   ]
  },
  {
   "cell_type": "code",
   "execution_count": 22,
   "metadata": {},
   "outputs": [
    {
     "name": "stdout",
     "output_type": "stream",
     "text": [
      "Fitting 5 folds for each of 288 candidates, totalling 1440 fits\n",
      "Optimised Hyper-parameters:  {'C': 5, 'cache_size': 100, 'gamma': 'scale', 'kernel': 'rbf', 'shrinking': 1}\n",
      "              precision    recall  f1-score   support\n",
      "\n",
      "           0       0.99      0.72      0.83       966\n",
      "           1       0.15      0.84      0.25        56\n",
      "\n",
      "    accuracy                           0.73      1022\n",
      "   macro avg       0.57      0.78      0.54      1022\n",
      "weighted avg       0.94      0.73      0.80      1022\n",
      "\n"
     ]
    },
    {
     "data": {
      "image/png": "[encoded data removed]",
      "text/plain": [
       "<Figure size 432x288 with 2 Axes>"
      ]
     },
     "metadata": {
      "needs_background": "light"
     },
     "output_type": "display_data"
    }
   ],
   "source": [
    "X_mix = df_mixed_norm.drop('stroke', axis=1)\n",
    "y_mix = df_mixed_norm['stroke']\n",
    "\n",
    "run_grid_search(X_mix, y_mix)"
   ]
  },
  {
   "cell_type": "code",
   "execution_count": 23,
   "metadata": {},
   "outputs": [
    {
     "name": "stdout",
     "output_type": "stream",
     "text": [
      "              precision    recall  f1-score   support\n",
      "\n",
      "           0       0.99      0.71      0.83       966\n",
      "           1       0.14      0.84      0.25        56\n",
      "\n",
      "    accuracy                           0.72      1022\n",
      "   macro avg       0.57      0.77      0.54      1022\n",
      "weighted avg       0.94      0.72      0.79      1022\n",
      "\n"
     ]
    },
    {
     "data": {
      "image/png": "[encoded data removed]",
      "text/plain": [
       "<Figure size 432x288 with 2 Axes>"
      ]
     },
     "metadata": {
      "needs_background": "light"
     },
     "output_type": "display_data"
    }
   ],
   "source": [
    "unoptimised_model = get_svc(class_weight={0:0.05, 1:1})\n",
    "run_model(unoptimised_model, X_mix, y_mix)"
   ]
  },
  {
   "cell_type": "markdown",
   "metadata": {},
   "source": [
    "<h4>Manual Grid Search using RFE features"
   ]
  },
  {
   "cell_type": "code",
   "execution_count": 24,
   "metadata": {},
   "outputs": [],
   "source": [
    "def get_random_float(min, max):\n",
    "    return min + (max-min)*random.random()\n",
    "    \n",
    "def get_cv_scores(model, X, y, n_splits=5,n_repeats=10, scoring=None):\n",
    "    cv = RepeatedStratifiedKFold(n_splits=n_splits, n_repeats=n_repeats, random_state=1)\n",
    "    return cross_val_score(model, X, y, scoring=scoring, cv=cv, n_jobs=-1)\n",
    "    \n",
    "def get_metrics_score(model, X, y):\n",
    "    X_train, X_test, y_train, y_test = train_test_split(X, y, test_size=0.2, random_state=82, stratify=y)\n",
    "    model.fit(X_train, y_train)\n",
    "    y_pred = model.predict(X_test)\n",
    "    scores = {\n",
    "        'recall':recall_score(y_test, y_pred, labels=np.unique(y_pred), zero_division=False),\n",
    "        'f1':f1_score(y_test, y_pred, labels=np.unique(y_pred), zero_division=False),\n",
    "        'roc':roc_auc_score(y_test, y_pred, labels=np.unique(y_pred)),\n",
    "        'precision':precision_score(y_test, y_pred, labels=np.unique(y_pred), zero_division=False),\n",
    "    }\n",
    "    return scores\n",
    "\n",
    "def get_reports_score(model, X, y):\n",
    "    '''\n",
    "    returns the recall, f1 and precision values obtained for the \"1\" class in a classification report\n",
    "    '''\n",
    "    X_train, X_test, y_train, y_test = train_test_split(X, y, test_size=0.2, random_state=82)\n",
    "    model.fit(X_train, y_train)\n",
    "    y_pred = model.predict(X_test)\n",
    "    report = classification_report(y_test, y_pred, output_dict=True)\n",
    "    \n",
    "    scores = {\n",
    "        'recall':report['1']['recall'],\n",
    "        'f1':report['1']['f1-score'],\n",
    "        'precision':report['1']['precision'],\n",
    "    }\n",
    "    return scores\n",
    "\n",
    "def check_if_better(old, new, thres=1.2):\n",
    "    '''\n",
    "    divides the new value by the old value and checks to see if this is greater than a threshold\n",
    "    if new/old > 1, the new value is better than the old\n",
    "    if new/old < 1, the new value is worse\n",
    "    By setting the threshold, you can decide how much worse than the old is acceptable for the new value\n",
    "    '''\n",
    "    \n",
    "    if old == 0:\n",
    "        return True\n",
    "    if(new/old > thres):\n",
    "        return True\n",
    "    \n",
    "    return False"
   ]
  },
  {
   "cell_type": "code",
   "execution_count": 31,
   "metadata": {},
   "outputs": [
    {
     "name": "stdout",
     "output_type": "stream",
     "text": [
      "Recall Score: 0.720 - best recall score is 0.860\n",
      "Best cell:\n",
      "\t w1 0.05\n",
      "\t w2 1\n",
      "\t gamma auto\n",
      "\t kernel linear\n",
      "\t probability 1\n",
      "\t shrinking 1\n",
      "\t cache_size 100\n",
      "\t recall 0.86\n",
      "\t f1 0.2356164383561644\n",
      "\t precision 0.1365079365079365\n",
      "\t roc 0.7900823045267489\n",
      "Total complete: 100.00%\n"
     ]
    }
   ],
   "source": [
    "X = df_RFE.drop('stroke', axis=1)\n",
    "y = df_RFE['stroke']\n",
    "\n",
    "\n",
    "w1=0.05\n",
    "w2=1\n",
    "\n",
    "kernel = ['linear', 'rbf', 'sigmoid', 'poly']\n",
    "gamma = ['scale','auto']\n",
    "cache_sizes = [100, 200, 300, 400]\n",
    "shrinking = [1, 0]\n",
    "probability = [1,0]\n",
    "\n",
    "# to stop the search from settling into a maximised recall position with no regard for other metrics\n",
    "# shuffle all the arrays prior to starting to give the search a chance to seek out other combinations of hyper-parameters\n",
    "np.random.shuffle(kernel)\n",
    "np.random.shuffle(gamma)\n",
    "np.random.shuffle(cache_sizes)\n",
    "np.random.shuffle(shrinking)\n",
    "np.random.shuffle(probability)\n",
    "\n",
    "best = {\n",
    "    'recall':0,\n",
    "    'precision':0,\n",
    "    'roc':0,\n",
    "    'f1':0\n",
    "}\n",
    "\n",
    "best_cell = {}\n",
    "cells = []\n",
    "total_len = len(cache_sizes)*len(gamma)*len(kernel)*len(shrinking)*len(probability)\n",
    "counter = 0\n",
    "\n",
    "for k in kernel:\n",
    "    for g in gamma:\n",
    "        for s in shrinking:\n",
    "            for p in probability:\n",
    "                for cache in cache_sizes:\n",
    "                    counter +=1\n",
    "\n",
    "                    # it was found that the actual value of the weights isn't important, the ratio between the weights is the significant part\n",
    "\n",
    "                    weights = {0:w1,1:w2}\n",
    "\n",
    "                    svc = get_svc(cache_size=cache, class_weight = weights, kernel=k, gamma=g, shrinking=s, probability=p) \n",
    "\n",
    "                    scores = get_metrics_score(svc, X, y)\n",
    "\n",
    "                    cell = {\n",
    "                        'w1':w1,\n",
    "                        'w2':w2,\n",
    "                        'gamma':g,\n",
    "                        'kernel':k,\n",
    "                        'probability':p,\n",
    "                        'shrinking':s,\n",
    "                        'cache_size':cache,\n",
    "                        'recall':scores['recall'],\n",
    "                        'f1':scores['f1'],\n",
    "                        'precision':scores['precision'],\n",
    "                        'roc':scores['roc'],\n",
    "                    }\n",
    "                    clear_output(wait=True)\n",
    "\n",
    "                    # only update the best cell if\n",
    "                    # recall is better than the current best\n",
    "                    # and roc_auc, precision or f1 isn't worse than 30% of its current best value\n",
    "                    # this check is used so other metrics aren't minimized while we attempt to maximise our desired metric (recall)\n",
    "                    if check_if_better(best['recall'], scores['recall'], 1.1) and check_if_better(best['roc'], scores['roc'], 0.9) and check_if_better(best['f1'], scores['f1'], 0.9):\n",
    "                        best_cell = cell\n",
    "                        best['recall'] = scores['recall']\n",
    "                        best['f1'] = scores['f1']\n",
    "                        best['precision'] = scores['precision']\n",
    "                        best['roc']:scores['roc']\n",
    "\n",
    "                        print(f\"Recall score: {scores['recall']:.3f} - new best\")\n",
    "                    else:\n",
    "                        print(f\"Recall Score: {scores['recall']:.3f} - best recall score is {best['recall']:.3f}\")\n",
    "                    print(\"Best cell:\")\n",
    "                    [print('\\t', key, value, end=\"\\n\") for key, value in best_cell.items()]\n",
    "                    print(f\"Total complete: {100*(counter/total_len):.2f}%\")\n",
    "                    cells.append(cell)"
   ]
  },
  {
   "cell_type": "markdown",
   "metadata": {},
   "source": [
    "<h4>Model using hyperparameters found from manual grid search"
   ]
  },
  {
   "cell_type": "code",
   "execution_count": 33,
   "metadata": {},
   "outputs": [
    {
     "name": "stdout",
     "output_type": "stream",
     "text": [
      "Mean cv score 0.7051082837707554\n",
      "              precision    recall  f1-score   support\n",
      "\n",
      "           0       0.99      0.70      0.82       966\n",
      "           1       0.14      0.86      0.25        56\n",
      "\n",
      "    accuracy                           0.71      1022\n",
      "   macro avg       0.57      0.78      0.53      1022\n",
      "weighted avg       0.94      0.71      0.79      1022\n",
      "\n"
     ]
    },
    {
     "data": {
      "image/png": "[encoded data removed]",
      "text/plain": [
       "<Figure size 432x288 with 2 Axes>"
      ]
     },
     "metadata": {
      "needs_background": "light"
     },
     "output_type": "display_data"
    }
   ],
   "source": [
    "weight = {0: 0.05, 1: 1}\n",
    "model = get_svc(weight, kernel=best_cell['kernel'], gamma=best_cell['gamma'], shrinking=best_cell['shrinking'], probability=best_cell['probability'], cache_size=best_cell['cache_size'])\n",
    "cv_scores = get_cv_scores(model, X, y)\n",
    "print(\"Mean cv score\", np.mean(cv_scores))\n",
    "run_model(model, X, y)"
   ]
  },
  {
   "cell_type": "code",
   "execution_count": null,
   "metadata": {},
   "outputs": [],
   "source": []
  }
 ],
 "metadata": {
  "kernelspec": {
   "display_name": "Python 3",
   "language": "python",
   "name": "python3"
  },
  "language_info": {
   "codemirror_mode": {
    "name": "ipython",
    "version": 3
   },
   "file_extension": ".py",
   "mimetype": "text/x-python",
   "name": "python",
   "nbconvert_exporter": "python",
   "pygments_lexer": "ipython3",
   "version": "3.7.8"
  }
 },
 "nbformat": 4,
 "nbformat_minor": 4
}
