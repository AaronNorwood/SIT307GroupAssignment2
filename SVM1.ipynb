{
 "cells": [
  {
   "cell_type": "markdown",
   "metadata": {},
   "source": [
    "<h1>SIT307 Group Assignment 1 notebook</h1>"
   ]
  },
  {
   "cell_type": "markdown",
   "metadata": {},
   "source": [
    "<h3>Group 3</h3>\n",
    "<p>By:<br>\n",
    "    Aaron Norwood,218330434<br>\n",
    "    Joshua Anthony, 219466473<br>\n",
    "    Roger Middenway, 217602784<br>\n",
    "    David Adams, 216110104<br>\n",
    "    Linden Hutchinson, 218384326<br>\n",
    "    Dale Orders, 219106283"
   ]
  },
  {
   "cell_type": "markdown",
   "metadata": {},
   "source": [
    "# Imported libraries"
   ]
  },
  {
   "cell_type": "code",
   "execution_count": 1,
   "metadata": {},
   "outputs": [],
   "source": [
    "import matplotlib.pyplot as plt\n",
    "import numpy as np\n",
    "import pandas as pd\n",
    "import seaborn as sns\n",
    "import math\n",
    "from scipy import stats\n",
    "# import plotly.express as px\n",
    "%matplotlib inline\n",
    "\n",
    "from sklearn.metrics import cohen_kappa_score, roc_curve, f1_score, make_scorer"
   ]
  },
  {
   "cell_type": "markdown",
   "metadata": {},
   "source": [
    "<h3> Read in the data, store if dataframe"
   ]
  },
  {
   "cell_type": "code",
   "execution_count": 2,
   "metadata": {},
   "outputs": [],
   "source": [
    "df = pd.read_csv('./data/healthcare-dataset-stroke-data.csv')"
   ]
  },
  {
   "cell_type": "markdown",
   "metadata": {
    "tags": []
   },
   "source": [
    "<h4>Tidying"
   ]
  },
  {
   "cell_type": "code",
   "execution_count": 3,
   "metadata": {},
   "outputs": [],
   "source": [
    "##convert gender to lowercase\n",
    "df['gender'] = df['gender'].apply(lambda x: x.lower())\n",
    "\n",
    "# print(len(df[df['gender'] == 'other']))\n",
    "## drop the one row that has \"other\" gender to keep things simple\n",
    "df.drop(index=df[df['gender'] == 'other'].index, inplace=True)\n",
    "\n",
    "##convert work_type to lowercase ensure consistent spacing \n",
    "df['work_type'] = df['work_type'].apply(lambda x: x.lower().replace('_','-'))\n",
    "\n",
    "##convert residence_type to lowercase\n",
    "df.rename(columns={'Residence_type':'residence_type'}, inplace=True)\n",
    "df['residence_type'] = df['residence_type'].apply(lambda x: x.lower())\n",
    "\n",
    "##convert smoking_status to lowercase ensure consistent spacing \n",
    "df['smoking_status'] = df['smoking_status'].apply(lambda x: x.lower().replace(' ', '-'))\n",
    "\n",
    "## round off age\n",
    "df['age'] = df['age'].apply(lambda x : round(x))\n",
    "\n",
    "# cap BMI outliers to a maximum of 60 \n",
    "df['bmi'] = df['bmi'].apply(lambda bmi_value: bmi_value if 12 < bmi_value < 60 else np.nan)"
   ]
  },
  {
   "cell_type": "markdown",
   "metadata": {},
   "source": [
    "<h4>Imputing"
   ]
  },
  {
   "cell_type": "code",
   "execution_count": 4,
   "metadata": {},
   "outputs": [],
   "source": [
    "m_df = df[df['gender'] == 'male']\n",
    "f_df = df[df['gender'] == 'female']\n",
    "\n",
    "m_bmi_avg = m_df.groupby('age')['bmi'].mean()\n",
    "f_bmi_avg = f_df.groupby('age')['bmi'].mean()\n",
    "##round to one to fit with other bmi values\n",
    "m_bmi_avg = round(m_bmi_avg,1)\n",
    "f_bmi_avg = round(f_bmi_avg,1)\n",
    "\n",
    "missing_vals = df[df.isnull().any(axis = 1)]\n",
    "\n",
    "for index, row in missing_vals.iterrows():\n",
    "    if row['gender'] == 'male':\n",
    "        df.loc[index,['bmi']] = m_bmi_avg[row['age']]\n",
    "    else:\n",
    "        df.loc[index,['bmi']] = f_bmi_avg[row['age']]"
   ]
  },
  {
   "cell_type": "code",
   "execution_count": 5,
   "metadata": {},
   "outputs": [],
   "source": [
    "residence_type_map = {\n",
    "    'urban':0,\n",
    "    'rural':1\n",
    "}\n",
    "df['residence_type'] = df['residence_type'].map(residence_type_map)\n",
    "# replace marital status with binary values\n",
    "df['ever_married'] = df['ever_married'].str.lower().map({'yes': 1, 'no': 0})\n",
    "# replace gender with binary values\n",
    "df['gender'] = df['gender'].str.lower().map({'male': 1, 'female': 0})"
   ]
  },
  {
   "cell_type": "markdown",
   "metadata": {},
   "source": [
    "<h4>Binning"
   ]
  },
  {
   "cell_type": "code",
   "execution_count": 6,
   "metadata": {},
   "outputs": [],
   "source": [
    "# implement age bins\n",
    "df['age_bin'] = pd.qcut(df['age'], q = 10, precision=1)\n",
    "\n",
    "# implement glucose bins\n",
    "df['avg_glucose_level_bin'] = pd.qcut(df['avg_glucose_level'], q=10, precision=1)\n",
    "\n",
    "# implement bmi bins\n",
    "df['bmi_bin'] = pd.qcut(df['bmi'], q=10, precision=1)"
   ]
  },
  {
   "cell_type": "code",
   "execution_count": 7,
   "metadata": {},
   "outputs": [],
   "source": [
    "def add_dummy(target_df, origin_df, col):\n",
    "    abbrev = col[:2] + '_'\n",
    "    for cat in origin_df[col].value_counts().index.tolist()[1:]:\n",
    "        target_df[abbrev + str(cat)] = origin_df[col] == cat\n",
    "        target_df[abbrev + str(cat)] = target_df[abbrev + str(cat)].map({False: 0, True: 1})\n"
   ]
  },
  {
   "cell_type": "code",
   "execution_count": 8,
   "metadata": {},
   "outputs": [],
   "source": [
    "df_dummies = pd.DataFrame(index=df.index)\n",
    "\n",
    "add_dummy(df_dummies, df, 'work_type')\n",
    "add_dummy(df_dummies, df, 'smoking_status')\n",
    "add_dummy(df_dummies, df, 'age_bin')\n",
    "add_dummy(df_dummies, df, 'avg_glucose_level_bin')\n",
    "add_dummy(df_dummies, df, 'bmi_bin')"
   ]
  },
  {
   "cell_type": "code",
   "execution_count": 9,
   "metadata": {},
   "outputs": [],
   "source": [
    "to_add = ['gender', 'hypertension', 'heart_disease', 'ever_married', 'residence_type', 'stroke']\n",
    "df_dummies[to_add] = df[to_add]"
   ]
  },
  {
   "cell_type": "markdown",
   "metadata": {},
   "source": [
    "## Dummy dataset creation\n",
    "I created a dummy dataset as i thought it might perform well for this model, although SVM's can take a wide range of data types apparently"
   ]
  },
  {
   "cell_type": "code",
   "execution_count": 10,
   "metadata": {},
   "outputs": [
    {
     "data": {
      "text/html": [
       "<div>\n",
       "<style scoped>\n",
       "    .dataframe tbody tr th:only-of-type {\n",
       "        vertical-align: middle;\n",
       "    }\n",
       "\n",
       "    .dataframe tbody tr th {\n",
       "        vertical-align: top;\n",
       "    }\n",
       "\n",
       "    .dataframe thead th {\n",
       "        text-align: right;\n",
       "    }\n",
       "</style>\n",
       "<table border=\"1\" class=\"dataframe\">\n",
       "  <thead>\n",
       "    <tr style=\"text-align: right;\">\n",
       "      <th></th>\n",
       "      <th>wo_self-employed</th>\n",
       "      <th>wo_children</th>\n",
       "      <th>wo_govt-job</th>\n",
       "      <th>wo_never-worked</th>\n",
       "      <th>sm_unknown</th>\n",
       "      <th>sm_formerly-smoked</th>\n",
       "      <th>sm_smokes</th>\n",
       "      <th>ag_(20.0, 30.0]</th>\n",
       "      <th>ag_(-0.1, 11.0]</th>\n",
       "      <th>ag_(30.0, 38.0]</th>\n",
       "      <th>...</th>\n",
       "      <th>bm_(38.6, 59.7]</th>\n",
       "      <th>bm_(26.6, 28.2]</th>\n",
       "      <th>bm_(19.8, 22.6]</th>\n",
       "      <th>bm_(31.8, 34.2]</th>\n",
       "      <th>gender</th>\n",
       "      <th>hypertension</th>\n",
       "      <th>heart_disease</th>\n",
       "      <th>ever_married</th>\n",
       "      <th>residence_type</th>\n",
       "      <th>stroke</th>\n",
       "    </tr>\n",
       "  </thead>\n",
       "  <tbody>\n",
       "    <tr>\n",
       "      <th>0</th>\n",
       "      <td>0</td>\n",
       "      <td>0</td>\n",
       "      <td>0</td>\n",
       "      <td>0</td>\n",
       "      <td>0</td>\n",
       "      <td>1</td>\n",
       "      <td>0</td>\n",
       "      <td>0</td>\n",
       "      <td>0</td>\n",
       "      <td>0</td>\n",
       "      <td>...</td>\n",
       "      <td>0</td>\n",
       "      <td>0</td>\n",
       "      <td>0</td>\n",
       "      <td>0</td>\n",
       "      <td>1</td>\n",
       "      <td>0</td>\n",
       "      <td>1</td>\n",
       "      <td>1</td>\n",
       "      <td>0</td>\n",
       "      <td>1</td>\n",
       "    </tr>\n",
       "    <tr>\n",
       "      <th>1</th>\n",
       "      <td>1</td>\n",
       "      <td>0</td>\n",
       "      <td>0</td>\n",
       "      <td>0</td>\n",
       "      <td>0</td>\n",
       "      <td>0</td>\n",
       "      <td>0</td>\n",
       "      <td>0</td>\n",
       "      <td>0</td>\n",
       "      <td>0</td>\n",
       "      <td>...</td>\n",
       "      <td>0</td>\n",
       "      <td>0</td>\n",
       "      <td>0</td>\n",
       "      <td>0</td>\n",
       "      <td>0</td>\n",
       "      <td>0</td>\n",
       "      <td>0</td>\n",
       "      <td>1</td>\n",
       "      <td>1</td>\n",
       "      <td>1</td>\n",
       "    </tr>\n",
       "    <tr>\n",
       "      <th>2</th>\n",
       "      <td>0</td>\n",
       "      <td>0</td>\n",
       "      <td>0</td>\n",
       "      <td>0</td>\n",
       "      <td>0</td>\n",
       "      <td>0</td>\n",
       "      <td>0</td>\n",
       "      <td>0</td>\n",
       "      <td>0</td>\n",
       "      <td>0</td>\n",
       "      <td>...</td>\n",
       "      <td>0</td>\n",
       "      <td>0</td>\n",
       "      <td>0</td>\n",
       "      <td>1</td>\n",
       "      <td>1</td>\n",
       "      <td>0</td>\n",
       "      <td>1</td>\n",
       "      <td>1</td>\n",
       "      <td>1</td>\n",
       "      <td>1</td>\n",
       "    </tr>\n",
       "    <tr>\n",
       "      <th>3</th>\n",
       "      <td>0</td>\n",
       "      <td>0</td>\n",
       "      <td>0</td>\n",
       "      <td>0</td>\n",
       "      <td>0</td>\n",
       "      <td>0</td>\n",
       "      <td>1</td>\n",
       "      <td>0</td>\n",
       "      <td>0</td>\n",
       "      <td>0</td>\n",
       "      <td>...</td>\n",
       "      <td>0</td>\n",
       "      <td>0</td>\n",
       "      <td>0</td>\n",
       "      <td>0</td>\n",
       "      <td>0</td>\n",
       "      <td>0</td>\n",
       "      <td>0</td>\n",
       "      <td>1</td>\n",
       "      <td>0</td>\n",
       "      <td>1</td>\n",
       "    </tr>\n",
       "    <tr>\n",
       "      <th>4</th>\n",
       "      <td>1</td>\n",
       "      <td>0</td>\n",
       "      <td>0</td>\n",
       "      <td>0</td>\n",
       "      <td>0</td>\n",
       "      <td>0</td>\n",
       "      <td>0</td>\n",
       "      <td>0</td>\n",
       "      <td>0</td>\n",
       "      <td>0</td>\n",
       "      <td>...</td>\n",
       "      <td>0</td>\n",
       "      <td>0</td>\n",
       "      <td>0</td>\n",
       "      <td>0</td>\n",
       "      <td>0</td>\n",
       "      <td>1</td>\n",
       "      <td>0</td>\n",
       "      <td>1</td>\n",
       "      <td>1</td>\n",
       "      <td>1</td>\n",
       "    </tr>\n",
       "  </tbody>\n",
       "</table>\n",
       "<p>5 rows × 40 columns</p>\n",
       "</div>"
      ],
      "text/plain": [
       "   wo_self-employed  wo_children  wo_govt-job  wo_never-worked  sm_unknown  \\\n",
       "0                 0            0            0                0           0   \n",
       "1                 1            0            0                0           0   \n",
       "2                 0            0            0                0           0   \n",
       "3                 0            0            0                0           0   \n",
       "4                 1            0            0                0           0   \n",
       "\n",
       "   sm_formerly-smoked  sm_smokes  ag_(20.0, 30.0]  ag_(-0.1, 11.0]  \\\n",
       "0                   1          0                0                0   \n",
       "1                   0          0                0                0   \n",
       "2                   0          0                0                0   \n",
       "3                   0          1                0                0   \n",
       "4                   0          0                0                0   \n",
       "\n",
       "   ag_(30.0, 38.0]  ...  bm_(38.6, 59.7]  bm_(26.6, 28.2]  bm_(19.8, 22.6]  \\\n",
       "0                0  ...                0                0                0   \n",
       "1                0  ...                0                0                0   \n",
       "2                0  ...                0                0                0   \n",
       "3                0  ...                0                0                0   \n",
       "4                0  ...                0                0                0   \n",
       "\n",
       "   bm_(31.8, 34.2]  gender  hypertension  heart_disease  ever_married  \\\n",
       "0                0       1             0              1             1   \n",
       "1                0       0             0              0             1   \n",
       "2                1       1             0              1             1   \n",
       "3                0       0             0              0             1   \n",
       "4                0       0             1              0             1   \n",
       "\n",
       "   residence_type  stroke  \n",
       "0               0       1  \n",
       "1               1       1  \n",
       "2               1       1  \n",
       "3               0       1  \n",
       "4               1       1  \n",
       "\n",
       "[5 rows x 40 columns]"
      ]
     },
     "execution_count": 10,
     "metadata": {},
     "output_type": "execute_result"
    }
   ],
   "source": [
    "df_dummies.head()"
   ]
  },
  {
   "cell_type": "code",
   "execution_count": 11,
   "metadata": {},
   "outputs": [],
   "source": [
    "from sklearn.svm import SVC\n",
    "import numpy as np\n",
    "from sklearn.model_selection import train_test_split, StratifiedKFold, KFold, RepeatedStratifiedKFold, cross_val_score\n",
    "from IPython.display import clear_output"
   ]
  },
  {
   "cell_type": "code",
   "execution_count": 12,
   "metadata": {},
   "outputs": [],
   "source": [
    "# X_train, X_test, y_train, y_test = train_test_split(df_dummies.drop(['stroke'], axis=1), df_dummies['stroke'], test_size=0.33, random_state=42)"
   ]
  },
  {
   "cell_type": "code",
   "execution_count": 13,
   "metadata": {},
   "outputs": [],
   "source": [
    "X = df_dummies.drop(['stroke'], axis=1)\n",
    "y = df_dummies['stroke']\n",
    "# skf = StratifiedKFold(n_splits=3)\n",
    "\n",
    "def run_svm(X, y, w1, w2, splits, repeats, scorer):\n",
    "    weights = {0:w1, 1:w2}\n",
    "    model = SVC(gamma='scale', class_weight=weights)\n",
    "\n",
    "    cv = RepeatedStratifiedKFold(n_splits=splits, n_repeats=repeats, random_state=1)\n",
    "\n",
    "    scores = cross_val_score(model, X, y, scoring=scorer, cv=cv, n_jobs=-1)\n",
    "    \n",
    "    return scores\n"
   ]
  },
  {
   "cell_type": "markdown",
   "metadata": {},
   "source": [
    "## Grid search\n",
    "This cell searches through different class weight combinations"
   ]
  },
  {
   "cell_type": "code",
   "execution_count": 14,
   "metadata": {},
   "outputs": [
    {
     "name": "stdout",
     "output_type": "stream",
     "text": [
      "Score: 0.658 - top score is 0.818\n"
     ]
    }
   ],
   "source": [
    "scoreses = []\n",
    "parameses = []\n",
    "top_score = 0\n",
    "top_params = {}\n",
    "\n",
    "weights = [0.05, 0.1, 0.25, 0.5, 1, 2, 5, 10]\n",
    "splits = [3]\n",
    "repeats = 5\n",
    "\n",
    "kappa_scorer = make_scorer(cohen_kappa_score)\n",
    "mean_roc = 'roc_auc'\n",
    "\n",
    "for a in weights:\n",
    "    for b in weights:\n",
    "        for c in splits:\n",
    "            scores = run_svm(X, y, a, b, c, repeats, mean_roc)\n",
    "            perf = np.mean(scores)\n",
    "            params = {'w1': a, 'w2': b, 'splits': c, 'score': perf}\n",
    "            clear_output(wait=True)\n",
    "            if perf > top_score:\n",
    "                top_score = perf\n",
    "                top_params = params\n",
    "                print(f'Score: {perf:.3f} - new best')\n",
    "            else:\n",
    "                print(f'Score: {perf:.3f} - top score is {top_score:.3f}')\n",
    "            scoreses.append(scores)\n",
    "            parameses.append(params)"
   ]
  },
  {
   "cell_type": "code",
   "execution_count": 15,
   "metadata": {},
   "outputs": [
    {
     "data": {
      "text/plain": [
       "{'w1': 0.05, 'w2': 1, 'splits': 3, 'score': 0.8181746740046606}"
      ]
     },
     "execution_count": 15,
     "metadata": {},
     "output_type": "execute_result"
    }
   ],
   "source": [
    "top_params"
   ]
  },
  {
   "cell_type": "code",
   "execution_count": 16,
   "metadata": {},
   "outputs": [],
   "source": [
    "res = pd.DataFrame(parameses)"
   ]
  },
  {
   "cell_type": "markdown",
   "metadata": {},
   "source": [
    "## All of this to show that a ratio of 20:1 is the best"
   ]
  },
  {
   "cell_type": "code",
   "execution_count": 17,
   "metadata": {},
   "outputs": [
    {
     "data": {
      "image/png": "[encoded data removed]",
      "text/plain": [
       "<Figure size 1080x720 with 1 Axes>"
      ]
     },
     "metadata": {
      "needs_background": "light"
     },
     "output_type": "display_data"
    }
   ],
   "source": [
    "fig, ax = plt.subplots(figsize=(15, 10))\n",
    "\n",
    "for i in res['splits'].value_counts().index:\n",
    "    temp_df = res[res['splits'] == i]\n",
    "    ax.plot(temp_df['w2']/temp_df['w1'], temp_df['score'])"
   ]
  },
  {
   "cell_type": "code",
   "execution_count": 18,
   "metadata": {},
   "outputs": [],
   "source": [
    "from sklearn.metrics import confusion_matrix, classification_report, plot_confusion_matrix"
   ]
  },
  {
   "cell_type": "code",
   "execution_count": 19,
   "metadata": {},
   "outputs": [],
   "source": [
    "weights = {0:0.05, 1:1.0}\n",
    "model = SVC(gamma='scale', class_weight=weights)\n",
    "\n",
    "cv = RepeatedStratifiedKFold(n_splits=3, n_repeats=5, random_state=1)\n",
    "\n",
    "scores = cross_val_score(model, X, y, scoring='roc_auc', cv=cv, n_jobs=-1)"
   ]
  },
  {
   "cell_type": "code",
   "execution_count": 20,
   "metadata": {},
   "outputs": [],
   "source": [
    "X_train, X_test, y_train, y_test = train_test_split(X, y, test_size=0.33, random_state=82)\n",
    "\n",
    "model.fit(X_train, y_train)\n",
    "\n",
    "y_true = y_test\n",
    "y_pred = model.predict(X_test)"
   ]
  },
  {
   "cell_type": "code",
   "execution_count": 21,
   "metadata": {},
   "outputs": [],
   "source": [
    "cv = RepeatedStratifiedKFold(n_splits=5, n_repeats=10, random_state=1)\n",
    "\n",
    "scores = cross_val_score(model, X, y, scoring='f1', cv=cv, n_jobs=-1)"
   ]
  },
  {
   "cell_type": "code",
   "execution_count": 22,
   "metadata": {},
   "outputs": [
    {
     "data": {
      "text/plain": [
       "0.23737034660528733"
      ]
     },
     "execution_count": 22,
     "metadata": {},
     "output_type": "execute_result"
    }
   ],
   "source": [
    "scores.mean()"
   ]
  },
  {
   "cell_type": "markdown",
   "metadata": {},
   "source": [
    "## Results from dummy dataset"
   ]
  },
  {
   "cell_type": "code",
   "execution_count": 23,
   "metadata": {},
   "outputs": [
    {
     "data": {
      "text/plain": [
       "<sklearn.metrics._plot.confusion_matrix.ConfusionMatrixDisplay at 0x11b64e760>"
      ]
     },
     "execution_count": 23,
     "metadata": {},
     "output_type": "execute_result"
    },
    {
     "data": {
      "image/png": "[encoded data removed]",
      "text/plain": [
       "<Figure size 432x288 with 2 Axes>"
      ]
     },
     "metadata": {
      "needs_background": "light"
     },
     "output_type": "display_data"
    }
   ],
   "source": [
    "# plot_confusion_matrix(model, X_test, y_test)\n",
    "plot_confusion_matrix(model, X_test, y_test)"
   ]
  },
  {
   "cell_type": "code",
   "execution_count": 24,
   "metadata": {},
   "outputs": [
    {
     "name": "stdout",
     "output_type": "stream",
     "text": [
      "              precision    recall  f1-score   support\n",
      "\n",
      "           0       0.98      0.77      0.87      1594\n",
      "           1       0.16      0.75      0.26        92\n",
      "\n",
      "    accuracy                           0.77      1686\n",
      "   macro avg       0.57      0.76      0.57      1686\n",
      "weighted avg       0.94      0.77      0.83      1686\n",
      "\n"
     ]
    }
   ],
   "source": [
    "print(classification_report(y_test, y_pred))"
   ]
  },
  {
   "cell_type": "markdown",
   "metadata": {},
   "source": [
    "## Selecting features\n",
    "Now i selected the features we had identified as the most significant: age, average glucose level, hypertension and heart disease"
   ]
  },
  {
   "cell_type": "code",
   "execution_count": 25,
   "metadata": {},
   "outputs": [],
   "source": [
    "selected_columns = ['ag_(20.0, 30.0]',\n",
    "       'ag_(-0.1, 11.0]', 'ag_(30.0, 38.0]', 'ag_(38.0, 45.0]',\n",
    "       'ag_(51.0, 57.0]', 'ag_(65.0, 75.0]', 'ag_(11.0, 20.0]',\n",
    "       'ag_(75.0, 82.0]', 'ag_(45.0, 51.0]', 'av_(80.0, 85.6]',\n",
    "       'av_(65.8, 73.8]', 'av_(192.2, 271.7]', 'av_(124.1, 192.2]',\n",
    "       'av_(55.0, 65.8]', 'av_(108.5, 124.1]', 'av_(91.9, 98.9]',\n",
    "       'av_(85.6, 91.9]', 'av_(73.8, 80.0]', 'hypertension', 'heart_disease', 'stroke']\n",
    "df_dummies_pruned = df_dummies[selected_columns]"
   ]
  },
  {
   "cell_type": "code",
   "execution_count": 26,
   "metadata": {},
   "outputs": [],
   "source": [
    "X = df_dummies_pruned.drop(['stroke'], axis=1)\n",
    "y = df_dummies_pruned['stroke']"
   ]
  },
  {
   "cell_type": "code",
   "execution_count": 27,
   "metadata": {},
   "outputs": [],
   "source": [
    "X_train, X_test, y_train, y_test = train_test_split(X, y, test_size=0.33, random_state=82)\n",
    "\n",
    "weights = {0:0.05, 1:1}\n",
    "model = SVC(gamma='scale', class_weight=weights)\n",
    "\n",
    "model.fit(X_train, y_train)\n",
    "labels = y.unique()\n",
    "\n",
    "y_true = y_test\n",
    "y_pred = model.predict(X_test)"
   ]
  },
  {
   "cell_type": "code",
   "execution_count": 28,
   "metadata": {},
   "outputs": [],
   "source": [
    "cv = RepeatedStratifiedKFold(n_splits=5, n_repeats=10, random_state=1)\n",
    "\n",
    "scores = cross_val_score(model, X, y, scoring='f1', cv=cv, n_jobs=-1)"
   ]
  },
  {
   "cell_type": "code",
   "execution_count": 29,
   "metadata": {},
   "outputs": [
    {
     "data": {
      "text/plain": [
       "0.22505753466093809"
      ]
     },
     "execution_count": 29,
     "metadata": {},
     "output_type": "execute_result"
    }
   ],
   "source": [
    "scores.mean()"
   ]
  },
  {
   "cell_type": "markdown",
   "metadata": {},
   "source": [
    "## Pruned dummy dataset results\n",
    "Only slightly better recall, and slightly fewer false positives"
   ]
  },
  {
   "cell_type": "code",
   "execution_count": 30,
   "metadata": {},
   "outputs": [
    {
     "data": {
      "text/plain": [
       "<sklearn.metrics._plot.confusion_matrix.ConfusionMatrixDisplay at 0x11a29cc40>"
      ]
     },
     "execution_count": 30,
     "metadata": {},
     "output_type": "execute_result"
    },
    {
     "data": {
      "image/png": "[encoded data removed]",
      "text/plain": [
       "<Figure size 432x288 with 2 Axes>"
      ]
     },
     "metadata": {
      "needs_background": "light"
     },
     "output_type": "display_data"
    }
   ],
   "source": [
    "plot_confusion_matrix(model, X_test, y_test)"
   ]
  },
  {
   "cell_type": "code",
   "execution_count": 31,
   "metadata": {},
   "outputs": [
    {
     "name": "stdout",
     "output_type": "stream",
     "text": [
      "              precision    recall  f1-score   support\n",
      "\n",
      "           0       0.98      0.78      0.87      1594\n",
      "           1       0.17      0.76      0.27        92\n",
      "\n",
      "    accuracy                           0.78      1686\n",
      "   macro avg       0.57      0.77      0.57      1686\n",
      "weighted avg       0.94      0.78      0.84      1686\n",
      "\n"
     ]
    }
   ],
   "source": [
    "print(classification_report(y_test, y_pred))"
   ]
  },
  {
   "cell_type": "markdown",
   "metadata": {},
   "source": [
    "## Mixed type dataset\n",
    "Now i made a dataset with age and avg_glucose level as continuous features, scaled using Z scores, and hypertension and heart disease as binary"
   ]
  },
  {
   "cell_type": "code",
   "execution_count": 32,
   "metadata": {},
   "outputs": [
    {
     "name": "stderr",
     "output_type": "stream",
     "text": [
      "<ipython-input-32-f29d23c549a3>:3: SettingWithCopyWarning: \n",
      "A value is trying to be set on a copy of a slice from a DataFrame.\n",
      "Try using .loc[row_indexer,col_indexer] = value instead\n",
      "\n",
      "See the caveats in the documentation: https://pandas.pydata.org/pandas-docs/stable/user_guide/indexing.html#returning-a-view-versus-a-copy\n",
      "  df_mixed['age'] = (df_mixed['age'] - df_mixed['age'].mean()) / df_mixed['age'].std()\n",
      "<ipython-input-32-f29d23c549a3>:4: SettingWithCopyWarning: \n",
      "A value is trying to be set on a copy of a slice from a DataFrame.\n",
      "Try using .loc[row_indexer,col_indexer] = value instead\n",
      "\n",
      "See the caveats in the documentation: https://pandas.pydata.org/pandas-docs/stable/user_guide/indexing.html#returning-a-view-versus-a-copy\n",
      "  df_mixed['avg_glucose_level'] = (df_mixed['avg_glucose_level'] - df_mixed['avg_glucose_level'].mean()) / df_mixed['avg_glucose_level'].std()\n"
     ]
    }
   ],
   "source": [
    "selected_columns = ['age', 'hypertension', 'heart_disease', 'avg_glucose_level', 'stroke']\n",
    "df_mixed = df[selected_columns]\n",
    "df_mixed['age'] = (df_mixed['age'] - df_mixed['age'].mean()) / df_mixed['age'].std()\n",
    "df_mixed['avg_glucose_level'] = (df_mixed['avg_glucose_level'] - df_mixed['avg_glucose_level'].mean()) / df_mixed['avg_glucose_level'].std()"
   ]
  },
  {
   "cell_type": "code",
   "execution_count": 33,
   "metadata": {},
   "outputs": [],
   "source": [
    "X = df_mixed.drop(['stroke'], axis=1)\n",
    "y = df_mixed['stroke']\n",
    "X_train, X_test, y_train, y_test = train_test_split(X, y, test_size=0.33, random_state=82)\n",
    "\n",
    "weights = {0:0.05, 1:1.0} # 0.02 : 1 finds all stroke labels, but a huge number of false positives as welll\n",
    "model = SVC(gamma='scale', class_weight=weights)\n",
    "\n",
    "model.fit(X_train, y_train)\n",
    "labels = y.unique()\n",
    "\n",
    "y_true = y_test\n",
    "y_pred = model.predict(X_test)"
   ]
  },
  {
   "cell_type": "code",
   "execution_count": 34,
   "metadata": {},
   "outputs": [],
   "source": [
    "cv = RepeatedStratifiedKFold(n_splits=5, n_repeats=10, random_state=1)\n",
    "\n",
    "scores = cross_val_score(model, X, y, scoring='f1', cv=cv, n_jobs=-1)"
   ]
  },
  {
   "cell_type": "code",
   "execution_count": 35,
   "metadata": {},
   "outputs": [
    {
     "data": {
      "text/plain": [
       "0.21230505745480063"
      ]
     },
     "execution_count": 35,
     "metadata": {},
     "output_type": "execute_result"
    }
   ],
   "source": [
    "scores.mean()"
   ]
  },
  {
   "cell_type": "markdown",
   "metadata": {},
   "source": [
    "## Mixed dataset results\n",
    "Recall was better, but false positives also increased."
   ]
  },
  {
   "cell_type": "code",
   "execution_count": 36,
   "metadata": {},
   "outputs": [
    {
     "data": {
      "text/plain": [
       "<sklearn.metrics._plot.confusion_matrix.ConfusionMatrixDisplay at 0x11b9be460>"
      ]
     },
     "execution_count": 36,
     "metadata": {},
     "output_type": "execute_result"
    },
    {
     "data": {
      "image/png": "[encoded data removed]",
      "text/plain": [
       "<Figure size 432x288 with 2 Axes>"
      ]
     },
     "metadata": {
      "needs_background": "light"
     },
     "output_type": "display_data"
    }
   ],
   "source": [
    "plot_confusion_matrix(model, X_test, y_test)"
   ]
  },
  {
   "cell_type": "code",
   "execution_count": 37,
   "metadata": {},
   "outputs": [
    {
     "name": "stdout",
     "output_type": "stream",
     "text": [
      "              precision    recall  f1-score   support\n",
      "\n",
      "           0       0.99      0.74      0.84      1594\n",
      "           1       0.15      0.82      0.26        92\n",
      "\n",
      "    accuracy                           0.74      1686\n",
      "   macro avg       0.57      0.78      0.55      1686\n",
      "weighted avg       0.94      0.74      0.81      1686\n",
      "\n"
     ]
    }
   ],
   "source": [
    "print(classification_report(y_test, y_pred))"
   ]
  },
  {
   "cell_type": "markdown",
   "metadata": {},
   "source": [
    "## Feature selection based on feature importance from Naive Bayes"
   ]
  },
  {
   "cell_type": "code",
   "execution_count": 38,
   "metadata": {},
   "outputs": [],
   "source": [
    "selected = ['ag_(75.0, 82.0]',\n",
    " 'ag_(65.0, 75.0]',\n",
    " 'av_(192.2, 271.7]',\n",
    " 'hypertension',\n",
    " 'heart_disease',\n",
    " 'av_(124.1, 192.2]',\n",
    " 'ag_(20.0, 30.0]',\n",
    " 'ag_(-0.1, 11.0]',\n",
    " 'ag_(30.0, 38.0]',\n",
    " 'ag_(38.0, 45.0]',\n",
    " 'av_(73.8, 80.0]',\n",
    " 'av_(80.0, 85.6]',\n",
    " 'stroke']"
   ]
  },
  {
   "cell_type": "code",
   "execution_count": 39,
   "metadata": {},
   "outputs": [],
   "source": [
    "df_sel = df_dummies[selected]"
   ]
  },
  {
   "cell_type": "code",
   "execution_count": 40,
   "metadata": {},
   "outputs": [],
   "source": [
    "X = df_sel.drop(['stroke'], axis=1)\n",
    "y = df_sel['stroke']\n",
    "X_train, X_test, y_train, y_test = train_test_split(X, y, test_size=0.33, random_state=82)\n",
    "\n",
    "weights = {0:0.05, 1:1.0} # 0.02 : 1 finds all stroke labels, but a huge number of false positives as welll\n",
    "model = SVC(gamma='scale', class_weight=weights, probability=True)\n",
    "\n",
    "model.fit(X_train, y_train)\n",
    "labels = y.unique()\n",
    "\n",
    "y_true = y_test\n",
    "y_pred = model.predict(X_test)"
   ]
  },
  {
   "cell_type": "code",
   "execution_count": 41,
   "metadata": {},
   "outputs": [],
   "source": [
    "cv = RepeatedStratifiedKFold(n_splits=5, n_repeats=10, random_state=1)\n",
    "\n",
    "scores = cross_val_score(model, X, y, scoring='f1', cv=cv, n_jobs=-1)"
   ]
  },
  {
   "cell_type": "code",
   "execution_count": 42,
   "metadata": {},
   "outputs": [
    {
     "data": {
      "text/plain": [
       "0.22508552736832385"
      ]
     },
     "execution_count": 42,
     "metadata": {},
     "output_type": "execute_result"
    }
   ],
   "source": [
    "scores.mean()"
   ]
  },
  {
   "cell_type": "markdown",
   "metadata": {},
   "source": [
    "# Naive Bayes selected dataset results"
   ]
  },
  {
   "cell_type": "code",
   "execution_count": 43,
   "metadata": {},
   "outputs": [
    {
     "name": "stdout",
     "output_type": "stream",
     "text": [
      "              precision    recall  f1-score   support\n",
      "\n",
      "           0       0.98      0.77      0.86      1594\n",
      "           1       0.16      0.73      0.26        92\n",
      "\n",
      "    accuracy                           0.77      1686\n",
      "   macro avg       0.57      0.75      0.56      1686\n",
      "weighted avg       0.94      0.77      0.83      1686\n",
      "\n"
     ]
    },
    {
     "data": {
      "image/png": "[encoded data removed]",
      "text/plain": [
       "<Figure size 432x288 with 2 Axes>"
      ]
     },
     "metadata": {
      "needs_background": "light"
     },
     "output_type": "display_data"
    }
   ],
   "source": [
    "plot_confusion_matrix(model, X_test, y_test)\n",
    "print(classification_report(y_test, y_pred))"
   ]
  },
  {
   "cell_type": "markdown",
   "metadata": {},
   "source": [
    "## Mixed dataset with MCA feature added"
   ]
  },
  {
   "cell_type": "code",
   "execution_count": 44,
   "metadata": {},
   "outputs": [],
   "source": [
    "import prince\n",
    "mca_cols = ['gender', 'hypertension', 'heart_disease', 'ever_married', 'work_type', 'residence_type', 'smoking_status', 'stroke', 'age_bin', 'avg_glucose_level_bin', 'bmi_bin']\n",
    "df_mca = df[mca_cols]\n"
   ]
  },
  {
   "cell_type": "code",
   "execution_count": 45,
   "metadata": {},
   "outputs": [
    {
     "data": {
      "text/html": [
       "<div>\n",
       "<style scoped>\n",
       "    .dataframe tbody tr th:only-of-type {\n",
       "        vertical-align: middle;\n",
       "    }\n",
       "\n",
       "    .dataframe tbody tr th {\n",
       "        vertical-align: top;\n",
       "    }\n",
       "\n",
       "    .dataframe thead th {\n",
       "        text-align: right;\n",
       "    }\n",
       "</style>\n",
       "<table border=\"1\" class=\"dataframe\">\n",
       "  <thead>\n",
       "    <tr style=\"text-align: right;\">\n",
       "      <th></th>\n",
       "      <th>0</th>\n",
       "      <th>1</th>\n",
       "    </tr>\n",
       "  </thead>\n",
       "  <tbody>\n",
       "    <tr>\n",
       "      <th>0</th>\n",
       "      <td>-0.570810</td>\n",
       "      <td>-1.096147</td>\n",
       "    </tr>\n",
       "    <tr>\n",
       "      <th>1</th>\n",
       "      <td>-0.541514</td>\n",
       "      <td>-0.838423</td>\n",
       "    </tr>\n",
       "    <tr>\n",
       "      <th>2</th>\n",
       "      <td>-0.372545</td>\n",
       "      <td>-0.588579</td>\n",
       "    </tr>\n",
       "    <tr>\n",
       "      <th>3</th>\n",
       "      <td>-0.498542</td>\n",
       "      <td>-0.214096</td>\n",
       "    </tr>\n",
       "    <tr>\n",
       "      <th>4</th>\n",
       "      <td>-0.418910</td>\n",
       "      <td>-0.581785</td>\n",
       "    </tr>\n",
       "    <tr>\n",
       "      <th>...</th>\n",
       "      <td>...</td>\n",
       "      <td>...</td>\n",
       "    </tr>\n",
       "    <tr>\n",
       "      <th>5105</th>\n",
       "      <td>-0.457030</td>\n",
       "      <td>-0.309588</td>\n",
       "    </tr>\n",
       "    <tr>\n",
       "      <th>5106</th>\n",
       "      <td>-0.488111</td>\n",
       "      <td>-0.497988</td>\n",
       "    </tr>\n",
       "    <tr>\n",
       "      <th>5107</th>\n",
       "      <td>-0.342157</td>\n",
       "      <td>-0.003847</td>\n",
       "    </tr>\n",
       "    <tr>\n",
       "      <th>5108</th>\n",
       "      <td>-0.264469</td>\n",
       "      <td>0.039848</td>\n",
       "    </tr>\n",
       "    <tr>\n",
       "      <th>5109</th>\n",
       "      <td>-0.024770</td>\n",
       "      <td>0.231817</td>\n",
       "    </tr>\n",
       "  </tbody>\n",
       "</table>\n",
       "<p>5109 rows × 2 columns</p>\n",
       "</div>"
      ],
      "text/plain": [
       "             0         1\n",
       "0    -0.570810 -1.096147\n",
       "1    -0.541514 -0.838423\n",
       "2    -0.372545 -0.588579\n",
       "3    -0.498542 -0.214096\n",
       "4    -0.418910 -0.581785\n",
       "...        ...       ...\n",
       "5105 -0.457030 -0.309588\n",
       "5106 -0.488111 -0.497988\n",
       "5107 -0.342157 -0.003847\n",
       "5108 -0.264469  0.039848\n",
       "5109 -0.024770  0.231817\n",
       "\n",
       "[5109 rows x 2 columns]"
      ]
     },
     "execution_count": 45,
     "metadata": {},
     "output_type": "execute_result"
    }
   ],
   "source": [
    "mca = prince.MCA()\n",
    "mca.fit(df_mca)\n",
    "mca.transform(df_mca)"
   ]
  },
  {
   "cell_type": "code",
   "execution_count": 46,
   "metadata": {},
   "outputs": [],
   "source": [
    "df_mixed_mca = pd.merge(df_mixed, mca.row_coordinates(df_mca), left_index=True, right_index=True)"
   ]
  },
  {
   "cell_type": "code",
   "execution_count": 47,
   "metadata": {},
   "outputs": [],
   "source": [
    "X = df_mixed_mca.drop(['stroke'], axis=1)\n",
    "y = df_mixed_mca['stroke']\n",
    "X_train, X_test, y_train, y_test = train_test_split(X, y, test_size=0.33, random_state=82)\n",
    "\n",
    "weights = {0:0.05, 1:1.0} # 0.02 : 1 finds all stroke labels, but a huge number of false positives as welll\n",
    "model = SVC(gamma='scale', class_weight=weights, probability=True)\n",
    "\n",
    "model.fit(X_train, y_train)\n",
    "labels = y.unique()\n",
    "\n",
    "y_true = y_test\n",
    "y_pred = model.predict(X_test)"
   ]
  },
  {
   "cell_type": "code",
   "execution_count": 48,
   "metadata": {},
   "outputs": [],
   "source": [
    "cv = RepeatedStratifiedKFold(n_splits=5, n_repeats=10, random_state=1)\n",
    "\n",
    "scores = cross_val_score(model, X, y, scoring='f1', cv=cv, n_jobs=-1)"
   ]
  },
  {
   "cell_type": "code",
   "execution_count": 49,
   "metadata": {},
   "outputs": [
    {
     "data": {
      "text/plain": [
       "0.26623184261244515"
      ]
     },
     "execution_count": 49,
     "metadata": {},
     "output_type": "execute_result"
    }
   ],
   "source": [
    "scores.mean()"
   ]
  },
  {
   "cell_type": "markdown",
   "metadata": {},
   "source": [
    "## "
   ]
  },
  {
   "cell_type": "code",
   "execution_count": 50,
   "metadata": {},
   "outputs": [
    {
     "name": "stdout",
     "output_type": "stream",
     "text": [
      "              precision    recall  f1-score   support\n",
      "\n",
      "           0       1.00      0.74      0.85      1594\n",
      "           1       0.18      0.97      0.30        92\n",
      "\n",
      "    accuracy                           0.76      1686\n",
      "   macro avg       0.59      0.86      0.58      1686\n",
      "weighted avg       0.95      0.76      0.82      1686\n",
      "\n"
     ]
    },
    {
     "data": {
      "image/png": "[encoded data removed]",
      "text/plain": [
       "<Figure size 432x288 with 2 Axes>"
      ]
     },
     "metadata": {
      "needs_background": "light"
     },
     "output_type": "display_data"
    }
   ],
   "source": [
    "plot_confusion_matrix(model, X_test, y_test)\n",
    "print(classification_report(y_test, y_pred))"
   ]
  },
  {
   "cell_type": "markdown",
   "metadata": {},
   "source": [
    "## Garbage below\n",
    "I was looking at cohen's kappa as a measure but it didn't seem very helpful. I also looked at the stroke cases we missed, they all seem much younger than the average stroke age."
   ]
  },
  {
   "cell_type": "markdown",
   "metadata": {},
   "source": []
  },
  {
   "cell_type": "code",
   "execution_count": 51,
   "metadata": {},
   "outputs": [
    {
     "name": "stdout",
     "output_type": "stream",
     "text": [
      "0.23025613247697896\n"
     ]
    }
   ],
   "source": [
    "from sklearn.metrics import cohen_kappa_score, roc_curve, f1_score\n",
    "\n",
    "print(cohen_kappa_score(y_test, y_pred))"
   ]
  },
  {
   "cell_type": "code",
   "execution_count": 52,
   "metadata": {},
   "outputs": [],
   "source": [
    "check = pd.DataFrame(X_test)\n",
    "check['probs'] = [*model.predict_proba(X_test)]\n",
    "check['stroke'] = y_test"
   ]
  },
  {
   "cell_type": "code",
   "execution_count": 53,
   "metadata": {},
   "outputs": [
    {
     "data": {
      "text/html": [
       "<div>\n",
       "<style scoped>\n",
       "    .dataframe tbody tr th:only-of-type {\n",
       "        vertical-align: middle;\n",
       "    }\n",
       "\n",
       "    .dataframe tbody tr th {\n",
       "        vertical-align: top;\n",
       "    }\n",
       "\n",
       "    .dataframe thead th {\n",
       "        text-align: right;\n",
       "    }\n",
       "</style>\n",
       "<table border=\"1\" class=\"dataframe\">\n",
       "  <thead>\n",
       "    <tr style=\"text-align: right;\">\n",
       "      <th></th>\n",
       "      <th>age</th>\n",
       "      <th>hypertension</th>\n",
       "      <th>heart_disease</th>\n",
       "      <th>avg_glucose_level</th>\n",
       "      <th>0</th>\n",
       "      <th>1</th>\n",
       "      <th>probs</th>\n",
       "      <th>stroke</th>\n",
       "    </tr>\n",
       "  </thead>\n",
       "  <tbody>\n",
       "    <tr>\n",
       "      <th>39</th>\n",
       "      <td>0.255156</td>\n",
       "      <td>0</td>\n",
       "      <td>0</td>\n",
       "      <td>-0.998794</td>\n",
       "      <td>-0.431119</td>\n",
       "      <td>-0.112990</td>\n",
       "      <td>[0.9808319627246203, 0.01916803727537975]</td>\n",
       "      <td>1</td>\n",
       "    </tr>\n",
       "    <tr>\n",
       "      <th>113</th>\n",
       "      <td>0.078272</td>\n",
       "      <td>0</td>\n",
       "      <td>0</td>\n",
       "      <td>2.604827</td>\n",
       "      <td>-0.518323</td>\n",
       "      <td>-0.309326</td>\n",
       "      <td>[0.9755911973138488, 0.02440880268615117]</td>\n",
       "      <td>1</td>\n",
       "    </tr>\n",
       "    <tr>\n",
       "      <th>94</th>\n",
       "      <td>0.078272</td>\n",
       "      <td>0</td>\n",
       "      <td>0</td>\n",
       "      <td>-0.927468</td>\n",
       "      <td>-0.294594</td>\n",
       "      <td>-0.023135</td>\n",
       "      <td>[0.9888252229804054, 0.011174777019594687]</td>\n",
       "      <td>1</td>\n",
       "    </tr>\n",
       "  </tbody>\n",
       "</table>\n",
       "</div>"
      ],
      "text/plain": [
       "          age  hypertension  heart_disease  avg_glucose_level         0  \\\n",
       "39   0.255156             0              0          -0.998794 -0.431119   \n",
       "113  0.078272             0              0           2.604827 -0.518323   \n",
       "94   0.078272             0              0          -0.927468 -0.294594   \n",
       "\n",
       "            1                                       probs  stroke  \n",
       "39  -0.112990   [0.9808319627246203, 0.01916803727537975]       1  \n",
       "113 -0.309326   [0.9755911973138488, 0.02440880268615117]       1  \n",
       "94  -0.023135  [0.9888252229804054, 0.011174777019594687]       1  "
      ]
     },
     "execution_count": 53,
     "metadata": {},
     "output_type": "execute_result"
    }
   ],
   "source": [
    "check[(check['stroke'] != y_pred) & (check['stroke'] == 1)]"
   ]
  },
  {
   "cell_type": "code",
   "execution_count": 54,
   "metadata": {},
   "outputs": [
    {
     "data": {
      "text/html": [
       "<div>\n",
       "<style scoped>\n",
       "    .dataframe tbody tr th:only-of-type {\n",
       "        vertical-align: middle;\n",
       "    }\n",
       "\n",
       "    .dataframe tbody tr th {\n",
       "        vertical-align: top;\n",
       "    }\n",
       "\n",
       "    .dataframe thead th {\n",
       "        text-align: right;\n",
       "    }\n",
       "</style>\n",
       "<table border=\"1\" class=\"dataframe\">\n",
       "  <thead>\n",
       "    <tr style=\"text-align: right;\">\n",
       "      <th></th>\n",
       "      <th>age</th>\n",
       "      <th>hypertension</th>\n",
       "      <th>heart_disease</th>\n",
       "      <th>avg_glucose_level</th>\n",
       "      <th>0</th>\n",
       "      <th>1</th>\n",
       "      <th>probs</th>\n",
       "      <th>stroke</th>\n",
       "    </tr>\n",
       "  </thead>\n",
       "  <tbody>\n",
       "    <tr>\n",
       "      <th>63</th>\n",
       "      <td>0.078272</td>\n",
       "      <td>0</td>\n",
       "      <td>0</td>\n",
       "      <td>-0.274272</td>\n",
       "      <td>-0.392520</td>\n",
       "      <td>-0.303792</td>\n",
       "      <td>[0.9364542229709941, 0.06354577702900584]</td>\n",
       "      <td>1</td>\n",
       "    </tr>\n",
       "    <tr>\n",
       "      <th>64</th>\n",
       "      <td>1.404904</td>\n",
       "      <td>0</td>\n",
       "      <td>0</td>\n",
       "      <td>-0.031366</td>\n",
       "      <td>-0.118916</td>\n",
       "      <td>-0.455515</td>\n",
       "      <td>[0.8063840743208915, 0.19361592567910854]</td>\n",
       "      <td>1</td>\n",
       "    </tr>\n",
       "    <tr>\n",
       "      <th>171</th>\n",
       "      <td>1.581788</td>\n",
       "      <td>1</td>\n",
       "      <td>1</td>\n",
       "      <td>-0.998132</td>\n",
       "      <td>-0.463170</td>\n",
       "      <td>-0.960737</td>\n",
       "      <td>[0.7952701306473775, 0.2047298693526227]</td>\n",
       "      <td>1</td>\n",
       "    </tr>\n",
       "    <tr>\n",
       "      <th>40</th>\n",
       "      <td>1.537567</td>\n",
       "      <td>0</td>\n",
       "      <td>0</td>\n",
       "      <td>-0.620744</td>\n",
       "      <td>-0.283592</td>\n",
       "      <td>-0.328852</td>\n",
       "      <td>[0.8568918117286255, 0.14310818827137467]</td>\n",
       "      <td>1</td>\n",
       "    </tr>\n",
       "    <tr>\n",
       "      <th>76</th>\n",
       "      <td>1.626009</td>\n",
       "      <td>1</td>\n",
       "      <td>0</td>\n",
       "      <td>2.957924</td>\n",
       "      <td>-0.525775</td>\n",
       "      <td>-0.798697</td>\n",
       "      <td>[0.7935577793265446, 0.20644222067345525]</td>\n",
       "      <td>1</td>\n",
       "    </tr>\n",
       "    <tr>\n",
       "      <th>...</th>\n",
       "      <td>...</td>\n",
       "      <td>...</td>\n",
       "      <td>...</td>\n",
       "      <td>...</td>\n",
       "      <td>...</td>\n",
       "      <td>...</td>\n",
       "      <td>...</td>\n",
       "      <td>...</td>\n",
       "    </tr>\n",
       "    <tr>\n",
       "      <th>67</th>\n",
       "      <td>1.449125</td>\n",
       "      <td>0</td>\n",
       "      <td>0</td>\n",
       "      <td>-0.036886</td>\n",
       "      <td>0.044077</td>\n",
       "      <td>-0.272096</td>\n",
       "      <td>[0.9047051434681642, 0.09529485653183564]</td>\n",
       "      <td>1</td>\n",
       "    </tr>\n",
       "    <tr>\n",
       "      <th>187</th>\n",
       "      <td>1.714451</td>\n",
       "      <td>1</td>\n",
       "      <td>1</td>\n",
       "      <td>2.424635</td>\n",
       "      <td>-0.675378</td>\n",
       "      <td>-1.348888</td>\n",
       "      <td>[0.8260906339017302, 0.1739093660982697]</td>\n",
       "      <td>1</td>\n",
       "    </tr>\n",
       "    <tr>\n",
       "      <th>148</th>\n",
       "      <td>0.608925</td>\n",
       "      <td>1</td>\n",
       "      <td>0</td>\n",
       "      <td>-0.855259</td>\n",
       "      <td>-0.456590</td>\n",
       "      <td>-0.449141</td>\n",
       "      <td>[0.8943621673890453, 0.10563783261095484]</td>\n",
       "      <td>1</td>\n",
       "    </tr>\n",
       "    <tr>\n",
       "      <th>81</th>\n",
       "      <td>1.006914</td>\n",
       "      <td>0</td>\n",
       "      <td>0</td>\n",
       "      <td>-0.103575</td>\n",
       "      <td>-0.221026</td>\n",
       "      <td>-0.945344</td>\n",
       "      <td>[0.46804801319891437, 0.5319519868010856]</td>\n",
       "      <td>1</td>\n",
       "    </tr>\n",
       "    <tr>\n",
       "      <th>151</th>\n",
       "      <td>1.095356</td>\n",
       "      <td>0</td>\n",
       "      <td>1</td>\n",
       "      <td>2.598865</td>\n",
       "      <td>-0.560710</td>\n",
       "      <td>-1.118698</td>\n",
       "      <td>[0.7534462723027683, 0.24655372769723183]</td>\n",
       "      <td>1</td>\n",
       "    </tr>\n",
       "  </tbody>\n",
       "</table>\n",
       "<p>89 rows × 8 columns</p>\n",
       "</div>"
      ],
      "text/plain": [
       "          age  hypertension  heart_disease  avg_glucose_level         0  \\\n",
       "63   0.078272             0              0          -0.274272 -0.392520   \n",
       "64   1.404904             0              0          -0.031366 -0.118916   \n",
       "171  1.581788             1              1          -0.998132 -0.463170   \n",
       "40   1.537567             0              0          -0.620744 -0.283592   \n",
       "76   1.626009             1              0           2.957924 -0.525775   \n",
       "..        ...           ...            ...                ...       ...   \n",
       "67   1.449125             0              0          -0.036886  0.044077   \n",
       "187  1.714451             1              1           2.424635 -0.675378   \n",
       "148  0.608925             1              0          -0.855259 -0.456590   \n",
       "81   1.006914             0              0          -0.103575 -0.221026   \n",
       "151  1.095356             0              1           2.598865 -0.560710   \n",
       "\n",
       "            1                                      probs  stroke  \n",
       "63  -0.303792  [0.9364542229709941, 0.06354577702900584]       1  \n",
       "64  -0.455515  [0.8063840743208915, 0.19361592567910854]       1  \n",
       "171 -0.960737   [0.7952701306473775, 0.2047298693526227]       1  \n",
       "40  -0.328852  [0.8568918117286255, 0.14310818827137467]       1  \n",
       "76  -0.798697  [0.7935577793265446, 0.20644222067345525]       1  \n",
       "..        ...                                        ...     ...  \n",
       "67  -0.272096  [0.9047051434681642, 0.09529485653183564]       1  \n",
       "187 -1.348888   [0.8260906339017302, 0.1739093660982697]       1  \n",
       "148 -0.449141  [0.8943621673890453, 0.10563783261095484]       1  \n",
       "81  -0.945344  [0.46804801319891437, 0.5319519868010856]       1  \n",
       "151 -1.118698  [0.7534462723027683, 0.24655372769723183]       1  \n",
       "\n",
       "[89 rows x 8 columns]"
      ]
     },
     "execution_count": 54,
     "metadata": {},
     "output_type": "execute_result"
    }
   ],
   "source": [
    "check[(check['stroke'] == y_pred) & (check['stroke'] == 1) & (check['age'] < 60)]"
   ]
  },
  {
   "cell_type": "code",
   "execution_count": null,
   "metadata": {},
   "outputs": [],
   "source": []
  }
 ],
 "metadata": {
  "kernelspec": {
   "display_name": "Python 3",
   "language": "python",
   "name": "python3"
  },
  "language_info": {
   "codemirror_mode": {
    "name": "ipython",
    "version": 3
   },
   "file_extension": ".py",
   "mimetype": "text/x-python",
   "name": "python",
   "nbconvert_exporter": "python",
   "pygments_lexer": "ipython3",
   "version": "3.8.5"
  }
 },
 "nbformat": 4,
 "nbformat_minor": 4
}
