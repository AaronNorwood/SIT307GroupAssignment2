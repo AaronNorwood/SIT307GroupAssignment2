{
 "cells": [
  {
   "cell_type": "markdown",
   "metadata": {},
   "source": [
    "<h1>SIT307 Group Assignment 2 notebook - Feature Selection</h1>"
   ]
  },
  {
   "cell_type": "markdown",
   "metadata": {},
   "source": [
    "<h3>Group 3</h3>\n",
    "    Prepared by Roger Middenway, 217602784"
   ]
  },
  {
   "cell_type": "markdown",
   "metadata": {},
   "source": [
    "# Imported libraries"
   ]
  },
  {
   "cell_type": "code",
   "execution_count": 1,
   "metadata": {},
   "outputs": [],
   "source": [
    "import matplotlib.pyplot as plt\n",
    "import numpy as np\n",
    "import pandas as pd\n",
    "import seaborn as sns\n",
    "import math\n",
    "from scipy import stats\n",
    "# import plotly.express as px\n",
    "%matplotlib inline\n",
    "\n",
    "from sklearn.metrics import cohen_kappa_score, roc_curve, f1_score, make_scorer"
   ]
  },
  {
   "cell_type": "markdown",
   "metadata": {},
   "source": [
    "<h3> Preparing the dataframe"
   ]
  },
  {
   "cell_type": "code",
   "execution_count": 2,
   "metadata": {},
   "outputs": [],
   "source": [
    "df = pd.read_csv('./data/healthcare-dataset-stroke-data.csv')"
   ]
  },
  {
   "cell_type": "markdown",
   "metadata": {
    "tags": []
   },
   "source": [
    "<h4>Tidying"
   ]
  },
  {
   "cell_type": "code",
   "execution_count": 3,
   "metadata": {},
   "outputs": [],
   "source": [
    "##convert gender to lowercase\n",
    "df['gender'] = df['gender'].apply(lambda x: x.lower())\n",
    "\n",
    "# print(len(df[df['gender'] == 'other']))\n",
    "## drop the one row that has \"other\" gender to keep things simple\n",
    "df.drop(index=df[df['gender'] == 'other'].index, inplace=True)\n",
    "\n",
    "##convert work_type to lowercase ensure consistent spacing \n",
    "df['work_type'] = df['work_type'].apply(lambda x: x.lower().replace('_','-'))\n",
    "\n",
    "##convert residence_type to lowercase\n",
    "df.rename(columns={'Residence_type':'residence_type'}, inplace=True)\n",
    "df['residence_type'] = df['residence_type'].apply(lambda x: x.lower())\n",
    "\n",
    "##convert smoking_status to lowercase ensure consistent spacing \n",
    "df['smoking_status'] = df['smoking_status'].apply(lambda x: x.lower().replace(' ', '-'))\n",
    "\n",
    "## round off age\n",
    "df['age'] = df['age'].apply(lambda x : round(x))\n",
    "\n",
    "# cap BMI outliers to a maximum of 60 \n",
    "df['bmi'] = df['bmi'].apply(lambda bmi_value: bmi_value if 12 < bmi_value < 60 else np.nan)"
   ]
  },
  {
   "cell_type": "markdown",
   "metadata": {},
   "source": [
    "<h4>Imputing"
   ]
  },
  {
   "cell_type": "code",
   "execution_count": 4,
   "metadata": {},
   "outputs": [],
   "source": [
    "m_df = df[df['gender'] == 'male']\n",
    "f_df = df[df['gender'] == 'female']\n",
    "\n",
    "m_bmi_avg = m_df.groupby('age')['bmi'].mean()\n",
    "f_bmi_avg = f_df.groupby('age')['bmi'].mean()\n",
    "##round to one to fit with other bmi values\n",
    "m_bmi_avg = round(m_bmi_avg,1)\n",
    "f_bmi_avg = round(f_bmi_avg,1)\n",
    "\n",
    "missing_vals = df[df.isnull().any(axis = 1)]\n",
    "\n",
    "for index, row in missing_vals.iterrows():\n",
    "    if row['gender'] == 'male':\n",
    "        df.loc[index,['bmi']] = m_bmi_avg[row['age']]\n",
    "    else:\n",
    "        df.loc[index,['bmi']] = f_bmi_avg[row['age']]"
   ]
  },
  {
   "cell_type": "code",
   "execution_count": 5,
   "metadata": {},
   "outputs": [],
   "source": [
    "residence_type_map = {\n",
    "    'urban':0,\n",
    "    'rural':1\n",
    "}\n",
    "df['residence_type'] = df['residence_type'].map(residence_type_map)\n",
    "# replace marital status with binary values\n",
    "df['ever_married'] = df['ever_married'].str.lower().map({'yes': 1, 'no': 0})\n",
    "# replace gender with binary values\n",
    "df['gender'] = df['gender'].str.lower().map({'male': 1, 'female': 0})"
   ]
  },
  {
   "cell_type": "markdown",
   "metadata": {},
   "source": [
    "<h4>Binning"
   ]
  },
  {
   "cell_type": "code",
   "execution_count": 6,
   "metadata": {},
   "outputs": [],
   "source": [
    "# implement age bins\n",
    "df['age_bin'] = pd.qcut(df['age'], q = 10, precision=1)\n",
    "\n",
    "# implement glucose bins\n",
    "df['avg_glucose_level_bin'] = pd.qcut(df['avg_glucose_level'], q=10, precision=1)\n",
    "\n",
    "# implement bmi bins\n",
    "df['bmi_bin'] = pd.qcut(df['bmi'], q=10, precision=1)"
   ]
  },
  {
   "cell_type": "code",
   "execution_count": 7,
   "metadata": {},
   "outputs": [
    {
     "data": {
      "text/html": [
       "<div>\n",
       "<style scoped>\n",
       "    .dataframe tbody tr th:only-of-type {\n",
       "        vertical-align: middle;\n",
       "    }\n",
       "\n",
       "    .dataframe tbody tr th {\n",
       "        vertical-align: top;\n",
       "    }\n",
       "\n",
       "    .dataframe thead th {\n",
       "        text-align: right;\n",
       "    }\n",
       "</style>\n",
       "<table border=\"1\" class=\"dataframe\">\n",
       "  <thead>\n",
       "    <tr style=\"text-align: right;\">\n",
       "      <th></th>\n",
       "      <th>id</th>\n",
       "      <th>gender</th>\n",
       "      <th>age</th>\n",
       "      <th>hypertension</th>\n",
       "      <th>heart_disease</th>\n",
       "      <th>ever_married</th>\n",
       "      <th>work_type</th>\n",
       "      <th>residence_type</th>\n",
       "      <th>avg_glucose_level</th>\n",
       "      <th>bmi</th>\n",
       "      <th>smoking_status</th>\n",
       "      <th>stroke</th>\n",
       "      <th>age_bin</th>\n",
       "      <th>avg_glucose_level_bin</th>\n",
       "      <th>bmi_bin</th>\n",
       "    </tr>\n",
       "  </thead>\n",
       "  <tbody>\n",
       "    <tr>\n",
       "      <th>0</th>\n",
       "      <td>9046</td>\n",
       "      <td>1</td>\n",
       "      <td>67</td>\n",
       "      <td>0</td>\n",
       "      <td>1</td>\n",
       "      <td>1</td>\n",
       "      <td>private</td>\n",
       "      <td>0</td>\n",
       "      <td>228.69</td>\n",
       "      <td>36.6</td>\n",
       "      <td>formerly-smoked</td>\n",
       "      <td>1</td>\n",
       "      <td>(65.0, 75.0]</td>\n",
       "      <td>(192.2, 271.7]</td>\n",
       "      <td>(34.2, 38.6]</td>\n",
       "    </tr>\n",
       "    <tr>\n",
       "      <th>1</th>\n",
       "      <td>51676</td>\n",
       "      <td>0</td>\n",
       "      <td>61</td>\n",
       "      <td>0</td>\n",
       "      <td>0</td>\n",
       "      <td>1</td>\n",
       "      <td>self-employed</td>\n",
       "      <td>1</td>\n",
       "      <td>202.21</td>\n",
       "      <td>29.1</td>\n",
       "      <td>never-smoked</td>\n",
       "      <td>1</td>\n",
       "      <td>(57.0, 65.0]</td>\n",
       "      <td>(192.2, 271.7]</td>\n",
       "      <td>(28.2, 29.9]</td>\n",
       "    </tr>\n",
       "    <tr>\n",
       "      <th>2</th>\n",
       "      <td>31112</td>\n",
       "      <td>1</td>\n",
       "      <td>80</td>\n",
       "      <td>0</td>\n",
       "      <td>1</td>\n",
       "      <td>1</td>\n",
       "      <td>private</td>\n",
       "      <td>1</td>\n",
       "      <td>105.92</td>\n",
       "      <td>32.5</td>\n",
       "      <td>never-smoked</td>\n",
       "      <td>1</td>\n",
       "      <td>(75.0, 82.0]</td>\n",
       "      <td>(98.9, 108.5]</td>\n",
       "      <td>(31.8, 34.2]</td>\n",
       "    </tr>\n",
       "    <tr>\n",
       "      <th>3</th>\n",
       "      <td>60182</td>\n",
       "      <td>0</td>\n",
       "      <td>49</td>\n",
       "      <td>0</td>\n",
       "      <td>0</td>\n",
       "      <td>1</td>\n",
       "      <td>private</td>\n",
       "      <td>0</td>\n",
       "      <td>171.23</td>\n",
       "      <td>34.4</td>\n",
       "      <td>smokes</td>\n",
       "      <td>1</td>\n",
       "      <td>(45.0, 51.0]</td>\n",
       "      <td>(124.1, 192.2]</td>\n",
       "      <td>(34.2, 38.6]</td>\n",
       "    </tr>\n",
       "    <tr>\n",
       "      <th>4</th>\n",
       "      <td>1665</td>\n",
       "      <td>0</td>\n",
       "      <td>79</td>\n",
       "      <td>1</td>\n",
       "      <td>0</td>\n",
       "      <td>1</td>\n",
       "      <td>self-employed</td>\n",
       "      <td>1</td>\n",
       "      <td>174.12</td>\n",
       "      <td>24.0</td>\n",
       "      <td>never-smoked</td>\n",
       "      <td>1</td>\n",
       "      <td>(75.0, 82.0]</td>\n",
       "      <td>(124.1, 192.2]</td>\n",
       "      <td>(22.6, 24.7]</td>\n",
       "    </tr>\n",
       "  </tbody>\n",
       "</table>\n",
       "</div>"
      ],
      "text/plain": [
       "      id  gender  age  hypertension  heart_disease  ever_married  \\\n",
       "0   9046       1   67             0              1             1   \n",
       "1  51676       0   61             0              0             1   \n",
       "2  31112       1   80             0              1             1   \n",
       "3  60182       0   49             0              0             1   \n",
       "4   1665       0   79             1              0             1   \n",
       "\n",
       "       work_type  residence_type  avg_glucose_level   bmi   smoking_status  \\\n",
       "0        private               0             228.69  36.6  formerly-smoked   \n",
       "1  self-employed               1             202.21  29.1     never-smoked   \n",
       "2        private               1             105.92  32.5     never-smoked   \n",
       "3        private               0             171.23  34.4           smokes   \n",
       "4  self-employed               1             174.12  24.0     never-smoked   \n",
       "\n",
       "   stroke       age_bin avg_glucose_level_bin       bmi_bin  \n",
       "0       1  (65.0, 75.0]        (192.2, 271.7]  (34.2, 38.6]  \n",
       "1       1  (57.0, 65.0]        (192.2, 271.7]  (28.2, 29.9]  \n",
       "2       1  (75.0, 82.0]         (98.9, 108.5]  (31.8, 34.2]  \n",
       "3       1  (45.0, 51.0]        (124.1, 192.2]  (34.2, 38.6]  \n",
       "4       1  (75.0, 82.0]        (124.1, 192.2]  (22.6, 24.7]  "
      ]
     },
     "execution_count": 7,
     "metadata": {},
     "output_type": "execute_result"
    }
   ],
   "source": [
    "df.head()"
   ]
  },
  {
   "cell_type": "markdown",
   "metadata": {},
   "source": [
    "## Dummy dataset creation\n",
    "SVM requires categorical attributes to be number encoded if they're ordinal, or dummy encoded if they aren't. That means smoking_status and work_type must be dummy encoded. As a starting point for feature selection, i dummy encoded all features."
   ]
  },
  {
   "cell_type": "code",
   "execution_count": 8,
   "metadata": {},
   "outputs": [],
   "source": [
    "def add_dummy(target_df, origin_df, col):\n",
    "    abbrev = col[:2] + '_'\n",
    "    for cat in origin_df[col].value_counts().index.tolist()[1:]:\n",
    "        target_df[abbrev + str(cat)] = origin_df[col] == cat\n",
    "        target_df[abbrev + str(cat)] = target_df[abbrev + str(cat)].map({False: 0, True: 1})\n"
   ]
  },
  {
   "cell_type": "code",
   "execution_count": 9,
   "metadata": {},
   "outputs": [],
   "source": [
    "df_dummies = pd.DataFrame(index=df.index)\n",
    "\n",
    "add_dummy(df_dummies, df, 'work_type')\n",
    "add_dummy(df_dummies, df, 'smoking_status')\n",
    "add_dummy(df_dummies, df, 'age_bin')\n",
    "add_dummy(df_dummies, df, 'avg_glucose_level_bin')\n",
    "add_dummy(df_dummies, df, 'bmi_bin')"
   ]
  },
  {
   "cell_type": "code",
   "execution_count": 10,
   "metadata": {},
   "outputs": [],
   "source": [
    "to_add = ['gender', 'hypertension', 'heart_disease', 'ever_married', 'residence_type', 'stroke']\n",
    "df_dummies[to_add] = df[to_add]"
   ]
  },
  {
   "cell_type": "code",
   "execution_count": 11,
   "metadata": {},
   "outputs": [
    {
     "data": {
      "text/html": [
       "<div>\n",
       "<style scoped>\n",
       "    .dataframe tbody tr th:only-of-type {\n",
       "        vertical-align: middle;\n",
       "    }\n",
       "\n",
       "    .dataframe tbody tr th {\n",
       "        vertical-align: top;\n",
       "    }\n",
       "\n",
       "    .dataframe thead th {\n",
       "        text-align: right;\n",
       "    }\n",
       "</style>\n",
       "<table border=\"1\" class=\"dataframe\">\n",
       "  <thead>\n",
       "    <tr style=\"text-align: right;\">\n",
       "      <th></th>\n",
       "      <th>wo_self-employed</th>\n",
       "      <th>wo_children</th>\n",
       "      <th>wo_govt-job</th>\n",
       "      <th>wo_never-worked</th>\n",
       "      <th>sm_unknown</th>\n",
       "      <th>sm_formerly-smoked</th>\n",
       "      <th>sm_smokes</th>\n",
       "      <th>ag_(20.0, 30.0]</th>\n",
       "      <th>ag_(-0.1, 11.0]</th>\n",
       "      <th>ag_(30.0, 38.0]</th>\n",
       "      <th>...</th>\n",
       "      <th>bm_(38.6, 59.7]</th>\n",
       "      <th>bm_(26.6, 28.2]</th>\n",
       "      <th>bm_(19.8, 22.6]</th>\n",
       "      <th>bm_(31.8, 34.2]</th>\n",
       "      <th>gender</th>\n",
       "      <th>hypertension</th>\n",
       "      <th>heart_disease</th>\n",
       "      <th>ever_married</th>\n",
       "      <th>residence_type</th>\n",
       "      <th>stroke</th>\n",
       "    </tr>\n",
       "  </thead>\n",
       "  <tbody>\n",
       "    <tr>\n",
       "      <th>0</th>\n",
       "      <td>0</td>\n",
       "      <td>0</td>\n",
       "      <td>0</td>\n",
       "      <td>0</td>\n",
       "      <td>0</td>\n",
       "      <td>1</td>\n",
       "      <td>0</td>\n",
       "      <td>0</td>\n",
       "      <td>0</td>\n",
       "      <td>0</td>\n",
       "      <td>...</td>\n",
       "      <td>0</td>\n",
       "      <td>0</td>\n",
       "      <td>0</td>\n",
       "      <td>0</td>\n",
       "      <td>1</td>\n",
       "      <td>0</td>\n",
       "      <td>1</td>\n",
       "      <td>1</td>\n",
       "      <td>0</td>\n",
       "      <td>1</td>\n",
       "    </tr>\n",
       "    <tr>\n",
       "      <th>1</th>\n",
       "      <td>1</td>\n",
       "      <td>0</td>\n",
       "      <td>0</td>\n",
       "      <td>0</td>\n",
       "      <td>0</td>\n",
       "      <td>0</td>\n",
       "      <td>0</td>\n",
       "      <td>0</td>\n",
       "      <td>0</td>\n",
       "      <td>0</td>\n",
       "      <td>...</td>\n",
       "      <td>0</td>\n",
       "      <td>0</td>\n",
       "      <td>0</td>\n",
       "      <td>0</td>\n",
       "      <td>0</td>\n",
       "      <td>0</td>\n",
       "      <td>0</td>\n",
       "      <td>1</td>\n",
       "      <td>1</td>\n",
       "      <td>1</td>\n",
       "    </tr>\n",
       "    <tr>\n",
       "      <th>2</th>\n",
       "      <td>0</td>\n",
       "      <td>0</td>\n",
       "      <td>0</td>\n",
       "      <td>0</td>\n",
       "      <td>0</td>\n",
       "      <td>0</td>\n",
       "      <td>0</td>\n",
       "      <td>0</td>\n",
       "      <td>0</td>\n",
       "      <td>0</td>\n",
       "      <td>...</td>\n",
       "      <td>0</td>\n",
       "      <td>0</td>\n",
       "      <td>0</td>\n",
       "      <td>1</td>\n",
       "      <td>1</td>\n",
       "      <td>0</td>\n",
       "      <td>1</td>\n",
       "      <td>1</td>\n",
       "      <td>1</td>\n",
       "      <td>1</td>\n",
       "    </tr>\n",
       "    <tr>\n",
       "      <th>3</th>\n",
       "      <td>0</td>\n",
       "      <td>0</td>\n",
       "      <td>0</td>\n",
       "      <td>0</td>\n",
       "      <td>0</td>\n",
       "      <td>0</td>\n",
       "      <td>1</td>\n",
       "      <td>0</td>\n",
       "      <td>0</td>\n",
       "      <td>0</td>\n",
       "      <td>...</td>\n",
       "      <td>0</td>\n",
       "      <td>0</td>\n",
       "      <td>0</td>\n",
       "      <td>0</td>\n",
       "      <td>0</td>\n",
       "      <td>0</td>\n",
       "      <td>0</td>\n",
       "      <td>1</td>\n",
       "      <td>0</td>\n",
       "      <td>1</td>\n",
       "    </tr>\n",
       "    <tr>\n",
       "      <th>4</th>\n",
       "      <td>1</td>\n",
       "      <td>0</td>\n",
       "      <td>0</td>\n",
       "      <td>0</td>\n",
       "      <td>0</td>\n",
       "      <td>0</td>\n",
       "      <td>0</td>\n",
       "      <td>0</td>\n",
       "      <td>0</td>\n",
       "      <td>0</td>\n",
       "      <td>...</td>\n",
       "      <td>0</td>\n",
       "      <td>0</td>\n",
       "      <td>0</td>\n",
       "      <td>0</td>\n",
       "      <td>0</td>\n",
       "      <td>1</td>\n",
       "      <td>0</td>\n",
       "      <td>1</td>\n",
       "      <td>1</td>\n",
       "      <td>1</td>\n",
       "    </tr>\n",
       "  </tbody>\n",
       "</table>\n",
       "<p>5 rows × 40 columns</p>\n",
       "</div>"
      ],
      "text/plain": [
       "   wo_self-employed  wo_children  wo_govt-job  wo_never-worked  sm_unknown  \\\n",
       "0                 0            0            0                0           0   \n",
       "1                 1            0            0                0           0   \n",
       "2                 0            0            0                0           0   \n",
       "3                 0            0            0                0           0   \n",
       "4                 1            0            0                0           0   \n",
       "\n",
       "   sm_formerly-smoked  sm_smokes  ag_(20.0, 30.0]  ag_(-0.1, 11.0]  \\\n",
       "0                   1          0                0                0   \n",
       "1                   0          0                0                0   \n",
       "2                   0          0                0                0   \n",
       "3                   0          1                0                0   \n",
       "4                   0          0                0                0   \n",
       "\n",
       "   ag_(30.0, 38.0]  ...  bm_(38.6, 59.7]  bm_(26.6, 28.2]  bm_(19.8, 22.6]  \\\n",
       "0                0  ...                0                0                0   \n",
       "1                0  ...                0                0                0   \n",
       "2                0  ...                0                0                0   \n",
       "3                0  ...                0                0                0   \n",
       "4                0  ...                0                0                0   \n",
       "\n",
       "   bm_(31.8, 34.2]  gender  hypertension  heart_disease  ever_married  \\\n",
       "0                0       1             0              1             1   \n",
       "1                0       0             0              0             1   \n",
       "2                1       1             0              1             1   \n",
       "3                0       0             0              0             1   \n",
       "4                0       0             1              0             1   \n",
       "\n",
       "   residence_type  stroke  \n",
       "0               0       1  \n",
       "1               1       1  \n",
       "2               1       1  \n",
       "3               0       1  \n",
       "4               1       1  \n",
       "\n",
       "[5 rows x 40 columns]"
      ]
     },
     "execution_count": 11,
     "metadata": {},
     "output_type": "execute_result"
    }
   ],
   "source": [
    "df_dummies.head()"
   ]
  },
  {
   "cell_type": "markdown",
   "metadata": {},
   "source": [
    "## Preparing model for testing"
   ]
  },
  {
   "cell_type": "code",
   "execution_count": 12,
   "metadata": {},
   "outputs": [],
   "source": [
    "from sklearn.svm import SVC\n",
    "from sklearn.metrics import confusion_matrix, classification_report, plot_confusion_matrix\n",
    "import numpy as np\n",
    "from sklearn.model_selection import train_test_split, StratifiedKFold, KFold, RepeatedStratifiedKFold, cross_val_score, cross_validate\n",
    "from IPython.display import clear_output\n",
    "from sklearn.preprocessing import StandardScaler, MinMaxScaler"
   ]
  },
  {
   "cell_type": "code",
   "execution_count": 13,
   "metadata": {},
   "outputs": [],
   "source": [
    "master_scores = {}\n",
    "weights = {0:0.05, 1:1.0}\n",
    "# model = SVC(gamma='scale', class_weight=weights)\n",
    "metrics = ['f1', 'recall', 'roc_auc']"
   ]
  },
  {
   "cell_type": "code",
   "execution_count": 14,
   "metadata": {},
   "outputs": [],
   "source": [
    "def test_feature_set(df, master_scores, description, model=SVC(gamma='scale', class_weight=weights)):\n",
    "    X = df.drop('stroke', axis=1)\n",
    "    y = df['stroke']\n",
    "    X_train, X_test, y_train, y_test = train_test_split(X, y, test_size=0.33, random_state=82)\n",
    "\n",
    "    model.fit(X_train, y_train)\n",
    "\n",
    "    y_true = y_test\n",
    "    y_pred = model.predict(X_test)\n",
    "    \n",
    "    plot_confusion_matrix(model, X_test, y_test)\n",
    "    print(classification_report(y_test, y_pred))\n",
    "    \n",
    "    cv = RepeatedStratifiedKFold(n_splits=5, n_repeats=10, random_state=1)\n",
    "\n",
    "    scores = cross_validate(model, X, y, scoring=['f1', 'recall', 'roc_auc'], cv=cv, n_jobs=-1)\n",
    "    \n",
    "    f1 = scores['test_f1'].mean()\n",
    "    recall = scores['test_recall'].mean()\n",
    "    roc = scores['test_roc_auc'].mean()\n",
    "    \n",
    "#     master_scores.append({description: (f1, recall, roc)})\n",
    "    master_scores[description] = (f1, recall, roc)\n",
    "    \n",
    "    print(f'Mean f1: {f1}\\nMean recall: {recall}\\nMean roc: {roc}')"
   ]
  },
  {
   "cell_type": "markdown",
   "metadata": {},
   "source": [
    "## Testing the base dummy encoded dataset"
   ]
  },
  {
   "cell_type": "code",
   "execution_count": 15,
   "metadata": {},
   "outputs": [
    {
     "name": "stdout",
     "output_type": "stream",
     "text": [
<<<<<<< HEAD
      "Score: 0.650 - top score is 0.818\n"
     ]
    }
   ],
   "source": [
    "scoreses = []\n",
    "parameses = []\n",
    "top_score = 0\n",
    "top_params = {}\n",
    "\n",
    "weights = [0.001,0.01,0.05, 0.1, 0.25, 0.5, 1, 2, 5]\n",
    "splits = [2, 3, 5, 7, 10]\n",
    "repeats = 5\n",
    "\n",
    "\n",
    "mean_roc = 'roc_auc'\n",
    "\n",
    "for a in weights:\n",
    "    for b in weights:\n",
    "        for c in splits:\n",
    "            scores = run_svm(X, y, a, b, c, repeats, mean_roc)\n",
    "            perf = np.mean(scores)\n",
    "            params = {'w1': a, 'w2': b, 'splits': c, 'score': perf}\n",
    "            clear_output(wait=True)\n",
    "            if perf > top_score:\n",
    "                top_score = perf\n",
    "                top_params = params\n",
    "                print(f'Score: {perf:.3f} - new best')\n",
    "            else:\n",
    "                print(f'Score: {perf:.3f} - top score is {top_score:.3f}')\n",
    "            scoreses.append(scores)\n",
    "            parameses.append(params)"
   ]
  },
  {
   "cell_type": "code",
   "execution_count": 15,
   "metadata": {},
   "outputs": [
=======
      "              precision    recall  f1-score   support\n",
      "\n",
      "           0       0.98      0.77      0.87      1594\n",
      "           1       0.16      0.75      0.26        92\n",
      "\n",
      "    accuracy                           0.77      1686\n",
      "   macro avg       0.57      0.76      0.57      1686\n",
      "weighted avg       0.94      0.77      0.83      1686\n",
      "\n",
      "Mean f1: 0.23737034660528733\n",
      "Mean recall: 0.7390857142857143\n",
      "Mean roc: 0.8157886033425717\n"
     ]
    },
>>>>>>> Roger
    {
     "data": {
      "image/png": "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\n",
      "text/plain": [
       "<Figure size 432x288 with 2 Axes>"
      ]
     },
     "metadata": {
      "needs_background": "light"
     },
     "output_type": "display_data"
    }
   ],
   "source": [
    "test_feature_set(df_dummies, master_scores, 'Dummy')"
   ]
  },
  {
   "cell_type": "markdown",
   "metadata": {},
   "source": [
    "## Selecting features from the dummy encoded dataset\n",
    "Using the same dummy encoded dataset, we'll select only the features we had identified as the most significant: age, average glucose level, hypertension and heart disease"
   ]
  },
  {
   "cell_type": "code",
   "execution_count": 16,
   "metadata": {},
   "outputs": [],
   "source": [
    "selected_columns = ['ag_(20.0, 30.0]',\n",
    "       'ag_(-0.1, 11.0]', 'ag_(30.0, 38.0]', 'ag_(38.0, 45.0]',\n",
    "       'ag_(51.0, 57.0]', 'ag_(65.0, 75.0]', 'ag_(11.0, 20.0]',\n",
    "       'ag_(75.0, 82.0]', 'ag_(45.0, 51.0]', 'av_(80.0, 85.6]',\n",
    "       'av_(65.8, 73.8]', 'av_(192.2, 271.7]', 'av_(124.1, 192.2]',\n",
    "       'av_(55.0, 65.8]', 'av_(108.5, 124.1]', 'av_(91.9, 98.9]',\n",
    "       'av_(85.6, 91.9]', 'av_(73.8, 80.0]', 'hypertension', 'heart_disease', 'stroke']\n",
    "df_dummies_pruned = df_dummies[selected_columns]"
   ]
  },
  {
   "cell_type": "code",
   "execution_count": 17,
   "metadata": {},
   "outputs": [
    {
     "name": "stdout",
     "output_type": "stream",
     "text": [
      "              precision    recall  f1-score   support\n",
      "\n",
      "           0       0.98      0.78      0.87      1594\n",
      "           1       0.17      0.76      0.27        92\n",
      "\n",
      "    accuracy                           0.78      1686\n",
      "   macro avg       0.57      0.77      0.57      1686\n",
      "weighted avg       0.94      0.78      0.84      1686\n",
      "\n",
      "Mean f1: 0.22505753466093809\n",
      "Mean recall: 0.7398448979591837\n",
      "Mean roc: 0.8022604098429496\n"
     ]
    },
    {
     "data": {
<<<<<<< HEAD
      "image/png": "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\n",
=======
      "image/png": "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\n",
>>>>>>> Roger
      "text/plain": [
       "<Figure size 432x288 with 2 Axes>"
      ]
     },
     "metadata": {
      "needs_background": "light"
     },
     "output_type": "display_data"
    }
   ],
   "source": [
    "test_feature_set(df_dummies_pruned, master_scores, 'Dummy Selected')"
   ]
  },
  {
   "cell_type": "markdown",
   "metadata": {},
   "source": [
    "## Mixed type dataset\n",
    "SVM models, particularly python's SVC, are able to handle both binary and continuous data, as long as it's numerical. We will now test it with a dataset based on the identified relevant features as above, but we will change the age and avg_glucose_level features back to continuous, and normalise them using StandardScaler."
   ]
  },
  {
   "cell_type": "code",
   "execution_count": 18,
   "metadata": {},
   "outputs": [
    {
     "data": {
      "text/html": [
       "<div>\n",
       "<style scoped>\n",
       "    .dataframe tbody tr th:only-of-type {\n",
       "        vertical-align: middle;\n",
       "    }\n",
       "\n",
       "    .dataframe tbody tr th {\n",
       "        vertical-align: top;\n",
       "    }\n",
       "\n",
       "    .dataframe thead th {\n",
       "        text-align: right;\n",
       "    }\n",
       "</style>\n",
       "<table border=\"1\" class=\"dataframe\">\n",
       "  <thead>\n",
       "    <tr style=\"text-align: right;\">\n",
       "      <th></th>\n",
       "      <th>age</th>\n",
       "      <th>hypertension</th>\n",
       "      <th>heart_disease</th>\n",
       "      <th>avg_glucose_level</th>\n",
       "      <th>stroke</th>\n",
       "    </tr>\n",
       "  </thead>\n",
       "  <tbody>\n",
       "    <tr>\n",
       "      <th>0</th>\n",
       "      <td>1.051238</td>\n",
       "      <td>0</td>\n",
       "      <td>1</td>\n",
       "      <td>2.706450</td>\n",
       "      <td>1</td>\n",
       "    </tr>\n",
       "    <tr>\n",
       "      <th>1</th>\n",
       "      <td>0.785886</td>\n",
       "      <td>0</td>\n",
       "      <td>0</td>\n",
       "      <td>2.121652</td>\n",
       "      <td>1</td>\n",
       "    </tr>\n",
       "    <tr>\n",
       "      <th>2</th>\n",
       "      <td>1.626168</td>\n",
       "      <td>0</td>\n",
       "      <td>1</td>\n",
       "      <td>-0.004867</td>\n",
       "      <td>1</td>\n",
       "    </tr>\n",
       "    <tr>\n",
       "      <th>3</th>\n",
       "      <td>0.255181</td>\n",
       "      <td>0</td>\n",
       "      <td>0</td>\n",
       "      <td>1.437473</td>\n",
       "      <td>1</td>\n",
       "    </tr>\n",
       "    <tr>\n",
       "      <th>4</th>\n",
       "      <td>1.581943</td>\n",
       "      <td>1</td>\n",
       "      <td>0</td>\n",
       "      <td>1.501297</td>\n",
       "      <td>1</td>\n",
       "    </tr>\n",
       "  </tbody>\n",
       "</table>\n",
       "</div>"
      ],
      "text/plain": [
<<<<<<< HEAD
       "<sklearn.metrics._plot.confusion_matrix.ConfusionMatrixDisplay at 0x23d8124be88>"
=======
       "        age  hypertension  heart_disease  avg_glucose_level  stroke\n",
       "0  1.051238             0              1           2.706450       1\n",
       "1  0.785886             0              0           2.121652       1\n",
       "2  1.626168             0              1          -0.004867       1\n",
       "3  0.255181             0              0           1.437473       1\n",
       "4  1.581943             1              0           1.501297       1"
>>>>>>> Roger
      ]
     },
     "execution_count": 18,
     "metadata": {},
     "output_type": "execute_result"
<<<<<<< HEAD
    },
    {
     "data": {
      "image/png": "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\n",
      "text/plain": [
       "<Figure size 432x288 with 2 Axes>"
      ]
     },
     "metadata": {
      "needs_background": "light"
     },
     "output_type": "display_data"
=======
>>>>>>> Roger
    }
   ],
   "source": [
    "selected_columns = ['age', 'hypertension', 'heart_disease', 'avg_glucose_level', 'stroke']\n",
    "df_mixed = df[selected_columns]\n",
    "df_mixed_norm = df_mixed.copy(deep=True)\n",
    "\n",
    "scaler = StandardScaler()\n",
    "df_mixed_norm[['age', 'avg_glucose_level']] = scaler.fit_transform(df_mixed[['age', 'avg_glucose_level']])\n",
    "df_mixed_norm.head()"
   ]
  },
  {
   "cell_type": "code",
   "execution_count": 19,
   "metadata": {},
   "outputs": [
    {
     "name": "stdout",
     "output_type": "stream",
     "text": [
      "              precision    recall  f1-score   support\n",
      "\n",
      "           0       0.99      0.74      0.84      1594\n",
      "           1       0.15      0.82      0.26        92\n",
      "\n",
      "    accuracy                           0.74      1686\n",
      "   macro avg       0.57      0.78      0.55      1686\n",
      "weighted avg       0.94      0.74      0.81      1686\n",
      "\n",
      "Mean f1: 0.21229246814941555\n",
      "Mean recall: 0.8197387755102039\n",
      "Mean roc: 0.8284666666666667\n"
     ]
    },
    {
     "data": {
      "image/png": "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\n",
      "text/plain": [
       "<Figure size 432x288 with 2 Axes>"
      ]
     },
     "metadata": {
      "needs_background": "light"
     },
     "output_type": "display_data"
    }
   ],
   "source": [
    "test_feature_set(df_mixed_norm, master_scores, 'Mixed Selected')"
   ]
  },
  {
   "cell_type": "markdown",
   "metadata": {},
   "source": [
    "## Feature selection based on feature importance from Naive Bayes\n",
    "This feature selection is taken from the 6 most likely and least likely dummy encoded features to be associated with the label, as found by a Naive Bayes model."
   ]
  },
  {
   "cell_type": "code",
   "execution_count": 20,
   "metadata": {},
   "outputs": [],
   "source": [
    "selected = ['ag_(75.0, 82.0]',\n",
    " 'ag_(65.0, 75.0]',\n",
    " 'av_(192.2, 271.7]',\n",
    " 'hypertension',\n",
    " 'heart_disease',\n",
    " 'av_(124.1, 192.2]',\n",
    " 'ag_(20.0, 30.0]',\n",
    " 'ag_(-0.1, 11.0]',\n",
    " 'ag_(30.0, 38.0]',\n",
    " 'ag_(38.0, 45.0]',\n",
    " 'av_(73.8, 80.0]',\n",
    " 'av_(80.0, 85.6]',\n",
    " 'stroke']"
   ]
  },
  {
   "cell_type": "code",
   "execution_count": 21,
   "metadata": {},
   "outputs": [
    {
     "data": {
      "text/html": [
       "<div>\n",
       "<style scoped>\n",
       "    .dataframe tbody tr th:only-of-type {\n",
       "        vertical-align: middle;\n",
       "    }\n",
       "\n",
       "    .dataframe tbody tr th {\n",
       "        vertical-align: top;\n",
       "    }\n",
       "\n",
       "    .dataframe thead th {\n",
       "        text-align: right;\n",
       "    }\n",
       "</style>\n",
       "<table border=\"1\" class=\"dataframe\">\n",
       "  <thead>\n",
       "    <tr style=\"text-align: right;\">\n",
       "      <th></th>\n",
       "      <th>ag_(75.0, 82.0]</th>\n",
       "      <th>ag_(65.0, 75.0]</th>\n",
       "      <th>av_(192.2, 271.7]</th>\n",
       "      <th>hypertension</th>\n",
       "      <th>heart_disease</th>\n",
       "      <th>av_(124.1, 192.2]</th>\n",
       "      <th>ag_(20.0, 30.0]</th>\n",
       "      <th>ag_(-0.1, 11.0]</th>\n",
       "      <th>ag_(30.0, 38.0]</th>\n",
       "      <th>ag_(38.0, 45.0]</th>\n",
       "      <th>av_(73.8, 80.0]</th>\n",
       "      <th>av_(80.0, 85.6]</th>\n",
       "      <th>stroke</th>\n",
       "    </tr>\n",
       "  </thead>\n",
       "  <tbody>\n",
       "    <tr>\n",
       "      <th>0</th>\n",
       "      <td>0</td>\n",
       "      <td>1</td>\n",
       "      <td>1</td>\n",
       "      <td>0</td>\n",
       "      <td>1</td>\n",
       "      <td>0</td>\n",
       "      <td>0</td>\n",
       "      <td>0</td>\n",
       "      <td>0</td>\n",
       "      <td>0</td>\n",
       "      <td>0</td>\n",
       "      <td>0</td>\n",
       "      <td>1</td>\n",
       "    </tr>\n",
       "    <tr>\n",
       "      <th>1</th>\n",
       "      <td>0</td>\n",
       "      <td>0</td>\n",
       "      <td>1</td>\n",
       "      <td>0</td>\n",
       "      <td>0</td>\n",
       "      <td>0</td>\n",
       "      <td>0</td>\n",
       "      <td>0</td>\n",
       "      <td>0</td>\n",
       "      <td>0</td>\n",
       "      <td>0</td>\n",
       "      <td>0</td>\n",
       "      <td>1</td>\n",
       "    </tr>\n",
       "    <tr>\n",
       "      <th>2</th>\n",
       "      <td>1</td>\n",
       "      <td>0</td>\n",
       "      <td>0</td>\n",
       "      <td>0</td>\n",
       "      <td>1</td>\n",
       "      <td>0</td>\n",
       "      <td>0</td>\n",
       "      <td>0</td>\n",
       "      <td>0</td>\n",
       "      <td>0</td>\n",
       "      <td>0</td>\n",
       "      <td>0</td>\n",
       "      <td>1</td>\n",
       "    </tr>\n",
       "    <tr>\n",
       "      <th>3</th>\n",
       "      <td>0</td>\n",
       "      <td>0</td>\n",
       "      <td>0</td>\n",
       "      <td>0</td>\n",
       "      <td>0</td>\n",
       "      <td>1</td>\n",
       "      <td>0</td>\n",
       "      <td>0</td>\n",
       "      <td>0</td>\n",
       "      <td>0</td>\n",
       "      <td>0</td>\n",
       "      <td>0</td>\n",
       "      <td>1</td>\n",
       "    </tr>\n",
       "    <tr>\n",
       "      <th>4</th>\n",
       "      <td>1</td>\n",
       "      <td>0</td>\n",
       "      <td>0</td>\n",
       "      <td>1</td>\n",
       "      <td>0</td>\n",
       "      <td>1</td>\n",
       "      <td>0</td>\n",
       "      <td>0</td>\n",
       "      <td>0</td>\n",
       "      <td>0</td>\n",
       "      <td>0</td>\n",
       "      <td>0</td>\n",
       "      <td>1</td>\n",
       "    </tr>\n",
       "  </tbody>\n",
       "</table>\n",
       "</div>"
      ],
      "text/plain": [
       "   ag_(75.0, 82.0]  ag_(65.0, 75.0]  av_(192.2, 271.7]  hypertension  \\\n",
       "0                0                1                  1             0   \n",
       "1                0                0                  1             0   \n",
       "2                1                0                  0             0   \n",
       "3                0                0                  0             0   \n",
       "4                1                0                  0             1   \n",
       "\n",
       "   heart_disease  av_(124.1, 192.2]  ag_(20.0, 30.0]  ag_(-0.1, 11.0]  \\\n",
       "0              1                  0                0                0   \n",
       "1              0                  0                0                0   \n",
       "2              1                  0                0                0   \n",
       "3              0                  1                0                0   \n",
       "4              0                  1                0                0   \n",
       "\n",
       "   ag_(30.0, 38.0]  ag_(38.0, 45.0]  av_(73.8, 80.0]  av_(80.0, 85.6]  stroke  \n",
       "0                0                0                0                0       1  \n",
       "1                0                0                0                0       1  \n",
       "2                0                0                0                0       1  \n",
       "3                0                0                0                0       1  \n",
       "4                0                0                0                0       1  "
      ]
     },
     "execution_count": 21,
     "metadata": {},
     "output_type": "execute_result"
    }
   ],
   "source": [
    "df_dummies_NB = df_dummies[selected]\n",
    "df_dummies_NB.head()"
   ]
  },
  {
   "cell_type": "code",
   "execution_count": 22,
   "metadata": {},
   "outputs": [
    {
<<<<<<< HEAD
     "data": {
      "text/plain": [
       "<sklearn.metrics._plot.confusion_matrix.ConfusionMatrixDisplay at 0x23d80dbef08>"
      ]
     },
     "execution_count": 30,
     "metadata": {},
     "output_type": "execute_result"
    },
    {
     "data": {
      "image/png": "iVBORw0KGgoAAAANSUhEUgAAAT8AAAEGCAYAAAAT05LOAAAABHNCSVQICAgIfAhkiAAAAAlwSFlzAAALEgAACxIB0t1+/AAAADh0RVh0U29mdHdhcmUAbWF0cGxvdGxpYiB2ZXJzaW9uMy4yLjEsIGh0dHA6Ly9tYXRwbG90bGliLm9yZy+j8jraAAAcO0lEQVR4nO3de7wXVb3/8debzU1ABOQSN5WKJLQsxVv+NG8FXX6BFSfMjlSm5TE1j79K+52yn/041jErLdFD6pHSJLyUdCwVUTPPURHRVEByJypbkbsXEIG99+f88R3gC+7LzGZ/9/e7v/N+Ph7z+M6sWTNrzebhxzWzZq1RRGBmljddyl0BM7NycPAzs1xy8DOzXHLwM7NccvAzs1zqWu4KFBs4oCb2G9mt3NWwDJ5ZPqjcVbAMNm9cx9bNG7U75xh/XO9Yu64hVd7Hntx8V0RM2J3ySqWigt9+I7sx/66R5a6GZXDUuV8tdxUsg6fmXr7b51i7roH5d+2TKm/N0GcH7naBJVJRwc/MKl8AjTSWuxq7zcHPzDIJgq2R7ra3kjn4mVlm1dDyc2+vmWUSBA2RbmmNpOskrZL0dFHapZKekfSkpN9J6le070JJtZKWShpflH6IpKeSfVdIarVTx8HPzDJrJFItKVwP7NobPBc4MCLeD/wNuBBA0lhgCnBAcsx0STXJMVcBZwCjk6XVHmYHPzPLJIAGItXS6rkiHgDW7ZJ2d0TUJ5sPAyOS9YnArIjYHBHLgFrgMElDgb4R8VAUZmr5FTCptbL9zM/MMkvZqgMYKGlB0faMiJiRoagvA79N1odTCIbb1CVpW5P1XdNb5OBnZpkEsDX9VHhrImJcW8qR9H+BeuDGbUnNVKe59BY5+JlZJpHylnZ3SJoKfBI4IXZMOloHFI+CGAG8nKSPaCK9RX7mZ2bZBDSkXNpC0gTg28CnIuLNol1zgCmSekgaRaFjY35ErADekHRE0st7KnB7a+W45WdmmRRGeLQPSTcBx1J4NlgHXEShd7cHMDd5Y+XhiPhaRCySNBtYTOF2+KyI7W9bn0mh53gP4E/J0iIHPzPLSDQ0+Zgtu4g4uYnka1vIPw2Y1kT6AuDALGU7+JlZJoUOj/YJfuXk4GdmmRTe83PwM7McanTLz8zyxi0/M8ulQDRUwVtyDn5mlplve80sdwKxJWpaz1jhHPzMLJPCS86+7TWzHHKHh5nlToRoCLf8zCyHGt3yM7O8KXR4dP7Q0fmvwMw6lDs8zCy3Gvyen5nljUd4mFluNbq318zypjCxgYOfmeVMILZ6eJuZ5U0EfsnZzPJIfsnZzPIncMvPzHLKHR5mljuBPJmpmeVP4dOVnT90dP4rMLMO1n4fLS8nBz8zyyTwCA8zy6lqaPl1/vBtZh0qQjRGl1RLayRdJ2mVpKeL0gZImivp2eS3f9G+CyXVSloqaXxR+iGSnkr2XSGp1ejs4GdmmRQ6PGpSLSlcD0zYJe0CYF5EjAbmJdtIGgtMAQ5IjpkuaVshVwFnAKOTZddzvo2Dn5llVPiGR5qlNRHxALBul+SJwMxkfSYwqSh9VkRsjohlQC1wmKShQN+IeCgiAvhV0THN8jM/M8uk0OGR+pnfQEkLirZnRMSMVo4ZEhErACJihaTBSfpw4OGifHVJ2tZkfdf0Fjn4mVlmGUZ4rImIce1UbFMRN1pIb5GDn5ll0gEjPFZKGpq0+oYCq5L0OmBkUb4RwMtJ+ogm0lvkZ35mllkjXVItbTQHmJqsTwVuL0qfIqmHpFEUOjbmJ7fIb0g6IunlPbXomGa55WdmmUTA1sb2aTdJugk4lsKzwTrgIuCHwGxJpwEvApML5cYiSbOBxUA9cFZENCSnOpNCz/EewJ+SpUUOfmaWSeG2t32CX0Sc3MyuE5rJPw2Y1kT6AuDALGU7+JlZZtUwwsPBrw0uO28kj9zTl34D65lx31IAfnnxMB6e25du3YOh+27m/J8up89eDduPWVXXjdOPHcMXzn+FyWeuBuCbn3k361Z2pXvPQsfUJbP+Tr+B9R1/QTnTvWs9V57zB7p1baBrl+C+v47i2j/t6JA8+bi/8vVJj/Dx75zKaxt70rWmgW997i+MGbmaxhCX3/YhHq8dVsYrKK+Mr7pUrJJ2eEiakAxDqZV0QSnL6kgf/dw6pt343E5pBx/zBjPue4ar5y1l+Ds3M+vng3faf/X3h3Po8W+87VzfvvIFrrpnKVfds9SBr4Nsqa/hnF98ki/+22eZ+m+f4fAxyzlg35UADO63gUP3f4lX1vXZnv9TRz4DwKk/msw3pn+Cr096GKnVNymqWPsNbyunktUuGXZyJfAxYCxwcjI8pdN73xEb2bN/w05phxz7BjVJO/q9h7zJmhXdtu/77z/txdB9trDve97qyGpas8SmLYV/n641jXStaSSS27hzTnqI6XMOJ4pi237vWM+CvxXemX11wx5s2NSdMSNXd3itK0lj8h2P1pZKVsrQfBhQGxHPRcQWYBaF4SlV766bBmxv5b31ZhdmTx/MF85/pcm8l523D2eeuD83/nTITv/BWWl1USPXf/NW/nPar3h06QgWvzCY/3Xg86x+rTe1L++9U97al/bm6AOfp6ZLI0MHvM7+I9YwpP+GMtW8/Aq9vTWplkpWymd+w4HlRdt1wOG7ZpJ0BoUByewzvPM/gvzN5UOo6Roc/+n1APzq0ndw0umr2aN349vyfvsXLzBw6Fbe3NCFH3xlP+65pT8fmby+o6ucS43RhS9e+hn67LGZS067m3cNW8upH3mc8676xNvy3vHI/uz3jvVce/7veGV9H55+fgj1DZV9S1dKnsa+damGnCTj/GYAjDuoZ6du+8yd3Z/59/Tlh7+tZduEOs883osH7+jHtf9/GBter0Fdgu49golfXsPAoVsB6NWnkeNOepWlj/dy8OtgGzb1YGHtMI4+8AWG7f0GM791CwCD+m3kum/eyumXncS6N3pxxe8+tP2Yq79xO3Wr9ypXlStCpd/SplHK4NfcUJSq9Oh9ezL7yiFcetuz9Oy1I4b/5Pe129d//eN30LN3AxO/vIaGetjwWg177d1A/VZ45J6+fPDot3eIWPvr13sT9Y1d2LCpB9271XPoe17ihnkH8cl/OXV7nlu+9xtOu+zTvLaxJz261SMFb23pxqH719HQIJ5f2b+FEqpbtfT2ljL4PQqMToahvERhHq7Pl7C8DnPJmfvy5EN9eG1dV045ZCz/eP4rzPrFELZuFhd+7t0AjDlkI+f+qK7Zc2zd0oXvfP5dNNSLhgY4+OgNfOyUtR11Cbm2915v8i+n3E+XLkEXBfc+/k7+e9G+zebvv+cmfvq1P9IYYvVrvbn4huM6sLaVqdJ7ctNQlPApu6SPAz8DaoDrkrezmzXuoJ4x/66RLWWxCnPUuV8tdxUsg6fmXs6Gdct3q9nWf8zgOP66z6bKe9tRVz3WjrO6tKuS9jBExB+BP5ayDDPreL7tNbPc8TM/M8stBz8zyx2/52dmueX3/MwsdyKgvp0mMy0nBz8zy8y3vWaWO37mZ2a5FQ5+ZpZH7vAws9yJ8DM/M8sl0eDeXjPLIz/zM7Pc8dheM8unoCq+N+PgZ2aZVUNvb+d/amlmHSqSDo80S2sknSdpkaSnJd0kqaekAZLmSno2+e1flP/C5DvgSyWN353rcPAzs8wi0i0tkTQcOAcYFxEHUpjxfQpwATAvIkYD85Jtku9+TwEOACYA05Pvg7eJg5+ZZRahVEsKXYE9JHUFelH4yNlEYGayfyYwKVmfCMyKiM0RsQyopfB98DZx8DOzTAqtutTBb6CkBUXLGTvOEy8BPwZeBFYAr0XE3cCQiFiR5FkBDE4Oaepb4MPbeh3u8DCzzDK86rKmuQ8YJc/yJgKjgFeBmyV9oYVzpfoWeFpu+ZlZZu3xzA84EVgWEasjYitwG/AhYKWkoQDJ76okf7t+C9zBz8wyCURjY5dUSyteBI6Q1EuSgBOAJcAcYGqSZypwe7I+B5giqUfyPfDRwPy2Xodve80ss/Z4xzkiHpF0C7AQqAceB2YAfYDZkk6jECAnJ/kXSZoNLE7ynxURDW0t38HPzLKJ9hvbGxEXARftkryZQiuwqfzTgGntUbaDn5ll5+FtZpZHVT2ri6Sf00J8j4hzSlIjM6toATQ2VnHwAxZ0WC3MrPMIoJpbfhExs3hbUu+I2Fj6KplZpauGKa1afRFH0pGSFlN4/wZJB0maXvKamVnlipRLBUvzkvPPgPHAWoCI+CtwTCkrZWaVLN243krvFEnV2xsRywsvYG/X5hcLzawKVHirLo00wW+5pA8BIak7hfm3lpS2WmZWsQKiCnp709z2fg04i8LUMS8BH0i2zSy3lHKpXK22/CJiDXBKB9TFzDqLKrjtTdPb+05Jf5C0WtIqSbdLemdHVM7MKlROent/A8wGhgLDgJuBm0pZKTOrYNteck6zVLA0wU8R8euIqE+WG6j4mG5mpdROk5mWVUtjewckq/dJugCYRSHofQ64owPqZmaVqgp6e1vq8HiMQrDbdpVfLdoXwA9KVSkzq2yq8FZdGi2N7R3VkRUxs06iE3RmpJFqhIekA4GxQM9taRHxq1JVyswqWeV3ZqTRavCTdBFwLIXg90fgY8CDgIOfWV5VQcsvTW/vZynMp/9KRHwJOAjoUdJamVlla0y5VLA0t72bIqJRUr2kvhS+oemXnM3yqtonMy2yQFI/4JcUeoA3sBvfyjSzzq+qe3u3iYh/SlavlnQn0DcinixttcysolVz8JN0cEv7ImJhaapkZlZ6LbX8LmthXwDHt3Nd+NuTvRg/7APtfVorob36emrHzqRmw6Z2OU9V3/ZGxHEdWREz6ySCqh/eZmbWtCpo+aV5z8/MbCeKdEur55H6SbpF0jOSliRfixwgaa6kZ5Pf/kX5L5RUK2mppPG7cw0OfmaWXftNZno5cGdEjKEwgGIJcAEwLyJGA/OSbSSNBaYABwATgOmSatp6CWlmcpakL0j6XrK9j6TD2lqgmVWBdgh+yaCJY4BrASJiS0S8CkwEZibZZgKTkvWJwKyI2BwRy4BaoM2xKE3LbzpwJHBysv0GcGVbCzSzzi3tLW9y2ztQ0oKi5YyiU70TWA38h6THJV0jqTcwJCJWACS/g5P8w4HlRcfXJWltkqbD4/CIOFjS40ll1iefsDSzvErf27smIsY1s68rcDBwdkQ8IulyklvcZjRVaJu7XtK0/LYm99UBIGkQFT9k2cxKqZ06POqAuoh4JNm+hUIwXClpKEDyu6oo/8ii40cAL7f1GtIEvyuA3wGDJU2jMJ3Vv7a1QDOrAu3wzC8iXgGWS9o/SToBWAzMAaYmaVOB25P1OcAUST0kjQJGsxvzDKQZ23ujpMeSigmYFBF+rd8sr1K+xpLS2cCNyaO054AvUWiUzZZ0GvAiMBkgIhZJmk0hQNYDZ0VEQ1sLTjOZ6T7Am8AfitMi4sW2FmpmnVw7Bb+IeAJo6pngCc3knwZMa4+y03R43MGODxn1BEYBSym8a2NmOaQqeOqf5rb3fcXbyWwvX20mu5lZp5B5bG9ELJR0aCkqY2adRBWM7U3zzO+fiza7UOiKXl2yGplZZWvfDo+ySdPy27NovZ7CM8BbS1MdM+sUqj34JS8394mIb3ZQfcysM6jm4Cepa0TUtzSdvZnlj6j+3t75FJ7vPSFpDnAzsHHbzoi4rcR1M7NKlKNnfgOAtRS+2bHtfb8AHPzM8qrKg9/gpKf3aXYEvW2q4NLNrM2qIAK0FPxqgD608zQyZtb5Vftt74qIuLjDamJmnUeVB7/O/206M2t/Uf29vU3OqmBmVtUtv4hY15EVMbPOo9qf+ZmZNc3Bz8xyJ/03eSuag5+ZZSJ822tmOeXgZ2b55OBnZrnk4GdmuZOjWV3MzHbm4GdmeVTtw9vMzJrk214zy58qecm5S7krYGadUKRcUpBUI+lxSf+ZbA+QNFfSs8lv/6K8F0qqlbRU0vjduQQHPzPLZNsIjzRLSucCS4q2LwDmRcRoYF6yjaSxwBTgAGACMD35wmSbOPiZWWZqjFRLq+eRRgCfAK4pSp4IzEzWZwKTitJnRcTmiFgG1AKHtfUaHPzMLJu0t7zpWn4/A74FFPcfD4mIFQDJ7+AkfTiwvChfXZLWJg5+ZpZZhtvegZIWFC1nbD+H9ElgVUQ8lrbYJtLa3PXi3l4zyy59yFkTEeOa2XcU8ClJHwd6An0l3QCslDQ0IlZIGgqsSvLXASOLjh8BvJy57gm3/Mwss/bo8IiICyNiRETsR6Ej496I+AIwB5iaZJsK3J6szwGmSOohaRQwGpjf1mtwy8/Msivte34/BGZLOg14EZgMEBGLJM0GFgP1wFkR0dDWQhz8zCybEny9LSLuB+5P1tfSzAfUImIaMK09ynTwM7NMPJOzmeVXdP7o5+BnZpm55Wc7GTRsC9+8/EX6D64nGuGPN+zN768dxFe++zJHfOR1tm4RK17ozmXn7cPG19s8Ksfa0fBRb3LBT57Zvj105Fv8+op9mXf7YC78yTMMHv4Wq17qySXnjWHD693KWNMK4okNWibpOkmrJD1dqjIqTUO9mHHxME7/8BjO/eRo/vcX17DP6LdY+MCenHHc/px54v689FwPppy9stxVtcRLy3px9kkHc/ZJB3PuZz7IW5u68NA9e/MPp9fxxMP9OH3CoTzxcD8mn15X7qpWFDWmWypZKd/zu57C4OPcWLeqG7VP9QJg08Yaltf2ZODQrSz88540NhReTl/yWG8GDt1azmpaMw468lVeWb4Hq17uyREnrOWe3w8B4J7fD+HIE9eWuXaVxcGvBRHxALCuVOevdENGbOFdB27imYW9dkoff/I6Hr23b5lqZS358MdXc/8dgwDot/cW1q/uDsD61d3Za4D/h7VdUOjwSLNUsLKP8JB0xrZxf1vZXO7qtIuevRr47jXPc/X3hvHmhh3P9k4+ZyUN9XDvbf3KWDtrStdujRx+/FoevHNguavSKbTzlFZlUfbgFxEzImJcRIzrRo9yV2e31XQNvnvN89x7W3/+6087gtyJk9dx2Imv86Ov70vT47OtnMYdvZ6/L+7Dq2sLrb1X13an/6AtAPQftIXX1rmzYyftOJlpuZQ9+FWX4J8vW87yZ3ty24xB21PHHfs6/3DWKr7/xVFs3uQ/eSX68CdW8ec7dvybPXzvAE6cVOiYOnHSSh6et3e5qlZxSjCZaVn4VZd2dMBhGzlx8nqeW9yT6XOXAvAflwzln37wEt16BJf89u8APPNYb664YEQ5q2pFevRs4INHvcrPLxq9Pe3mX47kwp8u4aOfeYXVK3rwr994bxlrWGEi3USlla5kwU/STcCxFObzqgMuiohrS1VeJVg0vw/jhx30tvQvuYOjom1+q4YpRxy5U9obr3bjO196f5lq1Al0/thXuuAXESeX6txmVl6Vfkubhm97zSybAHzba2a51Pljn4OfmWXn214zyyX39ppZ/nSCF5jTcPAzs0wKLzl3/ujn4Gdm2VX4jC1pOPiZWWZu+ZlZ/viZn5nlk8f2mlle+bbXzHKnBB8tLwcHPzPLzi0/M8ulzh/7PJOzmWWnxsZUS4vnkEZKuk/SEkmLJJ2bpA+QNFfSs8lv/6JjLpRUK2mppPG7cw0OfmaWTVB4yTnN0rJ64PyIeC9wBHCWpLHABcC8iBgNzEu2SfZNAQ6g8Fnc6ZJqmjxzCg5+ZpaJCBTplpZExIqIWJisvwEsAYYDE4GZSbaZwKRkfSIwKyI2R8QyoBY4rK3X4eBnZtml/27vwG2fpk2WM5o6naT9gA8CjwBDImJFoZhYAQxOsg0HlhcdVpektYk7PMwsu/S9vWsiYlxLGST1AW4FvhERr0vNftq1qR1t7npxy8/Msmm/Z35I6kYh8N0YEbclySslDU32DwVWJel1wMiiw0cAL7f1Mhz8zCyzdurtFXAtsCQiflK0aw4wNVmfCtxelD5FUg9Jo4DRwPy2XoNve80so2ivl5yPAv4ReErSE0nad4AfArMlnQa8CEwGiIhFkmYDiyn0FJ8VEQ1tLdzBz8yyCdol+EXEgzT9HA/ghGaOmQZM2+3CcfAzs7bw2F4zyyNPZmpm+eTgZ2a5EwENnf++18HPzLJzy8/McsnBz8xyJwB/w8PM8icg/MzPzPImcIeHmeWUn/mZWS45+JlZ/rTbxAZl5eBnZtkE0Mp0VZ2Bg5+ZZeeWn5nlj4e3mVkeBYTf8zOzXPIIDzPLJT/zM7PciXBvr5nllFt+ZpY/QTS0+aNpFcPBz8yy8ZRWZpZbftXFzPImgHDLz8xyJzyZqZnlVDV0eCgqqMta0mrghXLXowQGAmvKXQnLpFr/zfaNiEG7cwJJd1L4+6SxJiIm7E55pVJRwa9aSVoQEePKXQ9Lz/9m1a9LuStgZlYODn5mlksOfh1jRrkrYJn536zK+ZmfmeWSW35mlksOfmaWSw5+JSRpgqSlkmolXVDu+ljrJF0naZWkp8tdFystB78SkVQDXAl8DBgLnCxpbHlrZSlcD1TkS7nWvhz8SucwoDYinouILcAsYGKZ62StiIgHgHXlroeVnoNf6QwHlhdt1yVpZlYBHPxKR02k+b0iswrh4Fc6dcDIou0RwMtlqouZ7cLBr3QeBUZLGiWpOzAFmFPmOplZwsGvRCKiHvg6cBewBJgdEYvKWytrjaSbgIeA/SXVSTqt3HWy0vDwNjPLJbf8zCyXHPzMLJcc/Mwslxz8zCyXHPzMLJcc/DoRSQ2SnpD0tKSbJfXajXNdL+mzyfo1LU26IOlYSR9qQxnPS3rbV76aS98lz4aMZX1f0v/JWkfLLwe/zmVTRHwgIg4EtgBfK96ZzCSTWUR8JSIWt5DlWCBz8DOrZA5+nddfgHcnrbL7JP0GeEpSjaRLJT0q6UlJXwVQwS8kLZZ0BzB424kk3S9pXLI+QdJCSX+VNE/SfhSC7HlJq/NoSYMk3ZqU8aiko5Jj95Z0t6THJf07TY9v3omk30t6TNIiSWfssu+ypC7zJA1K0t4l6c7kmL9IGtMef0zLn67lroBlJ6krhXkC70ySDgMOjIhlSQB5LSIOldQD+C9JdwMfBPYH3gcMARYD1+1y3kHAL4FjknMNiIh1kq4GNkTEj5N8vwF+GhEPStqHwiiW9wIXAQ9GxMWSPgHsFMya8eWkjD2ARyXdGhFrgd7Awog4X9L3knN/ncKHhb4WEc9KOhyYDhzfhj+j5ZyDX+eyh6QnkvW/ANdSuB2dHxHLkvSPAu/f9jwP2AsYDRwD3BQRDcDLku5t4vxHAA9sO1dENDev3YnAWGl7w66vpD2TMj6dHHuHpPUprukcSScl6yOTuq4FGoHfJuk3ALdJ6pNc781FZfdIUYbZ2zj4dS6bIuIDxQlJENhYnAScHRF37ZLv47Q+pZZS5IHC45IjI2JTE3VJPV5S0rEUAumREfGmpPuBns1kj6TcV3f9G5i1hZ/5VZ+7gDMldQOQ9B5JvYEHgCnJM8GhwHFNHPsQ8GFJo5JjByTpbwB7FuW7m8ItKEm+bcHoAeCUJO1jQP9W6roXsD4JfGMotDy36QJsa71+nsLt9OvAMkmTkzIk6aBWyjBrkoNf9bmGwvO8hclHeP6dQgv/d8CzwFPAVcCfdz0wIlZTeE53m6S/suO28w/ASds6PIBzgHFJh8pidvQ6/z/gGEkLKdx+v9hKXe8Eukp6EvgB8HDRvo3AAZIeo/BM7+Ik/RTgtKR+i/CnAayNPKuLmeWSW35mlksOfmaWSw5+ZpZLDn5mlksOfmaWSw5+ZpZLDn5mlkv/A7F5Uw0tVwyKAAAAAElFTkSuQmCC\n",
=======
     "name": "stdout",
     "output_type": "stream",
     "text": [
      "              precision    recall  f1-score   support\n",
      "\n",
      "           0       0.98      0.77      0.86      1594\n",
      "           1       0.16      0.73      0.26        92\n",
      "\n",
      "    accuracy                           0.77      1686\n",
      "   macro avg       0.57      0.75      0.56      1686\n",
      "weighted avg       0.94      0.77      0.83      1686\n",
      "\n",
      "Mean f1: 0.22508552736832385\n",
      "Mean recall: 0.7446530612244899\n",
      "Mean roc: 0.7860220248593266\n"
     ]
    },
    {
     "data": {
      "image/png": "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\n",
>>>>>>> Roger
      "text/plain": [
       "<Figure size 432x288 with 2 Axes>"
      ]
     },
     "metadata": {
      "needs_background": "light"
     },
     "output_type": "display_data"
    }
   ],
   "source": [
    "test_feature_set(df_dummies_NB, master_scores, 'NB Selected')"
   ]
  },
  {
   "cell_type": "markdown",
   "metadata": {},
   "source": [
    "## Mixed dataset with MCA feature added\n",
    "\n",
    "As this dataset is quite small and limited, we experimented with adding generated features, based on the existing ones. In this case, an Multiple Correspondence Analysis (MCA) was performed on the full discretised dataset (so continuous features were replaced with their binned variants). The coordinates derived from the MCA were added to the normalised mixed data type dataset."
   ]
  },
  {
   "cell_type": "code",
   "execution_count": 23,
   "metadata": {},
   "outputs": [],
   "source": [
    "import prince\n",
    "mca_cols = ['gender', 'hypertension', 'heart_disease', 'ever_married', 'work_type', 'residence_type', 'smoking_status', 'age_bin', 'avg_glucose_level_bin', 'bmi_bin']\n",
    "df_mca = df[mca_cols]\n"
   ]
  },
  {
   "cell_type": "code",
<<<<<<< HEAD
   "execution_count": 47,
   "metadata": {},
   "outputs": [],
   "source": [
    "selected_columns = ['age', 'hypertension', 'heart_disease', 'avg_glucose_level', 'stroke']\n",
    "df_mixed = df[selected_columns]\n",
    "df_mixed.loc[:, 'age'] = (df_mixed['age'] - df_mixed['age'].mean()) / df_mixed['age'].std()\n",
    "df_mixed.loc[:, 'avg_glucose_level'] = (df_mixed['avg_glucose_level'] - df_mixed['avg_glucose_level'].mean()) / df_mixed['avg_glucose_level'].std()"
   ]
  },
  {
   "cell_type": "code",
   "execution_count": 33,
   "metadata": {},
   "outputs": [],
   "source": [
    "X = df_mixed.drop(['stroke'], axis=1)\n",
    "y = df_mixed['stroke']\n",
    "X_train, X_test, y_train, y_test = train_test_split(X, y, test_size=0.33, random_state=82)\n",
    "\n",
    "weights = {0:0.05, 1:1.0} # 0.02 : 1 finds all stroke labels, but a huge number of false positives as welll\n",
    "model = SVC(gamma='scale', class_weight=weights)\n",
    "\n",
    "model.fit(X_train, y_train)\n",
    "labels = y.unique()\n",
    "\n",
    "y_true = y_test\n",
    "y_pred = model.predict(X_test)"
=======
   "execution_count": 24,
   "metadata": {},
   "outputs": [
    {
     "data": {
      "text/html": [
       "<div>\n",
       "<style scoped>\n",
       "    .dataframe tbody tr th:only-of-type {\n",
       "        vertical-align: middle;\n",
       "    }\n",
       "\n",
       "    .dataframe tbody tr th {\n",
       "        vertical-align: top;\n",
       "    }\n",
       "\n",
       "    .dataframe thead th {\n",
       "        text-align: right;\n",
       "    }\n",
       "</style>\n",
       "<table border=\"1\" class=\"dataframe\">\n",
       "  <thead>\n",
       "    <tr style=\"text-align: right;\">\n",
       "      <th></th>\n",
       "      <th>0</th>\n",
       "      <th>1</th>\n",
       "    </tr>\n",
       "  </thead>\n",
       "  <tbody>\n",
       "    <tr>\n",
       "      <th>0</th>\n",
       "      <td>-0.549742</td>\n",
       "      <td>-0.971571</td>\n",
       "    </tr>\n",
       "    <tr>\n",
       "      <th>1</th>\n",
       "      <td>-0.514675</td>\n",
       "      <td>-0.658329</td>\n",
       "    </tr>\n",
       "    <tr>\n",
       "      <th>2</th>\n",
       "      <td>-0.332230</td>\n",
       "      <td>-0.389864</td>\n",
       "    </tr>\n",
       "    <tr>\n",
       "      <th>3</th>\n",
       "      <td>-0.463019</td>\n",
       "      <td>0.090465</td>\n",
       "    </tr>\n",
       "    <tr>\n",
       "      <th>4</th>\n",
       "      <td>-0.378338</td>\n",
       "      <td>-0.331382</td>\n",
       "    </tr>\n",
       "    <tr>\n",
       "      <th>...</th>\n",
       "      <td>...</td>\n",
       "      <td>...</td>\n",
       "    </tr>\n",
       "    <tr>\n",
       "      <th>5105</th>\n",
       "      <td>-0.457917</td>\n",
       "      <td>-0.289086</td>\n",
       "    </tr>\n",
       "    <tr>\n",
       "      <th>5106</th>\n",
       "      <td>-0.488836</td>\n",
       "      <td>-0.487171</td>\n",
       "    </tr>\n",
       "    <tr>\n",
       "      <th>5107</th>\n",
       "      <td>-0.347460</td>\n",
       "      <td>-0.036635</td>\n",
       "    </tr>\n",
       "    <tr>\n",
       "      <th>5108</th>\n",
       "      <td>-0.270069</td>\n",
       "      <td>0.013750</td>\n",
       "    </tr>\n",
       "    <tr>\n",
       "      <th>5109</th>\n",
       "      <td>-0.031665</td>\n",
       "      <td>0.185823</td>\n",
       "    </tr>\n",
       "  </tbody>\n",
       "</table>\n",
       "<p>5109 rows × 2 columns</p>\n",
       "</div>"
      ],
      "text/plain": [
       "             0         1\n",
       "0    -0.549742 -0.971571\n",
       "1    -0.514675 -0.658329\n",
       "2    -0.332230 -0.389864\n",
       "3    -0.463019  0.090465\n",
       "4    -0.378338 -0.331382\n",
       "...        ...       ...\n",
       "5105 -0.457917 -0.289086\n",
       "5106 -0.488836 -0.487171\n",
       "5107 -0.347460 -0.036635\n",
       "5108 -0.270069  0.013750\n",
       "5109 -0.031665  0.185823\n",
       "\n",
       "[5109 rows x 2 columns]"
      ]
     },
     "execution_count": 24,
     "metadata": {},
     "output_type": "execute_result"
    }
   ],
   "source": [
    "mca = prince.MCA()\n",
    "mca.fit(df_mca)\n",
    "mca.transform(df_mca)"
>>>>>>> Roger
   ]
  },
  {
   "cell_type": "code",
   "execution_count": 25,
   "metadata": {},
   "outputs": [],
   "source": [
    "df_mixed_mca = pd.merge(df_mixed_norm, mca.row_coordinates(df_mca), left_index=True, right_index=True)"
   ]
  },
  {
   "cell_type": "code",
   "execution_count": 26,
   "metadata": {},
   "outputs": [
    {
     "name": "stdout",
     "output_type": "stream",
     "text": [
      "              precision    recall  f1-score   support\n",
      "\n",
      "           0       0.99      0.72      0.83      1594\n",
      "           1       0.15      0.83      0.25        92\n",
      "\n",
      "    accuracy                           0.73      1686\n",
      "   macro avg       0.57      0.77      0.54      1686\n",
      "weighted avg       0.94      0.73      0.80      1686\n",
      "\n",
      "Mean f1: 0.2094275541566712\n",
      "Mean recall: 0.8245387755102042\n",
      "Mean roc: 0.8287023683547493\n"
     ]
    },
    {
     "data": {
      "image/png": "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\n",
      "text/plain": [
       "<Figure size 432x288 with 2 Axes>"
      ]
     },
     "metadata": {
      "needs_background": "light"
     },
     "output_type": "display_data"
    }
   ],
   "source": [
    "test_feature_set(df_mixed_mca, master_scores, 'Mixed with MCA')"
   ]
  },
  {
   "cell_type": "markdown",
   "metadata": {},
   "source": [
    "## Testing based only on age and gender\n",
    "In this dataset, age has by far the largest correlation with the label. In order to serve as a benchmark our other feature sets, a dataset was used which contained only the age and gender features."
   ]
  },
  {
   "cell_type": "code",
   "execution_count": 27,
   "metadata": {},
   "outputs": [
    {
     "data": {
      "text/html": [
       "<div>\n",
       "<style scoped>\n",
       "    .dataframe tbody tr th:only-of-type {\n",
       "        vertical-align: middle;\n",
       "    }\n",
       "\n",
       "    .dataframe tbody tr th {\n",
       "        vertical-align: top;\n",
       "    }\n",
       "\n",
       "    .dataframe thead th {\n",
       "        text-align: right;\n",
       "    }\n",
       "</style>\n",
       "<table border=\"1\" class=\"dataframe\">\n",
       "  <thead>\n",
       "    <tr style=\"text-align: right;\">\n",
       "      <th></th>\n",
       "      <th>age</th>\n",
       "      <th>stroke</th>\n",
       "      <th>gender</th>\n",
       "    </tr>\n",
       "  </thead>\n",
       "  <tbody>\n",
       "    <tr>\n",
       "      <th>0</th>\n",
       "      <td>1.051238</td>\n",
       "      <td>1</td>\n",
       "      <td>1</td>\n",
       "    </tr>\n",
       "    <tr>\n",
       "      <th>1</th>\n",
       "      <td>0.785886</td>\n",
       "      <td>1</td>\n",
       "      <td>0</td>\n",
       "    </tr>\n",
       "    <tr>\n",
       "      <th>2</th>\n",
       "      <td>1.626168</td>\n",
       "      <td>1</td>\n",
       "      <td>1</td>\n",
       "    </tr>\n",
       "    <tr>\n",
       "      <th>3</th>\n",
       "      <td>0.255181</td>\n",
       "      <td>1</td>\n",
       "      <td>0</td>\n",
       "    </tr>\n",
       "    <tr>\n",
       "      <th>4</th>\n",
       "      <td>1.581943</td>\n",
       "      <td>1</td>\n",
       "      <td>0</td>\n",
       "    </tr>\n",
       "  </tbody>\n",
       "</table>\n",
       "</div>"
      ],
      "text/plain": [
<<<<<<< HEAD
       "<sklearn.metrics._plot.confusion_matrix.ConfusionMatrixDisplay at 0x23d80d0e088>"
=======
       "        age  stroke  gender\n",
       "0  1.051238       1       1\n",
       "1  0.785886       1       0\n",
       "2  1.626168       1       1\n",
       "3  0.255181       1       0\n",
       "4  1.581943       1       0"
>>>>>>> Roger
      ]
     },
     "execution_count": 27,
     "metadata": {},
     "output_type": "execute_result"
<<<<<<< HEAD
    },
    {
     "data": {
      "image/png": "iVBORw0KGgoAAAANSUhEUgAAAT8AAAEGCAYAAAAT05LOAAAABHNCSVQICAgIfAhkiAAAAAlwSFlzAAALEgAACxIB0t1+/AAAADh0RVh0U29mdHdhcmUAbWF0cGxvdGxpYiB2ZXJzaW9uMy4yLjEsIGh0dHA6Ly9tYXRwbG90bGliLm9yZy+j8jraAAAaJklEQVR4nO3debgV1Znv8e+PQVBRARFzBBS0cUCMiUFFbWfToPEGM3iDUS/d1zwOMSbXNsnFvumYTpp0nu6YaIyYoDFiTDQQbSWJLSpx7DghjoAKiiJylFFRVOCc894/qo5u8Ay7DnufPdTv8zz1ULV2DW/B4+tatarWUkRgZpY3PSodgJlZJTj5mVkuOfmZWS45+ZlZLjn5mVku9ap0AIUGDewZw4f1rnQYlsGCxl0qHYJlsPHtNTS9t15bc45xx24fq9c0F7Xv409vmB0R47fmeuVSVclv+LDePDp7WKXDsAwO+sF5lQ7BMnhh5k+3+hyr1zTz6Ozdi9q3Z8OiQVt9wTKpquRnZtUvgBZaKh3GVnPyM7NMgmBTFNfsrWZOfmaWmWt+ZpY7QdBcB5/FOvmZWWYtOPmZWc4E0OzkZ2Z55JqfmeVOAJv8zM/M8iYIN3vNLIcCmms/9zn5mVk2yRcetc/Jz8wyEs1s1dgIVcHJz8wySTo8nPzMLGeS9/yc/Mwsh1pc8zOzvHHNz8xyKRDNdTADhpOfmWXmZq+Z5U4gNkbPSoex1Zz8zCyT5CVnN3vNLIfc4WFmuRMhmsM1PzPLoRbX/Mwsb5IOj9pPHbV/B2bWrdzhYWa51ez3/Mwsb/yFh5nlVksd9PbW/h2YWbdKBjboUdTSGUnXSloh6dmCsoGS7pK0KP1zQMFvF0taLOl5SeMKyj8l6Zn0t59J6rRd7uRnZpkEYlP0LGopwnXA+C3KJgNzImIkMCfdRtIoYCKwf3rMVEmtF7kKOBsYmS5bnvMjnPzMLJMIaI4eRS2dnyvuB9ZsUTwBmJ6uTwdOKSi/KSI2RMQSYDFwiKQGYMeIeCgiAri+4Jh2+ZmfmWWkLC85D5I0t2B7WkRM6+SYXSOiESAiGiUNTsuHAA8X7LcsLduUrm9Z3iEnPzPLJCDL522rImJMiS7dVsaNDso75ORnZpmV+VWXNyQ1pLW+BmBFWr4MGFaw31BgeVo+tI3yDvmZn5llEoiWKG7polnApHR9EnBbQflESX0kjSDp2Hg0bSK/LWls2sv7vwqOaZdrfmaWSTJ1ZWlSh6QbgWNIng0uAy4BfgTMkHQWsBQ4FSAi5kuaASwAmoDzI6I5PdV5JD3H2wL/lS4dcvIzs4xKN2l5RJzWzk/Ht7P/FGBKG+VzgdFZru3kZ2aZBPXxhYeTn5ll5pGczSx3IuSan5nlT9Lh4dnbzCx3PIeHmeVQ0uHhZ35mlkMezNTMcqf1C49a5+RnZpl5AiMzy50I2NTi5GdmOZM0e538zCyH/IVHTl164TAeuXtH+g9qYto9zwNw/x934jeXfoxXF/XlZ7e/wN4HvgfAX24ZwMypgz84dsnCvlw5+wX2Gv0emzaKK//fEJ5+qB8S/P3kRo78zFsVuac86qEWbvjKzaxctz3f+P1JnLDfi5xz9FxGDFrLmb/6PAsbk3+3Xj2a+eeT72PfhlX06tHCn57em1//90EVjr5y6uVVl7LWXSWNT2dZWixpcjmv1Z3+7ktrmPLblzYrG77v+3z3mpc5YOz6zcqP+/xarrr7ea66+3m+fcUr7DpsI3uNThLjjZfvSv9BTVz74HNcfd9zfHzsO912DwanHfIMS1Z9MDEYL64cyDdnjmPeKw2b7XfCqJfYplczX/rl/+T0q7/AFw5aQMNO67o73CqSNHuLWapZ2aJLZ1W6EjgRGAWcls6+VPMOGLueHQY0b1a2+8gNDPubDR0ed8+tAzjmlLUfbM++aSATL0gGqe3RA3baubm9Q63EBu/wDkeOXMqtT+z3QdmSVQN4ZXX/j+wbAdv2bqKnWujTu5lNzT1Zv2Gb7gy36rSk83h0tlSzcjZ7DwEWR8RLAJJuIpl9aUEZr1nV7p/Vn+/9egkA77yVfBs5/d8/xtN/7UfD8I2cP2UZA3ZpqmSIufHNcX/l8rvHsl2fjZ3uO2fhnhyzz8vceeH19O3dxKV3Hs669/uWP8gqlfT21v63veWslw4BXi3YbnNGJUlnS5orae7K1fVb83lu3nb02baF4fu+D0BzE6xq3IZRB6/nyjtfYL9Prefq7+9W4Sjz4ciRr7BmfV8Wvr5LUfvvv9sKmlvEuMvO5OQrTueMw55iSP/8Nnu7YRj7blHO5FfUjEoRMS0ixkTEmF12rv3/m7Tn3tv6b9bk3XFgM322beaIE5MOjiNPfpNFz2xbqfBy5cBhr3P03q/wpwtu4N8+fzdjRiznX0+Z0+7+J45ezEMv7k5TS0/WvrstT736MUbttqLd/fOgHpq95Ux+7c20lDstLfDAn/pzzIQ3PyiTYOyn1/H0X/sB8OSDO7DH3h0/M7TS+PlfDuXEy8/k5CvO4OJbTmDukt34zq1tjpoOQOO6fhw8/DUg6Nt7EwcMWcHLBR0ledPa21vrNb9yPvN7DBiZzrL0GjAR+HIZr9dt/u28PXj6oX68taYXp39qFGde9Do7DGhm6neG8NbqXvzzmXuy1/7v8cMbkx7hZx7ux6CGTTTssfnzpbO+s5x/v2APfnFJT3bauYmLfrK0ErdjqWP3WcK3xz/IgO3e42cT/4sX3tiZ8393MjMeG833PnsPM8+dgYBZT+3DohU7Vzrciqr2ntxiKKLTuX27fnLpJOAyoCdwbTr5SLvGHNg3Hp09rKNdrMoc9IPzKh2CZfDCzJ/y7opXt6pKNmDfwXHctV8sat9bjrjq8RJOWl5SZX3JOSJuB24v5zXMrPtVe5O2GP7Cw8wyqZcvPJz8zCwzJz8zyx0PZmpmuVXt7/AVw8nPzDKJgCYPZmpmeeRmr5nlTr0886v9uquZdbsIFbV0RtKFkuZLelbSjZL6Shoo6S5Ji9I/BxTsf3E6PujzksZtzT04+ZlZZqUY2EDSEODrwJiIGE3yJdhEYDIwJyJGAnPSbdLxQCcC+wPjganpuKFd4uRnZplElHRgg17AtpJ6AduRDH4yAZie/j4dOCVdnwDcFBEbImIJsJhk3NAucfIzs4xEc0uPohZgUOt4nelydutZIuI14MfAUqAReCsi7gR2jYjGdJ9GoHUSnKLGCC2WOzzMLLNinuelVrU3sEH6LG8CMAJ4E5gp6YwOzlXUGKHFcvIzs0xK+G3vCcCSiFgJIOkW4HDgDUkNEdEoqQFoHTm2pGOEutlrZtlE8tyvmKUTS4GxkraTJOB4YCEwC5iU7jMJuC1dnwVMlNQnHSd0JPBoV2/DNT8zy6wUn7dFxCOS/gDMA5qAJ4BpQD9ghqSzSBLkqen+8yXNIJkErQk4PyK6PPGPk5+ZZRJph0dJzhVxCXDJFsUbSGqBbe0/BehwUORiOfmZWWZlHAC+2zj5mVlmGXp7q5aTn5llknRmOPmZWQ7Vw8AGTn5mlpmf+ZlZ7gSixYOZmlke1UHFz8nPzDJyh4eZ5VYdVP2c/Mwss7qu+Um6gg7ye0R8vSwRmVlVC6ClpY6THzC326Iws9oRQD3X/CJieuG2pO0jYn35QzKzalcP7/l1+rKOpMMkLSAZZwtJB0qaWvbIzKx6RZFLFSvmTcXLgHHAaoCIeAo4qpxBmVk1K27aymrvFCmqtzciXk0GWv1AlwcQNLM6UOW1umIUk/xelXQ4EJK2IZlnc2F5wzKzqhUQddDbW0yz91zgfJIp4l4DPpFum1luqcilenVa84uIVcDp3RCLmdWKOmj2FtPbu6ekP0paKWmFpNsk7dkdwZlZlcpJb+/vgBlAA7AbMBO4sZxBmVkVa33JuZilihWT/BQRv4mIpnS5garP6WZWTiWat7eiOvq2d2C6eo+kycBNJEnvS8CfuyE2M6tWddDb21GHx+Mkya71Ls8p+C2AH5QrKDOrbqryWl0xOvq2d0R3BmJmNaIGOjOKUdQXHpJGA6OAvq1lEXF9uYIys2pW/Z0Zxeg0+Um6BDiGJPndDpwIPAg4+ZnlVR3U/Irp7f0icDzwekT8A3Ag0KesUZlZdWspcqlixSS/9yKiBWiStCOwAvBLzmZ5VcL3/CT1l/QHSc9JWpgOoTdQ0l2SFqV/DijY/2JJiyU9L2nc1txGMclvrqT+wNUkPcDzgEe35qJmVtsUxS1FuBy4IyL2JWlVLgQmA3MiYiQwJ91G0ihgIrA/MB6YKqlnV++hmG97v5qu/kLSHcCOEfF0Vy9oZnWgBM/80pbkUcDfA0TERmCjpAkk/QwA04F7gf8LTABuiogNwBJJi4FDgIe6cv2OXnI+qKPfImJeVy5oZrkySFLhfEDTImJaur4nsBL4taQDSVqW3wB2jYhGgIholDQ43X8I8HDBuZalZV3SUc3v0g5+C+C4rl60PS88vR3jdvtEqU9rZfSxAc9VOgTLYMlb75fkPBlecl4VEWPa+a0XcBBwQUQ8Iuly0iZue5dto6zLddCOXnI+tqsnNbM6FpTq87ZlwLKIeCTd/gNJ8ntDUkNa62sg6WRt3X9YwfFDgeVdvXgxHR5mZpsrwZBWEfE6yUjx+6RFxwMLgFnApLRsEnBbuj4LmCipj6QRwEi2ovO1qC88zMwKlfDb3guA36ZTZLwE/ANJpWyGpLOApcCpABExX9IMkgTZBJwfEV2eT8jJz8yyK1Hyi4gngbaeCR7fzv5TgCmluHYxIzlL0hmSvptu7y7pkFJc3MxqVE5Gcp4KHAaclm6/DVxZtojMrKoV+4JztQ97VUyz99CIOEjSEwARsTZtn5tZXtX5YKatNqWfkASApF2o+k+Wzaycqr1WV4ximr0/A/4TGCxpCslwVj8sa1RmVt3q4JlfMd/2/lbS4yS9LwJOiYiFZY/MzKpTDTzPK0Yxg5nuDrwL/LGwLCKWljMwM6tieUh+JDO1tU5k1BcYATxPMqyMmeWQ6uCpfzHN3gMKt9PRXs5pZ3czs5qQ+QuPiJgn6eByBGNmNSIPzV5J/1iw2YNkCJqVZYvIzKpbXjo8gB0K1ptIngHeXJ5wzKwm1HvyS19u7hcR3+qmeMysFtRz8pPUKyKaOhrO3szyR9R/b++jJM/3npQ0C5gJrG/9MSJuKXNsZlaNcvTMbyCwmmTOjtb3/QJw8jPLqzpPfoPTnt5n+TDptaqDWzezLquDDNBR8usJ9KPEMyaZWe2r92ZvY0R8v9siMbPaUefJr/ZHKzSz0ov67+1tcwIRM7O6rvlFxJruDMTMake9P/MzM2ubk5+Z5U4NDFFfDCc/M8tEuNlrZjnl5Gdm+eTkZ2a55ORnZrlTJ6O6FDNpuZnZ5ko4abmknpKekPSndHugpLskLUr/HFCw78WSFkt6XtK4rbkFJz8zy0wtxS1F+gawsGB7MjAnIkYCc9JtJI0CJpJMmzsemJqONt8lTn5mlpmiuKXT80hDgc8A1xQUTwCmp+vTgVMKym+KiA0RsQRYDBzS1Xtw8jOzbIpt8ibJb5CkuQXL2Vuc7TLg20BhPXHXiGgESP8cnJYPAV4t2G9ZWtYl7vAws+yK7/BYFRFj2vpB0snAioh4XNIxRZyrpGOLOvmZWSYl/MLjCOCzkk4C+gI7SroBeENSQ0Q0SmoAVqT7LwOGFRw/FFje1Yu72Wtmmaklilo6EhEXR8TQiBhO0pHxl4g4A5gFTEp3mwTclq7PAiZK6iNpBDCSZKK1LnHNz8yyKf/ABj8CZkg6C1gKnAoQEfMlzQAWAE3A+RHR3NWLOPmZWWalfsk5Iu4F7k3XV9POYMoRMQWYUoprOvmZWXZ18IWHk5+ZZVYPn7c5+ZlZdk5+ZpY7OZi9zczsIzySs5nlV9R+9nPyM7PMXPOzj/jHnyzl0BPe5s1VvTjnuH0A+KdfvMzQvTYAsP2Ozaxf15OvfnqfSoZpqSHD32XypfM/2G4Y+j6/+flw+u3QxLgvNvLW2t4ATL9sT+Y+sHOlwqwunr2tY5KuBVo/XB5drutUmzt/P5BZvx7Ety7/cPCJH547/IP1s7+7nPVv+6vCavHay9txwRcOBqBHj+D6e/7KQ3fvwqc/18it1w/llut2r3CE1akeOjzK+V/hdSQDDubKs4/04+217f0/JTjqs29yz60D2vndKunAsWt5/dVtWdHYt9KhVL0SD2ZaEWWr+UXE/ZKGl+v8tWj0oetZu7IXy5f0qXQo1oajT1zBvbcP/mD7f3z5NY7/7Bssmr8D1/zHXryzrncFo6siQV10eFS8/SXp7NaBDjexodLhlNWxp7zJvbf2r3QY1oZevVs49NhVPDg7SX5//v0Qzho/lq99YQxrVm7DV771YoUjrC6lGsm5kiqe/CJiWkSMiYgxvanfGlGPnsERJ73FfbOc/KrRmL9dw4sLduDN1dsA8ObqbWhpERHijj80sPcB6yocYZUp4QRGlVLx5JcXBx35Nq8u7sOqxm0qHYq14eiT3uC+gibvgEEftkIOP2EVryzavhJhVaXWl5xrvebnV11KbPLUV/j4Ye+w08Ambpi7gN9cuiuzb9yZoye4yVut+vRt5pOHr+WKf/nw9aOzLnqJPfd9hwh4Y3lfrvje3hWMsMpE5wOV1oJyvupyI3AMyQQmy4BLIuJX5bpetfjRV/dos/zSC/3KRLXa8H5PJh7xt5uV/fji/SoUTY2o/dxX1t7e08p1bjOrrGpv0hbDzV4zyyYAN3vNLJdqP/c5+ZlZdm72mlkuubfXzPKnBl5gLoaTn5llkrzkXPvZz8nPzLKr8hFbiuHkZ2aZueZnZvnjZ35mlk/+ttfM8qoOmr0e0srMsonSDGMvaZikeyQtlDRf0jfS8oGS7pK0KP1zQMExF0taLOl5SeO25jac/Mwsu4jilo41ARdFxH7AWOB8SaOAycCciBgJzEm3SX+bCOxPMj/QVEk9u3oLTn5mll0JRnKOiMaImJeuvw0sBIYAE4Dp6W7TgVPS9QnATRGxISKWAIuBQ7p6C37mZ2aZqaXoF/0GSZpbsD0tIqZ95HzJZGefBB4Bdo2IRkgSpKTWIbaHAA8XHLYsLesSJz8zyybI8pLzqogY09EOkvoBNwP/JyLWSWp313ai6RI3e80sExEoils6PZfUmyTx/TYibkmL35DUkP7eAKxIy5cBwwoOHwos7+p9OPmZWXYl6PBQUsX7FbAwIn5S8NMsYFK6Pgm4raB8oqQ+kkYAI4FHu3oLbvaaWXalec/vCOBM4BlJT6Zl/wT8CJgh6SxgKXBqcsmYL2kGsICkp/j8iGju6sWd/Mwsm2zP/No/TcSDtP0cD+D4do6ZAkzZ+qs7+ZlZF2To7a1aTn5mllFRLzBXPSc/M8smcPIzs5yq/Vavk5+ZZefBTM0sn5z8zCx3IqC59tu9Tn5mlp1rfmaWS05+ZpY7AXgODzPLn4DwMz8zy5vAHR5mllN+5mdmueTkZ2b544ENzCyPAvCQVmaWS675mVn++PM2M8ujgPB7fmaWS/7Cw8xyyc/8zCx3Itzba2Y55ZqfmeVPEM1dniu8ajj5mVk2HtLKzHLLr7qYWd4EEK75mVnuhAczNbOcqocOD0UVdVlLWgm8Uuk4ymAQsKrSQVgm9fpvtkdE7LI1J5B0B8nfTzFWRcT4rbleuVRV8qtXkuZGxJhKx2HF879Z/etR6QDMzCrByc/McsnJr3tMq3QAlpn/zeqcn/mZWS655mdmueTkZ2a55ORXRpLGS3pe0mJJkysdj3VO0rWSVkh6ttKxWHk5+ZWJpJ7AlcCJwCjgNEmjKhuVFeE6oCpfyrXScvIrn0OAxRHxUkRsBG4CJlQ4JutERNwPrKl0HFZ+Tn7lMwR4tWB7WVpmZlXAya981EaZ3ysyqxJOfuWzDBhWsD0UWF6hWMxsC05+5fMYMFLSCEnbABOBWRWOycxSTn5lEhFNwNeA2cBCYEZEzK9sVNYZSTcCDwH7SFom6axKx2Tl4c/bzCyXXPMzs1xy8jOzXHLyM7NccvIzs1xy8jOzXHLyqyGSmiU9KelZSTMlbbcV57pO0hfT9Ws6GnRB0jGSDu/CNV6W9JFZvtor32KfdzJe63uSvpk1RssvJ7/a8l5EfCIiRgMbgXMLf0xHksksIr4SEQs62OUYIHPyM6tmTn616wHgb9Ja2T2Sfgc8I6mnpP+Q9JikpyWdA6DEzyUtkPRnYHDriSTdK2lMuj5e0jxJT0maI2k4SZK9MK11HilpF0k3p9d4TNIR6bE7S7pT0hOSfknb3zdvRtKtkh6XNF/S2Vv8dmkayxxJu6Rle0m6Iz3mAUn7luIv0/KnV6UDsOwk9SIZJ/COtOgQYHRELEkTyFsRcbCkPsB/S7oT+CSwD3AAsCuwALh2i/PuAlwNHJWea2BErJH0C+CdiPhxut/vgJ9GxIOSdif5imU/4BLgwYj4vqTPAJsls3b87/Qa2wKPSbo5IlYD2wPzIuIiSd9Nz/01komFzo2IRZIOBaYCx3Xhr9Fyzsmvtmwr6cl0/QHgVyTN0UcjYkla/nfAx1uf5wE7ASOBo4AbI6IZWC7pL22cfyxwf+u5IqK9ce1OAEZJH1TsdpS0Q3qNz6fH/lnS2iLu6euSPpeuD0tjXQ20AL9Py28AbpHUL73fmQXX7lPENcw+wsmvtrwXEZ8oLEiTwPrCIuCCiJi9xX4n0fmQWipiH0gelxwWEe+1EUvR30tKOoYkkR4WEe9Kuhfo287ukV73zS3/Dsy6ws/86s9s4DxJvQEk7S1pe+B+YGL6TLABOLaNYx8CjpY0Ij12YFr+NrBDwX53kjRBSfdrTUb3A6enZScCAzqJdSdgbZr49iWpebbqAbTWXr9M0pxeByyRdGp6DUk6sJNrmLXJya/+XEPyPG9eOgnPL0lq+P8JLAKeAa4C7tvywIhYSfKc7hZJT/Fhs/OPwOdaOzyArwNj0g6VBXzY6/wvwFGS5pE0v5d2EusdQC9JTwM/AB4u+G09sL+kx0me6X0/LT8dOCuNbz6eGsC6yKO6mFkuueZnZrnk5GdmueTkZ2a55ORnZrnk5GdmueTkZ2a55ORnZrn0/wEnCPyQ/quy6QAAAABJRU5ErkJggg==\n",
      "text/plain": [
       "<Figure size 432x288 with 2 Axes>"
      ]
     },
     "metadata": {
      "needs_background": "light"
     },
     "output_type": "display_data"
=======
>>>>>>> Roger
    }
   ],
   "source": [
    "df_age_gender = pd.DataFrame(df_mixed_norm[['age', 'stroke']])\n",
    "df_age_gender['gender'] = df['gender']\n",
    "df_age_gender.head()"
   ]
  },
  {
   "cell_type": "code",
   "execution_count": 28,
   "metadata": {},
   "outputs": [
    {
     "name": "stdout",
     "output_type": "stream",
     "text": [
      "              precision    recall  f1-score   support\n",
      "\n",
      "           0       0.99      0.69      0.81      1594\n",
      "           1       0.13      0.84      0.23        92\n",
      "\n",
      "    accuracy                           0.70      1686\n",
      "   macro avg       0.56      0.76      0.52      1686\n",
      "weighted avg       0.94      0.70      0.78      1686\n",
      "\n",
      "Mean f1: 0.20132408107103753\n",
      "Mean recall: 0.8615102040816326\n",
      "Mean roc: 0.8174063660031914\n"
     ]
    },
    {
     "data": {
      "image/png": "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\n",
      "text/plain": [
       "<Figure size 432x288 with 2 Axes>"
      ]
     },
     "metadata": {
      "needs_background": "light"
     },
     "output_type": "display_data"
    }
   ],
   "source": [
    "test_feature_set(df_age_gender, master_scores, 'Age and gender')"
   ]
  },
  {
   "cell_type": "markdown",
   "metadata": {},
   "source": [
<<<<<<< HEAD
    "## Feature selection based on feature importance from Naive Bayes"
   ]
  },
  {
   "cell_type": "code",
   "execution_count": 38,
   "metadata": {},
   "outputs": [],
   "source": [
    "selected = ['av_(80.0, 85.6]',\n",
    "'wo_self-employed',\n",
    "'sm_formerly-smoked',\n",
    "'ag_(38.0, 45.0]',\n",
    "'ever_married',\n",
    "'ag_(11.0, 20.0]',\n",
    "'ag_(30.0, 38.0]',\n",
    "'ag_(-0.1, 11.0]',\n",
    "'ag_(20.0, 30.0]',\n",
    "'bm_(29.9, 31.8]',\n",
    "'wo_children',\n",
    "'av_(192.2, 271.7]',\n",
    "'hypertension',\n",
    "'ag_(65.0, 75.0]',\n",
    "'heart_disease',\n",
    "'ag_(75.0, 82.0]',\n",
    " 'stroke']"
   ]
  },
  {
   "cell_type": "code",
   "execution_count": 39,
   "metadata": {},
   "outputs": [],
   "source": [
    "\n",
    "    \n",
    "    \n",
    "    "
   ]
  },
  {
   "cell_type": "code",
   "execution_count": 40,
   "metadata": {},
   "outputs": [],
   "source": [
    "df_sel = df_dummies[selected]"
   ]
  },
  {
   "cell_type": "code",
   "execution_count": 41,
   "metadata": {},
   "outputs": [],
   "source": [
    "X = df_sel.drop(['stroke'], axis=1)\n",
    "y = df_sel['stroke']\n",
    "\n",
    "\n",
    "weights = {0:0.05, 1:1.0} # 0.02 : 1 finds all stroke labels, but a huge number of false positives as welll\n",
    "model = SVC(gamma='scale', class_weight=weights, probability=True)\n",
    "\n",
    "model.fit(X_train, y_train)\n",
    "labels = y.unique()\n",
    "\n",
    "y_true = y_test\n",
    "y_pred = model.predict(X_test)"
=======
    "## Automated feature selection\n",
    "Python has various algorithms for feature selection. The first is SelectKBest using chi2 as a measure, which will test the dependency between our features. This will be fed the normalised continuous features, and the dummy encoded discrete features."
>>>>>>> Roger
   ]
  },
  {
   "cell_type": "code",
<<<<<<< HEAD
   "execution_count": 42,
=======
   "execution_count": 29,
>>>>>>> Roger
   "metadata": {},
   "outputs": [],
   "source": [
    "from sklearn.feature_selection import SelectKBest, chi2, mutual_info_classif"
   ]
  },
  {
   "cell_type": "code",
<<<<<<< HEAD
   "execution_count": 43,
=======
   "execution_count": 30,
>>>>>>> Roger
   "metadata": {},
   "outputs": [
    {
     "data": {
      "text/html": [
       "<div>\n",
       "<style scoped>\n",
       "    .dataframe tbody tr th:only-of-type {\n",
       "        vertical-align: middle;\n",
       "    }\n",
       "\n",
       "    .dataframe tbody tr th {\n",
       "        vertical-align: top;\n",
       "    }\n",
       "\n",
       "    .dataframe thead th {\n",
       "        text-align: right;\n",
       "    }\n",
       "</style>\n",
       "<table border=\"1\" class=\"dataframe\">\n",
       "  <thead>\n",
       "    <tr style=\"text-align: right;\">\n",
       "      <th></th>\n",
       "      <th>heart_disease</th>\n",
       "      <th>hypertension</th>\n",
       "      <th>gender</th>\n",
       "      <th>ever_married</th>\n",
       "      <th>residence_type</th>\n",
       "      <th>stroke</th>\n",
       "      <th>age</th>\n",
       "      <th>bmi</th>\n",
       "      <th>avg_glucose_level</th>\n",
       "      <th>wo_self-employed</th>\n",
       "      <th>wo_children</th>\n",
       "      <th>wo_govt-job</th>\n",
       "      <th>wo_never-worked</th>\n",
       "      <th>sm_unknown</th>\n",
       "      <th>sm_formerly-smoked</th>\n",
       "      <th>sm_smokes</th>\n",
       "      <th>mca0</th>\n",
       "      <th>mca1</th>\n",
       "    </tr>\n",
       "  </thead>\n",
       "  <tbody>\n",
       "    <tr>\n",
       "      <th>0</th>\n",
       "      <td>1</td>\n",
       "      <td>0</td>\n",
       "      <td>1</td>\n",
       "      <td>1</td>\n",
       "      <td>0</td>\n",
       "      <td>1</td>\n",
       "      <td>0.817073</td>\n",
       "      <td>0.512658</td>\n",
       "      <td>0.801265</td>\n",
       "      <td>0</td>\n",
       "      <td>0</td>\n",
       "      <td>0</td>\n",
       "      <td>0</td>\n",
       "      <td>0</td>\n",
       "      <td>1</td>\n",
       "      <td>0</td>\n",
       "      <td>0.044480</td>\n",
       "      <td>0.114411</td>\n",
       "    </tr>\n",
       "    <tr>\n",
       "      <th>1</th>\n",
       "      <td>0</td>\n",
       "      <td>0</td>\n",
       "      <td>0</td>\n",
       "      <td>1</td>\n",
       "      <td>1</td>\n",
       "      <td>1</td>\n",
       "      <td>0.743902</td>\n",
       "      <td>0.354430</td>\n",
       "      <td>0.679023</td>\n",
       "      <td>1</td>\n",
       "      <td>0</td>\n",
       "      <td>0</td>\n",
       "      <td>0</td>\n",
       "      <td>0</td>\n",
       "      <td>0</td>\n",
       "      <td>0</td>\n",
       "      <td>0.055230</td>\n",
       "      <td>0.182658</td>\n",
       "    </tr>\n",
       "    <tr>\n",
       "      <th>2</th>\n",
       "      <td>1</td>\n",
       "      <td>0</td>\n",
       "      <td>1</td>\n",
       "      <td>1</td>\n",
       "      <td>1</td>\n",
       "      <td>1</td>\n",
       "      <td>0.975610</td>\n",
       "      <td>0.426160</td>\n",
       "      <td>0.234512</td>\n",
       "      <td>0</td>\n",
       "      <td>0</td>\n",
       "      <td>0</td>\n",
       "      <td>0</td>\n",
       "      <td>0</td>\n",
       "      <td>0</td>\n",
       "      <td>0</td>\n",
       "      <td>0.111160</td>\n",
       "      <td>0.241149</td>\n",
       "    </tr>\n",
       "    <tr>\n",
       "      <th>3</th>\n",
       "      <td>0</td>\n",
       "      <td>0</td>\n",
       "      <td>0</td>\n",
       "      <td>1</td>\n",
       "      <td>0</td>\n",
       "      <td>1</td>\n",
       "      <td>0.597561</td>\n",
       "      <td>0.466245</td>\n",
       "      <td>0.536008</td>\n",
       "      <td>0</td>\n",
       "      <td>0</td>\n",
       "      <td>0</td>\n",
       "      <td>0</td>\n",
       "      <td>0</td>\n",
       "      <td>0</td>\n",
       "      <td>1</td>\n",
       "      <td>0.071065</td>\n",
       "      <td>0.345800</td>\n",
       "    </tr>\n",
       "    <tr>\n",
       "      <th>4</th>\n",
       "      <td>0</td>\n",
       "      <td>1</td>\n",
       "      <td>0</td>\n",
       "      <td>1</td>\n",
       "      <td>1</td>\n",
       "      <td>1</td>\n",
       "      <td>0.963415</td>\n",
       "      <td>0.246835</td>\n",
       "      <td>0.549349</td>\n",
       "      <td>1</td>\n",
       "      <td>0</td>\n",
       "      <td>0</td>\n",
       "      <td>0</td>\n",
       "      <td>0</td>\n",
       "      <td>0</td>\n",
       "      <td>0</td>\n",
       "      <td>0.097025</td>\n",
       "      <td>0.253891</td>\n",
       "    </tr>\n",
       "  </tbody>\n",
       "</table>\n",
       "</div>"
      ],
      "text/plain": [
<<<<<<< HEAD
       "0.22738889577905827"
      ]
     },
     "execution_count": 43,
=======
       "   heart_disease  hypertension  gender  ever_married  residence_type  stroke  \\\n",
       "0              1             0       1             1               0       1   \n",
       "1              0             0       0             1               1       1   \n",
       "2              1             0       1             1               1       1   \n",
       "3              0             0       0             1               0       1   \n",
       "4              0             1       0             1               1       1   \n",
       "\n",
       "        age       bmi  avg_glucose_level  wo_self-employed  wo_children  \\\n",
       "0  0.817073  0.512658           0.801265                 0            0   \n",
       "1  0.743902  0.354430           0.679023                 1            0   \n",
       "2  0.975610  0.426160           0.234512                 0            0   \n",
       "3  0.597561  0.466245           0.536008                 0            0   \n",
       "4  0.963415  0.246835           0.549349                 1            0   \n",
       "\n",
       "   wo_govt-job  wo_never-worked  sm_unknown  sm_formerly-smoked  sm_smokes  \\\n",
       "0            0                0           0                   1          0   \n",
       "1            0                0           0                   0          0   \n",
       "2            0                0           0                   0          0   \n",
       "3            0                0           0                   0          1   \n",
       "4            0                0           0                   0          0   \n",
       "\n",
       "       mca0      mca1  \n",
       "0  0.044480  0.114411  \n",
       "1  0.055230  0.182658  \n",
       "2  0.111160  0.241149  \n",
       "3  0.071065  0.345800  \n",
       "4  0.097025  0.253891  "
      ]
     },
     "execution_count": 30,
>>>>>>> Roger
     "metadata": {},
     "output_type": "execute_result"
    }
   ],
   "source": [
    "df_full = pd.DataFrame()\n",
    "to_copy1 = ['heart_disease', 'hypertension', 'gender', 'ever_married', 'residence_type', 'stroke']\n",
    "df_full[to_copy1] = df[to_copy1]\n",
    "to_copy2 = ['age', 'bmi', 'avg_glucose_level']\n",
    "df_full[to_copy2] = df[to_copy2]\n",
    "to_copy3 = ['wo_self-employed', 'wo_children', 'wo_govt-job', 'wo_never-worked', 'sm_unknown', 'sm_formerly-smoked', 'sm_smokes']\n",
    "df_full[to_copy3] = df_dummies[to_copy3]\n",
    "df_full[['mca0', 'mca1']] = df_mixed_mca[[0, 1]]\n",
    "\n",
    "scaler = MinMaxScaler()\n",
    "df_full[['age', 'avg_glucose_level', 'bmi', 'mca0', 'mca1']] = scaler.fit_transform(df_full[['age', 'avg_glucose_level', 'bmi', 'mca0', 'mca1']])\n",
    "df_full.head()"
   ]
  },
  {
   "cell_type": "code",
<<<<<<< HEAD
   "execution_count": 44,
   "metadata": {},
   "outputs": [
    {
     "name": "stdout",
     "output_type": "stream",
     "text": [
      "              precision    recall  f1-score   support\n",
      "\n",
      "           0       0.99      0.74      0.84      1594\n",
      "           1       0.15      0.82      0.26        92\n",
      "\n",
      "    accuracy                           0.74      1686\n",
      "   macro avg       0.57      0.78      0.55      1686\n",
      "weighted avg       0.94      0.74      0.81      1686\n",
      "\n"
     ]
    },
    {
     "data": {
      "image/png": "iVBORw0KGgoAAAANSUhEUgAAAT8AAAEGCAYAAAAT05LOAAAABHNCSVQICAgIfAhkiAAAAAlwSFlzAAALEgAACxIB0t1+/AAAADh0RVh0U29mdHdhcmUAbWF0cGxvdGxpYiB2ZXJzaW9uMy4yLjEsIGh0dHA6Ly9tYXRwbG90bGliLm9yZy+j8jraAAAaJklEQVR4nO3debgV1Znv8e+PQVBRARFzBBS0cUCMiUFFbWfToPEGM3iDUS/d1zwOMSbXNsnFvumYTpp0nu6YaIyYoDFiTDQQbSWJLSpx7DghjoAKiiJylFFRVOCc894/qo5u8Ay7DnufPdTv8zz1ULV2DW/B4+tatarWUkRgZpY3PSodgJlZJTj5mVkuOfmZWS45+ZlZLjn5mVku9ap0AIUGDewZw4f1rnQYlsGCxl0qHYJlsPHtNTS9t15bc45xx24fq9c0F7Xv409vmB0R47fmeuVSVclv+LDePDp7WKXDsAwO+sF5lQ7BMnhh5k+3+hyr1zTz6Ozdi9q3Z8OiQVt9wTKpquRnZtUvgBZaKh3GVnPyM7NMgmBTFNfsrWZOfmaWmWt+ZpY7QdBcB5/FOvmZWWYtOPmZWc4E0OzkZ2Z55JqfmeVOAJv8zM/M8iYIN3vNLIcCmms/9zn5mVk2yRcetc/Jz8wyEs1s1dgIVcHJz8wySTo8nPzMLGeS9/yc/Mwsh1pc8zOzvHHNz8xyKRDNdTADhpOfmWXmZq+Z5U4gNkbPSoex1Zz8zCyT5CVnN3vNLIfc4WFmuRMhmsM1PzPLoRbX/Mwsb5IOj9pPHbV/B2bWrdzhYWa51ez3/Mwsb/yFh5nlVksd9PbW/h2YWbdKBjboUdTSGUnXSloh6dmCsoGS7pK0KP1zQMFvF0taLOl5SeMKyj8l6Zn0t59J6rRd7uRnZpkEYlP0LGopwnXA+C3KJgNzImIkMCfdRtIoYCKwf3rMVEmtF7kKOBsYmS5bnvMjnPzMLJMIaI4eRS2dnyvuB9ZsUTwBmJ6uTwdOKSi/KSI2RMQSYDFwiKQGYMeIeCgiAri+4Jh2+ZmfmWWkLC85D5I0t2B7WkRM6+SYXSOiESAiGiUNTsuHAA8X7LcsLduUrm9Z3iEnPzPLJCDL522rImJMiS7dVsaNDso75ORnZpmV+VWXNyQ1pLW+BmBFWr4MGFaw31BgeVo+tI3yDvmZn5llEoiWKG7polnApHR9EnBbQflESX0kjSDp2Hg0bSK/LWls2sv7vwqOaZdrfmaWSTJ1ZWlSh6QbgWNIng0uAy4BfgTMkHQWsBQ4FSAi5kuaASwAmoDzI6I5PdV5JD3H2wL/lS4dcvIzs4xKN2l5RJzWzk/Ht7P/FGBKG+VzgdFZru3kZ2aZBPXxhYeTn5ll5pGczSx3IuSan5nlT9Lh4dnbzCx3PIeHmeVQ0uHhZ35mlkMezNTMcqf1C49a5+RnZpl5AiMzy50I2NTi5GdmOZM0e538zCyH/IVHTl164TAeuXtH+g9qYto9zwNw/x934jeXfoxXF/XlZ7e/wN4HvgfAX24ZwMypgz84dsnCvlw5+wX2Gv0emzaKK//fEJ5+qB8S/P3kRo78zFsVuac86qEWbvjKzaxctz3f+P1JnLDfi5xz9FxGDFrLmb/6PAsbk3+3Xj2a+eeT72PfhlX06tHCn57em1//90EVjr5y6uVVl7LWXSWNT2dZWixpcjmv1Z3+7ktrmPLblzYrG77v+3z3mpc5YOz6zcqP+/xarrr7ea66+3m+fcUr7DpsI3uNThLjjZfvSv9BTVz74HNcfd9zfHzsO912DwanHfIMS1Z9MDEYL64cyDdnjmPeKw2b7XfCqJfYplczX/rl/+T0q7/AFw5aQMNO67o73CqSNHuLWapZ2aJLZ1W6EjgRGAWcls6+VPMOGLueHQY0b1a2+8gNDPubDR0ed8+tAzjmlLUfbM++aSATL0gGqe3RA3baubm9Q63EBu/wDkeOXMqtT+z3QdmSVQN4ZXX/j+wbAdv2bqKnWujTu5lNzT1Zv2Gb7gy36rSk83h0tlSzcjZ7DwEWR8RLAJJuIpl9aUEZr1nV7p/Vn+/9egkA77yVfBs5/d8/xtN/7UfD8I2cP2UZA3ZpqmSIufHNcX/l8rvHsl2fjZ3uO2fhnhyzz8vceeH19O3dxKV3Hs669/uWP8gqlfT21v63veWslw4BXi3YbnNGJUlnS5orae7K1fVb83lu3nb02baF4fu+D0BzE6xq3IZRB6/nyjtfYL9Prefq7+9W4Sjz4ciRr7BmfV8Wvr5LUfvvv9sKmlvEuMvO5OQrTueMw55iSP/8Nnu7YRj7blHO5FfUjEoRMS0ixkTEmF12rv3/m7Tn3tv6b9bk3XFgM322beaIE5MOjiNPfpNFz2xbqfBy5cBhr3P03q/wpwtu4N8+fzdjRiznX0+Z0+7+J45ezEMv7k5TS0/WvrstT736MUbttqLd/fOgHpq95Ux+7c20lDstLfDAn/pzzIQ3PyiTYOyn1/H0X/sB8OSDO7DH3h0/M7TS+PlfDuXEy8/k5CvO4OJbTmDukt34zq1tjpoOQOO6fhw8/DUg6Nt7EwcMWcHLBR0ledPa21vrNb9yPvN7DBiZzrL0GjAR+HIZr9dt/u28PXj6oX68taYXp39qFGde9Do7DGhm6neG8NbqXvzzmXuy1/7v8cMbkx7hZx7ux6CGTTTssfnzpbO+s5x/v2APfnFJT3bauYmLfrK0ErdjqWP3WcK3xz/IgO3e42cT/4sX3tiZ8393MjMeG833PnsPM8+dgYBZT+3DohU7Vzrciqr2ntxiKKLTuX27fnLpJOAyoCdwbTr5SLvGHNg3Hp09rKNdrMoc9IPzKh2CZfDCzJ/y7opXt6pKNmDfwXHctV8sat9bjrjq8RJOWl5SZX3JOSJuB24v5zXMrPtVe5O2GP7Cw8wyqZcvPJz8zCwzJz8zyx0PZmpmuVXt7/AVw8nPzDKJgCYPZmpmeeRmr5nlTr0886v9uquZdbsIFbV0RtKFkuZLelbSjZL6Shoo6S5Ji9I/BxTsf3E6PujzksZtzT04+ZlZZqUY2EDSEODrwJiIGE3yJdhEYDIwJyJGAnPSbdLxQCcC+wPjganpuKFd4uRnZplElHRgg17AtpJ6AduRDH4yAZie/j4dOCVdnwDcFBEbImIJsJhk3NAucfIzs4xEc0uPohZgUOt4nelydutZIuI14MfAUqAReCsi7gR2jYjGdJ9GoHUSnKLGCC2WOzzMLLNinuelVrU3sEH6LG8CMAJ4E5gp6YwOzlXUGKHFcvIzs0xK+G3vCcCSiFgJIOkW4HDgDUkNEdEoqQFoHTm2pGOEutlrZtlE8tyvmKUTS4GxkraTJOB4YCEwC5iU7jMJuC1dnwVMlNQnHSd0JPBoV2/DNT8zy6wUn7dFxCOS/gDMA5qAJ4BpQD9ghqSzSBLkqen+8yXNIJkErQk4PyK6PPGPk5+ZZRJph0dJzhVxCXDJFsUbSGqBbe0/BehwUORiOfmZWWZlHAC+2zj5mVlmGXp7q5aTn5llknRmOPmZWQ7Vw8AGTn5mlpmf+ZlZ7gSixYOZmlke1UHFz8nPzDJyh4eZ5VYdVP2c/Mwss7qu+Um6gg7ye0R8vSwRmVlVC6ClpY6THzC326Iws9oRQD3X/CJieuG2pO0jYn35QzKzalcP7/l1+rKOpMMkLSAZZwtJB0qaWvbIzKx6RZFLFSvmTcXLgHHAaoCIeAo4qpxBmVk1K27aymrvFCmqtzciXk0GWv1AlwcQNLM6UOW1umIUk/xelXQ4EJK2IZlnc2F5wzKzqhUQddDbW0yz91zgfJIp4l4DPpFum1luqcilenVa84uIVcDp3RCLmdWKOmj2FtPbu6ekP0paKWmFpNsk7dkdwZlZlcpJb+/vgBlAA7AbMBO4sZxBmVkVa33JuZilihWT/BQRv4mIpnS5garP6WZWTiWat7eiOvq2d2C6eo+kycBNJEnvS8CfuyE2M6tWddDb21GHx+Mkya71Ls8p+C2AH5QrKDOrbqryWl0xOvq2d0R3BmJmNaIGOjOKUdQXHpJGA6OAvq1lEXF9uYIys2pW/Z0Zxeg0+Um6BDiGJPndDpwIPAg4+ZnlVR3U/Irp7f0icDzwekT8A3Ag0KesUZlZdWspcqlixSS/9yKiBWiStCOwAvBLzmZ5VcL3/CT1l/QHSc9JWpgOoTdQ0l2SFqV/DijY/2JJiyU9L2nc1txGMclvrqT+wNUkPcDzgEe35qJmVtsUxS1FuBy4IyL2JWlVLgQmA3MiYiQwJ91G0ihgIrA/MB6YKqlnV++hmG97v5qu/kLSHcCOEfF0Vy9oZnWgBM/80pbkUcDfA0TERmCjpAkk/QwA04F7gf8LTABuiogNwBJJi4FDgIe6cv2OXnI+qKPfImJeVy5oZrkySFLhfEDTImJaur4nsBL4taQDSVqW3wB2jYhGgIholDQ43X8I8HDBuZalZV3SUc3v0g5+C+C4rl60PS88vR3jdvtEqU9rZfSxAc9VOgTLYMlb75fkPBlecl4VEWPa+a0XcBBwQUQ8Iuly0iZue5dto6zLddCOXnI+tqsnNbM6FpTq87ZlwLKIeCTd/gNJ8ntDUkNa62sg6WRt3X9YwfFDgeVdvXgxHR5mZpsrwZBWEfE6yUjx+6RFxwMLgFnApLRsEnBbuj4LmCipj6QRwEi2ovO1qC88zMwKlfDb3guA36ZTZLwE/ANJpWyGpLOApcCpABExX9IMkgTZBJwfEV2eT8jJz8yyK1Hyi4gngbaeCR7fzv5TgCmluHYxIzlL0hmSvptu7y7pkFJc3MxqVE5Gcp4KHAaclm6/DVxZtojMrKoV+4JztQ97VUyz99CIOEjSEwARsTZtn5tZXtX5YKatNqWfkASApF2o+k+Wzaycqr1WV4ximr0/A/4TGCxpCslwVj8sa1RmVt3q4JlfMd/2/lbS4yS9LwJOiYiFZY/MzKpTDTzPK0Yxg5nuDrwL/LGwLCKWljMwM6tieUh+JDO1tU5k1BcYATxPMqyMmeWQ6uCpfzHN3gMKt9PRXs5pZ3czs5qQ+QuPiJgn6eByBGNmNSIPzV5J/1iw2YNkCJqVZYvIzKpbXjo8gB0K1ptIngHeXJ5wzKwm1HvyS19u7hcR3+qmeMysFtRz8pPUKyKaOhrO3szyR9R/b++jJM/3npQ0C5gJrG/9MSJuKXNsZlaNcvTMbyCwmmTOjtb3/QJw8jPLqzpPfoPTnt5n+TDptaqDWzezLquDDNBR8usJ9KPEMyaZWe2r92ZvY0R8v9siMbPaUefJr/ZHKzSz0ov67+1tcwIRM7O6rvlFxJruDMTMake9P/MzM2ubk5+Z5U4NDFFfDCc/M8tEuNlrZjnl5Gdm+eTkZ2a55ORnZrlTJ6O6FDNpuZnZ5ko4abmknpKekPSndHugpLskLUr/HFCw78WSFkt6XtK4rbkFJz8zy0wtxS1F+gawsGB7MjAnIkYCc9JtJI0CJpJMmzsemJqONt8lTn5mlpmiuKXT80hDgc8A1xQUTwCmp+vTgVMKym+KiA0RsQRYDBzS1Xtw8jOzbIpt8ibJb5CkuQXL2Vuc7TLg20BhPXHXiGgESP8cnJYPAV4t2G9ZWtYl7vAws+yK7/BYFRFj2vpB0snAioh4XNIxRZyrpGOLOvmZWSYl/MLjCOCzkk4C+gI7SroBeENSQ0Q0SmoAVqT7LwOGFRw/FFje1Yu72Wtmmaklilo6EhEXR8TQiBhO0pHxl4g4A5gFTEp3mwTclq7PAiZK6iNpBDCSZKK1LnHNz8yyKf/ABj8CZkg6C1gKnAoQEfMlzQAWAE3A+RHR3NWLOPmZWWalfsk5Iu4F7k3XV9POYMoRMQWYUoprOvmZWXZ18IWHk5+ZZVYPn7c5+ZlZdk5+ZpY7OZi9zczsIzySs5nlV9R+9nPyM7PMXPOzj/jHnyzl0BPe5s1VvTjnuH0A+KdfvMzQvTYAsP2Ozaxf15OvfnqfSoZpqSHD32XypfM/2G4Y+j6/+flw+u3QxLgvNvLW2t4ATL9sT+Y+sHOlwqwunr2tY5KuBVo/XB5drutUmzt/P5BZvx7Ety7/cPCJH547/IP1s7+7nPVv+6vCavHay9txwRcOBqBHj+D6e/7KQ3fvwqc/18it1w/llut2r3CE1akeOjzK+V/hdSQDDubKs4/04+217f0/JTjqs29yz60D2vndKunAsWt5/dVtWdHYt9KhVL0SD2ZaEWWr+UXE/ZKGl+v8tWj0oetZu7IXy5f0qXQo1oajT1zBvbcP/mD7f3z5NY7/7Bssmr8D1/zHXryzrncFo6siQV10eFS8/SXp7NaBDjexodLhlNWxp7zJvbf2r3QY1oZevVs49NhVPDg7SX5//v0Qzho/lq99YQxrVm7DV771YoUjrC6lGsm5kiqe/CJiWkSMiYgxvanfGlGPnsERJ73FfbOc/KrRmL9dw4sLduDN1dsA8ObqbWhpERHijj80sPcB6yocYZUp4QRGlVLx5JcXBx35Nq8u7sOqxm0qHYq14eiT3uC+gibvgEEftkIOP2EVryzavhJhVaXWl5xrvebnV11KbPLUV/j4Ye+w08Ambpi7gN9cuiuzb9yZoye4yVut+vRt5pOHr+WKf/nw9aOzLnqJPfd9hwh4Y3lfrvje3hWMsMpE5wOV1oJyvupyI3AMyQQmy4BLIuJX5bpetfjRV/dos/zSC/3KRLXa8H5PJh7xt5uV/fji/SoUTY2o/dxX1t7e08p1bjOrrGpv0hbDzV4zyyYAN3vNLJdqP/c5+ZlZdm72mlkuubfXzPKnBl5gLoaTn5llkrzkXPvZz8nPzLKr8hFbiuHkZ2aZueZnZvnjZ35mlk/+ttfM8qoOmr0e0srMsonSDGMvaZikeyQtlDRf0jfS8oGS7pK0KP1zQMExF0taLOl5SeO25jac/Mwsu4jilo41ARdFxH7AWOB8SaOAycCciBgJzEm3SX+bCOxPMj/QVEk9u3oLTn5mll0JRnKOiMaImJeuvw0sBIYAE4Dp6W7TgVPS9QnATRGxISKWAIuBQ7p6C37mZ2aZqaXoF/0GSZpbsD0tIqZ95HzJZGefBB4Bdo2IRkgSpKTWIbaHAA8XHLYsLesSJz8zyybI8pLzqogY09EOkvoBNwP/JyLWSWp313ai6RI3e80sExEoils6PZfUmyTx/TYibkmL35DUkP7eAKxIy5cBwwoOHwos7+p9OPmZWXYl6PBQUsX7FbAwIn5S8NMsYFK6Pgm4raB8oqQ+kkYAI4FHu3oLbvaaWXalec/vCOBM4BlJT6Zl/wT8CJgh6SxgKXBqcsmYL2kGsICkp/j8iGju6sWd/Mwsm2zP/No/TcSDtP0cD+D4do6ZAkzZ+qs7+ZlZF2To7a1aTn5mllFRLzBXPSc/M8smcPIzs5yq/Vavk5+ZZefBTM0sn5z8zCx3IqC59tu9Tn5mlp1rfmaWS05+ZpY7AXgODzPLn4DwMz8zy5vAHR5mllN+5mdmueTkZ2b544ENzCyPAvCQVmaWS675mVn++PM2M8ujgPB7fmaWS/7Cw8xyyc/8zCx3Itzba2Y55ZqfmeVPEM1dniu8ajj5mVk2HtLKzHLLr7qYWd4EEK75mVnuhAczNbOcqocOD0UVdVlLWgm8Uuk4ymAQsKrSQVgm9fpvtkdE7LI1J5B0B8nfTzFWRcT4rbleuVRV8qtXkuZGxJhKx2HF879Z/etR6QDMzCrByc/McsnJr3tMq3QAlpn/zeqcn/mZWS655mdmueTkZ2a55ORXRpLGS3pe0mJJkysdj3VO0rWSVkh6ttKxWHk5+ZWJpJ7AlcCJwCjgNEmjKhuVFeE6oCpfyrXScvIrn0OAxRHxUkRsBG4CJlQ4JutERNwPrKl0HFZ+Tn7lMwR4tWB7WVpmZlXAya981EaZ3ysyqxJOfuWzDBhWsD0UWF6hWMxsC05+5fMYMFLSCEnbABOBWRWOycxSTn5lEhFNwNeA2cBCYEZEzK9sVNYZSTcCDwH7SFom6axKx2Tl4c/bzCyXXPMzs1xy8jOzXHLyM7NccvIzs1xy8jOzXHLyqyGSmiU9KelZSTMlbbcV57pO0hfT9Ws6GnRB0jGSDu/CNV6W9JFZvtor32KfdzJe63uSvpk1RssvJ7/a8l5EfCIiRgMbgXMLf0xHksksIr4SEQs62OUYIHPyM6tmTn616wHgb9Ja2T2Sfgc8I6mnpP+Q9JikpyWdA6DEzyUtkPRnYHDriSTdK2lMuj5e0jxJT0maI2k4SZK9MK11HilpF0k3p9d4TNIR6bE7S7pT0hOSfknb3zdvRtKtkh6XNF/S2Vv8dmkayxxJu6Rle0m6Iz3mAUn7luIv0/KnV6UDsOwk9SIZJ/COtOgQYHRELEkTyFsRcbCkPsB/S7oT+CSwD3AAsCuwALh2i/PuAlwNHJWea2BErJH0C+CdiPhxut/vgJ9GxIOSdif5imU/4BLgwYj4vqTPAJsls3b87/Qa2wKPSbo5IlYD2wPzIuIiSd9Nz/01komFzo2IRZIOBaYCx3Xhr9Fyzsmvtmwr6cl0/QHgVyTN0UcjYkla/nfAx1uf5wE7ASOBo4AbI6IZWC7pL22cfyxwf+u5IqK9ce1OAEZJH1TsdpS0Q3qNz6fH/lnS2iLu6euSPpeuD0tjXQ20AL9Py28AbpHUL73fmQXX7lPENcw+wsmvtrwXEZ8oLEiTwPrCIuCCiJi9xX4n0fmQWipiH0gelxwWEe+1EUvR30tKOoYkkR4WEe9Kuhfo287ukV73zS3/Dsy6ws/86s9s4DxJvQEk7S1pe+B+YGL6TLABOLaNYx8CjpY0Ij12YFr+NrBDwX53kjRBSfdrTUb3A6enZScCAzqJdSdgbZr49iWpebbqAbTWXr9M0pxeByyRdGp6DUk6sJNrmLXJya/+XEPyPG9eOgnPL0lq+P8JLAKeAa4C7tvywIhYSfKc7hZJT/Fhs/OPwOdaOzyArwNj0g6VBXzY6/wvwFGS5pE0v5d2EusdQC9JTwM/AB4u+G09sL+kx0me6X0/LT8dOCuNbz6eGsC6yKO6mFkuueZnZrnk5GdmueTkZ2a55ORnZrnk5GdmueTkZ2a55ORnZrn0/wEnCPyQ/quy6QAAAABJRU5ErkJggg==\n",
      "text/plain": [
       "<Figure size 432x288 with 2 Axes>"
      ]
     },
     "metadata": {
      "needs_background": "light"
     },
     "output_type": "display_data"
    }
   ],
=======
   "execution_count": 31,
   "metadata": {},
   "outputs": [],
>>>>>>> Roger
   "source": [
    "X = df_full.drop('stroke', axis=1)\n",
    "y = df_full['stroke']\n",
    "\n",
    "selector = SelectKBest(chi2, k=5)\n",
    "selector.fit(X, y)\n",
    "cols = selector.get_support(indices=True)\n",
    "X_selected = X.iloc[:,cols]"
   ]
  },
  {
   "cell_type": "markdown",
   "metadata": {},
   "source": [
<<<<<<< HEAD
    "## Mixed dataset with MCA feature added"
   ]
  },
  {
   "cell_type": "code",
   "execution_count": 48,
   "metadata": {},
   "outputs": [],
   "source": [
    "import prince\n",
    "mca_cols = ['gender', 'hypertension', 'heart_disease', 'ever_married', 'work_type', 'residence_type', 'smoking_status', 'stroke', 'age_bin', 'avg_glucose_level_bin', 'bmi_bin']\n",
    "df_mca = df[mca_cols]\n"
=======
    "## Resulting chi2 selected dataset\n",
    "Selecting the 5 \"best\" features results in a dataset similar to the one we selected based on our analysis. The only differences are: the absence of avg_glucose level, and the inclusion of ever_married and wo_children - two features which intercorrelate strongly with age."
>>>>>>> Roger
   ]
  },
  {
   "cell_type": "code",
<<<<<<< HEAD
   "execution_count": 49,
   "metadata": {},
   "outputs": [],
   "source": [
    "import prince\n",
    "mca_cols = ['gender', 'hypertension', 'heart_disease', 'ever_married', 'work_type', 'residence_type', 'smoking_status', 'stroke', 'age_bin', 'avg_glucose_level_bin', 'bmi_bin']\n",
    "df_mca = df[mca_cols]\n",
    "\n",
    "mca = prince.MCA()\n",
    "mca.fit(df_mca)\n",
    "mca.transform(df_mca)\n",
    "\n",
    "df_mixed_mca = pd.merge(df_mixed, mca.row_coordinates(df_mca), left_index=True, right_index=True)\n",
    "\n",
    "X = df_mixed_mca.drop(['stroke'], axis=1)\n",
    "y = df_mixed_mca['stroke']"
=======
   "execution_count": 32,
   "metadata": {},
   "outputs": [
    {
     "data": {
      "text/html": [
       "<div>\n",
       "<style scoped>\n",
       "    .dataframe tbody tr th:only-of-type {\n",
       "        vertical-align: middle;\n",
       "    }\n",
       "\n",
       "    .dataframe tbody tr th {\n",
       "        vertical-align: top;\n",
       "    }\n",
       "\n",
       "    .dataframe thead th {\n",
       "        text-align: right;\n",
       "    }\n",
       "</style>\n",
       "<table border=\"1\" class=\"dataframe\">\n",
       "  <thead>\n",
       "    <tr style=\"text-align: right;\">\n",
       "      <th></th>\n",
       "      <th>heart_disease</th>\n",
       "      <th>hypertension</th>\n",
       "      <th>ever_married</th>\n",
       "      <th>age</th>\n",
       "      <th>wo_children</th>\n",
       "    </tr>\n",
       "  </thead>\n",
       "  <tbody>\n",
       "    <tr>\n",
       "      <th>0</th>\n",
       "      <td>1</td>\n",
       "      <td>0</td>\n",
       "      <td>1</td>\n",
       "      <td>0.817073</td>\n",
       "      <td>0</td>\n",
       "    </tr>\n",
       "    <tr>\n",
       "      <th>1</th>\n",
       "      <td>0</td>\n",
       "      <td>0</td>\n",
       "      <td>1</td>\n",
       "      <td>0.743902</td>\n",
       "      <td>0</td>\n",
       "    </tr>\n",
       "    <tr>\n",
       "      <th>2</th>\n",
       "      <td>1</td>\n",
       "      <td>0</td>\n",
       "      <td>1</td>\n",
       "      <td>0.975610</td>\n",
       "      <td>0</td>\n",
       "    </tr>\n",
       "    <tr>\n",
       "      <th>3</th>\n",
       "      <td>0</td>\n",
       "      <td>0</td>\n",
       "      <td>1</td>\n",
       "      <td>0.597561</td>\n",
       "      <td>0</td>\n",
       "    </tr>\n",
       "    <tr>\n",
       "      <th>4</th>\n",
       "      <td>0</td>\n",
       "      <td>1</td>\n",
       "      <td>1</td>\n",
       "      <td>0.963415</td>\n",
       "      <td>0</td>\n",
       "    </tr>\n",
       "    <tr>\n",
       "      <th>...</th>\n",
       "      <td>...</td>\n",
       "      <td>...</td>\n",
       "      <td>...</td>\n",
       "      <td>...</td>\n",
       "      <td>...</td>\n",
       "    </tr>\n",
       "    <tr>\n",
       "      <th>5105</th>\n",
       "      <td>0</td>\n",
       "      <td>1</td>\n",
       "      <td>1</td>\n",
       "      <td>0.975610</td>\n",
       "      <td>0</td>\n",
       "    </tr>\n",
       "    <tr>\n",
       "      <th>5106</th>\n",
       "      <td>0</td>\n",
       "      <td>0</td>\n",
       "      <td>1</td>\n",
       "      <td>0.987805</td>\n",
       "      <td>0</td>\n",
       "    </tr>\n",
       "    <tr>\n",
       "      <th>5107</th>\n",
       "      <td>0</td>\n",
       "      <td>0</td>\n",
       "      <td>1</td>\n",
       "      <td>0.426829</td>\n",
       "      <td>0</td>\n",
       "    </tr>\n",
       "    <tr>\n",
       "      <th>5108</th>\n",
       "      <td>0</td>\n",
       "      <td>0</td>\n",
       "      <td>1</td>\n",
       "      <td>0.621951</td>\n",
       "      <td>0</td>\n",
       "    </tr>\n",
       "    <tr>\n",
       "      <th>5109</th>\n",
       "      <td>0</td>\n",
       "      <td>0</td>\n",
       "      <td>1</td>\n",
       "      <td>0.536585</td>\n",
       "      <td>0</td>\n",
       "    </tr>\n",
       "  </tbody>\n",
       "</table>\n",
       "<p>5109 rows × 5 columns</p>\n",
       "</div>"
      ],
      "text/plain": [
       "      heart_disease  hypertension  ever_married       age  wo_children\n",
       "0                 1             0             1  0.817073            0\n",
       "1                 0             0             1  0.743902            0\n",
       "2                 1             0             1  0.975610            0\n",
       "3                 0             0             1  0.597561            0\n",
       "4                 0             1             1  0.963415            0\n",
       "...             ...           ...           ...       ...          ...\n",
       "5105              0             1             1  0.975610            0\n",
       "5106              0             0             1  0.987805            0\n",
       "5107              0             0             1  0.426829            0\n",
       "5108              0             0             1  0.621951            0\n",
       "5109              0             0             1  0.536585            0\n",
       "\n",
       "[5109 rows x 5 columns]"
      ]
     },
     "execution_count": 32,
     "metadata": {},
     "output_type": "execute_result"
    }
   ],
   "source": [
    "X_selected"
>>>>>>> Roger
   ]
  },
  {
   "cell_type": "code",
<<<<<<< HEAD
   "execution_count": 50,
=======
   "execution_count": 33,
>>>>>>> Roger
   "metadata": {},
   "outputs": [],
   "source": [
    "df_chi2_sel = X_selected.copy(deep=True)\n",
    "df_chi2_sel['stroke'] = df_full['stroke']"
   ]
  },
  {
   "cell_type": "code",
<<<<<<< HEAD
   "execution_count": 51,
=======
   "execution_count": 34,
>>>>>>> Roger
   "metadata": {},
   "outputs": [
    {
     "name": "stdout",
     "output_type": "stream",
     "text": [
      "              precision    recall  f1-score   support\n",
      "\n",
      "           0       0.99      0.70      0.82      1594\n",
      "           1       0.14      0.85      0.24        92\n",
      "\n",
      "    accuracy                           0.71      1686\n",
      "   macro avg       0.56      0.78      0.53      1686\n",
      "weighted avg       0.94      0.71      0.79      1686\n",
      "\n",
      "Mean f1: 0.2093553869238474\n",
      "Mean recall: 0.817795918367347\n",
      "Mean roc: 0.8318497438481566\n"
     ]
    },
    {
     "data": {
      "image/png": "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\n",
      "text/plain": [
       "<Figure size 432x288 with 2 Axes>"
      ]
     },
     "metadata": {
      "needs_background": "light"
     },
     "output_type": "display_data"
    }
   ],
   "source": [
    "test_feature_set(df_chi2_sel, master_scores, 'Chi2 Selected')"
   ]
  },
  {
   "cell_type": "markdown",
   "metadata": {},
   "source": [
    "## Recursive Feature Elimination Cross Validation (RFECV)\n",
    "RFECV is another automated feature selection algorithm which selects the most useful features based on recursively removing them, and assessing the results based on a given estimator and desired metric. We will use this to estimate our most useful features, using an SVC model. We will do this twice: once using f1 as a metric, which will aim for a good balance of recall and precision; and using recall, which is of high priority in this context due to the medical nature of the machine learning problem.df\n"
   ]
  },
  {
   "cell_type": "code",
<<<<<<< HEAD
   "execution_count": 52,
=======
   "execution_count": 35,
>>>>>>> Roger
   "metadata": {},
   "outputs": [],
   "source": [
    "from sklearn.feature_selection import RFECV\n",
    "X = df_full.drop('stroke', axis=1)\n",
    "y = df_full['stroke']\n",
    "\n",
    "estimator = SVC(gamma='scale', class_weight=weights, probability=True, kernel='linear')\n",
    "selector = RFECV(estimator, step=1, cv=5, min_features_to_select=5, scoring='f1')\n",
    "selector = selector.fit(X, y)"
   ]
  },
  {
   "cell_type": "code",
<<<<<<< HEAD
   "execution_count": 53,
=======
   "execution_count": 36,
   "metadata": {},
   "outputs": [
    {
     "name": "stderr",
     "output_type": "stream",
     "text": [
      "<ipython-input-36-00aec5f1fa66>:3: SettingWithCopyWarning: \n",
      "A value is trying to be set on a copy of a slice from a DataFrame.\n",
      "Try using .loc[row_indexer,col_indexer] = value instead\n",
      "\n",
      "See the caveats in the documentation: https://pandas.pydata.org/pandas-docs/stable/user_guide/indexing.html#returning-a-view-versus-a-copy\n",
      "  df_RFE_f1['stroke'] = df_full['stroke']\n"
     ]
    }
   ],
   "source": [
    "cols = selector.get_support(indices=True)\n",
    "df_RFE_f1 = X.iloc[:,cols]\n",
    "df_RFE_f1['stroke'] = df_full['stroke']"
   ]
  },
  {
   "cell_type": "markdown",
   "metadata": {},
   "source": [
    "## RFECV selection based on F1\n",
    "This algorithm selected heart_disease, avg_glucose_level and age, just like the feature selection based on our initial analysis. However, it also selected smokes and formerly-smoked, which were also found to have slight correlations with stroke. "
   ]
  },
  {
   "cell_type": "code",
   "execution_count": 37,
>>>>>>> Roger
   "metadata": {},
   "outputs": [
    {
     "data": {
      "text/html": [
       "<div>\n",
       "<style scoped>\n",
       "    .dataframe tbody tr th:only-of-type {\n",
       "        vertical-align: middle;\n",
       "    }\n",
       "\n",
       "    .dataframe tbody tr th {\n",
       "        vertical-align: top;\n",
       "    }\n",
       "\n",
       "    .dataframe thead th {\n",
       "        text-align: right;\n",
       "    }\n",
       "</style>\n",
       "<table border=\"1\" class=\"dataframe\">\n",
       "  <thead>\n",
       "    <tr style=\"text-align: right;\">\n",
       "      <th></th>\n",
       "      <th>heart_disease</th>\n",
       "      <th>age</th>\n",
       "      <th>avg_glucose_level</th>\n",
       "      <th>wo_children</th>\n",
       "      <th>sm_formerly-smoked</th>\n",
       "      <th>sm_smokes</th>\n",
       "      <th>mca1</th>\n",
       "      <th>stroke</th>\n",
       "    </tr>\n",
       "  </thead>\n",
       "  <tbody>\n",
       "    <tr>\n",
       "      <th>0</th>\n",
       "      <td>1</td>\n",
       "      <td>0.817073</td>\n",
       "      <td>0.801265</td>\n",
       "      <td>0</td>\n",
       "      <td>1</td>\n",
       "      <td>0</td>\n",
       "      <td>0.114411</td>\n",
       "      <td>1</td>\n",
       "    </tr>\n",
       "    <tr>\n",
       "      <th>1</th>\n",
       "      <td>0</td>\n",
       "      <td>0.743902</td>\n",
       "      <td>0.679023</td>\n",
       "      <td>0</td>\n",
       "      <td>0</td>\n",
       "      <td>0</td>\n",
       "      <td>0.182658</td>\n",
       "      <td>1</td>\n",
       "    </tr>\n",
       "    <tr>\n",
       "      <th>2</th>\n",
       "      <td>1</td>\n",
       "      <td>0.975610</td>\n",
       "      <td>0.234512</td>\n",
       "      <td>0</td>\n",
       "      <td>0</td>\n",
       "      <td>0</td>\n",
       "      <td>0.241149</td>\n",
       "      <td>1</td>\n",
       "    </tr>\n",
       "    <tr>\n",
       "      <th>3</th>\n",
       "      <td>0</td>\n",
       "      <td>0.597561</td>\n",
       "      <td>0.536008</td>\n",
       "      <td>0</td>\n",
       "      <td>0</td>\n",
       "      <td>1</td>\n",
       "      <td>0.345800</td>\n",
       "      <td>1</td>\n",
       "    </tr>\n",
       "    <tr>\n",
       "      <th>4</th>\n",
       "      <td>0</td>\n",
       "      <td>0.963415</td>\n",
       "      <td>0.549349</td>\n",
       "      <td>0</td>\n",
       "      <td>0</td>\n",
       "      <td>0</td>\n",
       "      <td>0.253891</td>\n",
       "      <td>1</td>\n",
       "    </tr>\n",
       "  </tbody>\n",
       "</table>\n",
       "</div>"
      ],
      "text/plain": [
<<<<<<< HEAD
       "0.26645054660616607"
      ]
     },
     "execution_count": 53,
=======
       "   heart_disease       age  avg_glucose_level  wo_children  \\\n",
       "0              1  0.817073           0.801265            0   \n",
       "1              0  0.743902           0.679023            0   \n",
       "2              1  0.975610           0.234512            0   \n",
       "3              0  0.597561           0.536008            0   \n",
       "4              0  0.963415           0.549349            0   \n",
       "\n",
       "   sm_formerly-smoked  sm_smokes      mca1  stroke  \n",
       "0                   1          0  0.114411       1  \n",
       "1                   0          0  0.182658       1  \n",
       "2                   0          0  0.241149       1  \n",
       "3                   0          1  0.345800       1  \n",
       "4                   0          0  0.253891       1  "
      ]
     },
     "execution_count": 37,
>>>>>>> Roger
     "metadata": {},
     "output_type": "execute_result"
    }
   ],
   "source": [
    "df_RFE_f1.head()"
   ]
  },
  {
   "cell_type": "code",
<<<<<<< HEAD
   "execution_count": 54,
=======
   "execution_count": 38,
>>>>>>> Roger
   "metadata": {},
   "outputs": [
    {
     "name": "stdout",
     "output_type": "stream",
     "text": [
      "              precision    recall  f1-score   support\n",
      "\n",
      "           0       0.98      0.70      0.82      1594\n",
      "           1       0.13      0.79      0.23        92\n",
      "\n",
      "    accuracy                           0.71      1686\n",
      "   macro avg       0.56      0.75      0.52      1686\n",
      "weighted avg       0.94      0.71      0.79      1686\n",
      "\n",
      "Mean f1: 0.20518240427585702\n",
      "Mean recall: 0.8156816326530613\n",
      "Mean roc: 0.8351073234231963\n"
     ]
    },
    {
     "data": {
<<<<<<< HEAD
      "image/png": "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\n",
=======
      "image/png": "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\n",
>>>>>>> Roger
      "text/plain": [
       "<Figure size 432x288 with 2 Axes>"
      ]
     },
     "metadata": {
      "needs_background": "light"
     },
     "output_type": "display_data"
    }
   ],
   "source": [
    "test_feature_set(df_RFE_f1, master_scores, 'RFE F1')"
   ]
  },
  {
   "cell_type": "markdown",
   "metadata": {},
   "source": [
    "## RFECV selection based on recall\n",
    "Finally, we'll repeat the RFECV process, using recall as a measure - keeping in mind that, for the purposes of identifying individuals at risk of stroke, maximising true positives may be vastly more important than reducing false positives."
   ]
  },
  {
   "cell_type": "code",
   "execution_count": 39,
   "metadata": {},
   "outputs": [],
   "source": [
    "X = df_full.drop('stroke', axis=1)\n",
    "y = df_full['stroke']\n",
    "\n",
    "estimator = SVC(gamma='scale', class_weight=weights, probability=True, kernel='linear')\n",
    "selector = RFECV(estimator, step=1, cv=5, min_features_to_select=5, scoring='recall')\n",
    "selector = selector.fit(X, y)"
   ]
  },
  {
   "cell_type": "code",
<<<<<<< HEAD
   "execution_count": null,
   "metadata": {},
   "outputs": [],
=======
   "execution_count": 40,
   "metadata": {},
   "outputs": [
    {
     "name": "stderr",
     "output_type": "stream",
     "text": [
      "<ipython-input-40-13f302e05723>:3: SettingWithCopyWarning: \n",
      "A value is trying to be set on a copy of a slice from a DataFrame.\n",
      "Try using .loc[row_indexer,col_indexer] = value instead\n",
      "\n",
      "See the caveats in the documentation: https://pandas.pydata.org/pandas-docs/stable/user_guide/indexing.html#returning-a-view-versus-a-copy\n",
      "  df_RFE_recall['stroke'] = df_full['stroke']\n"
     ]
    }
   ],
>>>>>>> Roger
   "source": [
    "cols = selector.get_support(indices=True)\n",
    "df_RFE_recall = X.iloc[:,cols]\n",
    "df_RFE_recall['stroke'] = df_full['stroke']"
   ]
  },
  {
<<<<<<< HEAD
   "cell_type": "code",
   "execution_count": null,
=======
   "cell_type": "markdown",
>>>>>>> Roger
   "metadata": {},
   "source": [
    "## Selection based on recall\n",
    "Interestingly, an RFECV based on recall selected 12 features, where the f1 metric resulted in only 7. Here we see features we had identified as relevant have been selected, along with others found to intercorrelate with age such as wo_children and ever_married."
   ]
  },
  {
   "cell_type": "code",
<<<<<<< HEAD
   "execution_count": null,
   "metadata": {},
   "outputs": [],
=======
   "execution_count": 49,
   "metadata": {},
   "outputs": [
    {
     "data": {
      "text/html": [
       "<div>\n",
       "<style scoped>\n",
       "    .dataframe tbody tr th:only-of-type {\n",
       "        vertical-align: middle;\n",
       "    }\n",
       "\n",
       "    .dataframe tbody tr th {\n",
       "        vertical-align: top;\n",
       "    }\n",
       "\n",
       "    .dataframe thead th {\n",
       "        text-align: right;\n",
       "    }\n",
       "</style>\n",
       "<table border=\"1\" class=\"dataframe\">\n",
       "  <thead>\n",
       "    <tr style=\"text-align: right;\">\n",
       "      <th></th>\n",
       "      <th>heart_disease</th>\n",
       "      <th>hypertension</th>\n",
       "      <th>ever_married</th>\n",
       "      <th>age</th>\n",
       "      <th>avg_glucose_level</th>\n",
       "      <th>wo_self-employed</th>\n",
       "      <th>wo_children</th>\n",
       "      <th>wo_govt-job</th>\n",
       "      <th>sm_unknown</th>\n",
       "      <th>sm_formerly-smoked</th>\n",
       "      <th>sm_smokes</th>\n",
       "      <th>mca1</th>\n",
       "      <th>stroke</th>\n",
       "    </tr>\n",
       "  </thead>\n",
       "  <tbody>\n",
       "    <tr>\n",
       "      <th>0</th>\n",
       "      <td>1</td>\n",
       "      <td>0</td>\n",
       "      <td>1</td>\n",
       "      <td>0.817073</td>\n",
       "      <td>0.801265</td>\n",
       "      <td>0</td>\n",
       "      <td>0</td>\n",
       "      <td>0</td>\n",
       "      <td>0</td>\n",
       "      <td>1</td>\n",
       "      <td>0</td>\n",
       "      <td>0.114411</td>\n",
       "      <td>1</td>\n",
       "    </tr>\n",
       "    <tr>\n",
       "      <th>1</th>\n",
       "      <td>0</td>\n",
       "      <td>0</td>\n",
       "      <td>1</td>\n",
       "      <td>0.743902</td>\n",
       "      <td>0.679023</td>\n",
       "      <td>1</td>\n",
       "      <td>0</td>\n",
       "      <td>0</td>\n",
       "      <td>0</td>\n",
       "      <td>0</td>\n",
       "      <td>0</td>\n",
       "      <td>0.182658</td>\n",
       "      <td>1</td>\n",
       "    </tr>\n",
       "    <tr>\n",
       "      <th>2</th>\n",
       "      <td>1</td>\n",
       "      <td>0</td>\n",
       "      <td>1</td>\n",
       "      <td>0.975610</td>\n",
       "      <td>0.234512</td>\n",
       "      <td>0</td>\n",
       "      <td>0</td>\n",
       "      <td>0</td>\n",
       "      <td>0</td>\n",
       "      <td>0</td>\n",
       "      <td>0</td>\n",
       "      <td>0.241149</td>\n",
       "      <td>1</td>\n",
       "    </tr>\n",
       "    <tr>\n",
       "      <th>3</th>\n",
       "      <td>0</td>\n",
       "      <td>0</td>\n",
       "      <td>1</td>\n",
       "      <td>0.597561</td>\n",
       "      <td>0.536008</td>\n",
       "      <td>0</td>\n",
       "      <td>0</td>\n",
       "      <td>0</td>\n",
       "      <td>0</td>\n",
       "      <td>0</td>\n",
       "      <td>1</td>\n",
       "      <td>0.345800</td>\n",
       "      <td>1</td>\n",
       "    </tr>\n",
       "    <tr>\n",
       "      <th>4</th>\n",
       "      <td>0</td>\n",
       "      <td>1</td>\n",
       "      <td>1</td>\n",
       "      <td>0.963415</td>\n",
       "      <td>0.549349</td>\n",
       "      <td>1</td>\n",
       "      <td>0</td>\n",
       "      <td>0</td>\n",
       "      <td>0</td>\n",
       "      <td>0</td>\n",
       "      <td>0</td>\n",
       "      <td>0.253891</td>\n",
       "      <td>1</td>\n",
       "    </tr>\n",
       "  </tbody>\n",
       "</table>\n",
       "</div>"
      ],
      "text/plain": [
       "   heart_disease  hypertension  ever_married       age  avg_glucose_level  \\\n",
       "0              1             0             1  0.817073           0.801265   \n",
       "1              0             0             1  0.743902           0.679023   \n",
       "2              1             0             1  0.975610           0.234512   \n",
       "3              0             0             1  0.597561           0.536008   \n",
       "4              0             1             1  0.963415           0.549349   \n",
       "\n",
       "   wo_self-employed  wo_children  wo_govt-job  sm_unknown  sm_formerly-smoked  \\\n",
       "0                 0            0            0           0                   1   \n",
       "1                 1            0            0           0                   0   \n",
       "2                 0            0            0           0                   0   \n",
       "3                 0            0            0           0                   0   \n",
       "4                 1            0            0           0                   0   \n",
       "\n",
       "   sm_smokes      mca1  stroke  \n",
       "0          0  0.114411       1  \n",
       "1          0  0.182658       1  \n",
       "2          0  0.241149       1  \n",
       "3          1  0.345800       1  \n",
       "4          0  0.253891       1  "
      ]
     },
     "execution_count": 49,
     "metadata": {},
     "output_type": "execute_result"
    }
   ],
>>>>>>> Roger
   "source": [
    "df_RFE_recall.head()"
   ]
  },
  {
   "cell_type": "code",
   "execution_count": 42,
   "metadata": {},
   "outputs": [
    {
     "name": "stdout",
     "output_type": "stream",
     "text": [
      "              precision    recall  f1-score   support\n",
      "\n",
      "           0       0.99      0.67      0.80      1594\n",
      "           1       0.13      0.84      0.22        92\n",
      "\n",
      "    accuracy                           0.68      1686\n",
      "   macro avg       0.56      0.76      0.51      1686\n",
      "weighted avg       0.94      0.68      0.77      1686\n",
      "\n",
      "Mean f1: 0.20398568635083214\n",
      "Mean recall: 0.8329142857142855\n",
      "Mean roc: 0.828833123372806\n"
     ]
    },
    {
     "data": {
      "image/png": "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\n",
      "text/plain": [
       "<Figure size 432x288 with 2 Axes>"
      ]
     },
     "metadata": {
      "needs_background": "light"
     },
     "output_type": "display_data"
    }
   ],
   "source": [
    "test_feature_set(df_RFE_recall, master_scores, 'RFE recall')"
   ]
  },
  {
   "cell_type": "code",
   "execution_count": 47,
   "metadata": {},
   "outputs": [],
   "source": [
    "scores_df = pd.DataFrame(master_scores)"
   ]
  },
  {
   "cell_type": "code",
<<<<<<< HEAD
   "execution_count": null,
   "metadata": {},
   "outputs": [],
=======
   "execution_count": 48,
   "metadata": {},
   "outputs": [
    {
     "data": {
      "text/html": [
       "<div>\n",
       "<style scoped>\n",
       "    .dataframe tbody tr th:only-of-type {\n",
       "        vertical-align: middle;\n",
       "    }\n",
       "\n",
       "    .dataframe tbody tr th {\n",
       "        vertical-align: top;\n",
       "    }\n",
       "\n",
       "    .dataframe thead th {\n",
       "        text-align: right;\n",
       "    }\n",
       "</style>\n",
       "<table border=\"1\" class=\"dataframe\">\n",
       "  <thead>\n",
       "    <tr style=\"text-align: right;\">\n",
       "      <th></th>\n",
       "      <th>Dummy</th>\n",
       "      <th>Dummy Selected</th>\n",
       "      <th>Mixed Selected</th>\n",
       "      <th>NB Selected</th>\n",
       "      <th>Mixed with MCA</th>\n",
       "      <th>Age and gender</th>\n",
       "      <th>Chi2 Selected</th>\n",
       "      <th>RFE F1</th>\n",
       "      <th>RFE recall</th>\n",
       "    </tr>\n",
       "  </thead>\n",
       "  <tbody>\n",
       "    <tr>\n",
       "      <th>0</th>\n",
       "      <td>0.237370</td>\n",
       "      <td>0.225058</td>\n",
       "      <td>0.212292</td>\n",
       "      <td>0.225086</td>\n",
       "      <td>0.209428</td>\n",
       "      <td>0.201324</td>\n",
       "      <td>0.209355</td>\n",
       "      <td>0.205182</td>\n",
       "      <td>0.203986</td>\n",
       "    </tr>\n",
       "    <tr>\n",
       "      <th>1</th>\n",
       "      <td>0.739086</td>\n",
       "      <td>0.739845</td>\n",
       "      <td>0.819739</td>\n",
       "      <td>0.744653</td>\n",
       "      <td>0.824539</td>\n",
       "      <td>0.861510</td>\n",
       "      <td>0.817796</td>\n",
       "      <td>0.815682</td>\n",
       "      <td>0.832914</td>\n",
       "    </tr>\n",
       "    <tr>\n",
       "      <th>2</th>\n",
       "      <td>0.815789</td>\n",
       "      <td>0.802260</td>\n",
       "      <td>0.828467</td>\n",
       "      <td>0.786022</td>\n",
       "      <td>0.828702</td>\n",
       "      <td>0.817406</td>\n",
       "      <td>0.831850</td>\n",
       "      <td>0.835107</td>\n",
       "      <td>0.828833</td>\n",
       "    </tr>\n",
       "  </tbody>\n",
       "</table>\n",
       "</div>"
      ],
      "text/plain": [
       "      Dummy  Dummy Selected  Mixed Selected  NB Selected  Mixed with MCA  \\\n",
       "0  0.237370        0.225058        0.212292     0.225086        0.209428   \n",
       "1  0.739086        0.739845        0.819739     0.744653        0.824539   \n",
       "2  0.815789        0.802260        0.828467     0.786022        0.828702   \n",
       "\n",
       "   Age and gender  Chi2 Selected    RFE F1  RFE recall  \n",
       "0        0.201324       0.209355  0.205182    0.203986  \n",
       "1        0.861510       0.817796  0.815682    0.832914  \n",
       "2        0.817406       0.831850  0.835107    0.828833  "
      ]
     },
     "execution_count": 48,
     "metadata": {},
     "output_type": "execute_result"
    }
   ],
>>>>>>> Roger
   "source": [
    "scores_df"
   ]
  },
  {
   "cell_type": "code",
   "execution_count": 108,
   "metadata": {},
   "outputs": [
    {
     "data": {
      "image/png": "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\n",
      "text/plain": [
       "<Figure size 1440x720 with 3 Axes>"
      ]
     },
     "metadata": {
      "needs_background": "light"
     },
     "output_type": "display_data"
    }
   ],
   "source": [
    "fig, ax = plt.subplots(3, figsize=(20,10))\n",
    "\n",
    "# f1 = scores_df.iloc[[0]].values[0]\n",
    "\n",
    "ax[0].bar(scores_df.columns, scores_df.iloc[[0]].values[0] - 0.15, bottom=0.15)\n",
    "ax[0].set_title('Average F1')\n",
    "ax[1].bar(scores_df.columns, scores_df.iloc[[1]].values[0] - 0.4, bottom=0.4)\n",
    "ax[1].set_title('Average recall')\n",
    "ax[2].bar(scores_df.columns, scores_df.iloc[[2]].values[0] - 0.4, bottom=0.4)\n",
    "ax[2].set_title('Average ROC AUC')\n",
    "fig.tight_layout(pad=3.0)\n"
   ]
  }
 ],
 "metadata": {
  "kernelspec": {
   "display_name": "Python 3",
   "language": "python",
   "name": "python3"
  },
  "language_info": {
   "codemirror_mode": {
    "name": "ipython",
    "version": 3
   },
   "file_extension": ".py",
   "mimetype": "text/x-python",
   "name": "python",
   "nbconvert_exporter": "python",
   "pygments_lexer": "ipython3",
   "version": "3.7.8"
  }
 },
 "nbformat": 4,
 "nbformat_minor": 4
}
