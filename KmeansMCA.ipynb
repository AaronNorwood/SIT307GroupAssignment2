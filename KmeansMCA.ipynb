{
 "cells": [
  {
   "cell_type": "markdown",
   "metadata": {},
   "source": [
    "<h1>SIT307 Group Assignment 1 notebook</h1>"
   ]
  },
  {
   "cell_type": "markdown",
   "metadata": {},
   "source": [
    "<h3>Group 3</h3>\n",
    "<p>By:<br>\n",
    "    Aaron Norwood,218330434<br>\n",
    "    Joshua Anthony, 219466473<br>\n",
    "    Roger Middenway, 217602784<br>\n",
    "    David Adams, 216110104<br>\n",
    "    Linden Hutchinson, 218384326<br>\n",
    "    Dale Orders, 219106283"
   ]
  },
  {
   "cell_type": "markdown",
   "metadata": {},
   "source": [
    "# Imported libraries"
   ]
  },
  {
   "cell_type": "code",
   "execution_count": 1,
   "metadata": {},
   "outputs": [],
   "source": [
    "import matplotlib.pyplot as plt\n",
    "import numpy as np\n",
    "import pandas as pd\n",
    "import seaborn as sns\n",
    "import math\n",
    "from scipy import stats\n",
    "# import plotly.express as px\n",
    "%matplotlib inline"
   ]
  },
  {
   "cell_type": "markdown",
   "metadata": {},
   "source": [
    "<h3> Read in the data, store if dataframe"
   ]
  },
  {
   "cell_type": "code",
   "execution_count": 2,
   "metadata": {},
   "outputs": [],
   "source": [
    "df = pd.read_csv('./data/healthcare-dataset-stroke-data.csv')"
   ]
  },
  {
   "cell_type": "markdown",
   "metadata": {
    "tags": []
   },
   "source": [
    "<h4>Tidying"
   ]
  },
  {
   "cell_type": "code",
   "execution_count": 3,
   "metadata": {},
   "outputs": [],
   "source": [
    "##convert gender to lowercase\n",
    "df['gender'] = df['gender'].apply(lambda x: x.lower())\n",
    "\n",
    "# print(len(df[df['gender'] == 'other']))\n",
    "## drop the one row that has \"other\" gender to keep things simple\n",
    "df.drop(index=df[df['gender'] == 'other'].index, inplace=True)\n",
    "\n",
    "##convert work_type to lowercase ensure consistent spacing \n",
    "df['work_type'] = df['work_type'].apply(lambda x: x.lower().replace('_','-'))\n",
    "\n",
    "##convert residence_type to lowercase\n",
    "df.rename(columns={'Residence_type':'residence_type'}, inplace=True)\n",
    "df['residence_type'] = df['residence_type'].apply(lambda x: x.lower())\n",
    "\n",
    "##convert smoking_status to lowercase ensure consistent spacing \n",
    "df['smoking_status'] = df['smoking_status'].apply(lambda x: x.lower().replace(' ', '-'))\n",
    "\n",
    "## round off age\n",
    "df['age'] = df['age'].apply(lambda x : round(x))\n",
    "\n",
    "# cap BMI outliers to a maximum of 60 \n",
    "df['bmi'] = df['bmi'].apply(lambda bmi_value: bmi_value if 12 < bmi_value < 60 else np.nan)"
   ]
  },
  {
   "cell_type": "markdown",
   "metadata": {},
   "source": [
    "<h4>Imputing"
   ]
  },
  {
   "cell_type": "code",
   "execution_count": 4,
   "metadata": {},
   "outputs": [],
   "source": [
    "m_df = df[df['gender'] == 'male']\n",
    "f_df = df[df['gender'] == 'female']\n",
    "\n",
    "m_bmi_avg = m_df.groupby('age')['bmi'].mean()\n",
    "f_bmi_avg = f_df.groupby('age')['bmi'].mean()\n",
    "##round to one to fit with other bmi values\n",
    "m_bmi_avg = round(m_bmi_avg,1)\n",
    "f_bmi_avg = round(f_bmi_avg,1)\n",
    "\n",
    "missing_vals = df[df.isnull().any(axis = 1)]\n",
    "\n",
    "for index, row in missing_vals.iterrows():\n",
    "    if row['gender'] == 'male':\n",
    "        df.loc[index,['bmi']] = m_bmi_avg[row['age']]\n",
    "    else:\n",
    "        df.loc[index,['bmi']] = f_bmi_avg[row['age']]"
   ]
  },
  {
   "cell_type": "code",
   "execution_count": 5,
   "metadata": {},
   "outputs": [],
   "source": [
    "residence_type_map = {\n",
    "    'urban':0,\n",
    "    'rural':1\n",
    "}\n",
    "df['residence_type'] = df['residence_type'].map(residence_type_map)\n",
    "# replace marital status with binary values\n",
    "df['ever_married'] = df['ever_married'].str.lower().map({'yes': 1, 'no': 0})\n",
    "# replace gender with binary values\n",
    "df['gender'] = df['gender'].str.lower().map({'male': 1, 'female': 0})"
   ]
  },
  {
   "cell_type": "markdown",
   "metadata": {},
   "source": [
    "<h4>Binning"
   ]
  },
  {
   "cell_type": "code",
   "execution_count": 6,
   "metadata": {},
   "outputs": [],
   "source": [
    "# implement age bins\n",
    "df['age_bin'] = pd.qcut(df['age'], q = 10, precision=1)\n",
    "\n",
    "# implement glucose bins\n",
    "df['avg_glucose_level_bin'] = pd.qcut(df['avg_glucose_level'], q=10, precision=1)\n",
    "\n",
    "# implement bmi bins\n",
    "df['bmi_bin'] = pd.qcut(df['bmi'], q=10, precision=1)"
   ]
  },
  {
   "cell_type": "code",
   "execution_count": 7,
   "metadata": {},
   "outputs": [],
   "source": [
    "def add_dummy(target_df, origin_df, col):\n",
    "    abbrev = col[:2] + '_'\n",
    "    for cat in origin_df[col].value_counts().index.tolist()[1:]:\n",
    "        target_df[abbrev + str(cat)] = origin_df[col] == cat\n",
    "        target_df[abbrev + str(cat)] = target_df[abbrev + str(cat)].map({False: 0, True: 1})\n"
   ]
  },
  {
   "cell_type": "code",
   "execution_count": 8,
   "metadata": {},
   "outputs": [],
   "source": [
    "df_dummies = pd.DataFrame(index=df.index)\n",
    "\n",
    "add_dummy(df_dummies, df, 'work_type')\n",
    "add_dummy(df_dummies, df, 'smoking_status')\n",
    "add_dummy(df_dummies, df, 'age_bin')\n",
    "add_dummy(df_dummies, df, 'avg_glucose_level_bin')\n",
    "add_dummy(df_dummies, df, 'bmi_bin')"
   ]
  },
  {
   "cell_type": "code",
   "execution_count": 9,
   "metadata": {},
   "outputs": [],
   "source": [
    "to_add = ['gender', 'hypertension', 'heart_disease', 'ever_married', 'residence_type', 'stroke']\n",
    "df_dummies[to_add] = df[to_add]"
   ]
  },
  {
   "cell_type": "code",
   "execution_count": 10,
   "metadata": {},
   "outputs": [
    {
     "data": {
      "text/html": [
       "<div>\n",
       "<style scoped>\n",
       "    .dataframe tbody tr th:only-of-type {\n",
       "        vertical-align: middle;\n",
       "    }\n",
       "\n",
       "    .dataframe tbody tr th {\n",
       "        vertical-align: top;\n",
       "    }\n",
       "\n",
       "    .dataframe thead th {\n",
       "        text-align: right;\n",
       "    }\n",
       "</style>\n",
       "<table border=\"1\" class=\"dataframe\">\n",
       "  <thead>\n",
       "    <tr style=\"text-align: right;\">\n",
       "      <th></th>\n",
       "      <th>wo_self-employed</th>\n",
       "      <th>wo_children</th>\n",
       "      <th>wo_govt-job</th>\n",
       "      <th>wo_never-worked</th>\n",
       "      <th>sm_unknown</th>\n",
       "      <th>sm_formerly-smoked</th>\n",
       "      <th>sm_smokes</th>\n",
       "      <th>ag_(20.0, 30.0]</th>\n",
       "      <th>ag_(-0.1, 11.0]</th>\n",
       "      <th>ag_(30.0, 38.0]</th>\n",
       "      <th>...</th>\n",
       "      <th>bm_(38.6, 59.7]</th>\n",
       "      <th>bm_(26.6, 28.2]</th>\n",
       "      <th>bm_(19.8, 22.6]</th>\n",
       "      <th>bm_(31.8, 34.2]</th>\n",
       "      <th>gender</th>\n",
       "      <th>hypertension</th>\n",
       "      <th>heart_disease</th>\n",
       "      <th>ever_married</th>\n",
       "      <th>residence_type</th>\n",
       "      <th>stroke</th>\n",
       "    </tr>\n",
       "  </thead>\n",
       "  <tbody>\n",
       "    <tr>\n",
       "      <th>0</th>\n",
       "      <td>0</td>\n",
       "      <td>0</td>\n",
       "      <td>0</td>\n",
       "      <td>0</td>\n",
       "      <td>0</td>\n",
       "      <td>1</td>\n",
       "      <td>0</td>\n",
       "      <td>0</td>\n",
       "      <td>0</td>\n",
       "      <td>0</td>\n",
       "      <td>...</td>\n",
       "      <td>0</td>\n",
       "      <td>0</td>\n",
       "      <td>0</td>\n",
       "      <td>0</td>\n",
       "      <td>1</td>\n",
       "      <td>0</td>\n",
       "      <td>1</td>\n",
       "      <td>1</td>\n",
       "      <td>0</td>\n",
       "      <td>1</td>\n",
       "    </tr>\n",
       "    <tr>\n",
       "      <th>1</th>\n",
       "      <td>1</td>\n",
       "      <td>0</td>\n",
       "      <td>0</td>\n",
       "      <td>0</td>\n",
       "      <td>0</td>\n",
       "      <td>0</td>\n",
       "      <td>0</td>\n",
       "      <td>0</td>\n",
       "      <td>0</td>\n",
       "      <td>0</td>\n",
       "      <td>...</td>\n",
       "      <td>0</td>\n",
       "      <td>0</td>\n",
       "      <td>0</td>\n",
       "      <td>0</td>\n",
       "      <td>0</td>\n",
       "      <td>0</td>\n",
       "      <td>0</td>\n",
       "      <td>1</td>\n",
       "      <td>1</td>\n",
       "      <td>1</td>\n",
       "    </tr>\n",
       "    <tr>\n",
       "      <th>2</th>\n",
       "      <td>0</td>\n",
       "      <td>0</td>\n",
       "      <td>0</td>\n",
       "      <td>0</td>\n",
       "      <td>0</td>\n",
       "      <td>0</td>\n",
       "      <td>0</td>\n",
       "      <td>0</td>\n",
       "      <td>0</td>\n",
       "      <td>0</td>\n",
       "      <td>...</td>\n",
       "      <td>0</td>\n",
       "      <td>0</td>\n",
       "      <td>0</td>\n",
       "      <td>1</td>\n",
       "      <td>1</td>\n",
       "      <td>0</td>\n",
       "      <td>1</td>\n",
       "      <td>1</td>\n",
       "      <td>1</td>\n",
       "      <td>1</td>\n",
       "    </tr>\n",
       "    <tr>\n",
       "      <th>3</th>\n",
       "      <td>0</td>\n",
       "      <td>0</td>\n",
       "      <td>0</td>\n",
       "      <td>0</td>\n",
       "      <td>0</td>\n",
       "      <td>0</td>\n",
       "      <td>1</td>\n",
       "      <td>0</td>\n",
       "      <td>0</td>\n",
       "      <td>0</td>\n",
       "      <td>...</td>\n",
       "      <td>0</td>\n",
       "      <td>0</td>\n",
       "      <td>0</td>\n",
       "      <td>0</td>\n",
       "      <td>0</td>\n",
       "      <td>0</td>\n",
       "      <td>0</td>\n",
       "      <td>1</td>\n",
       "      <td>0</td>\n",
       "      <td>1</td>\n",
       "    </tr>\n",
       "    <tr>\n",
       "      <th>4</th>\n",
       "      <td>1</td>\n",
       "      <td>0</td>\n",
       "      <td>0</td>\n",
       "      <td>0</td>\n",
       "      <td>0</td>\n",
       "      <td>0</td>\n",
       "      <td>0</td>\n",
       "      <td>0</td>\n",
       "      <td>0</td>\n",
       "      <td>0</td>\n",
       "      <td>...</td>\n",
       "      <td>0</td>\n",
       "      <td>0</td>\n",
       "      <td>0</td>\n",
       "      <td>0</td>\n",
       "      <td>0</td>\n",
       "      <td>1</td>\n",
       "      <td>0</td>\n",
       "      <td>1</td>\n",
       "      <td>1</td>\n",
       "      <td>1</td>\n",
       "    </tr>\n",
       "  </tbody>\n",
       "</table>\n",
       "<p>5 rows × 40 columns</p>\n",
       "</div>"
      ],
      "text/plain": [
       "   wo_self-employed  wo_children  wo_govt-job  wo_never-worked  sm_unknown  \\\n",
       "0                 0            0            0                0           0   \n",
       "1                 1            0            0                0           0   \n",
       "2                 0            0            0                0           0   \n",
       "3                 0            0            0                0           0   \n",
       "4                 1            0            0                0           0   \n",
       "\n",
       "   sm_formerly-smoked  sm_smokes  ag_(20.0, 30.0]  ag_(-0.1, 11.0]  \\\n",
       "0                   1          0                0                0   \n",
       "1                   0          0                0                0   \n",
       "2                   0          0                0                0   \n",
       "3                   0          1                0                0   \n",
       "4                   0          0                0                0   \n",
       "\n",
       "   ag_(30.0, 38.0]  ...  bm_(38.6, 59.7]  bm_(26.6, 28.2]  bm_(19.8, 22.6]  \\\n",
       "0                0  ...                0                0                0   \n",
       "1                0  ...                0                0                0   \n",
       "2                0  ...                0                0                0   \n",
       "3                0  ...                0                0                0   \n",
       "4                0  ...                0                0                0   \n",
       "\n",
       "   bm_(31.8, 34.2]  gender  hypertension  heart_disease  ever_married  \\\n",
       "0                0       1             0              1             1   \n",
       "1                0       0             0              0             1   \n",
       "2                1       1             0              1             1   \n",
       "3                0       0             0              0             1   \n",
       "4                0       0             1              0             1   \n",
       "\n",
       "   residence_type  stroke  \n",
       "0               0       1  \n",
       "1               1       1  \n",
       "2               1       1  \n",
       "3               0       1  \n",
       "4               1       1  \n",
       "\n",
       "[5 rows x 40 columns]"
      ]
     },
     "execution_count": 10,
     "metadata": {},
     "output_type": "execute_result"
    }
   ],
   "source": [
    "df_dummies.head()"
   ]
  },
  {
   "cell_type": "code",
   "execution_count": 11,
   "metadata": {},
   "outputs": [
    {
     "name": "stdout",
     "output_type": "stream",
     "text": [
      "Requirement already satisfied: prince in /Users/rogermiddenway/.local/lib/python3.8/site-packages (0.7.1)\n",
      "Requirement already satisfied: matplotlib>=3.0.2 in /opt/anaconda3/lib/python3.8/site-packages (from prince) (3.3.2)\n",
      "Requirement already satisfied: scikit-learn>=0.22.1 in /opt/anaconda3/lib/python3.8/site-packages (from prince) (0.24.2)\n",
      "Requirement already satisfied: pandas>=1.0.3 in /opt/anaconda3/lib/python3.8/site-packages (from prince) (1.1.3)\n",
      "Requirement already satisfied: numpy>=1.17.1 in /opt/anaconda3/lib/python3.8/site-packages (from prince) (1.19.2)\n",
      "Requirement already satisfied: scipy>=1.3.0 in /opt/anaconda3/lib/python3.8/site-packages (from prince) (1.5.2)\n",
      "Requirement already satisfied: certifi>=2020.06.20 in /opt/anaconda3/lib/python3.8/site-packages (from matplotlib>=3.0.2->prince) (2020.6.20)\n",
      "Requirement already satisfied: pyparsing!=2.0.4,!=2.1.2,!=2.1.6,>=2.0.3 in /opt/anaconda3/lib/python3.8/site-packages (from matplotlib>=3.0.2->prince) (2.4.7)\n",
      "Requirement already satisfied: cycler>=0.10 in /opt/anaconda3/lib/python3.8/site-packages (from matplotlib>=3.0.2->prince) (0.10.0)\n",
      "Requirement already satisfied: kiwisolver>=1.0.1 in /opt/anaconda3/lib/python3.8/site-packages (from matplotlib>=3.0.2->prince) (1.3.0)\n",
      "Requirement already satisfied: python-dateutil>=2.1 in /opt/anaconda3/lib/python3.8/site-packages (from matplotlib>=3.0.2->prince) (2.8.1)\n",
      "Requirement already satisfied: pillow>=6.2.0 in /opt/anaconda3/lib/python3.8/site-packages (from matplotlib>=3.0.2->prince) (8.0.1)\n",
      "Requirement already satisfied: joblib>=0.11 in /opt/anaconda3/lib/python3.8/site-packages (from scikit-learn>=0.22.1->prince) (0.17.0)\n",
      "Requirement already satisfied: threadpoolctl>=2.0.0 in /opt/anaconda3/lib/python3.8/site-packages (from scikit-learn>=0.22.1->prince) (2.1.0)\n",
      "Requirement already satisfied: pytz>=2017.2 in /opt/anaconda3/lib/python3.8/site-packages (from pandas>=1.0.3->prince) (2020.1)\n",
      "Requirement already satisfied: six in /opt/anaconda3/lib/python3.8/site-packages (from cycler>=0.10->matplotlib>=3.0.2->prince) (1.15.0)\n"
     ]
    }
   ],
   "source": [
    "!pip install --user prince"
   ]
  },
  {
   "cell_type": "code",
   "execution_count": 12,
   "metadata": {},
   "outputs": [],
   "source": [
    "import prince"
   ]
  },
  {
   "cell_type": "code",
   "execution_count": 13,
   "metadata": {},
   "outputs": [],
   "source": [
    "mca_cols = ['gender', 'hypertension', 'heart_disease', 'ever_married', 'work_type', 'residence_type', 'smoking_status', 'age_bin', 'avg_glucose_level_bin', 'bmi_bin']\n",
    "X = df[mca_cols]\n",
    "y = df['stroke']"
   ]
  },
  {
   "cell_type": "code",
   "execution_count": 14,
   "metadata": {},
   "outputs": [],
   "source": [
    "mca = prince.MCA()"
   ]
  },
  {
   "cell_type": "code",
   "execution_count": 15,
   "metadata": {},
   "outputs": [
    {
     "data": {
      "text/html": [
       "<div>\n",
       "<style scoped>\n",
       "    .dataframe tbody tr th:only-of-type {\n",
       "        vertical-align: middle;\n",
       "    }\n",
       "\n",
       "    .dataframe tbody tr th {\n",
       "        vertical-align: top;\n",
       "    }\n",
       "\n",
       "    .dataframe thead th {\n",
       "        text-align: right;\n",
       "    }\n",
       "</style>\n",
       "<table border=\"1\" class=\"dataframe\">\n",
       "  <thead>\n",
       "    <tr style=\"text-align: right;\">\n",
       "      <th></th>\n",
       "      <th>0</th>\n",
       "      <th>1</th>\n",
       "    </tr>\n",
       "  </thead>\n",
       "  <tbody>\n",
       "    <tr>\n",
       "      <th>0</th>\n",
       "      <td>-0.549743</td>\n",
       "      <td>-0.973215</td>\n",
       "    </tr>\n",
       "    <tr>\n",
       "      <th>1</th>\n",
       "      <td>-0.514675</td>\n",
       "      <td>-0.660026</td>\n",
       "    </tr>\n",
       "    <tr>\n",
       "      <th>2</th>\n",
       "      <td>-0.332229</td>\n",
       "      <td>-0.393108</td>\n",
       "    </tr>\n",
       "    <tr>\n",
       "      <th>3</th>\n",
       "      <td>-0.463019</td>\n",
       "      <td>0.090627</td>\n",
       "    </tr>\n",
       "    <tr>\n",
       "      <th>4</th>\n",
       "      <td>-0.378336</td>\n",
       "      <td>-0.331034</td>\n",
       "    </tr>\n",
       "    <tr>\n",
       "      <th>...</th>\n",
       "      <td>...</td>\n",
       "      <td>...</td>\n",
       "    </tr>\n",
       "    <tr>\n",
       "      <th>5105</th>\n",
       "      <td>-0.457918</td>\n",
       "      <td>-0.292493</td>\n",
       "    </tr>\n",
       "    <tr>\n",
       "      <th>5106</th>\n",
       "      <td>-0.488835</td>\n",
       "      <td>-0.486036</td>\n",
       "    </tr>\n",
       "    <tr>\n",
       "      <th>5107</th>\n",
       "      <td>-0.347461</td>\n",
       "      <td>-0.036346</td>\n",
       "    </tr>\n",
       "    <tr>\n",
       "      <th>5108</th>\n",
       "      <td>-0.270069</td>\n",
       "      <td>0.013904</td>\n",
       "    </tr>\n",
       "    <tr>\n",
       "      <th>5109</th>\n",
       "      <td>-0.031669</td>\n",
       "      <td>0.189686</td>\n",
       "    </tr>\n",
       "  </tbody>\n",
       "</table>\n",
       "<p>5109 rows × 2 columns</p>\n",
       "</div>"
      ],
      "text/plain": [
       "             0         1\n",
       "0    -0.549743 -0.973215\n",
       "1    -0.514675 -0.660026\n",
       "2    -0.332229 -0.393108\n",
       "3    -0.463019  0.090627\n",
       "4    -0.378336 -0.331034\n",
       "...        ...       ...\n",
       "5105 -0.457918 -0.292493\n",
       "5106 -0.488835 -0.486036\n",
       "5107 -0.347461 -0.036346\n",
       "5108 -0.270069  0.013904\n",
       "5109 -0.031669  0.189686\n",
       "\n",
       "[5109 rows x 2 columns]"
      ]
     },
     "execution_count": 15,
     "metadata": {},
     "output_type": "execute_result"
    }
   ],
   "source": [
    "mca.fit(X)\n",
    "mca.transform(X)"
   ]
  },
  {
   "cell_type": "code",
   "execution_count": 16,
   "metadata": {},
   "outputs": [
    {
     "data": {
      "image/png": "[encoded data removed]",
      "text/plain": [
       "<Figure size 720x720 with 1 Axes>"
      ]
     },
     "metadata": {
      "needs_background": "light"
     },
     "output_type": "display_data"
    }
   ],
   "source": [
    "ax = mca.plot_coordinates(\n",
    "     X=X,\n",
    "     ax=None,\n",
    "     figsize=(10, 10),\n",
    "     show_row_points=True,\n",
    "     row_points_size=10,\n",
    "     show_row_labels=False,\n",
    "     show_column_points=True,\n",
    "     column_points_size=30,\n",
    "     show_column_labels=False,\n",
    "     legend_n_cols=1\n",
    "     )"
   ]
  },
  {
   "cell_type": "code",
   "execution_count": 17,
   "metadata": {},
   "outputs": [
    {
     "data": {
      "text/html": [
       "<div>\n",
       "<style scoped>\n",
       "    .dataframe tbody tr th:only-of-type {\n",
       "        vertical-align: middle;\n",
       "    }\n",
       "\n",
       "    .dataframe tbody tr th {\n",
       "        vertical-align: top;\n",
       "    }\n",
       "\n",
       "    .dataframe thead th {\n",
       "        text-align: right;\n",
       "    }\n",
       "</style>\n",
       "<table border=\"1\" class=\"dataframe\">\n",
       "  <thead>\n",
       "    <tr style=\"text-align: right;\">\n",
       "      <th></th>\n",
       "      <th>0</th>\n",
       "      <th>1</th>\n",
       "    </tr>\n",
       "  </thead>\n",
       "  <tbody>\n",
       "    <tr>\n",
       "      <th>0</th>\n",
       "      <td>-0.549743</td>\n",
       "      <td>-0.973215</td>\n",
       "    </tr>\n",
       "    <tr>\n",
       "      <th>1</th>\n",
       "      <td>-0.514675</td>\n",
       "      <td>-0.660026</td>\n",
       "    </tr>\n",
       "    <tr>\n",
       "      <th>2</th>\n",
       "      <td>-0.332229</td>\n",
       "      <td>-0.393108</td>\n",
       "    </tr>\n",
       "    <tr>\n",
       "      <th>3</th>\n",
       "      <td>-0.463019</td>\n",
       "      <td>0.090627</td>\n",
       "    </tr>\n",
       "    <tr>\n",
       "      <th>4</th>\n",
       "      <td>-0.378336</td>\n",
       "      <td>-0.331034</td>\n",
       "    </tr>\n",
       "    <tr>\n",
       "      <th>...</th>\n",
       "      <td>...</td>\n",
       "      <td>...</td>\n",
       "    </tr>\n",
       "    <tr>\n",
       "      <th>5105</th>\n",
       "      <td>-0.457918</td>\n",
       "      <td>-0.292493</td>\n",
       "    </tr>\n",
       "    <tr>\n",
       "      <th>5106</th>\n",
       "      <td>-0.488835</td>\n",
       "      <td>-0.486036</td>\n",
       "    </tr>\n",
       "    <tr>\n",
       "      <th>5107</th>\n",
       "      <td>-0.347461</td>\n",
       "      <td>-0.036346</td>\n",
       "    </tr>\n",
       "    <tr>\n",
       "      <th>5108</th>\n",
       "      <td>-0.270069</td>\n",
       "      <td>0.013904</td>\n",
       "    </tr>\n",
       "    <tr>\n",
       "      <th>5109</th>\n",
       "      <td>-0.031669</td>\n",
       "      <td>0.189686</td>\n",
       "    </tr>\n",
       "  </tbody>\n",
       "</table>\n",
       "<p>5109 rows × 2 columns</p>\n",
       "</div>"
      ],
      "text/plain": [
       "             0         1\n",
       "0    -0.549743 -0.973215\n",
       "1    -0.514675 -0.660026\n",
       "2    -0.332229 -0.393108\n",
       "3    -0.463019  0.090627\n",
       "4    -0.378336 -0.331034\n",
       "...        ...       ...\n",
       "5105 -0.457918 -0.292493\n",
       "5106 -0.488835 -0.486036\n",
       "5107 -0.347461 -0.036346\n",
       "5108 -0.270069  0.013904\n",
       "5109 -0.031669  0.189686\n",
       "\n",
       "[5109 rows x 2 columns]"
      ]
     },
     "execution_count": 17,
     "metadata": {},
     "output_type": "execute_result"
    }
   ],
   "source": [
    "mca.row_coordinates(X)"
   ]
  },
  {
   "cell_type": "code",
   "execution_count": 41,
   "metadata": {},
   "outputs": [
    {
     "data": {
      "text/html": [
       "<div>\n",
       "<style scoped>\n",
       "    .dataframe tbody tr th:only-of-type {\n",
       "        vertical-align: middle;\n",
       "    }\n",
       "\n",
       "    .dataframe tbody tr th {\n",
       "        vertical-align: top;\n",
       "    }\n",
       "\n",
       "    .dataframe thead th {\n",
       "        text-align: right;\n",
       "    }\n",
       "</style>\n",
       "<table border=\"1\" class=\"dataframe\">\n",
       "  <thead>\n",
       "    <tr style=\"text-align: right;\">\n",
       "      <th></th>\n",
       "      <th>0</th>\n",
       "      <th>1</th>\n",
       "      <th>stroke</th>\n",
       "    </tr>\n",
       "  </thead>\n",
       "  <tbody>\n",
       "    <tr>\n",
       "      <th>0</th>\n",
       "      <td>-0.549743</td>\n",
       "      <td>-0.973215</td>\n",
       "      <td>1</td>\n",
       "    </tr>\n",
       "    <tr>\n",
       "      <th>1</th>\n",
       "      <td>-0.514675</td>\n",
       "      <td>-0.660026</td>\n",
       "      <td>1</td>\n",
       "    </tr>\n",
       "    <tr>\n",
       "      <th>2</th>\n",
       "      <td>-0.332229</td>\n",
       "      <td>-0.393108</td>\n",
       "      <td>1</td>\n",
       "    </tr>\n",
       "    <tr>\n",
       "      <th>3</th>\n",
       "      <td>-0.463019</td>\n",
       "      <td>0.090627</td>\n",
       "      <td>1</td>\n",
       "    </tr>\n",
       "    <tr>\n",
       "      <th>4</th>\n",
       "      <td>-0.378336</td>\n",
       "      <td>-0.331034</td>\n",
       "      <td>1</td>\n",
       "    </tr>\n",
       "    <tr>\n",
       "      <th>...</th>\n",
       "      <td>...</td>\n",
       "      <td>...</td>\n",
       "      <td>...</td>\n",
       "    </tr>\n",
       "    <tr>\n",
       "      <th>5105</th>\n",
       "      <td>-0.457918</td>\n",
       "      <td>-0.292493</td>\n",
       "      <td>0</td>\n",
       "    </tr>\n",
       "    <tr>\n",
       "      <th>5106</th>\n",
       "      <td>-0.488835</td>\n",
       "      <td>-0.486036</td>\n",
       "      <td>0</td>\n",
       "    </tr>\n",
       "    <tr>\n",
       "      <th>5107</th>\n",
       "      <td>-0.347461</td>\n",
       "      <td>-0.036346</td>\n",
       "      <td>0</td>\n",
       "    </tr>\n",
       "    <tr>\n",
       "      <th>5108</th>\n",
       "      <td>-0.270069</td>\n",
       "      <td>0.013904</td>\n",
       "      <td>0</td>\n",
       "    </tr>\n",
       "    <tr>\n",
       "      <th>5109</th>\n",
       "      <td>-0.031669</td>\n",
       "      <td>0.189686</td>\n",
       "      <td>0</td>\n",
       "    </tr>\n",
       "  </tbody>\n",
       "</table>\n",
       "<p>5109 rows × 3 columns</p>\n",
       "</div>"
      ],
      "text/plain": [
       "             0         1  stroke\n",
       "0    -0.549743 -0.973215       1\n",
       "1    -0.514675 -0.660026       1\n",
       "2    -0.332229 -0.393108       1\n",
       "3    -0.463019  0.090627       1\n",
       "4    -0.378336 -0.331034       1\n",
       "...        ...       ...     ...\n",
       "5105 -0.457918 -0.292493       0\n",
       "5106 -0.488835 -0.486036       0\n",
       "5107 -0.347461 -0.036346       0\n",
       "5108 -0.270069  0.013904       0\n",
       "5109 -0.031669  0.189686       0\n",
       "\n",
       "[5109 rows x 3 columns]"
      ]
     },
     "execution_count": 41,
     "metadata": {},
     "output_type": "execute_result"
    }
   ],
   "source": [
    "df_mca = pd.DataFrame(mca.row_coordinates(X))\n",
    "df_mca['stroke'] = df['stroke']\n",
    "df_mca"
   ]
  },
  {
   "cell_type": "code",
   "execution_count": 30,
   "metadata": {},
   "outputs": [
    {
     "data": {
      "text/plain": [
       "<matplotlib.collections.PathCollection at 0x11e8afc10>"
      ]
     },
     "execution_count": 30,
     "metadata": {},
     "output_type": "execute_result"
    },
    {
     "data": {
      "image/png": "[encoded data removed]",
      "text/plain": [
       "<Figure size 432x288 with 1 Axes>"
      ]
     },
     "metadata": {
      "needs_background": "light"
     },
     "output_type": "display_data"
    }
   ],
   "source": [
    "fig, ax = plt.subplots()\n",
    "ax.scatter(mca.row_coordinates(X)[df['stroke'] == 1][0], mca.row_coordinates(X)[df['stroke'] == 1][1], alpha=0.5)\n",
    "ax.scatter(mca.row_coordinates(X)[df['stroke'] == 0][0], mca.row_coordinates(X)[df['stroke'] == 0][1], alpha=0.05)"
   ]
  },
  {
   "cell_type": "code",
   "execution_count": 31,
   "metadata": {},
   "outputs": [],
   "source": [
    "from scipy.cluster.vq import vq, kmeans, whiten"
   ]
  },
  {
   "cell_type": "code",
   "execution_count": 32,
   "metadata": {},
   "outputs": [],
   "source": [
    "def run_kmeans(centroid_count):\n",
    "    centroids,_ = kmeans(mca.row_coordinates(X),centroid_count)\n",
    "\n",
    "    clx,_ = vq(mca.row_coordinates(X), centroids)\n",
    "\n",
    "    x = mca.row_coordinates(X)[0]\n",
    "    y = mca.row_coordinates(X)[1]\n",
    "    labels = list(range(len(centroids)))\n",
    "\n",
    "    fig, ax = plt.subplots()\n",
    "    for i, label in enumerate(labels):\n",
    "        ax.scatter(x[clx == label], y[clx == label], label=label)\n",
    "        \n",
    "    return clx"
   ]
  },
  {
   "cell_type": "code",
   "execution_count": 33,
   "metadata": {},
   "outputs": [
    {
     "data": {
      "image/png": "[encoded data removed]",
      "text/plain": [
       "<Figure size 432x288 with 1 Axes>"
      ]
     },
     "metadata": {
      "needs_background": "light"
     },
     "output_type": "display_data"
    }
   ],
   "source": [
    "c2 = run_kmeans(2)"
   ]
  },
  {
   "cell_type": "code",
   "execution_count": 34,
   "metadata": {},
   "outputs": [
    {
     "data": {
      "image/png": "[encoded data removed]",
      "text/plain": [
       "<Figure size 432x288 with 1 Axes>"
      ]
     },
     "metadata": {
      "needs_background": "light"
     },
     "output_type": "display_data"
    }
   ],
   "source": [
    "c3 = run_kmeans(3)"
   ]
  },
  {
   "cell_type": "code",
   "execution_count": 35,
   "metadata": {},
   "outputs": [
    {
     "data": {
      "image/png": "[encoded data removed]",
      "text/plain": [
       "<Figure size 432x288 with 1 Axes>"
      ]
     },
     "metadata": {
      "needs_background": "light"
     },
     "output_type": "display_data"
    }
   ],
   "source": [
    "c4 = run_kmeans(4)"
   ]
  },
  {
   "cell_type": "code",
   "execution_count": 36,
   "metadata": {},
   "outputs": [
    {
     "data": {
      "image/png": "[encoded data removed]",
      "text/plain": [
       "<Figure size 432x288 with 1 Axes>"
      ]
     },
     "metadata": {
      "needs_background": "light"
     },
     "output_type": "display_data"
    }
   ],
   "source": [
    "c5 = run_kmeans(5)"
   ]
  },
  {
   "cell_type": "code",
   "execution_count": 37,
   "metadata": {},
   "outputs": [
    {
     "data": {
      "image/png": "[encoded data removed]",
      "text/plain": [
       "<Figure size 432x288 with 1 Axes>"
      ]
     },
     "metadata": {
      "needs_background": "light"
     },
     "output_type": "display_data"
    }
   ],
   "source": [
    "c6 = run_kmeans(6)"
   ]
  },
  {
   "cell_type": "code",
   "execution_count": 38,
   "metadata": {},
   "outputs": [],
   "source": [
    "df['c2'] = c2\n",
    "df['c3'] = c3\n",
    "df['c4'] = c4\n",
    "df['c5'] = c5\n",
    "df['c6'] = c6"
   ]
  },
  {
   "cell_type": "code",
   "execution_count": 39,
   "metadata": {},
   "outputs": [
    {
     "name": "stdout",
     "output_type": "stream",
     "text": [
      "Cluster 0\n",
      "0    927\n",
      "1      1\n",
      "Name: stroke, dtype: int64\n",
      "Cluster 1\n",
      "0    579\n",
      "1      1\n",
      "Name: stroke, dtype: int64\n",
      "Cluster 2\n",
      "0    1300\n",
      "1     172\n",
      "Name: stroke, dtype: int64\n",
      "Cluster 3\n",
      "0    2054\n",
      "1      75\n",
      "Name: stroke, dtype: int64\n"
     ]
    }
   ],
   "source": [
    "for val in np.unique(c4):\n",
    "    print(f'Cluster {val}')\n",
    "    print(df[df['c4'] == val]['stroke'].value_counts())"
   ]
  },
  {
   "cell_type": "markdown",
   "metadata": {},
   "source": [
    "# Testing out kMeans prediction on the features generated by MCA"
   ]
  },
  {
   "cell_type": "code",
   "execution_count": 42,
   "metadata": {},
   "outputs": [],
   "source": [
    "from sklearn.cluster import KMeans\n",
    "from sklearn.model_selection import train_test_split, StratifiedKFold, KFold, RepeatedStratifiedKFold, cross_val_score"
   ]
  },
  {
   "cell_type": "code",
   "execution_count": 45,
   "metadata": {},
   "outputs": [],
   "source": [
    "X_train, X_test, y_train, y_test = train_test_split(X, y, test_size=0.33, random_state=42)"
   ]
  },
  {
   "cell_type": "code",
   "execution_count": 46,
   "metadata": {},
   "outputs": [
    {
     "data": {
      "text/html": [
       "<div>\n",
       "<style scoped>\n",
       "    .dataframe tbody tr th:only-of-type {\n",
       "        vertical-align: middle;\n",
       "    }\n",
       "\n",
       "    .dataframe tbody tr th {\n",
       "        vertical-align: top;\n",
       "    }\n",
       "\n",
       "    .dataframe thead th {\n",
       "        text-align: right;\n",
       "    }\n",
       "</style>\n",
       "<table border=\"1\" class=\"dataframe\">\n",
       "  <thead>\n",
       "    <tr style=\"text-align: right;\">\n",
       "      <th></th>\n",
       "      <th>0</th>\n",
       "      <th>1</th>\n",
       "    </tr>\n",
       "  </thead>\n",
       "  <tbody>\n",
       "    <tr>\n",
       "      <th>4540</th>\n",
       "      <td>2.133890</td>\n",
       "      <td>-0.485520</td>\n",
       "    </tr>\n",
       "    <tr>\n",
       "      <th>3379</th>\n",
       "      <td>-0.401640</td>\n",
       "      <td>0.192509</td>\n",
       "    </tr>\n",
       "    <tr>\n",
       "      <th>479</th>\n",
       "      <td>-0.465463</td>\n",
       "      <td>-0.509415</td>\n",
       "    </tr>\n",
       "    <tr>\n",
       "      <th>3683</th>\n",
       "      <td>-0.132071</td>\n",
       "      <td>-0.760906</td>\n",
       "    </tr>\n",
       "    <tr>\n",
       "      <th>2997</th>\n",
       "      <td>-0.546672</td>\n",
       "      <td>-1.071290</td>\n",
       "    </tr>\n",
       "    <tr>\n",
       "      <th>...</th>\n",
       "      <td>...</td>\n",
       "      <td>...</td>\n",
       "    </tr>\n",
       "    <tr>\n",
       "      <th>4427</th>\n",
       "      <td>-0.355956</td>\n",
       "      <td>0.038464</td>\n",
       "    </tr>\n",
       "    <tr>\n",
       "      <th>466</th>\n",
       "      <td>-0.435893</td>\n",
       "      <td>-0.251456</td>\n",
       "    </tr>\n",
       "    <tr>\n",
       "      <th>3092</th>\n",
       "      <td>2.509219</td>\n",
       "      <td>-0.572262</td>\n",
       "    </tr>\n",
       "    <tr>\n",
       "      <th>3773</th>\n",
       "      <td>-0.153705</td>\n",
       "      <td>0.498315</td>\n",
       "    </tr>\n",
       "    <tr>\n",
       "      <th>860</th>\n",
       "      <td>-0.369165</td>\n",
       "      <td>0.148052</td>\n",
       "    </tr>\n",
       "  </tbody>\n",
       "</table>\n",
       "<p>3423 rows × 2 columns</p>\n",
       "</div>"
      ],
      "text/plain": [
       "             0         1\n",
       "4540  2.133890 -0.485520\n",
       "3379 -0.401640  0.192509\n",
       "479  -0.465463 -0.509415\n",
       "3683 -0.132071 -0.760906\n",
       "2997 -0.546672 -1.071290\n",
       "...        ...       ...\n",
       "4427 -0.355956  0.038464\n",
       "466  -0.435893 -0.251456\n",
       "3092  2.509219 -0.572262\n",
       "3773 -0.153705  0.498315\n",
       "860  -0.369165  0.148052\n",
       "\n",
       "[3423 rows x 2 columns]"
      ]
     },
     "execution_count": 46,
     "metadata": {},
     "output_type": "execute_result"
    }
   ],
   "source": [
    "mca = prince.MCA()\n",
    "mca.fit(X_train)\n",
    "mca.transform(X_train)"
   ]
  },
  {
   "cell_type": "code",
   "execution_count": 47,
   "metadata": {},
   "outputs": [],
   "source": [
    "weights = np.ones(len(X_train)) + y_train * 20"
   ]
  },
  {
   "cell_type": "code",
   "execution_count": 48,
   "metadata": {},
   "outputs": [],
   "source": [
    "kmeans = KMeans(n_clusters=3, random_state=0).fit(mca.row_coordinates(X_train), sample_weight=weights)"
   ]
  },
  {
   "cell_type": "code",
   "execution_count": 49,
   "metadata": {},
   "outputs": [],
   "source": [
    "df_results = pd.DataFrame()\n",
    "df_results['y_train'] = y_train\n",
    "df_results['train_clusters'] = kmeans.labels_"
   ]
  },
  {
   "cell_type": "code",
   "execution_count": 50,
   "metadata": {},
   "outputs": [
    {
     "name": "stdout",
     "output_type": "stream",
     "text": [
      "y_train  train_clusters\n",
      "1        1                 103\n",
      "         2                  48\n",
      "         0                   2\n",
      "dtype: int64\n",
      "y_train  train_clusters\n",
      "0        2                 1870\n",
      "         1                  966\n",
      "         0                  434\n",
      "dtype: int64\n"
     ]
    }
   ],
   "source": [
    "print(df_results[df_results['y_train'] == 1].value_counts())\n",
    "print(df_results[df_results['y_train'] == 0].value_counts())"
   ]
  },
  {
   "cell_type": "code",
   "execution_count": 51,
   "metadata": {},
   "outputs": [],
   "source": [
    "result = kmeans.predict(mca.row_coordinates(X_test))"
   ]
  },
  {
   "cell_type": "code",
   "execution_count": 52,
   "metadata": {},
   "outputs": [
    {
     "data": {
      "text/plain": [
       "array([2, 2, 2, ..., 2, 2, 2], dtype=int32)"
      ]
     },
     "execution_count": 52,
     "metadata": {},
     "output_type": "execute_result"
    }
   ],
   "source": [
    "result\n",
    "# Basically results weren't so good"
   ]
  },
  {
   "cell_type": "markdown",
   "metadata": {},
   "source": [
    "# Testing kNN on features generated by MCA"
   ]
  },
  {
   "cell_type": "code",
   "execution_count": 53,
   "metadata": {},
   "outputs": [],
   "source": [
    "from sklearn.neighbors import KNeighborsClassifier\n",
    "from sklearn.model_selection import train_test_split, StratifiedKFold, KFold, RepeatedStratifiedKFold, cross_val_score\n",
    "from sklearn.metrics import cohen_kappa_score, roc_curve, f1_score, make_scorer, recall_score\n",
    "from IPython.display import clear_output\n",
    "from sklearn.metrics import confusion_matrix, classification_report, plot_confusion_matrix"
   ]
  },
  {
   "cell_type": "code",
   "execution_count": 54,
   "metadata": {},
   "outputs": [
    {
     "data": {
      "text/html": [
       "<div>\n",
       "<style scoped>\n",
       "    .dataframe tbody tr th:only-of-type {\n",
       "        vertical-align: middle;\n",
       "    }\n",
       "\n",
       "    .dataframe tbody tr th {\n",
       "        vertical-align: top;\n",
       "    }\n",
       "\n",
       "    .dataframe thead th {\n",
       "        text-align: right;\n",
       "    }\n",
       "</style>\n",
       "<table border=\"1\" class=\"dataframe\">\n",
       "  <thead>\n",
       "    <tr style=\"text-align: right;\">\n",
       "      <th></th>\n",
       "      <th>0</th>\n",
       "      <th>1</th>\n",
       "      <th>stroke</th>\n",
       "    </tr>\n",
       "  </thead>\n",
       "  <tbody>\n",
       "    <tr>\n",
       "      <th>0</th>\n",
       "      <td>-0.550883</td>\n",
       "      <td>-1.027902</td>\n",
       "      <td>1</td>\n",
       "    </tr>\n",
       "    <tr>\n",
       "      <th>1</th>\n",
       "      <td>-0.506486</td>\n",
       "      <td>-0.664554</td>\n",
       "      <td>1</td>\n",
       "    </tr>\n",
       "    <tr>\n",
       "      <th>2</th>\n",
       "      <td>-0.324308</td>\n",
       "      <td>-0.377661</td>\n",
       "      <td>1</td>\n",
       "    </tr>\n",
       "    <tr>\n",
       "      <th>3</th>\n",
       "      <td>-0.469765</td>\n",
       "      <td>0.071972</td>\n",
       "      <td>1</td>\n",
       "    </tr>\n",
       "    <tr>\n",
       "      <th>4</th>\n",
       "      <td>-0.394487</td>\n",
       "      <td>-0.409492</td>\n",
       "      <td>1</td>\n",
       "    </tr>\n",
       "  </tbody>\n",
       "</table>\n",
       "</div>"
      ],
      "text/plain": [
       "          0         1  stroke\n",
       "0 -0.550883 -1.027902       1\n",
       "1 -0.506486 -0.664554       1\n",
       "2 -0.324308 -0.377661       1\n",
       "3 -0.469765  0.071972       1\n",
       "4 -0.394487 -0.409492       1"
      ]
     },
     "execution_count": 54,
     "metadata": {},
     "output_type": "execute_result"
    }
   ],
   "source": [
    "df_knn = mca.row_coordinates(X)\n",
    "df_knn['stroke'] = y\n",
    "df_knn.head()"
   ]
  },
  {
   "cell_type": "code",
   "execution_count": 55,
   "metadata": {},
   "outputs": [],
   "source": [
    "X = df_knn[[0, 1]]\n",
    "y = df_knn['stroke']"
   ]
  },
  {
   "cell_type": "code",
   "execution_count": 56,
   "metadata": {},
   "outputs": [
    {
     "data": {
      "text/html": [
       "<div>\n",
       "<style scoped>\n",
       "    .dataframe tbody tr th:only-of-type {\n",
       "        vertical-align: middle;\n",
       "    }\n",
       "\n",
       "    .dataframe tbody tr th {\n",
       "        vertical-align: top;\n",
       "    }\n",
       "\n",
       "    .dataframe thead th {\n",
       "        text-align: right;\n",
       "    }\n",
       "</style>\n",
       "<table border=\"1\" class=\"dataframe\">\n",
       "  <thead>\n",
       "    <tr style=\"text-align: right;\">\n",
       "      <th></th>\n",
       "      <th>0</th>\n",
       "      <th>1</th>\n",
       "      <th>stroke</th>\n",
       "    </tr>\n",
       "  </thead>\n",
       "  <tbody>\n",
       "    <tr>\n",
       "      <th>0</th>\n",
       "      <td>-0.550883</td>\n",
       "      <td>-1.027902</td>\n",
       "      <td>1</td>\n",
       "    </tr>\n",
       "    <tr>\n",
       "      <th>1</th>\n",
       "      <td>-0.506486</td>\n",
       "      <td>-0.664554</td>\n",
       "      <td>1</td>\n",
       "    </tr>\n",
       "    <tr>\n",
       "      <th>2</th>\n",
       "      <td>-0.324308</td>\n",
       "      <td>-0.377661</td>\n",
       "      <td>1</td>\n",
       "    </tr>\n",
       "    <tr>\n",
       "      <th>3</th>\n",
       "      <td>-0.469765</td>\n",
       "      <td>0.071972</td>\n",
       "      <td>1</td>\n",
       "    </tr>\n",
       "    <tr>\n",
       "      <th>4</th>\n",
       "      <td>-0.394487</td>\n",
       "      <td>-0.409492</td>\n",
       "      <td>1</td>\n",
       "    </tr>\n",
       "    <tr>\n",
       "      <th>...</th>\n",
       "      <td>...</td>\n",
       "      <td>...</td>\n",
       "      <td>...</td>\n",
       "    </tr>\n",
       "    <tr>\n",
       "      <th>5105</th>\n",
       "      <td>-0.470870</td>\n",
       "      <td>-0.273126</td>\n",
       "      <td>0</td>\n",
       "    </tr>\n",
       "    <tr>\n",
       "      <th>5106</th>\n",
       "      <td>-0.505671</td>\n",
       "      <td>-0.522021</td>\n",
       "      <td>0</td>\n",
       "    </tr>\n",
       "    <tr>\n",
       "      <th>5107</th>\n",
       "      <td>-0.350773</td>\n",
       "      <td>-0.021178</td>\n",
       "      <td>0</td>\n",
       "    </tr>\n",
       "    <tr>\n",
       "      <th>5108</th>\n",
       "      <td>-0.273684</td>\n",
       "      <td>0.003451</td>\n",
       "      <td>0</td>\n",
       "    </tr>\n",
       "    <tr>\n",
       "      <th>5109</th>\n",
       "      <td>-0.038525</td>\n",
       "      <td>0.230057</td>\n",
       "      <td>0</td>\n",
       "    </tr>\n",
       "  </tbody>\n",
       "</table>\n",
       "<p>5109 rows × 3 columns</p>\n",
       "</div>"
      ],
      "text/plain": [
       "             0         1  stroke\n",
       "0    -0.550883 -1.027902       1\n",
       "1    -0.506486 -0.664554       1\n",
       "2    -0.324308 -0.377661       1\n",
       "3    -0.469765  0.071972       1\n",
       "4    -0.394487 -0.409492       1\n",
       "...        ...       ...     ...\n",
       "5105 -0.470870 -0.273126       0\n",
       "5106 -0.505671 -0.522021       0\n",
       "5107 -0.350773 -0.021178       0\n",
       "5108 -0.273684  0.003451       0\n",
       "5109 -0.038525  0.230057       0\n",
       "\n",
       "[5109 rows x 3 columns]"
      ]
     },
     "execution_count": 56,
     "metadata": {},
     "output_type": "execute_result"
    }
   ],
   "source": [
    "df_knn"
   ]
  },
  {
   "cell_type": "code",
   "execution_count": 57,
   "metadata": {},
   "outputs": [],
   "source": [
    "from imblearn.over_sampling import SMOTE, RandomOverSampler\n",
    "\n",
    "from sklearn.model_selection import train_test_split\n",
    "from sklearn.metrics import recall_score, plot_confusion_matrix"
   ]
  },
  {
   "cell_type": "code",
   "execution_count": 58,
   "metadata": {},
   "outputs": [],
   "source": [
    "X_train, X_test, y_train, y_test = train_test_split(X, y, test_size=0.33, random_state=42)\n",
    "X_resampled, y_resampled = SMOTE().fit_resample(X_train, y_train)\n",
    "model = KNeighborsClassifier(n_neighbors=50)"
   ]
  },
  {
   "cell_type": "code",
   "execution_count": 59,
   "metadata": {},
   "outputs": [
    {
     "data": {
      "text/plain": [
       "KNeighborsClassifier(n_neighbors=50)"
      ]
     },
     "execution_count": 59,
     "metadata": {},
     "output_type": "execute_result"
    }
   ],
   "source": [
    "model.fit(X_resampled, y_resampled)"
   ]
  },
  {
   "cell_type": "code",
   "execution_count": 60,
   "metadata": {},
   "outputs": [
    {
     "data": {
      "text/plain": [
       "<sklearn.metrics._plot.confusion_matrix.ConfusionMatrixDisplay at 0x11ecb4970>"
      ]
     },
     "execution_count": 60,
     "metadata": {},
     "output_type": "execute_result"
    },
    {
     "data": {
      "image/png": "[encoded data removed]",
      "text/plain": [
       "<Figure size 432x288 with 2 Axes>"
      ]
     },
     "metadata": {
      "needs_background": "light"
     },
     "output_type": "display_data"
    }
   ],
   "source": [
    "plot_confusion_matrix(model, X_test, y_test)"
   ]
  },
  {
   "cell_type": "code",
   "execution_count": null,
   "metadata": {},
   "outputs": [],
   "source": []
  }
 ],
 "metadata": {
  "kernelspec": {
   "display_name": "Python 3",
   "language": "python",
   "name": "python3"
  },
  "language_info": {
   "codemirror_mode": {
    "name": "ipython",
    "version": 3
   },
   "file_extension": ".py",
   "mimetype": "text/x-python",
   "name": "python",
   "nbconvert_exporter": "python",
   "pygments_lexer": "ipython3",
   "version": "3.8.5"
  }
 },
 "nbformat": 4,
 "nbformat_minor": 4
}
