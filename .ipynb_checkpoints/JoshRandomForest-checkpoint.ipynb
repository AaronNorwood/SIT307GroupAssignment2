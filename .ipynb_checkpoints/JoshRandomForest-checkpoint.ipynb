{
 "cells": [
  {
   "cell_type": "markdown",
   "metadata": {},
   "source": [
    "<h1>SIT307 Group Assignment 1 notebook</h1>"
   ]
  },
  {
   "cell_type": "markdown",
   "metadata": {},
   "source": [
    "<h3>Group 3</h3>\n",
    "<p>By:<br>\n",
    "    Aaron Norwood,218330434<br>\n",
    "    Joshua Anthony, 219466473<br>\n",
    "    Roger Middenway, 217602784<br>\n",
    "    David Adams, 216110104<br>\n",
    "    Linden Hutchinson, 218384326<br>\n",
    "    Dale Orders, 219106283"
   ]
  },
  {
   "cell_type": "markdown",
   "metadata": {},
   "source": [
    "# Imported libraries"
   ]
  },
  {
   "cell_type": "code",
   "execution_count": 135,
   "metadata": {},
   "outputs": [],
   "source": [
    "import numpy as np\n",
    "import pandas as pd\n",
    "import matplotlib.pyplot as plt\n",
    "import seaborn as sns\n",
    "\n",
    "from sklearn import tree\n",
    "from sklearn.model_selection import train_test_split, cross_val_score, StratifiedKFold\n",
    "from sklearn.metrics import confusion_matrix, roc_curve, auc, classification_report, accuracy_score, recall_score, precision_score, f1_score\n",
    "from sklearn.ensemble import RandomForestClassifier, GradientBoostingClassifier\n",
    "from sklearn.linear_model import LogisticRegression\n",
    "from sklearn.svm import SVC\n",
    "from imblearn.over_sampling import SMOTE, RandomOverSampler\n",
    "from collections import Counter"
   ]
  },
  {
   "cell_type": "markdown",
   "metadata": {},
   "source": [
    "<h3> Read in the data, store if dataframe"
   ]
  },
  {
   "cell_type": "code",
   "execution_count": 42,
   "metadata": {},
   "outputs": [],
   "source": [
    "df = pd.read_csv('./data/healthcare-dataset-stroke-data.csv')"
   ]
  },
  {
   "cell_type": "markdown",
   "metadata": {
    "tags": []
   },
   "source": [
    "# Tidying up the data\n",
    "\n",
    "Implementing consistent capitalization and replacing underscores  spaces with hyphens in the data."
   ]
  },
  {
   "cell_type": "code",
   "execution_count": 43,
   "metadata": {},
   "outputs": [],
   "source": [
    "##convert gender to lowercase\n",
    "df['gender'] = df['gender'].apply(lambda x: x.lower())\n",
    "\n",
    "##convert work_type to lowercase ensure consistent spacing \n",
    "df['work_type'] = df['work_type'].apply(lambda x: x.lower().replace('_','-'))\n",
    "\n",
    "##convert residence_type to lowercase\n",
    "df.rename(columns={'Residence_type':'residence_type'}, inplace=True)\n",
    "df['residence_type'] = df['residence_type'].apply(lambda x: x.lower())\n",
    "\n",
    "##convert smoking_status to lowercase ensure consistent spacing \n",
    "df['smoking_status'] = df['smoking_status'].apply(lambda x: x.lower().replace(' ', '-'))"
   ]
  },
  {
   "cell_type": "markdown",
   "metadata": {},
   "source": [
    "<h3>Replacing gender with dummy variables for easier visualisation"
   ]
  },
  {
   "cell_type": "code",
   "execution_count": 44,
   "metadata": {},
   "outputs": [],
   "source": [
    "df['gender'] = df['gender'].str.lower().map({'male': 1, 'female': 0})"
   ]
  },
  {
   "cell_type": "markdown",
   "metadata": {},
   "source": [
    "<h3> Indexes of the outliers with a bmi above 60 for verification purposes"
   ]
  },
  {
   "cell_type": "code",
   "execution_count": 45,
   "metadata": {},
   "outputs": [
    {
     "name": "stdout",
     "output_type": "stream",
     "text": [
      "60.9,64.8,60.2,71.9,78.0,66.8,97.6,63.3,61.2,61.6,64.4,92.0,60.9,"
     ]
    }
   ],
   "source": [
    "indexes = [270, 358, 466, 544, 928, 1559, 2128, 2764, 2840, 3825, 4188, 4209, 4838]\n",
    "for index, i in enumerate(df['bmi']):\n",
    "    if index in indexes:\n",
    "        print(i, end=',')"
   ]
  },
  {
   "cell_type": "markdown",
   "metadata": {},
   "source": [
    "<h3> Cap the outliers at a maximum bmi of 60"
   ]
  },
  {
   "cell_type": "code",
   "execution_count": 46,
   "metadata": {},
   "outputs": [],
   "source": [
    "df['bmi'] = df['bmi'].apply(lambda bmi_value: bmi_value if 12 < bmi_value < 60 else np.nan)"
   ]
  },
  {
   "cell_type": "markdown",
   "metadata": {},
   "source": [
    "<h3>Preliminary work for binning"
   ]
  },
  {
   "cell_type": "code",
   "execution_count": 47,
   "metadata": {},
   "outputs": [
    {
     "name": "stdout",
     "output_type": "stream",
     "text": [
      "The max value in age is : 82.0\n",
      "Total number of nulls in age is: 0\n",
      "Total number of NAs in age is : 0\n"
     ]
    }
   ],
   "source": [
    "##max age of 82, max bin get be set accordingly \n",
    "print(\"The max value in age is : \" + str(df['age'].max()))\n",
    "print(\"Total number of nulls in age is: \" + str(df['age'].isnull().sum())) ##check for null\n",
    "print(\"Total number of NAs in age is : \" + str(df['age'].isna().sum())) ##check for NAs"
   ]
  },
  {
   "cell_type": "markdown",
   "metadata": {},
   "source": [
    "<h3>Unknown_smoking status breakdown"
   ]
  },
  {
   "cell_type": "code",
   "execution_count": 48,
   "metadata": {},
   "outputs": [
    {
     "name": "stdout",
     "output_type": "stream",
     "text": [
      "\n",
      "The percent of entries with an unknown smoking status is: 30.2153% or 1544 entries\n"
     ]
    }
   ],
   "source": [
    "##loop to find the number of unknown smoking entries\n",
    "unknown_count = 0\n",
    "##store the indexes of the unknown smoking status entries in case it's needed later\n",
    "unknown_indexes = []\n",
    "for index, i in enumerate(df['smoking_status']):\n",
    "    if(i.lower() == 'unknown'):\n",
    "        #get index and value \n",
    "        #print(index, i)\n",
    "        unknown_indexes.append(index)\n",
    "        unknown_count+=1\n",
    "##get percentage of unknown\n",
    "unknown_percent = unknown_count/len(df) * 100\n",
    "unknown_percent = round(unknown_percent,4)\n",
    "print(\"\\nThe percent of entries with an unknown smoking status is: \" + str(unknown_percent) + \"% or \" +str(unknown_count) + \" entries\")"
   ]
  },
  {
   "cell_type": "markdown",
   "metadata": {},
   "source": [
    "<h3>Checking for non-binary values</h3>\n",
    "<P>Checked in heart_disease, hypertension, ever_married and stroke. Also converts ever_married to 0/1 instead of yes/no<P>"
   ]
  },
  {
   "cell_type": "code",
   "execution_count": 49,
   "metadata": {
    "scrolled": true
   },
   "outputs": [
    {
     "name": "stdout",
     "output_type": "stream",
     "text": [
      "No non-binary values found in heart_disease\n",
      "No non-binary values found in hypertension\n",
      "No non-binary values found in ever_married\n",
      "No non-binary values found in stroke\n"
     ]
    }
   ],
   "source": [
    "##check for any non-binary values in heart_disease\n",
    "non_bin_heart_count = 0\n",
    "for val in df['heart_disease']:\n",
    "    if(val != 1 and val != 0):\n",
    "        print(val)\n",
    "if(non_bin_heart_count == 0):\n",
    "    print(\"No non-binary values found in heart_disease\")\n",
    "\n",
    "##check for any non-binary values in hypertension\n",
    "non_bin_hypt_count = 0\n",
    "for val in df['hypertension']:\n",
    "    if(val != 1 and val != 0):\n",
    "        print(val)\n",
    "if(non_bin_hypt_count == 0):\n",
    "    print(\"No non-binary values found in hypertension\")\n",
    "    \n",
    "##converts ever_married to 0/1 if not already done \n",
    "if(isinstance(df['ever_married'][0],str)):\n",
    "    df['ever_married'] = df['ever_married'].str.lower().map({'yes': 1, 'no': 0})\n",
    "\n",
    "##checks for non-binary values in ever_married\n",
    "non_bin_married_count = 0\n",
    "for val in df['ever_married']:\n",
    "    if(val != 1 and val != 0):\n",
    "        print(val)\n",
    "if(non_bin_married_count == 0):\n",
    "    print(\"No non-binary values found in ever_married\")\n",
    "    \n",
    "##check for any non-binary values in stroke\n",
    "non_bin_stroke_count = 0\n",
    "for val in df['stroke']:\n",
    "    if(val != 1 and val != 0):\n",
    "        print(val)\n",
    "if(non_bin_stroke_count == 0):\n",
    "    print(\"No non-binary values found in stroke\")"
   ]
  },
  {
   "cell_type": "markdown",
   "metadata": {},
   "source": [
    "### Impute missing BMI values\n",
    "<P>Replace missing BMI values with the average BMI found in rows with the same age and gender<P>"
   ]
  },
  {
   "cell_type": "markdown",
   "metadata": {},
   "source": [
    "#### Check initial number of nulls"
   ]
  },
  {
   "cell_type": "code",
   "execution_count": 50,
   "metadata": {},
   "outputs": [
    {
     "data": {
      "text/plain": [
       "id                     0\n",
       "gender                 1\n",
       "age                    0\n",
       "hypertension           0\n",
       "heart_disease          0\n",
       "ever_married           0\n",
       "work_type              0\n",
       "residence_type         0\n",
       "avg_glucose_level      0\n",
       "bmi                  218\n",
       "smoking_status         0\n",
       "stroke                 0\n",
       "dtype: int64"
      ]
     },
     "execution_count": 50,
     "metadata": {},
     "output_type": "execute_result"
    }
   ],
   "source": [
    "##get number of nulls in df\n",
    "df.isnull().sum()"
   ]
  },
  {
   "cell_type": "markdown",
   "metadata": {},
   "source": [
    "<h3>Impute missing values "
   ]
  },
  {
   "cell_type": "code",
   "execution_count": 51,
   "metadata": {},
   "outputs": [],
   "source": [
    "df['bmi_raw'] = df['bmi']\n",
    "\n",
    "df['age'] = df['age'].apply(lambda x : round(x))\n",
    "\n",
    "m_df = df[df['gender'] == 1]\n",
    "f_df = df[df['gender'] == 0]\n",
    "\n",
    "m_bmi_avg = m_df.groupby('age')['bmi'].mean()\n",
    "f_bmi_avg = f_df.groupby('age')['bmi'].mean()\n",
    "##round to one to fit with other bmi values\n",
    "m_bmi_avg = round(m_bmi_avg,1)\n",
    "f_bmi_avg = round(f_bmi_avg,1)\n",
    "\n",
    "missing_vals = df[df.isnull().any(axis = 1)]\n",
    "\n",
    "for index, row in missing_vals.iterrows():\n",
    "    if row['gender'] == 1:\n",
    "        df.loc[index,['bmi']] = m_bmi_avg[row['age']]\n",
    "    else:\n",
    "        df.loc[index,['bmi']] = f_bmi_avg[row['age']]\n"
   ]
  },
  {
   "cell_type": "markdown",
   "metadata": {},
   "source": [
    "<h3>Checking again for nulls to verify imputation success</h3>\n",
    "<p>NOTE: the values with nulls were left in a separate column in case it is needed later"
   ]
  },
  {
   "cell_type": "code",
   "execution_count": 52,
   "metadata": {},
   "outputs": [
    {
     "data": {
      "text/plain": [
       "id                     0\n",
       "gender                 1\n",
       "age                    0\n",
       "hypertension           0\n",
       "heart_disease          0\n",
       "ever_married           0\n",
       "work_type              0\n",
       "residence_type         0\n",
       "avg_glucose_level      0\n",
       "bmi                    0\n",
       "smoking_status         0\n",
       "stroke                 0\n",
       "bmi_raw              218\n",
       "dtype: int64"
      ]
     },
     "execution_count": 52,
     "metadata": {},
     "output_type": "execute_result"
    }
   ],
   "source": [
    "df.isnull().sum()"
   ]
  },
  {
   "cell_type": "markdown",
   "metadata": {},
   "source": [
    "<h3>Demonstrating imputed values using the outliers above 60</h2>"
   ]
  },
  {
   "cell_type": "code",
   "execution_count": 53,
   "metadata": {},
   "outputs": [
    {
     "name": "stdout",
     "output_type": "stream",
     "text": [
      "32.8,33.5,29.1,32.5,27.9,32.3,28.0,26.2,31.5,31.5,27.9,31.8,31.0,"
     ]
    }
   ],
   "source": [
    "indexes = [270, 358, 466, 544, 928, 1559, 2128, 2764, 2840, 3825, 4188, 4209, 4838]\n",
    "for index, i in enumerate(df['bmi']):\n",
    "    if index in indexes:\n",
    "        print(i, end=',')"
   ]
  },
  {
   "cell_type": "markdown",
   "metadata": {},
   "source": [
    "<h2> Equal-width binning implementation</h2>\n",
    "    <P>Uncomment if you want to use, will not work if equal-size binning has already been implemented\n",
    "    if you've already applied equal-size, then read in the data-frame again<P>"
   ]
  },
  {
   "cell_type": "code",
   "execution_count": 54,
   "metadata": {},
   "outputs": [],
   "source": [
    "##define labels and bins using equal width binning\n",
    "#bins = [0,10,20,30,40,50,60,70,80,90]\n",
    "#labels=['0-10','10-20','20-30','30-40','40-50','50-60','60-70','70-80','80-90']\n",
    "##replace all age values with their corresponding bin\n",
    "#df['age_bin'] = pd.cut(df['age'], bins=bins,labels=labels)\n",
    "\n",
    "#print(\"total entires in each bin is:\\n\", df['age_bin'].value_counts())\n",
    "#print(\"\\npercentage in each bin is:\\n\", df['age_bin'].value_counts()/len(df)*100)"
   ]
  },
  {
   "cell_type": "markdown",
   "metadata": {},
   "source": [
    "<h2> Equal-size binning implementation</h2>\n",
    "<p>Implements equal-size binning using pd.qcut, binning is performed for age, glucose level and bmi"
   ]
  },
  {
   "cell_type": "code",
   "execution_count": 55,
   "metadata": {},
   "outputs": [
    {
     "name": "stdout",
     "output_type": "stream",
     "text": [
      "total entires in each bin is:\n",
      " (57.0, 65.0]    559\n",
      "(20.0, 30.0]    545\n",
      "(-0.1, 11.0]    543\n",
      "(30.0, 38.0]    529\n",
      "(38.0, 45.0]    519\n",
      "(51.0, 57.0]    517\n",
      "(65.0, 75.0]    500\n",
      "(11.0, 20.0]    482\n",
      "(75.0, 82.0]    465\n",
      "(45.0, 51.0]    451\n",
      "Name: age_bin, dtype: int64\n",
      "\n",
      "percentage in each bin is:\n",
      " (57.0, 65.0]    10.939335\n",
      "(20.0, 30.0]    10.665362\n",
      "(-0.1, 11.0]    10.626223\n",
      "(30.0, 38.0]    10.352250\n",
      "(38.0, 45.0]    10.156556\n",
      "(51.0, 57.0]    10.117417\n",
      "(65.0, 75.0]     9.784736\n",
      "(11.0, 20.0]     9.432485\n",
      "(75.0, 82.0]     9.099804\n",
      "(45.0, 51.0]     8.825832\n",
      "Name: age_bin, dtype: float64\n"
     ]
    }
   ],
   "source": [
    "df['age_bin'] = pd.qcut(df['age'], q = 10, precision=1)\n",
    "print(\"total entires in each bin is:\\n\", df['age_bin'].value_counts())\n",
    "print(\"\\npercentage in each bin is:\\n\", df['age_bin'].value_counts()/len(df)*100)"
   ]
  },
  {
   "cell_type": "markdown",
   "metadata": {},
   "source": [
    "<h2>Equal-size binning for average-glucose level"
   ]
  },
  {
   "cell_type": "code",
   "execution_count": 56,
   "metadata": {},
   "outputs": [
    {
     "name": "stdout",
     "output_type": "stream",
     "text": [
      "total entires in each bin is:\n",
      " (108.5, 124.2]    512\n",
      "(80.0, 85.6]      512\n",
      "(65.8, 73.8]      512\n",
      "(192.2, 271.7]    511\n",
      "(98.9, 108.5]     511\n",
      "(91.9, 98.9]      511\n",
      "(55.0, 65.8]      511\n",
      "(124.2, 192.2]    510\n",
      "(85.6, 91.9]      510\n",
      "(73.8, 80.0]      510\n",
      "Name: avg_glucose_level_bin, dtype: int64\n",
      "\n",
      "percentage in each bin is:\n",
      " (108.5, 124.2]    10.019569\n",
      "(80.0, 85.6]      10.019569\n",
      "(65.8, 73.8]      10.019569\n",
      "(192.2, 271.7]    10.000000\n",
      "(98.9, 108.5]     10.000000\n",
      "(91.9, 98.9]      10.000000\n",
      "(55.0, 65.8]      10.000000\n",
      "(124.2, 192.2]     9.980431\n",
      "(85.6, 91.9]       9.980431\n",
      "(73.8, 80.0]       9.980431\n",
      "Name: avg_glucose_level_bin, dtype: float64\n"
     ]
    }
   ],
   "source": [
    "##create 10 bins, print values for review\n",
    "df['avg_glucose_level_bin'] = pd.qcut(df['avg_glucose_level'], q=10, precision=1)\n",
    "print(\"total entires in each bin is:\\n\", df['avg_glucose_level_bin'].value_counts())\n",
    "print(\"\\npercentage in each bin is:\\n\", df['avg_glucose_level_bin'].value_counts()/len(df)*100)"
   ]
  },
  {
   "cell_type": "markdown",
   "metadata": {},
   "source": [
    "<h2>Equal-size binning for bmi"
   ]
  },
  {
   "cell_type": "code",
   "execution_count": 57,
   "metadata": {},
   "outputs": [
    {
     "name": "stdout",
     "output_type": "stream",
     "text": [
      "total entires in each bin is:\n",
      " (12.200000000000001, 19.8]    522\n",
      "(28.2, 29.9]                  520\n",
      "(24.7, 26.6]                  519\n",
      "(34.2, 38.6]                  516\n",
      "(29.9, 31.8]                  514\n",
      "(22.6, 24.7]                  510\n",
      "(38.6, 59.7]                  506\n",
      "(26.6, 28.2]                  504\n",
      "(19.8, 22.6]                  502\n",
      "(31.8, 34.2]                  497\n",
      "Name: bmi_bin, dtype: int64\n",
      "\n",
      "percentage in each bin is:\n",
      " (12.200000000000001, 19.8]    10.215264\n",
      "(28.2, 29.9]                  10.176125\n",
      "(24.7, 26.6]                  10.156556\n",
      "(34.2, 38.6]                  10.097847\n",
      "(29.9, 31.8]                  10.058708\n",
      "(22.6, 24.7]                   9.980431\n",
      "(38.6, 59.7]                   9.902153\n",
      "(26.6, 28.2]                   9.863014\n",
      "(19.8, 22.6]                   9.823875\n",
      "(31.8, 34.2]                   9.726027\n",
      "Name: bmi_bin, dtype: float64\n"
     ]
    }
   ],
   "source": [
    "df['bmi_bin'] = pd.qcut(df['bmi'], q=10, precision=1)\n",
    "print(\"total entires in each bin is:\\n\", df['bmi_bin'].value_counts())\n",
    "print(\"\\npercentage in each bin is:\\n\", df['bmi_bin'].value_counts()/len(df)*100)"
   ]
  },
  {
   "cell_type": "code",
   "execution_count": 58,
   "metadata": {},
   "outputs": [
    {
     "data": {
      "text/plain": [
       "id                         0\n",
       "gender                     1\n",
       "age                        0\n",
       "hypertension               0\n",
       "heart_disease              0\n",
       "ever_married               0\n",
       "work_type                  0\n",
       "residence_type             0\n",
       "avg_glucose_level          0\n",
       "bmi                        0\n",
       "smoking_status             0\n",
       "stroke                     0\n",
       "bmi_raw                  218\n",
       "age_bin                    0\n",
       "avg_glucose_level_bin      0\n",
       "bmi_bin                    0\n",
       "dtype: int64"
      ]
     },
     "execution_count": 58,
     "metadata": {},
     "output_type": "execute_result"
    }
   ],
   "source": [
    "df.isnull().sum()"
   ]
  },
  {
   "cell_type": "code",
   "execution_count": 59,
   "metadata": {},
   "outputs": [],
   "source": [
    "df['gender'] = df['gender'].replace(np.nan, 0)"
   ]
  },
  {
   "cell_type": "code",
   "execution_count": 60,
   "metadata": {
    "scrolled": true
   },
   "outputs": [
    {
     "data": {
      "text/plain": [
       "id                         0\n",
       "gender                     0\n",
       "age                        0\n",
       "hypertension               0\n",
       "heart_disease              0\n",
       "ever_married               0\n",
       "work_type                  0\n",
       "residence_type             0\n",
       "avg_glucose_level          0\n",
       "bmi                        0\n",
       "smoking_status             0\n",
       "stroke                     0\n",
       "bmi_raw                  218\n",
       "age_bin                    0\n",
       "avg_glucose_level_bin      0\n",
       "bmi_bin                    0\n",
       "dtype: int64"
      ]
     },
     "execution_count": 60,
     "metadata": {},
     "output_type": "execute_result"
    }
   ],
   "source": [
    "df.isnull().sum()"
   ]
  },
  {
   "cell_type": "code",
   "execution_count": 61,
   "metadata": {},
   "outputs": [],
   "source": [
    "##I realised that gender had all been mapped to float, so I've fixed that he\n",
    "df['gender'] = df['gender'].astype(int)"
   ]
  },
  {
   "cell_type": "code",
   "execution_count": 62,
   "metadata": {
    "scrolled": true
   },
   "outputs": [
    {
     "data": {
      "text/html": [
       "<div>\n",
       "<style scoped>\n",
       "    .dataframe tbody tr th:only-of-type {\n",
       "        vertical-align: middle;\n",
       "    }\n",
       "\n",
       "    .dataframe tbody tr th {\n",
       "        vertical-align: top;\n",
       "    }\n",
       "\n",
       "    .dataframe thead th {\n",
       "        text-align: right;\n",
       "    }\n",
       "</style>\n",
       "<table border=\"1\" class=\"dataframe\">\n",
       "  <thead>\n",
       "    <tr style=\"text-align: right;\">\n",
       "      <th></th>\n",
       "      <th>id</th>\n",
       "      <th>gender</th>\n",
       "      <th>age</th>\n",
       "      <th>hypertension</th>\n",
       "      <th>heart_disease</th>\n",
       "      <th>ever_married</th>\n",
       "      <th>work_type</th>\n",
       "      <th>residence_type</th>\n",
       "      <th>avg_glucose_level</th>\n",
       "      <th>bmi</th>\n",
       "      <th>smoking_status</th>\n",
       "      <th>stroke</th>\n",
       "      <th>bmi_raw</th>\n",
       "      <th>age_bin</th>\n",
       "      <th>avg_glucose_level_bin</th>\n",
       "      <th>bmi_bin</th>\n",
       "    </tr>\n",
       "  </thead>\n",
       "  <tbody>\n",
       "    <tr>\n",
       "      <th>0</th>\n",
       "      <td>9046</td>\n",
       "      <td>1</td>\n",
       "      <td>67</td>\n",
       "      <td>0</td>\n",
       "      <td>1</td>\n",
       "      <td>1</td>\n",
       "      <td>private</td>\n",
       "      <td>urban</td>\n",
       "      <td>228.69</td>\n",
       "      <td>36.6</td>\n",
       "      <td>formerly-smoked</td>\n",
       "      <td>1</td>\n",
       "      <td>36.6</td>\n",
       "      <td>(65.0, 75.0]</td>\n",
       "      <td>(192.2, 271.7]</td>\n",
       "      <td>(34.2, 38.6]</td>\n",
       "    </tr>\n",
       "    <tr>\n",
       "      <th>1</th>\n",
       "      <td>51676</td>\n",
       "      <td>0</td>\n",
       "      <td>61</td>\n",
       "      <td>0</td>\n",
       "      <td>0</td>\n",
       "      <td>1</td>\n",
       "      <td>self-employed</td>\n",
       "      <td>rural</td>\n",
       "      <td>202.21</td>\n",
       "      <td>29.1</td>\n",
       "      <td>never-smoked</td>\n",
       "      <td>1</td>\n",
       "      <td>NaN</td>\n",
       "      <td>(57.0, 65.0]</td>\n",
       "      <td>(192.2, 271.7]</td>\n",
       "      <td>(28.2, 29.9]</td>\n",
       "    </tr>\n",
       "    <tr>\n",
       "      <th>2</th>\n",
       "      <td>31112</td>\n",
       "      <td>1</td>\n",
       "      <td>80</td>\n",
       "      <td>0</td>\n",
       "      <td>1</td>\n",
       "      <td>1</td>\n",
       "      <td>private</td>\n",
       "      <td>rural</td>\n",
       "      <td>105.92</td>\n",
       "      <td>32.5</td>\n",
       "      <td>never-smoked</td>\n",
       "      <td>1</td>\n",
       "      <td>32.5</td>\n",
       "      <td>(75.0, 82.0]</td>\n",
       "      <td>(98.9, 108.5]</td>\n",
       "      <td>(31.8, 34.2]</td>\n",
       "    </tr>\n",
       "    <tr>\n",
       "      <th>3</th>\n",
       "      <td>60182</td>\n",
       "      <td>0</td>\n",
       "      <td>49</td>\n",
       "      <td>0</td>\n",
       "      <td>0</td>\n",
       "      <td>1</td>\n",
       "      <td>private</td>\n",
       "      <td>urban</td>\n",
       "      <td>171.23</td>\n",
       "      <td>34.4</td>\n",
       "      <td>smokes</td>\n",
       "      <td>1</td>\n",
       "      <td>34.4</td>\n",
       "      <td>(45.0, 51.0]</td>\n",
       "      <td>(124.2, 192.2]</td>\n",
       "      <td>(34.2, 38.6]</td>\n",
       "    </tr>\n",
       "    <tr>\n",
       "      <th>4</th>\n",
       "      <td>1665</td>\n",
       "      <td>0</td>\n",
       "      <td>79</td>\n",
       "      <td>1</td>\n",
       "      <td>0</td>\n",
       "      <td>1</td>\n",
       "      <td>self-employed</td>\n",
       "      <td>rural</td>\n",
       "      <td>174.12</td>\n",
       "      <td>24.0</td>\n",
       "      <td>never-smoked</td>\n",
       "      <td>1</td>\n",
       "      <td>24.0</td>\n",
       "      <td>(75.0, 82.0]</td>\n",
       "      <td>(124.2, 192.2]</td>\n",
       "      <td>(22.6, 24.7]</td>\n",
       "    </tr>\n",
       "  </tbody>\n",
       "</table>\n",
       "</div>"
      ],
      "text/plain": [
       "      id  gender  age  hypertension  heart_disease  ever_married  \\\n",
       "0   9046       1   67             0              1             1   \n",
       "1  51676       0   61             0              0             1   \n",
       "2  31112       1   80             0              1             1   \n",
       "3  60182       0   49             0              0             1   \n",
       "4   1665       0   79             1              0             1   \n",
       "\n",
       "       work_type residence_type  avg_glucose_level   bmi   smoking_status  \\\n",
       "0        private          urban             228.69  36.6  formerly-smoked   \n",
       "1  self-employed          rural             202.21  29.1     never-smoked   \n",
       "2        private          rural             105.92  32.5     never-smoked   \n",
       "3        private          urban             171.23  34.4           smokes   \n",
       "4  self-employed          rural             174.12  24.0     never-smoked   \n",
       "\n",
       "   stroke  bmi_raw       age_bin avg_glucose_level_bin       bmi_bin  \n",
       "0       1     36.6  (65.0, 75.0]        (192.2, 271.7]  (34.2, 38.6]  \n",
       "1       1      NaN  (57.0, 65.0]        (192.2, 271.7]  (28.2, 29.9]  \n",
       "2       1     32.5  (75.0, 82.0]         (98.9, 108.5]  (31.8, 34.2]  \n",
       "3       1     34.4  (45.0, 51.0]        (124.2, 192.2]  (34.2, 38.6]  \n",
       "4       1     24.0  (75.0, 82.0]        (124.2, 192.2]  (22.6, 24.7]  "
      ]
     },
     "execution_count": 62,
     "metadata": {},
     "output_type": "execute_result"
    }
   ],
   "source": [
    "df.head()"
   ]
  },
  {
   "cell_type": "code",
   "execution_count": 63,
   "metadata": {},
   "outputs": [],
   "source": [
    "df2 = df.drop(['id','work_type','residence_type','smoking_status','bmi_raw','age_bin','avg_glucose_level_bin','bmi_bin'],axis=1)"
   ]
  },
  {
   "cell_type": "code",
   "execution_count": 64,
   "metadata": {},
   "outputs": [],
   "source": [
    "df3 = df.drop(['id','work_type','residence_type','smoking_status','bmi_raw','avg_glucose_level','bmi'],axis=1)"
   ]
  },
  {
   "cell_type": "code",
   "execution_count": 65,
   "metadata": {},
   "outputs": [
    {
     "data": {
      "text/html": [
       "<div>\n",
       "<style scoped>\n",
       "    .dataframe tbody tr th:only-of-type {\n",
       "        vertical-align: middle;\n",
       "    }\n",
       "\n",
       "    .dataframe tbody tr th {\n",
       "        vertical-align: top;\n",
       "    }\n",
       "\n",
       "    .dataframe thead th {\n",
       "        text-align: right;\n",
       "    }\n",
       "</style>\n",
       "<table border=\"1\" class=\"dataframe\">\n",
       "  <thead>\n",
       "    <tr style=\"text-align: right;\">\n",
       "      <th></th>\n",
       "      <th>gender</th>\n",
       "      <th>age</th>\n",
       "      <th>hypertension</th>\n",
       "      <th>heart_disease</th>\n",
       "      <th>ever_married</th>\n",
       "      <th>avg_glucose_level</th>\n",
       "      <th>bmi</th>\n",
       "      <th>stroke</th>\n",
       "    </tr>\n",
       "  </thead>\n",
       "  <tbody>\n",
       "    <tr>\n",
       "      <th>0</th>\n",
       "      <td>1</td>\n",
       "      <td>67</td>\n",
       "      <td>0</td>\n",
       "      <td>1</td>\n",
       "      <td>1</td>\n",
       "      <td>228.69</td>\n",
       "      <td>36.6</td>\n",
       "      <td>1</td>\n",
       "    </tr>\n",
       "    <tr>\n",
       "      <th>1</th>\n",
       "      <td>0</td>\n",
       "      <td>61</td>\n",
       "      <td>0</td>\n",
       "      <td>0</td>\n",
       "      <td>1</td>\n",
       "      <td>202.21</td>\n",
       "      <td>29.1</td>\n",
       "      <td>1</td>\n",
       "    </tr>\n",
       "    <tr>\n",
       "      <th>2</th>\n",
       "      <td>1</td>\n",
       "      <td>80</td>\n",
       "      <td>0</td>\n",
       "      <td>1</td>\n",
       "      <td>1</td>\n",
       "      <td>105.92</td>\n",
       "      <td>32.5</td>\n",
       "      <td>1</td>\n",
       "    </tr>\n",
       "    <tr>\n",
       "      <th>3</th>\n",
       "      <td>0</td>\n",
       "      <td>49</td>\n",
       "      <td>0</td>\n",
       "      <td>0</td>\n",
       "      <td>1</td>\n",
       "      <td>171.23</td>\n",
       "      <td>34.4</td>\n",
       "      <td>1</td>\n",
       "    </tr>\n",
       "    <tr>\n",
       "      <th>4</th>\n",
       "      <td>0</td>\n",
       "      <td>79</td>\n",
       "      <td>1</td>\n",
       "      <td>0</td>\n",
       "      <td>1</td>\n",
       "      <td>174.12</td>\n",
       "      <td>24.0</td>\n",
       "      <td>1</td>\n",
       "    </tr>\n",
       "  </tbody>\n",
       "</table>\n",
       "</div>"
      ],
      "text/plain": [
       "   gender  age  hypertension  heart_disease  ever_married  avg_glucose_level  \\\n",
       "0       1   67             0              1             1             228.69   \n",
       "1       0   61             0              0             1             202.21   \n",
       "2       1   80             0              1             1             105.92   \n",
       "3       0   49             0              0             1             171.23   \n",
       "4       0   79             1              0             1             174.12   \n",
       "\n",
       "    bmi  stroke  \n",
       "0  36.6       1  \n",
       "1  29.1       1  \n",
       "2  32.5       1  \n",
       "3  34.4       1  \n",
       "4  24.0       1  "
      ]
     },
     "execution_count": 65,
     "metadata": {},
     "output_type": "execute_result"
    }
   ],
   "source": [
    "df2.head()"
   ]
  },
  {
   "cell_type": "code",
   "execution_count": 66,
   "metadata": {},
   "outputs": [
    {
     "data": {
      "text/html": [
       "<div>\n",
       "<style scoped>\n",
       "    .dataframe tbody tr th:only-of-type {\n",
       "        vertical-align: middle;\n",
       "    }\n",
       "\n",
       "    .dataframe tbody tr th {\n",
       "        vertical-align: top;\n",
       "    }\n",
       "\n",
       "    .dataframe thead th {\n",
       "        text-align: right;\n",
       "    }\n",
       "</style>\n",
       "<table border=\"1\" class=\"dataframe\">\n",
       "  <thead>\n",
       "    <tr style=\"text-align: right;\">\n",
       "      <th></th>\n",
       "      <th>gender</th>\n",
       "      <th>age</th>\n",
       "      <th>hypertension</th>\n",
       "      <th>heart_disease</th>\n",
       "      <th>ever_married</th>\n",
       "      <th>stroke</th>\n",
       "      <th>age_bin</th>\n",
       "      <th>avg_glucose_level_bin</th>\n",
       "      <th>bmi_bin</th>\n",
       "    </tr>\n",
       "  </thead>\n",
       "  <tbody>\n",
       "    <tr>\n",
       "      <th>0</th>\n",
       "      <td>1</td>\n",
       "      <td>67</td>\n",
       "      <td>0</td>\n",
       "      <td>1</td>\n",
       "      <td>1</td>\n",
       "      <td>1</td>\n",
       "      <td>(65.0, 75.0]</td>\n",
       "      <td>(192.2, 271.7]</td>\n",
       "      <td>(34.2, 38.6]</td>\n",
       "    </tr>\n",
       "    <tr>\n",
       "      <th>1</th>\n",
       "      <td>0</td>\n",
       "      <td>61</td>\n",
       "      <td>0</td>\n",
       "      <td>0</td>\n",
       "      <td>1</td>\n",
       "      <td>1</td>\n",
       "      <td>(57.0, 65.0]</td>\n",
       "      <td>(192.2, 271.7]</td>\n",
       "      <td>(28.2, 29.9]</td>\n",
       "    </tr>\n",
       "    <tr>\n",
       "      <th>2</th>\n",
       "      <td>1</td>\n",
       "      <td>80</td>\n",
       "      <td>0</td>\n",
       "      <td>1</td>\n",
       "      <td>1</td>\n",
       "      <td>1</td>\n",
       "      <td>(75.0, 82.0]</td>\n",
       "      <td>(98.9, 108.5]</td>\n",
       "      <td>(31.8, 34.2]</td>\n",
       "    </tr>\n",
       "    <tr>\n",
       "      <th>3</th>\n",
       "      <td>0</td>\n",
       "      <td>49</td>\n",
       "      <td>0</td>\n",
       "      <td>0</td>\n",
       "      <td>1</td>\n",
       "      <td>1</td>\n",
       "      <td>(45.0, 51.0]</td>\n",
       "      <td>(124.2, 192.2]</td>\n",
       "      <td>(34.2, 38.6]</td>\n",
       "    </tr>\n",
       "    <tr>\n",
       "      <th>4</th>\n",
       "      <td>0</td>\n",
       "      <td>79</td>\n",
       "      <td>1</td>\n",
       "      <td>0</td>\n",
       "      <td>1</td>\n",
       "      <td>1</td>\n",
       "      <td>(75.0, 82.0]</td>\n",
       "      <td>(124.2, 192.2]</td>\n",
       "      <td>(22.6, 24.7]</td>\n",
       "    </tr>\n",
       "  </tbody>\n",
       "</table>\n",
       "</div>"
      ],
      "text/plain": [
       "   gender  age  hypertension  heart_disease  ever_married  stroke  \\\n",
       "0       1   67             0              1             1       1   \n",
       "1       0   61             0              0             1       1   \n",
       "2       1   80             0              1             1       1   \n",
       "3       0   49             0              0             1       1   \n",
       "4       0   79             1              0             1       1   \n",
       "\n",
       "        age_bin avg_glucose_level_bin       bmi_bin  \n",
       "0  (65.0, 75.0]        (192.2, 271.7]  (34.2, 38.6]  \n",
       "1  (57.0, 65.0]        (192.2, 271.7]  (28.2, 29.9]  \n",
       "2  (75.0, 82.0]         (98.9, 108.5]  (31.8, 34.2]  \n",
       "3  (45.0, 51.0]        (124.2, 192.2]  (34.2, 38.6]  \n",
       "4  (75.0, 82.0]        (124.2, 192.2]  (22.6, 24.7]  "
      ]
     },
     "execution_count": 66,
     "metadata": {},
     "output_type": "execute_result"
    }
   ],
   "source": [
    "df3.head()"
   ]
  },
  {
   "cell_type": "code",
   "execution_count": 67,
   "metadata": {
    "scrolled": true
   },
   "outputs": [
    {
     "data": {
      "text/plain": [
       "gender                      int64\n",
       "age                         int64\n",
       "hypertension                int64\n",
       "heart_disease               int64\n",
       "ever_married                int64\n",
       "stroke                      int64\n",
       "age_bin                  category\n",
       "avg_glucose_level_bin    category\n",
       "bmi_bin                  category\n",
       "dtype: object"
      ]
     },
     "execution_count": 67,
     "metadata": {},
     "output_type": "execute_result"
    }
   ],
   "source": [
    "df3.dtypes"
   ]
  },
  {
   "cell_type": "markdown",
   "metadata": {},
   "source": [
    "# Modelling"
   ]
  },
  {
   "cell_type": "markdown",
   "metadata": {},
   "source": [
    "## Random Forest"
   ]
  },
  {
   "cell_type": "markdown",
   "metadata": {},
   "source": [
    "The major issue with random forest is the balancing accuracy and recall, this can be improved by using stratified k fold cross validation "
   ]
  },
  {
   "cell_type": "code",
   "execution_count": 317,
   "metadata": {},
   "outputs": [],
   "source": [
    "y = df2['stroke']\n",
    "X = df2.drop('stroke',axis=1)\n",
    "\n",
    "# Lower test splits (more training) seems to provide better recall\n",
    "X_train, X_test, y_train, y_test = train_test_split(X, y, test_size=0.2, random_state=5)\n",
    "\n",
    "# Fix the balancing issues by using oversampling techniques\n",
    "X_train_res, y_train_res = SMOTE().fit_resample(X_train, y_train)"
   ]
  },
  {
   "cell_type": "code",
   "execution_count": 315,
   "metadata": {},
   "outputs": [],
   "source": [
    "# Max depth of 5 seems to give the best recall\n",
    "rf = RandomForestClassifier(random_state=5, max_depth=5, n_estimators=100, bootstrap=False)\n",
    "rf.fit(X_train_res, y_train_res)\n",
    "y_pred = rf.predict(X_test)\n",
    "y_prob = rf.predict_proba(X_test)[:,1]"
   ]
  },
  {
   "cell_type": "code",
   "execution_count": 264,
   "metadata": {},
   "outputs": [
    {
     "name": "stdout",
     "output_type": "stream",
     "text": [
      "              precision    recall  f1-score   support\n",
      "\n",
      "           0       0.98      0.72      0.83       970\n",
      "           1       0.12      0.73      0.21        52\n",
      "\n",
      "    accuracy                           0.72      1022\n",
      "   macro avg       0.55      0.73      0.52      1022\n",
      "weighted avg       0.94      0.72      0.80      1022\n",
      "\n"
     ]
    }
   ],
   "source": [
    "print(classification_report(y_test, y_pred))"
   ]
  },
  {
   "cell_type": "code",
   "execution_count": 318,
   "metadata": {},
   "outputs": [
    {
     "name": "stdout",
     "output_type": "stream",
     "text": [
      "Cross-validation scores with 10 folds:\n",
      "\n",
      "Scores:\n",
      "[0.81771502 0.81899872 0.83033419 0.83161954 0.8251928  0.84190231\n",
      " 0.81233933 0.83161954 0.8251928  0.8033419 ]\n",
      "\n",
      "accuracy: 0.8238\n",
      "ROC AUC: 0.907\n",
      "precision: 0.77\n",
      "recall: 0.93\n",
      "f1: 0.84\n"
     ]
    }
   ],
   "source": [
    "rf = RandomForestClassifier(random_state=5, max_depth=5, n_estimators=100, bootstrap=False)\n",
    "skf = StratifiedKFold(shuffle=True, n_splits=10)\n",
    "scores = cross_val_score(rf, X_train_res, y_train_res, cv=skf)\n",
    "\n",
    "print('Cross-validation scores with 10 folds:')\n",
    "print('')\n",
    "print(f'Scores:\\n{scores}')\n",
    "print('')\n",
    "print(f'accuracy: {round(np.mean(scores), 4)}')\n",
    "print(f\"ROC AUC: {round(cross_val_score(rf, X_train_res, y_train_res, cv=skf, scoring='roc_auc').mean(), 3)}\")\n",
    "print(f\"precision: {round(cross_val_score(rf, X_train_res, y_train_res, cv=skf, scoring='precision').mean(), 2)}\")\n",
    "print(f\"recall: {round(cross_val_score(rf, X_train_res, y_train_res, cv=skf, scoring='recall').mean(), 2)}\")\n",
    "print(f\"f1: {round(cross_val_score(rf, X_train_res, y_train_res, cv=skf, scoring='f1').mean(), 2)}\")"
   ]
  },
  {
   "cell_type": "code",
   "execution_count": 200,
   "metadata": {},
   "outputs": [
    {
     "name": "stdout",
     "output_type": "stream",
     "text": [
      "Accuracy:  0.7240704500978473\n"
     ]
    },
    {
     "data": {
      "text/plain": [
       "<AxesSubplot:>"
      ]
     },
     "execution_count": 200,
     "metadata": {},
     "output_type": "execute_result"
    },
    {
     "data": {
      "image/png": "[encoded data removed]",
      "text/plain": [
       "<Figure size 432x288 with 2 Axes>"
      ]
     },
     "metadata": {},
     "output_type": "display_data"
    }
   ],
   "source": [
    "ac = accuracy_score(y_test, y_pred)\n",
    "print('Accuracy: ', ac)\n",
    "cm = confusion_matrix(y_test, y_pred)\n",
    "sns.heatmap(cm , annot=True, fmt=\"d\")"
   ]
  },
  {
   "cell_type": "code",
   "execution_count": 157,
   "metadata": {},
   "outputs": [
    {
     "data": {
      "image/png": "[encoded data removed]",
      "text/plain": [
       "<Figure size 576x576 with 1 Axes>"
      ]
     },
     "metadata": {},
     "output_type": "display_data"
    }
   ],
   "source": [
    "false_positive_rate, true_positive_rate, thresholds = roc_curve(y_test, y_prob)\n",
    "roc_auc = auc(false_positive_rate, true_positive_rate)\n",
    "\n",
    "sns.set_theme(style = 'white')\n",
    "plt.figure(figsize = (8, 8))\n",
    "plt.plot(false_positive_rate, true_positive_rate, color = '#b01717', label = 'AUC = %0.3f' % roc_auc)\n",
    "plt.legend(loc = 'lower right')\n",
    "plt.plot([0, 1], [0, 1], linestyle = '--', color = '#174ab0')\n",
    "plt.axis('tight')\n",
    "plt.ylabel('True Positive Rate')\n",
    "plt.xlabel('False Positive Rate')\n",
    "plt.show()"
   ]
  },
  {
   "cell_type": "markdown",
   "metadata": {},
   "source": [
    "## Logistic Regression"
   ]
  },
  {
   "cell_type": "code",
   "execution_count": 294,
   "metadata": {},
   "outputs": [],
   "source": [
    "y = df2['stroke']\n",
    "X = df2.drop('stroke',axis=1)\n",
    "\n",
    "# Lower test splits (more training) seems to provide better recall\n",
    "X_train, X_test, y_train, y_test = train_test_split(X, y, test_size=0.2, random_state=5)\n",
    "\n",
    "# Fix the balancing issues by using oversampling techniques\n",
    "X_train_res, y_train_res = SMOTE().fit_resample(X_train, y_train)"
   ]
  },
  {
   "cell_type": "code",
   "execution_count": 295,
   "metadata": {},
   "outputs": [],
   "source": [
    "lr = LogisticRegression(random_state=5, max_iter=1000)\n",
    "lr.fit(X_train_res, y_train_res)\n",
    "#lr.fit(X_train, y_train)\n",
    "\n",
    "y_pred = lr.predict(X_test)\n",
    "y_prob = lr.predict_proba(X_test)[:,1]"
   ]
  },
  {
   "cell_type": "code",
   "execution_count": 296,
   "metadata": {},
   "outputs": [
    {
     "name": "stdout",
     "output_type": "stream",
     "text": [
      "              precision    recall  f1-score   support\n",
      "\n",
      "           0       0.97      0.77      0.86       970\n",
      "           1       0.13      0.62      0.21        52\n",
      "\n",
      "    accuracy                           0.76      1022\n",
      "   macro avg       0.55      0.69      0.53      1022\n",
      "weighted avg       0.93      0.76      0.83      1022\n",
      "\n"
     ]
    }
   ],
   "source": [
    "print(classification_report(y_test, y_pred))"
   ]
  },
  {
   "cell_type": "code",
   "execution_count": 297,
   "metadata": {},
   "outputs": [
    {
     "name": "stdout",
     "output_type": "stream",
     "text": [
      "Cross-validation scores with 10 folds:\n",
      "\n",
      "Scores:\n",
      "[0.76364804 0.78805395 0.77763496 0.77634961 0.80141388]\n",
      "\n",
      "accuracy: 0.7814\n",
      "ROC AUC: 0.872\n",
      "precision: 0.78\n",
      "recall: 0.79\n",
      "f1: 0.78\n"
     ]
    }
   ],
   "source": [
    "skf = StratifiedKFold(shuffle=True, n_splits=5)\n",
    "scores = cross_val_score(lr, X_train_res, y_train_res, cv=skf)\n",
    "\n",
    "print('Cross-validation scores with 10 folds:')\n",
    "print('')\n",
    "print(f'Scores:\\n{scores}')\n",
    "print('')\n",
    "print(f'accuracy: {round(np.mean(scores), 4)}')\n",
    "print(f\"ROC AUC: {round(cross_val_score(lr, X_train_res, y_train_res, cv=skf, scoring='roc_auc').mean(), 3)}\")\n",
    "print(f\"precision: {round(cross_val_score(lr, X_train_res, y_train_res, cv=skf, scoring='precision').mean(), 2)}\")\n",
    "print(f\"recall: {round(cross_val_score(lr, X_train_res, y_train_res, cv=skf, scoring='recall').mean(), 2)}\")\n",
    "print(f\"f1: {round(cross_val_score(lr, X_train_res, y_train_res, cv=skf, scoring='f1').mean(), 2)}\")"
   ]
  },
  {
   "cell_type": "code",
   "execution_count": 298,
   "metadata": {},
   "outputs": [
    {
     "name": "stdout",
     "output_type": "stream",
     "text": [
      "Accuracy:  0.7622309197651663\n"
     ]
    },
    {
     "data": {
      "text/plain": [
       "<AxesSubplot:>"
      ]
     },
     "execution_count": 298,
     "metadata": {},
     "output_type": "execute_result"
    },
    {
     "data": {
      "image/png": "[encoded data removed]",
      "text/plain": [
       "<Figure size 432x288 with 2 Axes>"
      ]
     },
     "metadata": {},
     "output_type": "display_data"
    }
   ],
   "source": [
    "ac = accuracy_score(y_test, y_pred)\n",
    "print('Accuracy: ', ac)\n",
    "cm = confusion_matrix(y_test, y_pred)\n",
    "sns.heatmap(cm , annot=True, fmt=\"d\")"
   ]
  },
  {
   "cell_type": "code",
   "execution_count": 299,
   "metadata": {},
   "outputs": [
    {
     "data": {
      "image/png": "[encoded data removed]",
      "text/plain": [
       "<Figure size 576x576 with 1 Axes>"
      ]
     },
     "metadata": {},
     "output_type": "display_data"
    }
   ],
   "source": [
    "false_positive_rate, true_positive_rate, thresholds = roc_curve(y_test, y_prob)\n",
    "roc_auc = auc(false_positive_rate, true_positive_rate)\n",
    "\n",
    "sns.set_theme(style = 'white')\n",
    "plt.figure(figsize = (8, 8))\n",
    "plt.plot(false_positive_rate, true_positive_rate, color='#b01717', label='AUC = %0.3f' % roc_auc)\n",
    "plt.legend(loc = 'lower right')\n",
    "plt.plot([0, 1], [0, 1], linestyle = '--', color = '#174ab0')\n",
    "plt.axis('tight')\n",
    "plt.ylabel('True Positive Rate')\n",
    "plt.xlabel('False Positive Rate')\n",
    "plt.show()"
   ]
  },
  {
   "cell_type": "markdown",
   "metadata": {},
   "source": [
    "## SVM"
   ]
  },
  {
   "cell_type": "code",
   "execution_count": 305,
   "metadata": {},
   "outputs": [],
   "source": [
    "y = df2['stroke']\n",
    "X = df2.drop('stroke', axis=1)\n",
    "\n",
    "# Lower test splits (more training) seems to provide better recall\n",
    "X_train, X_test, y_train, y_test = train_test_split(X, y, test_size=0.2, random_state=5)\n",
    "\n",
    "# Fix the balancing issues by using oversampling techniques\n",
    "X_train_res, y_train_res = SMOTE().fit_resample(X_train, y_train)"
   ]
  },
  {
   "cell_type": "code",
   "execution_count": 306,
   "metadata": {},
   "outputs": [],
   "source": [
    "svc = SVC(random_state=5, probability=True)\n",
    "svc.fit(X_train_res, y_train_res)\n",
    "y_pred = svc.predict(X_test)\n",
    "y_prob = svc.predict_proba(X_test)[:,1]"
   ]
  },
  {
   "cell_type": "code",
   "execution_count": 307,
   "metadata": {},
   "outputs": [
    {
     "name": "stdout",
     "output_type": "stream",
     "text": [
      "              precision    recall  f1-score   support\n",
      "\n",
      "           0       0.99      0.71      0.82       970\n",
      "           1       0.13      0.81      0.22        52\n",
      "\n",
      "    accuracy                           0.71      1022\n",
      "   macro avg       0.56      0.76      0.52      1022\n",
      "weighted avg       0.94      0.71      0.79      1022\n",
      "\n"
     ]
    }
   ],
   "source": [
    "print(classification_report(y_test, y_pred))"
   ]
  },
  {
   "cell_type": "code",
   "execution_count": 177,
   "metadata": {},
   "outputs": [
    {
     "name": "stdout",
     "output_type": "stream",
     "text": [
      "Cross-validation scores with 10 folds:\n",
      "\n",
      "Scores:\n",
      "[0.75481386 0.75609756 0.77120823 0.77634961 0.7596401  0.73136247\n",
      " 0.77377892 0.78534704 0.75064267 0.78791774]\n",
      "\n",
      "accuracy: 0.7647\n",
      "ROC AUC: 0.845\n",
      "precision: 0.73\n",
      "recall: 0.83\n",
      "f1: 0.78\n"
     ]
    }
   ],
   "source": [
    "skf = StratifiedKFold(shuffle=True, n_splits=10)\n",
    "scores = cross_val_score(svc, X_train_res, y_train_res, cv=skf)\n",
    "\n",
    "print('Cross-validation scores with 10 folds:')\n",
    "print('')\n",
    "print(f'Scores:\\n{scores}')\n",
    "print('')\n",
    "print(f'accuracy: {round(np.mean(scores), 4)}')\n",
    "print(f\"ROC AUC: {round(cross_val_score(svc, X_train_res, y_train_res, cv=skf, scoring='roc_auc').mean(), 3)}\")\n",
    "print(f\"precision: {round(cross_val_score(svc, X_train_res, y_train_res, cv=skf, scoring='precision').mean(), 2)}\")\n",
    "print(f\"recall: {round(cross_val_score(svc, X_train_res, y_train_res, cv=skf, scoring='recall').mean(), 2)}\")\n",
    "print(f\"f1: {round(cross_val_score(svc, X_train_res, y_train_res, cv=skf, scoring='f1').mean(), 2)}\")"
   ]
  },
  {
   "cell_type": "code",
   "execution_count": 303,
   "metadata": {},
   "outputs": [
    {
     "name": "stdout",
     "output_type": "stream",
     "text": [
      "Accuracy:  0.6956947162426614\n"
     ]
    },
    {
     "data": {
      "text/plain": [
       "<AxesSubplot:>"
      ]
     },
     "execution_count": 303,
     "metadata": {},
     "output_type": "execute_result"
    },
    {
     "data": {
      "image/png": "[encoded data removed]",
      "text/plain": [
       "<Figure size 432x288 with 2 Axes>"
      ]
     },
     "metadata": {},
     "output_type": "display_data"
    }
   ],
   "source": [
    "ac = accuracy_score(y_test, y_pred)\n",
    "print('Accuracy: ', ac)\n",
    "cm = confusion_matrix(y_test, y_pred)\n",
    "sns.heatmap(cm , annot=True, fmt=\"d\")"
   ]
  },
  {
   "cell_type": "code",
   "execution_count": 304,
   "metadata": {},
   "outputs": [
    {
     "data": {
      "image/png": "[encoded data removed]",
      "text/plain": [
       "<Figure size 576x576 with 1 Axes>"
      ]
     },
     "metadata": {},
     "output_type": "display_data"
    }
   ],
   "source": [
    "false_positive_rate, true_positive_rate, thresholds = roc_curve(y_test, y_prob)\n",
    "roc_auc = auc(false_positive_rate, true_positive_rate)\n",
    "\n",
    "sns.set_theme(style = 'white')\n",
    "plt.figure(figsize = (8, 8))\n",
    "plt.plot(false_positive_rate, true_positive_rate, color='#b01717', label='AUC = %0.3f' % roc_auc)\n",
    "plt.legend(loc = 'lower right')\n",
    "plt.plot([0, 1], [0, 1], linestyle = '--', color = '#174ab0')\n",
    "plt.axis('tight')\n",
    "plt.ylabel('True Positive Rate')\n",
    "plt.xlabel('False Positive Rate')\n",
    "plt.show()"
   ]
  },
  {
   "cell_type": "code",
   "execution_count": null,
   "metadata": {},
   "outputs": [],
   "source": []
  }
 ],
 "metadata": {
  "kernelspec": {
   "display_name": "Python 3",
   "language": "python",
   "name": "python3"
  },
  "language_info": {
   "codemirror_mode": {
    "name": "ipython",
    "version": 3
   },
   "file_extension": ".py",
   "mimetype": "text/x-python",
   "name": "python",
   "nbconvert_exporter": "python",
   "pygments_lexer": "ipython3",
   "version": "3.8.2"
  }
 },
 "nbformat": 4,
 "nbformat_minor": 4
}
