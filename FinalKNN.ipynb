{
 "cells": [
  {
   "cell_type": "markdown",
   "metadata": {},
   "source": [
    "<h1>SIT307 Group Assignment 1 notebook</h1>"
   ]
  },
  {
   "cell_type": "markdown",
   "metadata": {},
   "source": [
    "<h3>Group 3</h3>\n",
    "<p>By:<br>\n",
    "    Aaron Norwood,218330434<br>\n",
    "    Joshua Anthony, 219466473<br>\n",
    "    Roger Middenway, 217602784<br>\n",
    "    David Adams, 216110104<br>\n",
    "    Linden Hutchinson, 218384326<br>\n",
    "    Dale Orders, 219106283"
   ]
  },
  {
   "cell_type": "markdown",
   "metadata": {},
   "source": [
    "# Imported libraries"
   ]
  },
  {
   "cell_type": "code",
   "execution_count": 58,
   "metadata": {},
   "outputs": [],
   "source": [
    "import matplotlib.pyplot as plt\n",
    "import numpy as np\n",
    "import pandas as pd\n",
    "import seaborn as sns\n",
    "import math\n",
    "from scipy import stats\n",
    "import plotly.express as px\n",
    "%matplotlib inline\n",
    "\n",
    "#importing the libraries needed for classification\n",
    "\n",
    "from sklearn.preprocessing import StandardScaler\n",
    "from sklearn.model_selection import train_test_split,StratifiedKFold, cross_val_score\n",
    "from sklearn.neighbors import KNeighborsClassifier\n",
    "from sklearn.metrics import confusion_matrix,classification_report, plot_confusion_matrix\n",
    "from sklearn.preprocessing import PolynomialFeatures\n",
    "from sklearn import preprocessing\n",
    "from imblearn.over_sampling import SMOTE\n",
    "from sklearn.pipeline import Pipeline\n",
    "\n",
    "from sklearn.metrics import f1_score\n",
    "from sklearn import metrics\n",
    "from sklearn.metrics import accuracy_score\n",
    "import warnings\n",
    "warnings.filterwarnings('ignore')"
   ]
  },
  {
   "cell_type": "markdown",
   "metadata": {},
   "source": [
    "<h3> Read in the data, store if dataframe"
   ]
  },
  {
   "cell_type": "code",
   "execution_count": 59,
   "metadata": {},
   "outputs": [],
   "source": [
    "df = pd.read_csv('./data/healthcare-dataset-stroke-data.csv')"
   ]
  },
  {
   "cell_type": "markdown",
   "metadata": {
    "tags": []
   },
   "source": [
    "<h4>Tidying"
   ]
  },
  {
   "cell_type": "code",
   "execution_count": 60,
   "metadata": {},
   "outputs": [],
   "source": [
    "##convert gender to lowercase\n",
    "df['gender'] = df['gender'].apply(lambda x: x.lower())\n",
    "\n",
    "# print(len(df[df['gender'] == 'other']))\n",
    "## drop the one row that has \"other\" gender to keep things simple\n",
    "df.drop(index=df[df['gender'] == 'other'].index, inplace=True)\n",
    "\n",
    "# replace gender with binary values\n",
    "df['gender'] = df['gender'].str.lower().map({'male': 1, 'female': 0})\n",
    "\n",
    "# replace marital status with binary values\n",
    "df['ever_married'] = df['ever_married'].str.lower().map({'yes': 1, 'no': 0})\n",
    "\n",
    "##convert work_type to lowercase ensure consistent spacing \n",
    "df['work_type'] = df['work_type'].apply(lambda x: x.lower().replace('_','-'))\n",
    "\n",
    "##convert residence_type to lowercase\n",
    "df.rename(columns={'Residence_type':'residence_type'}, inplace=True)\n",
    "df['residence_type'] = df['residence_type'].apply(lambda x: x.lower())\n",
    "\n",
    "##convert smoking_status to lowercase ensure consistent spacing \n",
    "df['smoking_status'] = df['smoking_status'].apply(lambda x: x.lower().replace(' ', '-'))\n",
    "\n",
    "## round off age\n",
    "df['age'] = df['age'].apply(lambda x : round(x))\n",
    "\n",
    "# cap BMI outliers to a maximum of 60 \n",
    "df['bmi'] = df['bmi'].apply(lambda bmi_value: bmi_value if 12 < bmi_value < 60 else np.nan)"
   ]
  },
  {
   "cell_type": "markdown",
   "metadata": {},
   "source": [
    "<h4>Imputing"
   ]
  },
  {
   "cell_type": "code",
   "execution_count": 61,
   "metadata": {},
   "outputs": [],
   "source": [
    "m_df = df[df['gender'] == 1]\n",
    "f_df = df[df['gender'] == 0]\n",
    "\n",
    "m_bmi_avg = m_df.groupby('age')['bmi'].mean()\n",
    "f_bmi_avg = f_df.groupby('age')['bmi'].mean()\n",
    "##round to one to fit with other bmi values\n",
    "m_bmi_avg = round(m_bmi_avg,1)\n",
    "f_bmi_avg = round(f_bmi_avg,1)\n",
    "\n",
    "missing_vals = df[df.isnull().any(axis = 1)]\n",
    "\n",
    "for index, row in missing_vals.iterrows():\n",
    "    if row['gender'] == 1:\n",
    "        df.loc[index,['bmi']] = m_bmi_avg[row['age']]\n",
    "    else:\n",
    "        df.loc[index,['bmi']] = f_bmi_avg[row['age']]"
   ]
  },
  {
   "cell_type": "markdown",
   "metadata": {},
   "source": [
    "<h4>Binning"
   ]
  },
  {
   "cell_type": "code",
   "execution_count": 62,
   "metadata": {},
   "outputs": [],
   "source": [
    "# implement age bins\n",
    "df['age_bin'] = pd.qcut(df['age'], q = 10, precision=1)\n",
    "\n",
    "# implement glucose bins\n",
    "df['avg_glucose_level_bin'] = pd.qcut(df['avg_glucose_level'], q=10, precision=1)\n",
    "\n",
    "# implement bmi bins\n",
    "df['bmi_bin'] = pd.qcut(df['bmi'], q=10, precision=1)"
   ]
  },
  {
   "cell_type": "markdown",
   "metadata": {},
   "source": [
    "<h4>Mapping"
   ]
  },
  {
   "cell_type": "code",
   "execution_count": 63,
   "metadata": {},
   "outputs": [],
   "source": [
    "work_type_map = {\n",
    "    'private':0,\n",
    "    'self-employed':1,\n",
    "    'govt-job':2,\n",
    "    'children':3,\n",
    "    'never-worked':4\n",
    "}\n",
    "residence_type_map = {\n",
    "    'urban':0,\n",
    "    'rural':1\n",
    "}\n",
    "smoking_status_map = {\n",
    "    'formerly-smoked':0,\n",
    "    'never-smoked':1,\n",
    "    'smokes':2,\n",
    "    'unknown':3\n",
    "}\n",
    "\n",
    "df['work_type'] = df['work_type'].map(work_type_map)\n",
    "df['residence_type'] = df['residence_type'].map(residence_type_map)\n",
    "df['smoking_status'] = df['smoking_status'].map(smoking_status_map)"
   ]
  },
  {
   "cell_type": "code",
   "execution_count": 64,
   "metadata": {
    "scrolled": true
   },
   "outputs": [
    {
     "data": {
      "text/html": [
       "<div>\n",
       "<style scoped>\n",
       "    .dataframe tbody tr th:only-of-type {\n",
       "        vertical-align: middle;\n",
       "    }\n",
       "\n",
       "    .dataframe tbody tr th {\n",
       "        vertical-align: top;\n",
       "    }\n",
       "\n",
       "    .dataframe thead th {\n",
       "        text-align: right;\n",
       "    }\n",
       "</style>\n",
       "<table border=\"1\" class=\"dataframe\">\n",
       "  <thead>\n",
       "    <tr style=\"text-align: right;\">\n",
       "      <th></th>\n",
       "      <th>id</th>\n",
       "      <th>gender</th>\n",
       "      <th>age</th>\n",
       "      <th>hypertension</th>\n",
       "      <th>heart_disease</th>\n",
       "      <th>ever_married</th>\n",
       "      <th>work_type</th>\n",
       "      <th>residence_type</th>\n",
       "      <th>avg_glucose_level</th>\n",
       "      <th>bmi</th>\n",
       "      <th>smoking_status</th>\n",
       "      <th>stroke</th>\n",
       "      <th>age_bin</th>\n",
       "      <th>avg_glucose_level_bin</th>\n",
       "      <th>bmi_bin</th>\n",
       "    </tr>\n",
       "  </thead>\n",
       "  <tbody>\n",
       "    <tr>\n",
       "      <th>0</th>\n",
       "      <td>9046</td>\n",
       "      <td>1</td>\n",
       "      <td>67</td>\n",
       "      <td>0</td>\n",
       "      <td>1</td>\n",
       "      <td>1</td>\n",
       "      <td>0</td>\n",
       "      <td>0</td>\n",
       "      <td>228.69</td>\n",
       "      <td>36.6</td>\n",
       "      <td>0</td>\n",
       "      <td>1</td>\n",
       "      <td>(65.0, 75.0]</td>\n",
       "      <td>(192.2, 271.7]</td>\n",
       "      <td>(34.2, 38.6]</td>\n",
       "    </tr>\n",
       "    <tr>\n",
       "      <th>1</th>\n",
       "      <td>51676</td>\n",
       "      <td>0</td>\n",
       "      <td>61</td>\n",
       "      <td>0</td>\n",
       "      <td>0</td>\n",
       "      <td>1</td>\n",
       "      <td>1</td>\n",
       "      <td>1</td>\n",
       "      <td>202.21</td>\n",
       "      <td>29.1</td>\n",
       "      <td>1</td>\n",
       "      <td>1</td>\n",
       "      <td>(57.0, 65.0]</td>\n",
       "      <td>(192.2, 271.7]</td>\n",
       "      <td>(28.2, 29.9]</td>\n",
       "    </tr>\n",
       "    <tr>\n",
       "      <th>2</th>\n",
       "      <td>31112</td>\n",
       "      <td>1</td>\n",
       "      <td>80</td>\n",
       "      <td>0</td>\n",
       "      <td>1</td>\n",
       "      <td>1</td>\n",
       "      <td>0</td>\n",
       "      <td>1</td>\n",
       "      <td>105.92</td>\n",
       "      <td>32.5</td>\n",
       "      <td>1</td>\n",
       "      <td>1</td>\n",
       "      <td>(75.0, 82.0]</td>\n",
       "      <td>(98.9, 108.5]</td>\n",
       "      <td>(31.8, 34.2]</td>\n",
       "    </tr>\n",
       "    <tr>\n",
       "      <th>3</th>\n",
       "      <td>60182</td>\n",
       "      <td>0</td>\n",
       "      <td>49</td>\n",
       "      <td>0</td>\n",
       "      <td>0</td>\n",
       "      <td>1</td>\n",
       "      <td>0</td>\n",
       "      <td>0</td>\n",
       "      <td>171.23</td>\n",
       "      <td>34.4</td>\n",
       "      <td>2</td>\n",
       "      <td>1</td>\n",
       "      <td>(45.0, 51.0]</td>\n",
       "      <td>(124.1, 192.2]</td>\n",
       "      <td>(34.2, 38.6]</td>\n",
       "    </tr>\n",
       "    <tr>\n",
       "      <th>4</th>\n",
       "      <td>1665</td>\n",
       "      <td>0</td>\n",
       "      <td>79</td>\n",
       "      <td>1</td>\n",
       "      <td>0</td>\n",
       "      <td>1</td>\n",
       "      <td>1</td>\n",
       "      <td>1</td>\n",
       "      <td>174.12</td>\n",
       "      <td>24.0</td>\n",
       "      <td>1</td>\n",
       "      <td>1</td>\n",
       "      <td>(75.0, 82.0]</td>\n",
       "      <td>(124.1, 192.2]</td>\n",
       "      <td>(22.6, 24.7]</td>\n",
       "    </tr>\n",
       "  </tbody>\n",
       "</table>\n",
       "</div>"
      ],
      "text/plain": [
       "      id  gender  age  hypertension  heart_disease  ever_married  work_type  \\\n",
       "0   9046       1   67             0              1             1          0   \n",
       "1  51676       0   61             0              0             1          1   \n",
       "2  31112       1   80             0              1             1          0   \n",
       "3  60182       0   49             0              0             1          0   \n",
       "4   1665       0   79             1              0             1          1   \n",
       "\n",
       "   residence_type  avg_glucose_level   bmi  smoking_status  stroke  \\\n",
       "0               0             228.69  36.6               0       1   \n",
       "1               1             202.21  29.1               1       1   \n",
       "2               1             105.92  32.5               1       1   \n",
       "3               0             171.23  34.4               2       1   \n",
       "4               1             174.12  24.0               1       1   \n",
       "\n",
       "        age_bin avg_glucose_level_bin       bmi_bin  \n",
       "0  (65.0, 75.0]        (192.2, 271.7]  (34.2, 38.6]  \n",
       "1  (57.0, 65.0]        (192.2, 271.7]  (28.2, 29.9]  \n",
       "2  (75.0, 82.0]         (98.9, 108.5]  (31.8, 34.2]  \n",
       "3  (45.0, 51.0]        (124.1, 192.2]  (34.2, 38.6]  \n",
       "4  (75.0, 82.0]        (124.1, 192.2]  (22.6, 24.7]  "
      ]
     },
     "execution_count": 64,
     "metadata": {},
     "output_type": "execute_result"
    }
   ],
   "source": [
    "df.head()"
   ]
  },
  {
   "cell_type": "markdown",
   "metadata": {},
   "source": [
    "# Change category variable since matplotlib cant handle categories"
   ]
  },
  {
   "cell_type": "code",
   "execution_count": 65,
   "metadata": {},
   "outputs": [],
   "source": [
    "df['bmi_bin'] = df['bmi_bin'].cat.codes\n",
    "df['age_bin'] = df['age_bin'].cat.codes\n",
    "df['avg_glucose_level_bin'] = df['avg_glucose_level_bin'].cat.codes"
   ]
  },
  {
   "cell_type": "markdown",
   "metadata": {},
   "source": [
    "# Split data and set variables "
   ]
  },
  {
   "cell_type": "code",
   "execution_count": 66,
   "metadata": {},
   "outputs": [
    {
     "name": "stdout",
     "output_type": "stream",
     "text": [
      "              precision    recall  f1-score   support\n",
      "\n",
      "           0       0.96      0.95      0.95      1459\n",
      "           1       0.12      0.15      0.13        74\n",
      "\n",
      "    accuracy                           0.91      1533\n",
      "   macro avg       0.54      0.55      0.54      1533\n",
      "weighted avg       0.92      0.91      0.91      1533\n",
      "\n"
     ]
    }
   ],
   "source": [
    "#This is a simple knn classification on face value of all featured columns\n",
    "Xvar = df.drop(['gender','hypertension','heart_disease','ever_married','residence_type','smoking_status',\n",
    "                'age','stroke','work_type','bmi','avg_glucose_level'],axis=1)\n",
    "Yvar = df['stroke']\n",
    "X_train, X_test, y_train, y_test = train_test_split(Xvar, Yvar, test_size=0.3)\n",
    "sc_X = StandardScaler()\n",
    "X_train = sc_X.fit_transform(X_train)\n",
    "X_test = sc_X.transform(X_test)\n",
    "classifier = KNeighborsClassifier(n_neighbors=1,p=2,metric='euclidean')\n",
    "classifier.fit(X_train, y_train)\n",
    "y_pred = classifier.predict(X_test)\n",
    "cm = confusion_matrix(y_test,y_pred)\n",
    "print(classification_report(y_test,y_pred))"
   ]
  },
  {
   "cell_type": "markdown",
   "metadata": {},
   "source": [
    "### Confusion matrix for Knn classifier"
   ]
  },
  {
   "cell_type": "code",
   "execution_count": 67,
   "metadata": {},
   "outputs": [
    {
     "data": {
      "text/plain": [
       "<sklearn.metrics._plot.confusion_matrix.ConfusionMatrixDisplay at 0x1216bcacbb0>"
      ]
     },
     "execution_count": 67,
     "metadata": {},
     "output_type": "execute_result"
    },
    {
     "data": {
      "image/png": "[encoded data removed]",
      "text/plain": [
       "<Figure size 432x288 with 2 Axes>"
      ]
     },
     "metadata": {
      "needs_background": "light"
     },
     "output_type": "display_data"
    }
   ],
   "source": [
    "plot_confusion_matrix(classifier, X_test, y_test)"
   ]
  },
  {
   "cell_type": "markdown",
   "metadata": {},
   "source": [
    "### Setting new variables for testing one with and without smote"
   ]
  },
  {
   "cell_type": "code",
   "execution_count": 68,
   "metadata": {},
   "outputs": [],
   "source": [
    "X = df.drop(['id','gender','ever_married','work_type','residence_type','smoking_status','age_bin','stroke','bmi'],axis=1)\n",
    "y = df['stroke']\n",
    "\n",
    "X_train, X_test, y_train, y_test = train_test_split(X, y, test_size=0.3)\n",
    "#and smote down here\n",
    "smote = SMOTE(sampling_strategy=0.6)\n",
    "X_trainS , y_trainS = smote.fit_resample(X_train,y_train)\n"
   ]
  },
  {
   "cell_type": "markdown",
   "metadata": {},
   "source": [
    "### Without Smote"
   ]
  },
  {
   "cell_type": "code",
   "execution_count": 69,
   "metadata": {},
   "outputs": [],
   "source": [
    "nonsmote = pd.DataFrame(index = ['avg accuracy','avg recall','avg precision','avg quality','F1-score'])\n",
    "Knn = [1,2,3,4,5,6,7,8,9,10]\n",
    "for index in Knn :\n",
    "    pipe = Pipeline([('Scaler',StandardScaler()),('Classifier',KNeighborsClassifier(n_neighbors=index))])\n",
    "    #index is 6 so shape must match\n",
    "    arr = np.zeros(5)\n",
    "    for j in range(5) :\n",
    "        X_fit, X_tf, y_fit, y_tf = train_test_split(X_train, y_train, test_size=0.30)\n",
    "        pipe.fit(X_fit,y_fit)\n",
    "        predictions = pipe.predict(X_tf)\n",
    "        accuracy = np.mean(predictions==y_tf) \n",
    "        TP = np.sum(np.array(predictions ==1))\n",
    "        TN = np.sum(np.array(predictions ==0))\n",
    "        FP = np.sum(np.array(predictions ==1))\n",
    "        FN = np.sum(np.array(predictions ==0))\n",
    "        if TP==0 and FP==0:\n",
    "            precision = 0\n",
    "        else : \n",
    "            precision = TP/(TP+FP)\n",
    "        arr = arr + np.array([accuracy,TP/(TP+FN),precision,TN/(TN+FP),2*(precision*TP/(TP+FN))/(precision+(TP/(TP+FN)))])\n",
    "    arr = arr/5\n",
    "    nonsmote[str(f'{index}')] = arr"
   ]
  },
  {
   "cell_type": "code",
   "execution_count": 70,
   "metadata": {
    "scrolled": true
   },
   "outputs": [
    {
     "data": {
      "text/html": [
       "<div>\n",
       "<style scoped>\n",
       "    .dataframe tbody tr th:only-of-type {\n",
       "        vertical-align: middle;\n",
       "    }\n",
       "\n",
       "    .dataframe tbody tr th {\n",
       "        vertical-align: top;\n",
       "    }\n",
       "\n",
       "    .dataframe thead th {\n",
       "        text-align: right;\n",
       "    }\n",
       "</style>\n",
       "<table border=\"1\" class=\"dataframe\">\n",
       "  <thead>\n",
       "    <tr style=\"text-align: right;\">\n",
       "      <th></th>\n",
       "      <th>1</th>\n",
       "      <th>2</th>\n",
       "      <th>3</th>\n",
       "      <th>4</th>\n",
       "      <th>5</th>\n",
       "      <th>6</th>\n",
       "      <th>7</th>\n",
       "      <th>8</th>\n",
       "      <th>9</th>\n",
       "      <th>10</th>\n",
       "    </tr>\n",
       "  </thead>\n",
       "  <tbody>\n",
       "    <tr>\n",
       "      <th>avg accuracy</th>\n",
       "      <td>0.916869</td>\n",
       "      <td>0.946505</td>\n",
       "      <td>0.940168</td>\n",
       "      <td>0.955638</td>\n",
       "      <td>0.945760</td>\n",
       "      <td>0.951724</td>\n",
       "      <td>0.946132</td>\n",
       "      <td>0.948928</td>\n",
       "      <td>0.950233</td>\n",
       "      <td>0.949860</td>\n",
       "    </tr>\n",
       "    <tr>\n",
       "      <th>avg recall</th>\n",
       "      <td>0.046226</td>\n",
       "      <td>0.005778</td>\n",
       "      <td>0.015098</td>\n",
       "      <td>0.003169</td>\n",
       "      <td>0.012116</td>\n",
       "      <td>0.001491</td>\n",
       "      <td>0.003914</td>\n",
       "      <td>0.003169</td>\n",
       "      <td>0.003355</td>\n",
       "      <td>0.000746</td>\n",
       "    </tr>\n",
       "    <tr>\n",
       "      <th>avg precision</th>\n",
       "      <td>0.500000</td>\n",
       "      <td>0.500000</td>\n",
       "      <td>0.500000</td>\n",
       "      <td>0.400000</td>\n",
       "      <td>0.500000</td>\n",
       "      <td>0.500000</td>\n",
       "      <td>0.500000</td>\n",
       "      <td>0.500000</td>\n",
       "      <td>0.400000</td>\n",
       "      <td>0.300000</td>\n",
       "    </tr>\n",
       "    <tr>\n",
       "      <th>avg quality</th>\n",
       "      <td>0.953774</td>\n",
       "      <td>0.994222</td>\n",
       "      <td>0.984902</td>\n",
       "      <td>0.996831</td>\n",
       "      <td>0.987884</td>\n",
       "      <td>0.998509</td>\n",
       "      <td>0.996086</td>\n",
       "      <td>0.996831</td>\n",
       "      <td>0.996645</td>\n",
       "      <td>0.999254</td>\n",
       "    </tr>\n",
       "    <tr>\n",
       "      <th>F1-score</th>\n",
       "      <td>0.084563</td>\n",
       "      <td>0.011409</td>\n",
       "      <td>0.029262</td>\n",
       "      <td>NaN</td>\n",
       "      <td>0.023620</td>\n",
       "      <td>0.002971</td>\n",
       "      <td>0.007756</td>\n",
       "      <td>0.006287</td>\n",
       "      <td>NaN</td>\n",
       "      <td>NaN</td>\n",
       "    </tr>\n",
       "  </tbody>\n",
       "</table>\n",
       "</div>"
      ],
      "text/plain": [
       "                      1         2         3         4         5         6  \\\n",
       "avg accuracy   0.916869  0.946505  0.940168  0.955638  0.945760  0.951724   \n",
       "avg recall     0.046226  0.005778  0.015098  0.003169  0.012116  0.001491   \n",
       "avg precision  0.500000  0.500000  0.500000  0.400000  0.500000  0.500000   \n",
       "avg quality    0.953774  0.994222  0.984902  0.996831  0.987884  0.998509   \n",
       "F1-score       0.084563  0.011409  0.029262       NaN  0.023620  0.002971   \n",
       "\n",
       "                      7         8         9        10  \n",
       "avg accuracy   0.946132  0.948928  0.950233  0.949860  \n",
       "avg recall     0.003914  0.003169  0.003355  0.000746  \n",
       "avg precision  0.500000  0.500000  0.400000  0.300000  \n",
       "avg quality    0.996086  0.996831  0.996645  0.999254  \n",
       "F1-score       0.007756  0.006287       NaN       NaN  "
      ]
     },
     "execution_count": 70,
     "metadata": {},
     "output_type": "execute_result"
    }
   ],
   "source": [
    "nonsmote"
   ]
  },
  {
   "cell_type": "markdown",
   "metadata": {},
   "source": [
    "### With smote"
   ]
  },
  {
   "cell_type": "code",
   "execution_count": 71,
   "metadata": {},
   "outputs": [],
   "source": [
    "smoteresults = pd.DataFrame(index = ['avg accuracy','avg recall','avg precision','avg quality','F1-score'])\n",
    "Knn = [1,2,3,4,5,6,7,8,9,10]\n",
    "for index in Knn :\n",
    "    pipe = Pipeline([('Scaler',StandardScaler()),('Classifier',KNeighborsClassifier(n_neighbors=index))])\n",
    "    #index is 5 so shape must match\n",
    "    arr = np.zeros(5)\n",
    "    for j in range(5) :\n",
    "        X_fit, X_tf, y_fit, y_tf = train_test_split(X_trainS, y_trainS, test_size=0.3)\n",
    "        pipe.fit(X_fit,y_fit)\n",
    "        predictions = pipe.predict(X_tf)\n",
    "        accuracy = np.mean(predictions==y_tf) \n",
    "        TP = np.sum(np.array(predictions ==1))\n",
    "        TN = np.sum(np.array(predictions ==0))\n",
    "        FP = np.sum(np.array(predictions ==1))\n",
    "        FN = np.sum(np.array(predictions ==0))\n",
    "        if TP==0 and FP==0:\n",
    "            precision = 0\n",
    "        else : \n",
    "            precision = TP/(TP+FP)\n",
    "        arr = arr + np.array([accuracy,TP/(TP+FN),precision,TN/(TN+FP),2*(precision*TP/(TP+FN))/(precision+(TP/(TP+FN)))])\n",
    "    arr = arr/5\n",
    "    smoteresults[str(f'{index}')] = arr"
   ]
  },
  {
   "cell_type": "code",
   "execution_count": 72,
   "metadata": {
    "scrolled": true
   },
   "outputs": [
    {
     "data": {
      "text/html": [
       "<div>\n",
       "<style scoped>\n",
       "    .dataframe tbody tr th:only-of-type {\n",
       "        vertical-align: middle;\n",
       "    }\n",
       "\n",
       "    .dataframe tbody tr th {\n",
       "        vertical-align: top;\n",
       "    }\n",
       "\n",
       "    .dataframe thead th {\n",
       "        text-align: right;\n",
       "    }\n",
       "</style>\n",
       "<table border=\"1\" class=\"dataframe\">\n",
       "  <thead>\n",
       "    <tr style=\"text-align: right;\">\n",
       "      <th></th>\n",
       "      <th>1</th>\n",
       "      <th>2</th>\n",
       "      <th>3</th>\n",
       "      <th>4</th>\n",
       "      <th>5</th>\n",
       "      <th>6</th>\n",
       "      <th>7</th>\n",
       "      <th>8</th>\n",
       "      <th>9</th>\n",
       "      <th>10</th>\n",
       "    </tr>\n",
       "  </thead>\n",
       "  <tbody>\n",
       "    <tr>\n",
       "      <th>avg accuracy</th>\n",
       "      <td>0.868666</td>\n",
       "      <td>0.871603</td>\n",
       "      <td>0.858629</td>\n",
       "      <td>0.857772</td>\n",
       "      <td>0.846267</td>\n",
       "      <td>0.845900</td>\n",
       "      <td>0.839168</td>\n",
       "      <td>0.831824</td>\n",
       "      <td>0.835373</td>\n",
       "      <td>0.825949</td>\n",
       "    </tr>\n",
       "    <tr>\n",
       "      <th>avg recall</th>\n",
       "      <td>0.409425</td>\n",
       "      <td>0.346267</td>\n",
       "      <td>0.418360</td>\n",
       "      <td>0.394125</td>\n",
       "      <td>0.433537</td>\n",
       "      <td>0.393758</td>\n",
       "      <td>0.446389</td>\n",
       "      <td>0.414443</td>\n",
       "      <td>0.435985</td>\n",
       "      <td>0.409180</td>\n",
       "    </tr>\n",
       "    <tr>\n",
       "      <th>avg precision</th>\n",
       "      <td>0.500000</td>\n",
       "      <td>0.500000</td>\n",
       "      <td>0.500000</td>\n",
       "      <td>0.500000</td>\n",
       "      <td>0.500000</td>\n",
       "      <td>0.500000</td>\n",
       "      <td>0.500000</td>\n",
       "      <td>0.500000</td>\n",
       "      <td>0.500000</td>\n",
       "      <td>0.500000</td>\n",
       "    </tr>\n",
       "    <tr>\n",
       "      <th>avg quality</th>\n",
       "      <td>0.590575</td>\n",
       "      <td>0.653733</td>\n",
       "      <td>0.581640</td>\n",
       "      <td>0.605875</td>\n",
       "      <td>0.566463</td>\n",
       "      <td>0.606242</td>\n",
       "      <td>0.553611</td>\n",
       "      <td>0.585557</td>\n",
       "      <td>0.564015</td>\n",
       "      <td>0.590820</td>\n",
       "    </tr>\n",
       "    <tr>\n",
       "      <th>F1-score</th>\n",
       "      <td>0.450167</td>\n",
       "      <td>0.409116</td>\n",
       "      <td>0.455541</td>\n",
       "      <td>0.440771</td>\n",
       "      <td>0.464363</td>\n",
       "      <td>0.440360</td>\n",
       "      <td>0.471638</td>\n",
       "      <td>0.453150</td>\n",
       "      <td>0.465788</td>\n",
       "      <td>0.449944</td>\n",
       "    </tr>\n",
       "  </tbody>\n",
       "</table>\n",
       "</div>"
      ],
      "text/plain": [
       "                      1         2         3         4         5         6  \\\n",
       "avg accuracy   0.868666  0.871603  0.858629  0.857772  0.846267  0.845900   \n",
       "avg recall     0.409425  0.346267  0.418360  0.394125  0.433537  0.393758   \n",
       "avg precision  0.500000  0.500000  0.500000  0.500000  0.500000  0.500000   \n",
       "avg quality    0.590575  0.653733  0.581640  0.605875  0.566463  0.606242   \n",
       "F1-score       0.450167  0.409116  0.455541  0.440771  0.464363  0.440360   \n",
       "\n",
       "                      7         8         9        10  \n",
       "avg accuracy   0.839168  0.831824  0.835373  0.825949  \n",
       "avg recall     0.446389  0.414443  0.435985  0.409180  \n",
       "avg precision  0.500000  0.500000  0.500000  0.500000  \n",
       "avg quality    0.553611  0.585557  0.564015  0.590820  \n",
       "F1-score       0.471638  0.453150  0.465788  0.449944  "
      ]
     },
     "execution_count": 72,
     "metadata": {},
     "output_type": "execute_result"
    }
   ],
   "source": [
    "smoteresults"
   ]
  },
  {
   "cell_type": "markdown",
   "metadata": {},
   "source": [
    "# Using the pipeline to ensure data constraints"
   ]
  },
  {
   "cell_type": "code",
   "execution_count": 73,
   "metadata": {},
   "outputs": [
    {
     "name": "stdout",
     "output_type": "stream",
     "text": [
      "Smote\n",
      "[[1274  183]\n",
      " [  50   26]]\n",
      "\n",
      "\n",
      "              precision    recall  f1-score   support\n",
      "\n",
      "           0       0.96      0.87      0.92      1457\n",
      "           1       0.12      0.34      0.18        76\n",
      "\n",
      "    accuracy                           0.85      1533\n",
      "   macro avg       0.54      0.61      0.55      1533\n",
      "weighted avg       0.92      0.85      0.88      1533\n",
      "\n",
      "Non Smote\n",
      "[[1386   71]\n",
      " [  62   14]]\n",
      "\n",
      "\n",
      "              precision    recall  f1-score   support\n",
      "\n",
      "           0       0.96      0.95      0.95      1457\n",
      "           1       0.16      0.18      0.17        76\n",
      "\n",
      "    accuracy                           0.91      1533\n",
      "   macro avg       0.56      0.57      0.56      1533\n",
      "weighted avg       0.92      0.91      0.92      1533\n",
      "\n"
     ]
    }
   ],
   "source": [
    "print(\"Smote\")\n",
    "pipe = Pipeline([('Scaler',StandardScaler()),('Classifier',KNeighborsClassifier(n_neighbors=1))])\n",
    "pipe.fit(X_trainS,y_trainS)\n",
    "predictions_test = pipe.predict(X_test)\n",
    "print(confusion_matrix(y_test,predictions_test))\n",
    "print('\\n')\n",
    "print(classification_report(y_test,predictions_test))\n",
    "\n",
    "print(\"Non Smote\")\n",
    "pipe = Pipeline([('Scaler',StandardScaler()),('Classifier',KNeighborsClassifier(n_neighbors=1))])\n",
    "pipe.fit(X_train,y_train)\n",
    "predictions = pipe.predict(X_test)\n",
    "print(confusion_matrix(y_test,predictions))\n",
    "print('\\n')\n",
    "print(classification_report(y_test,predictions))\n"
   ]
  },
  {
   "cell_type": "markdown",
   "metadata": {},
   "source": [
    "### using pipeline"
   ]
  },
  {
   "cell_type": "code",
   "execution_count": 74,
   "metadata": {},
   "outputs": [
    {
     "name": "stdout",
     "output_type": "stream",
     "text": [
      "[[1222  235]\n",
      " [  41   35]]\n",
      "\n",
      "\n",
      "              precision    recall  f1-score   support\n",
      "\n",
      "           0       0.97      0.84      0.90      1457\n",
      "           1       0.13      0.46      0.20        76\n",
      "\n",
      "    accuracy                           0.82      1533\n",
      "   macro avg       0.55      0.65      0.55      1533\n",
      "weighted avg       0.93      0.82      0.86      1533\n",
      "\n"
     ]
    }
   ],
   "source": [
    "pipe = Pipeline([('Scaler',StandardScaler()),('Classifier',KNeighborsClassifier(n_neighbors=5))])\n",
    "pipe.fit(X_trainS,y_trainS)\n",
    "predictions = pipe.predict(X_test)\n",
    "print(confusion_matrix(y_test,predictions))\n",
    "print('\\n')\n",
    "print(classification_report(y_test,predictions))\n"
   ]
  },
  {
   "cell_type": "markdown",
   "metadata": {},
   "source": [
    "### no pipeline"
   ]
  },
  {
   "cell_type": "code",
   "execution_count": 75,
   "metadata": {},
   "outputs": [
    {
     "name": "stdout",
     "output_type": "stream",
     "text": [
      "[[1396   61]\n",
      " [  69    7]]\n",
      "              precision    recall  f1-score   support\n",
      "\n",
      "           0       0.95      0.96      0.96      1457\n",
      "           1       0.10      0.09      0.10        76\n",
      "\n",
      "    accuracy                           0.92      1533\n",
      "   macro avg       0.53      0.53      0.53      1533\n",
      "weighted avg       0.91      0.92      0.91      1533\n",
      "\n"
     ]
    }
   ],
   "source": [
    "classifier = KNeighborsClassifier(n_neighbors=1)\n",
    "classifier.fit(X_train, y_train)\n",
    "predictions = classifier.predict(X_test)\n",
    "print(confusion_matrix(y_test,predictions))\n",
    "y_pred = classifier.predict(X_test)\n",
    "print(classification_report(y_test, y_pred))"
   ]
  },
  {
   "cell_type": "markdown",
   "metadata": {},
   "source": [
    "### Using an skf function from member to check data"
   ]
  },
  {
   "cell_type": "code",
   "execution_count": 76,
   "metadata": {},
   "outputs": [],
   "source": [
    "skf = StratifiedKFold(shuffle=True, n_splits=10)\n",
    "def run_skfold(model, X, y):\n",
    "    split = 0\n",
    "    accuracy = []\n",
    "    recall = []\n",
    "    precision = []\n",
    "    f1 = []\n",
    "    false_negative = []\n",
    "    false_positive = []\n",
    "    \n",
    "    for train_idx, test_idx in skf.split(X, y):\n",
    "        X_train_split, X_test_split = X.iloc[train_idx.tolist()], X.iloc[test_idx.tolist()]\n",
    "        y_train_split, y_test_split = y.iloc[train_idx.tolist()], y.iloc[test_idx.tolist()]\n",
    "        X_train_res, y_train_res = SMOTE().fit_resample(X_train_split, y_train_split)\n",
    "        model.fit(X_train_res, y_train_res)\n",
    "        y_pred_split = model.predict(X_test_split)\n",
    "        y_prob_split = model.predict_proba(X_test_split)[:,1]\n",
    "        print(\"Experiment:\", split)\n",
    "        print(\"Classification Report\")\n",
    "        print(classification_report(y_test_split, y_pred_split))\n",
    "        \n",
    "        print(\"Confusion Matrix\")\n",
    "        cm = confusion_matrix(y_test_split, y_pred_split)\n",
    "        \n",
    "        print(f\"True positive: {cm[0][0]}\")\n",
    "        print(f\"True negative: {cm[1][1]}\")\n",
    "        print(f\"False positive: {cm[0][1]}\")\n",
    "        print(f\"False negative: {cm[1][0]}\")\n",
    "        print(\"\\n\")\n",
    "        \n",
    "        \n",
    "        report = classification_report(y_test_split, y_pred_split, output_dict=True)\n",
    "        \n",
    "        accuracy.append(report['accuracy'])\n",
    "        recall.append(report['macro avg']['recall'])\n",
    "        precision.append(report['macro avg']['precision'])\n",
    "        f1.append(report['macro avg']['f1-score'])\n",
    "        false_negative.append(cm[1][0])\n",
    "        false_positive.append(cm[0][1])\n",
    "        \n",
    "        split += 1\n",
    "    \n",
    "    print(\"Mean test results:\")\n",
    "    print(f\"Mean accuracy: {round(np.mean(accuracy), 2)}\")\n",
    "    print(f\"Mean macro avg recall: {round(np.mean(recall), 2)}\")\n",
    "    print(f\"Mean macro avg precision: {round(np.mean(precision), 2)}\")\n",
    "    print(f\"Mean macro avg f1: {round(np.mean(f1), 2)}\")\n",
    "    print(f\"Mean false negative: {round(np.mean(false_negative), 2)}\")\n",
    "    print(f\"Mean false positive: {round(np.mean(false_positive), 2)}\")"
   ]
  },
  {
   "cell_type": "code",
   "execution_count": 77,
   "metadata": {},
   "outputs": [],
   "source": [
    "### Reslts of function call"
   ]
  },
  {
   "cell_type": "code",
   "execution_count": 78,
   "metadata": {},
   "outputs": [
    {
     "name": "stdout",
     "output_type": "stream",
     "text": [
      "Experiment: 0\n",
      "Classification Report\n",
      "              precision    recall  f1-score   support\n",
      "\n",
      "           0       0.96      0.81      0.88       486\n",
      "           1       0.10      0.40      0.16        25\n",
      "\n",
      "    accuracy                           0.79       511\n",
      "   macro avg       0.53      0.61      0.52       511\n",
      "weighted avg       0.92      0.79      0.85       511\n",
      "\n",
      "Confusion Matrix\n",
      "True positive: 394\n",
      "True negative: 10\n",
      "False positive: 92\n",
      "False negative: 15\n",
      "\n",
      "\n",
      "Experiment: 1\n",
      "Classification Report\n",
      "              precision    recall  f1-score   support\n",
      "\n",
      "           0       0.96      0.82      0.89       486\n",
      "           1       0.09      0.32      0.13        25\n",
      "\n",
      "    accuracy                           0.80       511\n",
      "   macro avg       0.52      0.57      0.51       511\n",
      "weighted avg       0.92      0.80      0.85       511\n",
      "\n",
      "Confusion Matrix\n",
      "True positive: 400\n",
      "True negative: 8\n",
      "False positive: 86\n",
      "False negative: 17\n",
      "\n",
      "\n",
      "Experiment: 2\n",
      "Classification Report\n",
      "              precision    recall  f1-score   support\n",
      "\n",
      "           0       0.97      0.80      0.88       486\n",
      "           1       0.12      0.52      0.19        25\n",
      "\n",
      "    accuracy                           0.78       511\n",
      "   macro avg       0.54      0.66      0.53       511\n",
      "weighted avg       0.93      0.78      0.84       511\n",
      "\n",
      "Confusion Matrix\n",
      "True positive: 388\n",
      "True negative: 13\n",
      "False positive: 98\n",
      "False negative: 12\n",
      "\n",
      "\n",
      "Experiment: 3\n",
      "Classification Report\n",
      "              precision    recall  f1-score   support\n",
      "\n",
      "           0       0.96      0.79      0.87       486\n",
      "           1       0.09      0.40      0.14        25\n",
      "\n",
      "    accuracy                           0.77       511\n",
      "   macro avg       0.52      0.59      0.50       511\n",
      "weighted avg       0.92      0.77      0.83       511\n",
      "\n",
      "Confusion Matrix\n",
      "True positive: 382\n",
      "True negative: 10\n",
      "False positive: 104\n",
      "False negative: 15\n",
      "\n",
      "\n",
      "Experiment: 4\n",
      "Classification Report\n",
      "              precision    recall  f1-score   support\n",
      "\n",
      "           0       0.97      0.82      0.89       486\n",
      "           1       0.12      0.48      0.19        25\n",
      "\n",
      "    accuracy                           0.80       511\n",
      "   macro avg       0.54      0.65      0.54       511\n",
      "weighted avg       0.93      0.80      0.85       511\n",
      "\n",
      "Confusion Matrix\n",
      "True positive: 398\n",
      "True negative: 12\n",
      "False positive: 88\n",
      "False negative: 13\n",
      "\n",
      "\n",
      "Experiment: 5\n",
      "Classification Report\n",
      "              precision    recall  f1-score   support\n",
      "\n",
      "           0       0.98      0.83      0.90       486\n",
      "           1       0.18      0.72      0.28        25\n",
      "\n",
      "    accuracy                           0.82       511\n",
      "   macro avg       0.58      0.77      0.59       511\n",
      "weighted avg       0.94      0.82      0.87       511\n",
      "\n",
      "Confusion Matrix\n",
      "True positive: 402\n",
      "True negative: 18\n",
      "False positive: 84\n",
      "False negative: 7\n",
      "\n",
      "\n",
      "Experiment: 6\n",
      "Classification Report\n",
      "              precision    recall  f1-score   support\n",
      "\n",
      "           0       0.97      0.79      0.87       486\n",
      "           1       0.12      0.56      0.20        25\n",
      "\n",
      "    accuracy                           0.78       511\n",
      "   macro avg       0.55      0.68      0.54       511\n",
      "weighted avg       0.93      0.78      0.84       511\n",
      "\n",
      "Confusion Matrix\n",
      "True positive: 384\n",
      "True negative: 14\n",
      "False positive: 102\n",
      "False negative: 11\n",
      "\n",
      "\n",
      "Experiment: 7\n",
      "Classification Report\n",
      "              precision    recall  f1-score   support\n",
      "\n",
      "           0       0.97      0.84      0.90       486\n",
      "           1       0.13      0.44      0.20        25\n",
      "\n",
      "    accuracy                           0.82       511\n",
      "   macro avg       0.55      0.64      0.55       511\n",
      "weighted avg       0.93      0.82      0.87       511\n",
      "\n",
      "Confusion Matrix\n",
      "True positive: 410\n",
      "True negative: 11\n",
      "False positive: 76\n",
      "False negative: 14\n",
      "\n",
      "\n",
      "Experiment: 8\n",
      "Classification Report\n",
      "              precision    recall  f1-score   support\n",
      "\n",
      "           0       0.97      0.80      0.87       486\n",
      "           1       0.10      0.44      0.16        25\n",
      "\n",
      "    accuracy                           0.78       511\n",
      "   macro avg       0.53      0.62      0.52       511\n",
      "weighted avg       0.92      0.78      0.84       511\n",
      "\n",
      "Confusion Matrix\n",
      "True positive: 388\n",
      "True negative: 11\n",
      "False positive: 98\n",
      "False negative: 14\n",
      "\n",
      "\n",
      "Experiment: 9\n",
      "Classification Report\n",
      "              precision    recall  f1-score   support\n",
      "\n",
      "           0       0.96      0.81      0.88       486\n",
      "           1       0.09      0.38      0.14        24\n",
      "\n",
      "    accuracy                           0.79       510\n",
      "   macro avg       0.53      0.59      0.51       510\n",
      "weighted avg       0.92      0.79      0.85       510\n",
      "\n",
      "Confusion Matrix\n",
      "True positive: 394\n",
      "True negative: 9\n",
      "False positive: 92\n",
      "False negative: 15\n",
      "\n",
      "\n",
      "Mean test results:\n",
      "Mean accuracy: 0.79\n",
      "Mean macro avg recall: 0.64\n",
      "Mean macro avg precision: 0.54\n",
      "Mean macro avg f1: 0.53\n",
      "Mean false negative: 13.3\n",
      "Mean false positive: 92.0\n"
     ]
    }
   ],
   "source": [
    "run_skfold(pipe, X, y)"
   ]
  },
  {
   "cell_type": "markdown",
   "metadata": {},
   "source": [
    "### KNN with stratified k fold"
   ]
  },
  {
   "cell_type": "code",
   "execution_count": 79,
   "metadata": {},
   "outputs": [
    {
     "name": "stdout",
     "output_type": "stream",
     "text": [
      "[0.88073394 0.87522936 0.87155963 0.84220183 0.84926471 0.84926471\n",
      " 0.84007353 0.86764706 0.875      0.85110294]\n"
     ]
    }
   ],
   "source": [
    "classifier = KNeighborsClassifier(n_neighbors=1,p=2,metric='euclidean')\n",
    "skf = StratifiedKFold(shuffle=True, n_splits=10)\n",
    "scores = cross_val_score(pipe, X_trainS, y_trainS, cv=skf)\n",
    "print(scores)"
   ]
  },
  {
   "cell_type": "code",
   "execution_count": 80,
   "metadata": {},
   "outputs": [
    {
     "name": "stdout",
     "output_type": "stream",
     "text": [
      "[0.94972067 0.94692737 0.94134078 0.94972067 0.93854749 0.94692737\n",
      " 0.94957983 0.95238095 0.94117647 0.94957983]\n"
     ]
    }
   ],
   "source": [
    "classifier = KNeighborsClassifier(n_neighbors=1,p=2,metric='euclidean')\n",
    "skf = StratifiedKFold(shuffle=True, n_splits=10)\n",
    "scores = cross_val_score(pipe, X_train, y_train, cv=skf)\n",
    "\n",
    "print(scores)"
   ]
  },
  {
   "cell_type": "markdown",
   "metadata": {},
   "source": [
    "### Testing f1 score and accuracy of Knn"
   ]
  },
  {
   "cell_type": "code",
   "execution_count": 81,
   "metadata": {},
   "outputs": [
    {
     "name": "stdout",
     "output_type": "stream",
     "text": [
      "F-1 score:  1.0\n",
      "Accuracy:  1.0\n"
     ]
    }
   ],
   "source": [
    "Xvar = df.drop(['age'],axis=1)\n",
    "Yvar = df['stroke']\n",
    "X_train, X_test, y_train, y_test = train_test_split(Xvar, Yvar, test_size=0.3)\n",
    "sc_X = StandardScaler()\n",
    "X_train = sc_X.fit_transform(X_train)\n",
    "X_test = sc_X.transform(X_test)\n",
    "classifier = KNeighborsClassifier(n_neighbors=1,p=2,metric='euclidean')\n",
    "classifier.fit(X_train, y_train)\n",
    "y_pred = classifier.predict(X_test)\n",
    "cm = confusion_matrix(y_test,y_pred)\n",
    "print(\"F-1 score: \",f1_score(y_test, y_pred))\n",
    "print(\"Accuracy: \",accuracy_score(y_test, y_pred))\n"
   ]
  },
  {
   "cell_type": "markdown",
   "metadata": {},
   "source": [
    "### Knn results with Smote"
   ]
  },
  {
   "cell_type": "code",
   "execution_count": 82,
   "metadata": {},
   "outputs": [
    {
     "name": "stdout",
     "output_type": "stream",
     "text": [
      "[[1112  348]\n",
      " [  50   23]]\n",
      "              precision    recall  f1-score   support\n",
      "\n",
      "           0       0.96      0.76      0.85      1460\n",
      "           1       0.06      0.32      0.10        73\n",
      "\n",
      "    accuracy                           0.74      1533\n",
      "   macro avg       0.51      0.54      0.48      1533\n",
      "weighted avg       0.91      0.74      0.81      1533\n",
      "\n"
     ]
    }
   ],
   "source": [
    "X = df.drop(['age'],axis=1)\n",
    "y = df['stroke']\n",
    "\n",
    "X_train, X_test, y_train, y_test = train_test_split(X, y, test_size=0.3)\n",
    "#and smote down here\n",
    "smote = SMOTE(sampling_strategy=0.6)\n",
    "X_trainS , y_trainS = smote.fit_resample(X_train,y_train)\n",
    "\n",
    "#no pipe\n",
    "classifier = KNeighborsClassifier(n_neighbors=1)\n",
    "classifier.fit(X_trainS, y_trainS)\n",
    "predictions = classifier.predict(X_test)\n",
    "print(confusion_matrix(y_test,predictions))\n",
    "y_pred = classifier.predict(X_test)\n",
    "print(classification_report(y_test, y_pred))"
   ]
  },
  {
   "cell_type": "code",
   "execution_count": 83,
   "metadata": {},
   "outputs": [
    {
     "name": "stdout",
     "output_type": "stream",
     "text": [
      "Smote\n",
      "[[1459    1]\n",
      " [   8   65]]\n",
      "\n",
      "\n",
      "              precision    recall  f1-score   support\n",
      "\n",
      "           0       0.99      1.00      1.00      1460\n",
      "           1       0.98      0.89      0.94        73\n",
      "\n",
      "    accuracy                           0.99      1533\n",
      "   macro avg       0.99      0.94      0.97      1533\n",
      "weighted avg       0.99      0.99      0.99      1533\n",
      "\n"
     ]
    }
   ],
   "source": [
    "print(\"Smote\")\n",
    "pipe = Pipeline([('Scaler',StandardScaler()),('Classifier',KNeighborsClassifier(n_neighbors=1))])\n",
    "pipe.fit(X_trainS,y_trainS)\n",
    "predictions_test = pipe.predict(X_test)\n",
    "print(confusion_matrix(y_test,predictions_test))\n",
    "print('\\n')\n",
    "print(classification_report(y_test,predictions_test))"
   ]
  }
 ],
 "metadata": {
  "kernelspec": {
   "display_name": "Python 3",
   "language": "python",
   "name": "python3"
  },
  "language_info": {
   "codemirror_mode": {
    "name": "ipython",
    "version": 3
   },
   "file_extension": ".py",
   "mimetype": "text/x-python",
   "name": "python",
   "nbconvert_exporter": "python",
   "pygments_lexer": "ipython3",
   "version": "3.8.5"
  }
 },
 "nbformat": 4,
 "nbformat_minor": 4
}
