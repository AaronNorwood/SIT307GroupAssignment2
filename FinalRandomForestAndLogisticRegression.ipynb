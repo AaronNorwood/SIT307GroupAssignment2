{
 "cells": [
  {
   "cell_type": "markdown",
   "metadata": {},
   "source": [
    "<h1>Random Forests and Logistic Regression Model Implementation</h1>"
   ]
  },
  {
   "cell_type": "markdown",
   "metadata": {},
   "source": [
    "<h3>Group 3</h3>\n",
    "<p>By:<br>\n",
    "    Aaron Norwood,218330434<br>\n",
    "    Joshua Anthony, 219466473<br>\n",
    "    Roger Middenway, 217602784<br>\n",
    "    David Adams, 216110104<br>\n",
    "    Linden Hutchinson, 218384326<br>\n",
    "    Dale Orders, 219106283"
   ]
  },
  {
   "cell_type": "markdown",
   "metadata": {},
   "source": [
    "# Imported libraries"
   ]
  },
  {
   "cell_type": "code",
   "execution_count": 136,
   "metadata": {},
   "outputs": [],
   "source": [
    "import numpy as np\n",
    "import pandas as pd\n",
    "import matplotlib.pyplot as plt\n",
    "import seaborn as sns\n",
    "\n",
    "from sklearn import tree\n",
    "from sklearn.model_selection import train_test_split, cross_val_score, StratifiedKFold\n",
    "from sklearn.metrics import confusion_matrix, roc_curve, auc, classification_report, accuracy_score, recall_score, precision_score, f1_score\n",
    "from sklearn.ensemble import RandomForestClassifier, GradientBoostingClassifier\n",
    "from sklearn.linear_model import LogisticRegression\n",
    "from sklearn.naive_bayes import GaussianNB\n",
    "from sklearn.svm import SVC\n",
    "from imblearn.over_sampling import SMOTE, RandomOverSampler\n",
    "from collections import Counter"
   ]
  },
  {
   "cell_type": "markdown",
   "metadata": {},
   "source": [
    "<h3> Read in the data, store if dataframe"
   ]
  },
  {
   "cell_type": "code",
   "execution_count": 137,
   "metadata": {},
   "outputs": [],
   "source": [
    "df = pd.read_csv('./data/healthcare-dataset-stroke-data.csv')"
   ]
  },
  {
   "cell_type": "markdown",
   "metadata": {
    "tags": []
   },
   "source": [
    "# Tidying up the data\n",
    "\n",
    "Implementing consistent capitalization and replacing underscores  spaces with hyphens in the data."
   ]
  },
  {
   "cell_type": "code",
   "execution_count": 138,
   "metadata": {},
   "outputs": [],
   "source": [
    "##convert gender to lowercase\n",
    "df['gender'] = df['gender'].apply(lambda x: x.lower())\n",
    "\n",
    "##convert work_type to lowercase ensure consistent spacing \n",
    "df['work_type'] = df['work_type'].apply(lambda x: x.lower().replace('_','-'))\n",
    "\n",
    "##convert residence_type to lowercase\n",
    "df.rename(columns={'Residence_type':'residence_type'}, inplace=True)\n",
    "df['residence_type'] = df['residence_type'].apply(lambda x: x.lower())\n",
    "\n",
    "##convert smoking_status to lowercase ensure consistent spacing \n",
    "df['smoking_status'] = df['smoking_status'].apply(lambda x: x.lower().replace(' ', '-'))"
   ]
  },
  {
   "cell_type": "markdown",
   "metadata": {},
   "source": [
    "<h3>Replacing gender with dummy variables for easier visualisation"
   ]
  },
  {
   "cell_type": "code",
   "execution_count": 139,
   "metadata": {},
   "outputs": [],
   "source": [
    "df['gender'] = df['gender'].str.lower().map({'male': 1, 'female': 0})"
   ]
  },
  {
   "cell_type": "markdown",
   "metadata": {},
   "source": [
    "<h3> Cap the outliers at a maximum bmi of 60"
   ]
  },
  {
   "cell_type": "code",
   "execution_count": 140,
   "metadata": {},
   "outputs": [],
   "source": [
    "df['bmi'] = df['bmi'].apply(lambda bmi_value: bmi_value if 12 < bmi_value < 60 else np.nan)"
   ]
  },
  {
   "cell_type": "markdown",
   "metadata": {},
   "source": [
    "<h3>Preliminary work for binning"
   ]
  },
  {
   "cell_type": "code",
   "execution_count": 141,
   "metadata": {},
   "outputs": [
    {
     "name": "stdout",
     "output_type": "stream",
     "text": [
      "The max value in age is : 82.0\n",
      "Total number of nulls in age is: 0\n",
      "Total number of NAs in age is : 0\n"
     ]
    }
   ],
   "source": [
    "##max age of 82, max bin get be set accordingly \n",
    "print(\"The max value in age is : \" + str(df['age'].max()))\n",
    "print(\"Total number of nulls in age is: \" + str(df['age'].isnull().sum())) ##check for null\n",
    "print(\"Total number of NAs in age is : \" + str(df['age'].isna().sum())) ##check for NAs"
   ]
  },
  {
   "cell_type": "markdown",
   "metadata": {},
   "source": [
    "<h3>Unknown_smoking status breakdown"
   ]
  },
  {
   "cell_type": "code",
   "execution_count": 142,
   "metadata": {},
   "outputs": [
    {
     "name": "stdout",
     "output_type": "stream",
     "text": [
      "\n",
      "The percent of entries with an unknown smoking status is: 30.2153% or 1544 entries\n"
     ]
    }
   ],
   "source": [
    "##loop to find the number of unknown smoking entries\n",
    "unknown_count = 0\n",
    "##store the indexes of the unknown smoking status entries in case it's needed later\n",
    "unknown_indexes = []\n",
    "for index, i in enumerate(df['smoking_status']):\n",
    "    if(i.lower() == 'unknown'):\n",
    "        #get index and value \n",
    "        #print(index, i)\n",
    "        unknown_indexes.append(index)\n",
    "        unknown_count+=1\n",
    "##get percentage of unknown\n",
    "unknown_percent = unknown_count/len(df) * 100\n",
    "unknown_percent = round(unknown_percent,4)\n",
    "print(\"\\nThe percent of entries with an unknown smoking status is: \" + str(unknown_percent) + \"% or \" +str(unknown_count) + \" entries\")"
   ]
  },
  {
   "cell_type": "markdown",
   "metadata": {},
   "source": [
    "<h3>Checking for non-binary values</h3>\n",
    "<P>Checked in heart_disease, hypertension, ever_married and stroke. Also converts ever_married to 0/1 instead of yes/no<P>"
   ]
  },
  {
   "cell_type": "code",
   "execution_count": 143,
   "metadata": {
    "scrolled": true
   },
   "outputs": [
    {
     "name": "stdout",
     "output_type": "stream",
     "text": [
      "No non-binary values found in heart_disease\n",
      "No non-binary values found in hypertension\n",
      "No non-binary values found in ever_married\n",
      "No non-binary values found in stroke\n"
     ]
    }
   ],
   "source": [
    "##check for any non-binary values in heart_disease\n",
    "non_bin_heart_count = 0\n",
    "for val in df['heart_disease']:\n",
    "    if(val != 1 and val != 0):\n",
    "        print(val)\n",
    "if(non_bin_heart_count == 0):\n",
    "    print(\"No non-binary values found in heart_disease\")\n",
    "\n",
    "##check for any non-binary values in hypertension\n",
    "non_bin_hypt_count = 0\n",
    "for val in df['hypertension']:\n",
    "    if(val != 1 and val != 0):\n",
    "        print(val)\n",
    "if(non_bin_hypt_count == 0):\n",
    "    print(\"No non-binary values found in hypertension\")\n",
    "    \n",
    "##converts ever_married to 0/1 if not already done \n",
    "if(isinstance(df['ever_married'][0],str)):\n",
    "    df['ever_married'] = df['ever_married'].str.lower().map({'yes': 1, 'no': 0})\n",
    "\n",
    "##checks for non-binary values in ever_married\n",
    "non_bin_married_count = 0\n",
    "for val in df['ever_married']:\n",
    "    if(val != 1 and val != 0):\n",
    "        print(val)\n",
    "if(non_bin_married_count == 0):\n",
    "    print(\"No non-binary values found in ever_married\")\n",
    "    \n",
    "##check for any non-binary values in stroke\n",
    "non_bin_stroke_count = 0\n",
    "for val in df['stroke']:\n",
    "    if(val != 1 and val != 0):\n",
    "        print(val)\n",
    "if(non_bin_stroke_count == 0):\n",
    "    print(\"No non-binary values found in stroke\")"
   ]
  },
  {
   "cell_type": "markdown",
   "metadata": {},
   "source": [
    "### Impute missing BMI values\n",
    "<P>Replace missing BMI values with the average BMI found in rows with the same age and gender<P>"
   ]
  },
  {
   "cell_type": "markdown",
   "metadata": {},
   "source": [
    "#### Check initial number of nulls"
   ]
  },
  {
   "cell_type": "code",
   "execution_count": 144,
   "metadata": {},
   "outputs": [
    {
     "data": {
      "text/plain": [
       "id                     0\n",
       "gender                 1\n",
       "age                    0\n",
       "hypertension           0\n",
       "heart_disease          0\n",
       "ever_married           0\n",
       "work_type              0\n",
       "residence_type         0\n",
       "avg_glucose_level      0\n",
       "bmi                  218\n",
       "smoking_status         0\n",
       "stroke                 0\n",
       "dtype: int64"
      ]
     },
     "execution_count": 144,
     "metadata": {},
     "output_type": "execute_result"
    }
   ],
   "source": [
    "##get number of nulls in df\n",
    "df.isnull().sum()"
   ]
  },
  {
   "cell_type": "markdown",
   "metadata": {},
   "source": [
    "<h3>Impute missing values "
   ]
  },
  {
   "cell_type": "code",
   "execution_count": 145,
   "metadata": {},
   "outputs": [],
   "source": [
    "df['bmi_raw'] = df['bmi']\n",
    "\n",
    "df['age'] = df['age'].apply(lambda x : round(x))\n",
    "\n",
    "m_df = df[df['gender'] == 1]\n",
    "f_df = df[df['gender'] == 0]\n",
    "\n",
    "m_bmi_avg = m_df.groupby('age')['bmi'].mean()\n",
    "f_bmi_avg = f_df.groupby('age')['bmi'].mean()\n",
    "##round to one to fit with other bmi values\n",
    "m_bmi_avg = round(m_bmi_avg,1)\n",
    "f_bmi_avg = round(f_bmi_avg,1)\n",
    "\n",
    "missing_vals = df[df.isnull().any(axis = 1)]\n",
    "\n",
    "for index, row in missing_vals.iterrows():\n",
    "    if row['gender'] == 1:\n",
    "        df.loc[index,['bmi']] = m_bmi_avg[row['age']]\n",
    "    else:\n",
    "        df.loc[index,['bmi']] = f_bmi_avg[row['age']]\n"
   ]
  },
  {
   "cell_type": "markdown",
   "metadata": {},
   "source": [
    "<h3>Checking again for nulls to verify imputation success</h3>\n",
    "<p>NOTE: the values with nulls were left in a separate column in case it is needed later"
   ]
  },
  {
   "cell_type": "code",
   "execution_count": 146,
   "metadata": {},
   "outputs": [
    {
     "data": {
      "text/plain": [
       "id                     0\n",
       "gender                 1\n",
       "age                    0\n",
       "hypertension           0\n",
       "heart_disease          0\n",
       "ever_married           0\n",
       "work_type              0\n",
       "residence_type         0\n",
       "avg_glucose_level      0\n",
       "bmi                    0\n",
       "smoking_status         0\n",
       "stroke                 0\n",
       "bmi_raw              218\n",
       "dtype: int64"
      ]
     },
     "execution_count": 146,
     "metadata": {},
     "output_type": "execute_result"
    }
   ],
   "source": [
    "df.isnull().sum()"
   ]
  },
  {
   "cell_type": "code",
   "execution_count": 147,
   "metadata": {},
   "outputs": [
    {
     "data": {
      "text/plain": [
       "id                     0\n",
       "gender                 1\n",
       "age                    0\n",
       "hypertension           0\n",
       "heart_disease          0\n",
       "ever_married           0\n",
       "work_type              0\n",
       "residence_type         0\n",
       "avg_glucose_level      0\n",
       "bmi                    0\n",
       "smoking_status         0\n",
       "stroke                 0\n",
       "bmi_raw              218\n",
       "dtype: int64"
      ]
     },
     "execution_count": 147,
     "metadata": {},
     "output_type": "execute_result"
    }
   ],
   "source": [
    "df.isnull().sum()"
   ]
  },
  {
   "cell_type": "code",
   "execution_count": 148,
   "metadata": {},
   "outputs": [],
   "source": [
    "df['gender'] = df['gender'].replace(np.nan, 0)"
   ]
  },
  {
   "cell_type": "code",
   "execution_count": 149,
   "metadata": {
    "scrolled": true
   },
   "outputs": [
    {
     "data": {
      "text/plain": [
       "id                     0\n",
       "gender                 0\n",
       "age                    0\n",
       "hypertension           0\n",
       "heart_disease          0\n",
       "ever_married           0\n",
       "work_type              0\n",
       "residence_type         0\n",
       "avg_glucose_level      0\n",
       "bmi                    0\n",
       "smoking_status         0\n",
       "stroke                 0\n",
       "bmi_raw              218\n",
       "dtype: int64"
      ]
     },
     "execution_count": 149,
     "metadata": {},
     "output_type": "execute_result"
    }
   ],
   "source": [
    "df.isnull().sum()"
   ]
  },
  {
   "cell_type": "code",
   "execution_count": 150,
   "metadata": {},
   "outputs": [],
   "source": [
    "##I realised that gender had all been mapped to float, so I've fixed that he\n",
    "df['gender'] = df['gender'].astype(int)"
   ]
  },
  {
   "cell_type": "code",
   "execution_count": 151,
   "metadata": {},
   "outputs": [],
   "source": [
    "df2 = df.drop(['id','work_type','residence_type','smoking_status','bmi_raw'],axis=1)"
   ]
  },
  {
   "cell_type": "code",
   "execution_count": 152,
   "metadata": {},
   "outputs": [
    {
     "data": {
      "text/html": [
       "<div>\n",
       "<style scoped>\n",
       "    .dataframe tbody tr th:only-of-type {\n",
       "        vertical-align: middle;\n",
       "    }\n",
       "\n",
       "    .dataframe tbody tr th {\n",
       "        vertical-align: top;\n",
       "    }\n",
       "\n",
       "    .dataframe thead th {\n",
       "        text-align: right;\n",
       "    }\n",
       "</style>\n",
       "<table border=\"1\" class=\"dataframe\">\n",
       "  <thead>\n",
       "    <tr style=\"text-align: right;\">\n",
       "      <th></th>\n",
       "      <th>gender</th>\n",
       "      <th>age</th>\n",
       "      <th>hypertension</th>\n",
       "      <th>heart_disease</th>\n",
       "      <th>ever_married</th>\n",
       "      <th>avg_glucose_level</th>\n",
       "      <th>bmi</th>\n",
       "      <th>stroke</th>\n",
       "    </tr>\n",
       "  </thead>\n",
       "  <tbody>\n",
       "    <tr>\n",
       "      <th>0</th>\n",
       "      <td>1</td>\n",
       "      <td>67</td>\n",
       "      <td>0</td>\n",
       "      <td>1</td>\n",
       "      <td>1</td>\n",
       "      <td>228.69</td>\n",
       "      <td>36.6</td>\n",
       "      <td>1</td>\n",
       "    </tr>\n",
       "    <tr>\n",
       "      <th>1</th>\n",
       "      <td>0</td>\n",
       "      <td>61</td>\n",
       "      <td>0</td>\n",
       "      <td>0</td>\n",
       "      <td>1</td>\n",
       "      <td>202.21</td>\n",
       "      <td>29.1</td>\n",
       "      <td>1</td>\n",
       "    </tr>\n",
       "    <tr>\n",
       "      <th>2</th>\n",
       "      <td>1</td>\n",
       "      <td>80</td>\n",
       "      <td>0</td>\n",
       "      <td>1</td>\n",
       "      <td>1</td>\n",
       "      <td>105.92</td>\n",
       "      <td>32.5</td>\n",
       "      <td>1</td>\n",
       "    </tr>\n",
       "    <tr>\n",
       "      <th>3</th>\n",
       "      <td>0</td>\n",
       "      <td>49</td>\n",
       "      <td>0</td>\n",
       "      <td>0</td>\n",
       "      <td>1</td>\n",
       "      <td>171.23</td>\n",
       "      <td>34.4</td>\n",
       "      <td>1</td>\n",
       "    </tr>\n",
       "    <tr>\n",
       "      <th>4</th>\n",
       "      <td>0</td>\n",
       "      <td>79</td>\n",
       "      <td>1</td>\n",
       "      <td>0</td>\n",
       "      <td>1</td>\n",
       "      <td>174.12</td>\n",
       "      <td>24.0</td>\n",
       "      <td>1</td>\n",
       "    </tr>\n",
       "  </tbody>\n",
       "</table>\n",
       "</div>"
      ],
      "text/plain": [
       "   gender  age  hypertension  heart_disease  ever_married  avg_glucose_level  \\\n",
       "0       1   67             0              1             1             228.69   \n",
       "1       0   61             0              0             1             202.21   \n",
       "2       1   80             0              1             1             105.92   \n",
       "3       0   49             0              0             1             171.23   \n",
       "4       0   79             1              0             1             174.12   \n",
       "\n",
       "    bmi  stroke  \n",
       "0  36.6       1  \n",
       "1  29.1       1  \n",
       "2  32.5       1  \n",
       "3  34.4       1  \n",
       "4  24.0       1  "
      ]
     },
     "execution_count": 152,
     "metadata": {},
     "output_type": "execute_result"
    }
   ],
   "source": [
    "df2.head()"
   ]
  },
  {
   "cell_type": "markdown",
   "metadata": {},
   "source": [
    "# Modelling"
   ]
  },
  {
   "cell_type": "markdown",
   "metadata": {},
   "source": [
    "## Training processing\n",
    "\n",
    "Stratified kfold method with SMOTE oversampling"
   ]
  },
  {
   "cell_type": "code",
   "execution_count": 153,
   "metadata": {},
   "outputs": [],
   "source": [
    "skf = StratifiedKFold(shuffle=True, n_splits=10)\n",
    "def run_skfold(model, X, y):\n",
    "    split = 0\n",
    "    accuracy = []\n",
    "    recall = []\n",
    "    precision = []\n",
    "    f1 = []\n",
    "    roc_auc = []\n",
    "    false_negative = []\n",
    "    false_positive = []\n",
    "    \n",
    "    for train_idx, test_idx in skf.split(X, y):\n",
    "        X_train_split, X_test_split = X.iloc[train_idx.tolist()], X.iloc[test_idx.tolist()]\n",
    "        y_train_split, y_test_split = y.iloc[train_idx.tolist()], y.iloc[test_idx.tolist()]\n",
    "        \n",
    "        X_train_res, y_train_res = SMOTE().fit_resample(X_train_split, y_train_split)\n",
    "        \n",
    "        model.fit(X_train_res, y_train_res)\n",
    "        y_pred_split = model.predict(X_test_split)\n",
    "        y_prob_split = model.predict_proba(X_test_split)[:,1]\n",
    "        \n",
    "        print(\"Experiment:\", split)\n",
    "        \n",
    "        print(\"Classification Report\")\n",
    "        print(classification_report(y_test_split, y_pred_split))\n",
    "        \n",
    "        print(\"Confusion Matrix\")\n",
    "        cm = confusion_matrix(y_test_split, y_pred_split)\n",
    "        \n",
    "        print(f\"True postive: {cm[0][0]}\")\n",
    "        print(f\"True negative: {cm[1][1]}\")\n",
    "        print(f\"False postive: {cm[0][1]}\")\n",
    "        print(f\"False negative: {cm[1][0]}\")\n",
    "        print(\"\\n\")\n",
    "        \n",
    "        false_positive_rate, true_positive_rate, thresholds = roc_curve(y_test_split, y_prob_split)\n",
    "        \n",
    "        report = classification_report(y_test_split, y_pred_split, output_dict=True)\n",
    "        \n",
    "        accuracy.append(report['accuracy'])\n",
    "        recall.append(report['macro avg']['recall'])\n",
    "        precision.append(report['macro avg']['precision'])\n",
    "        f1.append(report['macro avg']['f1-score'])\n",
    "        roc_auc.append(auc(false_positive_rate, true_positive_rate))\n",
    "        false_negative.append(cm[1][0])\n",
    "        false_positive.append(cm[0][1])\n",
    "        \n",
    "        split += 1\n",
    "    \n",
    "    print(\"Mean test results:\")\n",
    "    print(f\"Mean accuracy: {round(np.mean(accuracy), 2)}\")\n",
    "    print(f\"Mean macro avg recall: {round(np.mean(recall), 2)}\")\n",
    "    print(f\"Mean macro avg precision: {round(np.mean(precision), 2)}\")\n",
    "    print(f\"Mean macro avg f1: {round(np.mean(f1), 2)}\")\n",
    "    print(f\"Mean ROC AUC: {round(np.mean(roc_auc), 2)}\")\n",
    "    print(f\"Mean false negative: {round(np.mean(false_negative), 2)}\")\n",
    "    print(f\"Mean false positive: {round(np.mean(false_positive), 2)}\")\n",
    "    \n",
    "    # Raw data for comparison\n",
    "    #print(f\"Accuracy: {accuracy}\")\n",
    "    #print(f\"Recall: {recall}\")\n",
    "    #print(f\"Precision: {precision}\")\n",
    "    #print(f\"F1: {f1}\")\n",
    "    #print(f\"ROC AUC: {roc_auc}\")\n",
    "    #print(f\"False negative: {false_negative}\")\n",
    "    #print(f\"False positive: {false_positive}\")\n",
    "    \n"
   ]
  },
  {
   "cell_type": "markdown",
   "metadata": {},
   "source": [
    "## Random Forest"
   ]
  },
  {
   "cell_type": "markdown",
   "metadata": {},
   "source": [
    "The major issue with random forest is the balancing accuracy and recall, this can be improved by using stratified k fold cross validation "
   ]
  },
  {
   "cell_type": "markdown",
   "metadata": {},
   "source": [
    "### Setting up df for Random Forests"
   ]
  },
  {
   "cell_type": "code",
   "execution_count": 154,
   "metadata": {},
   "outputs": [],
   "source": [
    "y = df2['stroke']\n",
    "X = df2.drop('stroke',axis=1)\n",
    "\n",
    "# Lower test splits (more training) seems to provide better recall\n",
    "X_train, X_test, y_train, y_test = train_test_split(X, y, test_size=0.2, random_state=5)\n",
    "\n",
    "# Fix the balancing issues by using oversampling techniques\n",
    "X_train_res, y_train_res = SMOTE().fit_resample(X_train, y_train)"
   ]
  },
  {
   "cell_type": "markdown",
   "metadata": {},
   "source": [
    "### Running the RF classifier"
   ]
  },
  {
   "cell_type": "code",
   "execution_count": 155,
   "metadata": {},
   "outputs": [],
   "source": [
    "# Max depth of 5 seems to give the best recall\n",
    "rf = RandomForestClassifier(random_state=5, max_depth=5, n_estimators=100, bootstrap=False)\n",
    "rf.fit(X_train_res, y_train_res)\n",
    "y_pred = rf.predict(X_test)\n",
    "y_prob = rf.predict_proba(X_test)[:,1]"
   ]
  },
  {
   "cell_type": "markdown",
   "metadata": {},
   "source": [
    "### Classification report for RF"
   ]
  },
  {
   "cell_type": "code",
   "execution_count": 156,
   "metadata": {},
   "outputs": [
    {
     "name": "stdout",
     "output_type": "stream",
     "text": [
      "              precision    recall  f1-score   support\n",
      "\n",
      "           0       0.98      0.71      0.82       970\n",
      "           1       0.12      0.71      0.20        52\n",
      "\n",
      "    accuracy                           0.71      1022\n",
      "   macro avg       0.55      0.71      0.51      1022\n",
      "weighted avg       0.93      0.71      0.79      1022\n",
      "\n"
     ]
    }
   ],
   "source": [
    "print(classification_report(y_test, y_pred))"
   ]
  },
  {
   "cell_type": "markdown",
   "metadata": {},
   "source": [
    "### RF with stratified k-folds and scores"
   ]
  },
  {
   "cell_type": "code",
   "execution_count": 157,
   "metadata": {},
   "outputs": [
    {
     "name": "stdout",
     "output_type": "stream",
     "text": [
      "Cross-validation scores with 10 folds:\n",
      "\n",
      "Scores:\n",
      "[0.8279846  0.81129653 0.83033419 0.81748072 0.82005141 0.8496144\n",
      " 0.82262211 0.8470437  0.8277635  0.82390746]\n",
      "\n",
      "accuracy: 0.8278\n",
      "ROC AUC: 0.908\n",
      "precision: 0.77\n",
      "recall: 0.94\n",
      "f1: 0.85\n"
     ]
    }
   ],
   "source": [
    "rf = RandomForestClassifier(random_state=5, max_depth=5, n_estimators=100, bootstrap=False)\n",
    "skf = StratifiedKFold(shuffle=True, n_splits=10)\n",
    "scores = cross_val_score(rf, X_train_res, y_train_res, cv=skf)\n",
    "\n",
    "print('Cross-validation scores with 10 folds:')\n",
    "print('')\n",
    "print(f'Scores:\\n{scores}')\n",
    "print('')\n",
    "print(f'accuracy: {round(np.mean(scores), 4)}')\n",
    "print(f\"ROC AUC: {round(cross_val_score(rf, X_train_res, y_train_res, cv=skf, scoring='roc_auc').mean(), 3)}\")\n",
    "print(f\"precision: {round(cross_val_score(rf, X_train_res, y_train_res, cv=skf, scoring='precision').mean(), 2)}\")\n",
    "print(f\"recall: {round(cross_val_score(rf, X_train_res, y_train_res, cv=skf, scoring='recall').mean(), 2)}\")\n",
    "print(f\"f1: {round(cross_val_score(rf, X_train_res, y_train_res, cv=skf, scoring='f1').mean(), 2)}\")"
   ]
  },
  {
   "cell_type": "markdown",
   "metadata": {},
   "source": [
    "### Accuracy"
   ]
  },
  {
   "cell_type": "code",
   "execution_count": 158,
   "metadata": {},
   "outputs": [
    {
     "name": "stdout",
     "output_type": "stream",
     "text": [
      "Accuracy:  0.7113502935420744\n"
     ]
    },
    {
     "data": {
      "text/plain": [
       "<AxesSubplot:>"
      ]
     },
     "execution_count": 158,
     "metadata": {},
     "output_type": "execute_result"
    },
    {
     "data": {
      "image/png": "[encoded data removed]",
      "text/plain": [
       "<Figure size 432x288 with 2 Axes>"
      ]
     },
     "metadata": {},
     "output_type": "display_data"
    }
   ],
   "source": [
    "ac = accuracy_score(y_test, y_pred)\n",
    "print('Accuracy: ', ac)\n",
    "cm = confusion_matrix(y_test, y_pred)\n",
    "sns.heatmap(cm , annot=True, fmt=\"d\")"
   ]
  },
  {
   "cell_type": "markdown",
   "metadata": {},
   "source": [
    "## Graphing AUC for RF"
   ]
  },
  {
   "cell_type": "code",
   "execution_count": 159,
   "metadata": {},
   "outputs": [
    {
     "data": {
      "image/png": "[encoded data removed]",
      "text/plain": [
       "<Figure size 576x576 with 1 Axes>"
      ]
     },
     "metadata": {},
     "output_type": "display_data"
    }
   ],
   "source": [
    "false_positive_rate, true_positive_rate, thresholds = roc_curve(y_test, y_prob)\n",
    "roc_auc = auc(false_positive_rate, true_positive_rate)\n",
    "\n",
    "sns.set_theme(style = 'white')\n",
    "plt.figure(figsize = (8, 8))\n",
    "plt.plot(false_positive_rate, true_positive_rate, color = '#b01717', label = 'AUC = %0.3f' % roc_auc)\n",
    "plt.legend(loc = 'lower right')\n",
    "plt.plot([0, 1], [0, 1], linestyle = '--', color = '#174ab0')\n",
    "plt.axis('tight')\n",
    "plt.ylabel('True Positive Rate')\n",
    "plt.xlabel('False Positive Rate')\n",
    "plt.show()"
   ]
  },
  {
   "cell_type": "code",
   "execution_count": 160,
   "metadata": {},
   "outputs": [
    {
     "name": "stdout",
     "output_type": "stream",
     "text": [
      "Experiment: 0\n",
      "Classification Report\n",
      "              precision    recall  f1-score   support\n",
      "\n",
      "           0       0.99      0.73      0.84       486\n",
      "           1       0.13      0.80      0.23        25\n",
      "\n",
      "    accuracy                           0.74       511\n",
      "   macro avg       0.56      0.77      0.54       511\n",
      "weighted avg       0.94      0.74      0.81       511\n",
      "\n",
      "Confusion Matrix\n",
      "True postive: 357\n",
      "True negative: 20\n",
      "False postive: 129\n",
      "False negative: 5\n",
      "\n",
      "\n",
      "Experiment: 1\n",
      "Classification Report\n",
      "              precision    recall  f1-score   support\n",
      "\n",
      "           0       0.98      0.68      0.80       486\n",
      "           1       0.10      0.72      0.18        25\n",
      "\n",
      "    accuracy                           0.68       511\n",
      "   macro avg       0.54      0.70      0.49       511\n",
      "weighted avg       0.94      0.68      0.77       511\n",
      "\n",
      "Confusion Matrix\n",
      "True postive: 331\n",
      "True negative: 18\n",
      "False postive: 155\n",
      "False negative: 7\n",
      "\n",
      "\n",
      "Experiment: 2\n",
      "Classification Report\n",
      "              precision    recall  f1-score   support\n",
      "\n",
      "           0       0.99      0.72      0.83       486\n",
      "           1       0.13      0.80      0.22        25\n",
      "\n",
      "    accuracy                           0.72       511\n",
      "   macro avg       0.56      0.76      0.53       511\n",
      "weighted avg       0.94      0.72      0.80       511\n",
      "\n",
      "Confusion Matrix\n",
      "True postive: 350\n",
      "True negative: 20\n",
      "False postive: 136\n",
      "False negative: 5\n",
      "\n",
      "\n",
      "Experiment: 3\n",
      "Classification Report\n",
      "              precision    recall  f1-score   support\n",
      "\n",
      "           0       0.98      0.71      0.82       486\n",
      "           1       0.12      0.76      0.21        25\n",
      "\n",
      "    accuracy                           0.71       511\n",
      "   macro avg       0.55      0.73      0.51       511\n",
      "weighted avg       0.94      0.71      0.79       511\n",
      "\n",
      "Confusion Matrix\n",
      "True postive: 345\n",
      "True negative: 19\n",
      "False postive: 141\n",
      "False negative: 6\n",
      "\n",
      "\n",
      "Experiment: 4\n",
      "Classification Report\n",
      "              precision    recall  f1-score   support\n",
      "\n",
      "           0       0.98      0.75      0.85       486\n",
      "           1       0.12      0.68      0.21        25\n",
      "\n",
      "    accuracy                           0.75       511\n",
      "   macro avg       0.55      0.72      0.53       511\n",
      "weighted avg       0.94      0.75      0.82       511\n",
      "\n",
      "Confusion Matrix\n",
      "True postive: 365\n",
      "True negative: 17\n",
      "False postive: 121\n",
      "False negative: 8\n",
      "\n",
      "\n",
      "Experiment: 5\n",
      "Classification Report\n",
      "              precision    recall  f1-score   support\n",
      "\n",
      "           0       0.99      0.71      0.82       486\n",
      "           1       0.13      0.84      0.22        25\n",
      "\n",
      "    accuracy                           0.71       511\n",
      "   macro avg       0.56      0.77      0.52       511\n",
      "weighted avg       0.95      0.71      0.80       511\n",
      "\n",
      "Confusion Matrix\n",
      "True postive: 344\n",
      "True negative: 21\n",
      "False postive: 142\n",
      "False negative: 4\n",
      "\n",
      "\n",
      "Experiment: 6\n",
      "Classification Report\n",
      "              precision    recall  f1-score   support\n",
      "\n",
      "           0       0.98      0.69      0.81       486\n",
      "           1       0.10      0.68      0.18        25\n",
      "\n",
      "    accuracy                           0.69       511\n",
      "   macro avg       0.54      0.69      0.49       511\n",
      "weighted avg       0.93      0.69      0.78       511\n",
      "\n",
      "Confusion Matrix\n",
      "True postive: 336\n",
      "True negative: 17\n",
      "False postive: 150\n",
      "False negative: 8\n",
      "\n",
      "\n",
      "Experiment: 7\n",
      "Classification Report\n",
      "              precision    recall  f1-score   support\n",
      "\n",
      "           0       0.99      0.69      0.81       486\n",
      "           1       0.12      0.80      0.20        25\n",
      "\n",
      "    accuracy                           0.69       511\n",
      "   macro avg       0.55      0.74      0.51       511\n",
      "weighted avg       0.94      0.69      0.78       511\n",
      "\n",
      "Confusion Matrix\n",
      "True postive: 335\n",
      "True negative: 20\n",
      "False postive: 151\n",
      "False negative: 5\n",
      "\n",
      "\n",
      "Experiment: 8\n",
      "Classification Report\n",
      "              precision    recall  f1-score   support\n",
      "\n",
      "           0       0.98      0.74      0.84       486\n",
      "           1       0.11      0.64      0.19        25\n",
      "\n",
      "    accuracy                           0.73       511\n",
      "   macro avg       0.54      0.69      0.52       511\n",
      "weighted avg       0.93      0.73      0.81       511\n",
      "\n",
      "Confusion Matrix\n",
      "True postive: 359\n",
      "True negative: 16\n",
      "False postive: 127\n",
      "False negative: 9\n",
      "\n",
      "\n",
      "Experiment: 9\n",
      "Classification Report\n",
      "              precision    recall  f1-score   support\n",
      "\n",
      "           0       0.98      0.74      0.84       487\n",
      "           1       0.11      0.67      0.19        24\n",
      "\n",
      "    accuracy                           0.73       511\n",
      "   macro avg       0.54      0.70      0.52       511\n",
      "weighted avg       0.94      0.73      0.81       511\n",
      "\n",
      "Confusion Matrix\n",
      "True postive: 359\n",
      "True negative: 16\n",
      "False postive: 128\n",
      "False negative: 8\n",
      "\n",
      "\n",
      "Mean test results:\n",
      "Mean accuracy: 0.72\n",
      "Mean macro avg recall: 0.73\n",
      "Mean macro avg precision: 0.55\n",
      "Mean macro avg f1: 0.52\n",
      "Mean ROC AUC: 0.8\n",
      "Mean false negative: 6.5\n",
      "Mean false positive: 138.0\n"
     ]
    }
   ],
   "source": [
    "run_skfold(rf, X, y)"
   ]
  },
  {
   "cell_type": "markdown",
   "metadata": {},
   "source": [
    "## Logistic Regression"
   ]
  },
  {
   "cell_type": "markdown",
   "metadata": {},
   "source": [
    "### Setting up DF for Logistic Regression"
   ]
  },
  {
   "cell_type": "code",
   "execution_count": 161,
   "metadata": {},
   "outputs": [],
   "source": [
    "y = df2['stroke']\n",
    "X = df2.drop('stroke',axis=1)\n",
    "\n",
    "# Lower test splits (more training) seems to provide better recall\n",
    "X_train, X_test, y_train, y_test = train_test_split(X, y, test_size=0.2, random_state=5)\n",
    "\n",
    "# Fix the balancing issues by using oversampling techniques\n",
    "X_train_res, y_train_res = SMOTE().fit_resample(X_train, y_train)"
   ]
  },
  {
   "cell_type": "markdown",
   "metadata": {},
   "source": [
    "### Running logistic regression"
   ]
  },
  {
   "cell_type": "code",
   "execution_count": 162,
   "metadata": {},
   "outputs": [],
   "source": [
    "lr = LogisticRegression(random_state=5, max_iter=1000)\n",
    "lr.fit(X_train_res, y_train_res)\n",
    "#lr.fit(X_train, y_train)\n",
    "\n",
    "y_pred = lr.predict(X_test)\n",
    "y_prob = lr.predict_proba(X_test)[:,1]"
   ]
  },
  {
   "cell_type": "markdown",
   "metadata": {},
   "source": [
    "### Classification report for logistic regression"
   ]
  },
  {
   "cell_type": "code",
   "execution_count": 163,
   "metadata": {},
   "outputs": [
    {
     "name": "stdout",
     "output_type": "stream",
     "text": [
      "              precision    recall  f1-score   support\n",
      "\n",
      "           0       0.97      0.77      0.86       970\n",
      "           1       0.13      0.62      0.21        52\n",
      "\n",
      "    accuracy                           0.76      1022\n",
      "   macro avg       0.55      0.69      0.54      1022\n",
      "weighted avg       0.93      0.76      0.83      1022\n",
      "\n"
     ]
    }
   ],
   "source": [
    "print(classification_report(y_test, y_pred))"
   ]
  },
  {
   "cell_type": "markdown",
   "metadata": {},
   "source": [
    "## Logistic regression with stratified k folds and scores"
   ]
  },
  {
   "cell_type": "code",
   "execution_count": 164,
   "metadata": {},
   "outputs": [
    {
     "name": "stdout",
     "output_type": "stream",
     "text": [
      "Cross-validation scores with 10 folds:\n",
      "\n",
      "Scores:\n",
      "[0.78163134 0.77713552 0.781491   0.79113111 0.78984576]\n",
      "\n",
      "accuracy: 0.7842\n",
      "ROC AUC: 0.874\n",
      "precision: 0.78\n",
      "recall: 0.79\n",
      "f1: 0.79\n"
     ]
    }
   ],
   "source": [
    "skf = StratifiedKFold(shuffle=True, n_splits=5)\n",
    "scores = cross_val_score(lr, X_train_res, y_train_res, cv=skf)\n",
    "\n",
    "print('Cross-validation scores with 10 folds:')\n",
    "print('')\n",
    "print(f'Scores:\\n{scores}')\n",
    "print('')\n",
    "print(f'accuracy: {round(np.mean(scores), 4)}')\n",
    "print(f\"ROC AUC: {round(cross_val_score(lr, X_train_res, y_train_res, cv=skf, scoring='roc_auc').mean(), 3)}\")\n",
    "print(f\"precision: {round(cross_val_score(lr, X_train_res, y_train_res, cv=skf, scoring='precision').mean(), 2)}\")\n",
    "print(f\"recall: {round(cross_val_score(lr, X_train_res, y_train_res, cv=skf, scoring='recall').mean(), 2)}\")\n",
    "print(f\"f1: {round(cross_val_score(lr, X_train_res, y_train_res, cv=skf, scoring='f1').mean(), 2)}\")"
   ]
  },
  {
   "cell_type": "code",
   "execution_count": 165,
   "metadata": {},
   "outputs": [
    {
     "name": "stdout",
     "output_type": "stream",
     "text": [
      "Accuracy:  0.764187866927593\n"
     ]
    },
    {
     "data": {
      "text/plain": [
       "<AxesSubplot:>"
      ]
     },
     "execution_count": 165,
     "metadata": {},
     "output_type": "execute_result"
    },
    {
     "data": {
      "image/png": "[encoded data removed]",
      "text/plain": [
       "<Figure size 432x288 with 2 Axes>"
      ]
     },
     "metadata": {},
     "output_type": "display_data"
    }
   ],
   "source": [
    "ac = accuracy_score(y_test, y_pred)\n",
    "print('Accuracy: ', ac)\n",
    "cm = confusion_matrix(y_test, y_pred)\n",
    "sns.heatmap(cm , annot=True, fmt=\"d\")"
   ]
  },
  {
   "cell_type": "markdown",
   "metadata": {},
   "source": [
    "## Graphing AUC for logistic regression"
   ]
  },
  {
   "cell_type": "code",
   "execution_count": 166,
   "metadata": {},
   "outputs": [
    {
     "data": {
      "image/png": "[encoded data removed]",
      "text/plain": [
       "<Figure size 576x576 with 1 Axes>"
      ]
     },
     "metadata": {},
     "output_type": "display_data"
    }
   ],
   "source": [
    "false_positive_rate, true_positive_rate, thresholds = roc_curve(y_test, y_prob)\n",
    "roc_auc = auc(false_positive_rate, true_positive_rate)\n",
    "\n",
    "sns.set_theme(style = 'white')\n",
    "plt.figure(figsize = (8, 8))\n",
    "plt.plot(false_positive_rate, true_positive_rate, color='#b01717', label='AUC = %0.3f' % roc_auc)\n",
    "plt.legend(loc = 'lower right')\n",
    "plt.plot([0, 1], [0, 1], linestyle = '--', color = '#174ab0')\n",
    "plt.axis('tight')\n",
    "plt.ylabel('True Positive Rate')\n",
    "plt.xlabel('False Positive Rate')\n",
    "plt.show()"
   ]
  },
  {
   "cell_type": "code",
   "execution_count": 167,
   "metadata": {},
   "outputs": [
    {
     "name": "stdout",
     "output_type": "stream",
     "text": [
      "Experiment: 0\n",
      "Classification Report\n",
      "              precision    recall  f1-score   support\n",
      "\n",
      "           0       0.98      0.79      0.87       972\n",
      "           1       0.14      0.68      0.23        50\n",
      "\n",
      "    accuracy                           0.78      1022\n",
      "   macro avg       0.56      0.73      0.55      1022\n",
      "weighted avg       0.94      0.78      0.84      1022\n",
      "\n",
      "Confusion Matrix\n",
      "True postive: 765\n",
      "True negative: 34\n",
      "False postive: 207\n",
      "False negative: 16\n",
      "\n",
      "\n",
      "Experiment: 1\n",
      "Classification Report\n",
      "              precision    recall  f1-score   support\n",
      "\n",
      "           0       0.98      0.77      0.86       972\n",
      "           1       0.12      0.62      0.20        50\n",
      "\n",
      "    accuracy                           0.76      1022\n",
      "   macro avg       0.55      0.69      0.53      1022\n",
      "weighted avg       0.93      0.76      0.83      1022\n",
      "\n",
      "Confusion Matrix\n",
      "True postive: 746\n",
      "True negative: 31\n",
      "False postive: 226\n",
      "False negative: 19\n",
      "\n",
      "\n",
      "Experiment: 2\n",
      "Classification Report\n",
      "              precision    recall  f1-score   support\n",
      "\n",
      "           0       0.97      0.76      0.86       972\n",
      "           1       0.11      0.60      0.19        50\n",
      "\n",
      "    accuracy                           0.75      1022\n",
      "   macro avg       0.54      0.68      0.52      1022\n",
      "weighted avg       0.93      0.75      0.82      1022\n",
      "\n",
      "Confusion Matrix\n",
      "True postive: 741\n",
      "True negative: 30\n",
      "False postive: 231\n",
      "False negative: 20\n",
      "\n",
      "\n",
      "Experiment: 3\n",
      "Classification Report\n",
      "              precision    recall  f1-score   support\n",
      "\n",
      "           0       0.99      0.77      0.86       972\n",
      "           1       0.15      0.78      0.25        50\n",
      "\n",
      "    accuracy                           0.77      1022\n",
      "   macro avg       0.57      0.77      0.55      1022\n",
      "weighted avg       0.94      0.77      0.83      1022\n",
      "\n",
      "Confusion Matrix\n",
      "True postive: 745\n",
      "True negative: 39\n",
      "False postive: 227\n",
      "False negative: 11\n",
      "\n",
      "\n",
      "Experiment: 4\n",
      "Classification Report\n",
      "              precision    recall  f1-score   support\n",
      "\n",
      "           0       0.97      0.76      0.85       973\n",
      "           1       0.10      0.55      0.17        49\n",
      "\n",
      "    accuracy                           0.75      1022\n",
      "   macro avg       0.54      0.65      0.51      1022\n",
      "weighted avg       0.93      0.75      0.82      1022\n",
      "\n",
      "Confusion Matrix\n",
      "True postive: 737\n",
      "True negative: 27\n",
      "False postive: 236\n",
      "False negative: 22\n",
      "\n",
      "\n",
      "Mean test results:\n",
      "Mean accuracy: 0.76\n",
      "Mean macro avg recall: 0.71\n",
      "Mean macro avg precision: 0.55\n",
      "Mean macro avg f1: 0.53\n",
      "Mean ROC AUC: 0.8\n",
      "Mean false negative: 17.6\n",
      "Mean false positive: 225.4\n"
     ]
    }
   ],
   "source": [
    "run_skfold(lr, X, y)"
   ]
  },
  {
   "cell_type": "code",
   "execution_count": null,
   "metadata": {},
   "outputs": [],
   "source": []
  }
 ],
 "metadata": {
  "kernelspec": {
   "display_name": "Python 3",
   "language": "python",
   "name": "python3"
  },
  "language_info": {
   "codemirror_mode": {
    "name": "ipython",
    "version": 3
   },
   "file_extension": ".py",
   "mimetype": "text/x-python",
   "name": "python",
   "nbconvert_exporter": "python",
   "pygments_lexer": "ipython3",
   "version": "3.8.5"
  }
 },
 "nbformat": 4,
 "nbformat_minor": 4
}
